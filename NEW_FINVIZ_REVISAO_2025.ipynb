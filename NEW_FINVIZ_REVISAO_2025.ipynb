{
  "cells": [
    {
      "cell_type": "markdown",
      "metadata": {
        "id": "view-in-github",
        "colab_type": "text"
      },
      "source": [
        "<a href=\"https://colab.research.google.com/github/fred-ykv/Value-Investing-In-Python/blob/master/NEW_FINVIZ_REVISAO_2025.ipynb\" target=\"_parent\"><img src=\"https://colab.research.google.com/assets/colab-badge.svg\" alt=\"Open In Colab\"/></a>"
      ]
    },
    {
      "cell_type": "code",
      "source": [
        "# Instalar bibliotecas necessárias\n",
        "!pip install yfinance\n",
        "!pip install git+https://github.com/quantopian/pyfolio"
      ],
      "metadata": {
        "colab": {
          "base_uri": "https://localhost:8080/"
        },
        "id": "XQV1TjWjHF4M",
        "outputId": "eaea655b-c913-432b-f322-553137dbddb2"
      },
      "execution_count": null,
      "outputs": [
        {
          "output_type": "stream",
          "name": "stdout",
          "text": [
            "Requirement already satisfied: yfinance in /usr/local/lib/python3.11/dist-packages (0.2.61)\n",
            "Requirement already satisfied: pandas>=1.3.0 in /usr/local/lib/python3.11/dist-packages (from yfinance) (2.2.2)\n",
            "Requirement already satisfied: numpy>=1.16.5 in /usr/local/lib/python3.11/dist-packages (from yfinance) (2.0.2)\n",
            "Requirement already satisfied: requests>=2.31 in /usr/local/lib/python3.11/dist-packages (from yfinance) (2.32.3)\n",
            "Requirement already satisfied: multitasking>=0.0.7 in /usr/local/lib/python3.11/dist-packages (from yfinance) (0.0.11)\n",
            "Requirement already satisfied: platformdirs>=2.0.0 in /usr/local/lib/python3.11/dist-packages (from yfinance) (4.3.8)\n",
            "Requirement already satisfied: pytz>=2022.5 in /usr/local/lib/python3.11/dist-packages (from yfinance) (2025.2)\n",
            "Requirement already satisfied: frozendict>=2.3.4 in /usr/local/lib/python3.11/dist-packages (from yfinance) (2.4.6)\n",
            "Requirement already satisfied: peewee>=3.16.2 in /usr/local/lib/python3.11/dist-packages (from yfinance) (3.18.1)\n",
            "Requirement already satisfied: beautifulsoup4>=4.11.1 in /usr/local/lib/python3.11/dist-packages (from yfinance) (4.13.4)\n",
            "Requirement already satisfied: curl_cffi>=0.7 in /usr/local/lib/python3.11/dist-packages (from yfinance) (0.10.0)\n",
            "Requirement already satisfied: protobuf>=3.19.0 in /usr/local/lib/python3.11/dist-packages (from yfinance) (5.29.4)\n",
            "Requirement already satisfied: websockets>=13.0 in /usr/local/lib/python3.11/dist-packages (from yfinance) (15.0.1)\n",
            "Requirement already satisfied: soupsieve>1.2 in /usr/local/lib/python3.11/dist-packages (from beautifulsoup4>=4.11.1->yfinance) (2.7)\n",
            "Requirement already satisfied: typing-extensions>=4.0.0 in /usr/local/lib/python3.11/dist-packages (from beautifulsoup4>=4.11.1->yfinance) (4.13.2)\n",
            "Requirement already satisfied: cffi>=1.12.0 in /usr/local/lib/python3.11/dist-packages (from curl_cffi>=0.7->yfinance) (1.17.1)\n",
            "Requirement already satisfied: certifi>=2024.2.2 in /usr/local/lib/python3.11/dist-packages (from curl_cffi>=0.7->yfinance) (2025.4.26)\n",
            "Requirement already satisfied: python-dateutil>=2.8.2 in /usr/local/lib/python3.11/dist-packages (from pandas>=1.3.0->yfinance) (2.9.0.post0)\n",
            "Requirement already satisfied: tzdata>=2022.7 in /usr/local/lib/python3.11/dist-packages (from pandas>=1.3.0->yfinance) (2025.2)\n",
            "Requirement already satisfied: charset-normalizer<4,>=2 in /usr/local/lib/python3.11/dist-packages (from requests>=2.31->yfinance) (3.4.2)\n",
            "Requirement already satisfied: idna<4,>=2.5 in /usr/local/lib/python3.11/dist-packages (from requests>=2.31->yfinance) (3.10)\n",
            "Requirement already satisfied: urllib3<3,>=1.21.1 in /usr/local/lib/python3.11/dist-packages (from requests>=2.31->yfinance) (2.4.0)\n",
            "Requirement already satisfied: pycparser in /usr/local/lib/python3.11/dist-packages (from cffi>=1.12.0->curl_cffi>=0.7->yfinance) (2.22)\n",
            "Requirement already satisfied: six>=1.5 in /usr/local/lib/python3.11/dist-packages (from python-dateutil>=2.8.2->pandas>=1.3.0->yfinance) (1.17.0)\n",
            "Collecting git+https://github.com/quantopian/pyfolio\n",
            "  Cloning https://github.com/quantopian/pyfolio to /tmp/pip-req-build-vfq_nupp\n",
            "  Running command git clone --filter=blob:none --quiet https://github.com/quantopian/pyfolio /tmp/pip-req-build-vfq_nupp\n",
            "  Resolved https://github.com/quantopian/pyfolio to commit 4b901f6d73aa02ceb6d04b7d83502e5c6f2e81aa\n",
            "  Preparing metadata (setup.py) ... \u001b[?25l\u001b[?25hdone\n",
            "Requirement already satisfied: ipython>=3.2.3 in /usr/local/lib/python3.11/dist-packages (from pyfolio==0.9.2+75.g4b901f6) (7.34.0)\n",
            "Requirement already satisfied: matplotlib>=1.4.0 in /usr/local/lib/python3.11/dist-packages (from pyfolio==0.9.2+75.g4b901f6) (3.10.0)\n",
            "Requirement already satisfied: numpy>=1.11.1 in /usr/local/lib/python3.11/dist-packages (from pyfolio==0.9.2+75.g4b901f6) (2.0.2)\n",
            "Requirement already satisfied: pandas>=0.18.1 in /usr/local/lib/python3.11/dist-packages (from pyfolio==0.9.2+75.g4b901f6) (2.2.2)\n",
            "Requirement already satisfied: pytz>=2014.10 in /usr/local/lib/python3.11/dist-packages (from pyfolio==0.9.2+75.g4b901f6) (2025.2)\n",
            "Requirement already satisfied: scipy>=0.14.0 in /usr/local/lib/python3.11/dist-packages (from pyfolio==0.9.2+75.g4b901f6) (1.15.3)\n",
            "Requirement already satisfied: scikit-learn>=0.16.1 in /usr/local/lib/python3.11/dist-packages (from pyfolio==0.9.2+75.g4b901f6) (1.6.1)\n",
            "Requirement already satisfied: seaborn>=0.7.1 in /usr/local/lib/python3.11/dist-packages (from pyfolio==0.9.2+75.g4b901f6) (0.13.2)\n",
            "Requirement already satisfied: empyrical>=0.5.0 in /usr/local/lib/python3.11/dist-packages (from pyfolio==0.9.2+75.g4b901f6) (0.5.5)\n",
            "Requirement already satisfied: pandas-datareader>=0.2 in /usr/local/lib/python3.11/dist-packages (from empyrical>=0.5.0->pyfolio==0.9.2+75.g4b901f6) (0.10.0)\n",
            "Requirement already satisfied: setuptools>=18.5 in /usr/local/lib/python3.11/dist-packages (from ipython>=3.2.3->pyfolio==0.9.2+75.g4b901f6) (75.2.0)\n",
            "Requirement already satisfied: jedi>=0.16 in /usr/local/lib/python3.11/dist-packages (from ipython>=3.2.3->pyfolio==0.9.2+75.g4b901f6) (0.19.2)\n",
            "Requirement already satisfied: decorator in /usr/local/lib/python3.11/dist-packages (from ipython>=3.2.3->pyfolio==0.9.2+75.g4b901f6) (4.4.2)\n",
            "Requirement already satisfied: pickleshare in /usr/local/lib/python3.11/dist-packages (from ipython>=3.2.3->pyfolio==0.9.2+75.g4b901f6) (0.7.5)\n",
            "Requirement already satisfied: traitlets>=4.2 in /usr/local/lib/python3.11/dist-packages (from ipython>=3.2.3->pyfolio==0.9.2+75.g4b901f6) (5.7.1)\n",
            "Requirement already satisfied: prompt-toolkit!=3.0.0,!=3.0.1,<3.1.0,>=2.0.0 in /usr/local/lib/python3.11/dist-packages (from ipython>=3.2.3->pyfolio==0.9.2+75.g4b901f6) (3.0.51)\n",
            "Requirement already satisfied: pygments in /usr/local/lib/python3.11/dist-packages (from ipython>=3.2.3->pyfolio==0.9.2+75.g4b901f6) (2.19.1)\n",
            "Requirement already satisfied: backcall in /usr/local/lib/python3.11/dist-packages (from ipython>=3.2.3->pyfolio==0.9.2+75.g4b901f6) (0.2.0)\n",
            "Requirement already satisfied: matplotlib-inline in /usr/local/lib/python3.11/dist-packages (from ipython>=3.2.3->pyfolio==0.9.2+75.g4b901f6) (0.1.7)\n",
            "Requirement already satisfied: pexpect>4.3 in /usr/local/lib/python3.11/dist-packages (from ipython>=3.2.3->pyfolio==0.9.2+75.g4b901f6) (4.9.0)\n",
            "Requirement already satisfied: contourpy>=1.0.1 in /usr/local/lib/python3.11/dist-packages (from matplotlib>=1.4.0->pyfolio==0.9.2+75.g4b901f6) (1.3.2)\n",
            "Requirement already satisfied: cycler>=0.10 in /usr/local/lib/python3.11/dist-packages (from matplotlib>=1.4.0->pyfolio==0.9.2+75.g4b901f6) (0.12.1)\n",
            "Requirement already satisfied: fonttools>=4.22.0 in /usr/local/lib/python3.11/dist-packages (from matplotlib>=1.4.0->pyfolio==0.9.2+75.g4b901f6) (4.58.0)\n",
            "Requirement already satisfied: kiwisolver>=1.3.1 in /usr/local/lib/python3.11/dist-packages (from matplotlib>=1.4.0->pyfolio==0.9.2+75.g4b901f6) (1.4.8)\n",
            "Requirement already satisfied: packaging>=20.0 in /usr/local/lib/python3.11/dist-packages (from matplotlib>=1.4.0->pyfolio==0.9.2+75.g4b901f6) (24.2)\n",
            "Requirement already satisfied: pillow>=8 in /usr/local/lib/python3.11/dist-packages (from matplotlib>=1.4.0->pyfolio==0.9.2+75.g4b901f6) (11.2.1)\n",
            "Requirement already satisfied: pyparsing>=2.3.1 in /usr/local/lib/python3.11/dist-packages (from matplotlib>=1.4.0->pyfolio==0.9.2+75.g4b901f6) (3.2.3)\n",
            "Requirement already satisfied: python-dateutil>=2.7 in /usr/local/lib/python3.11/dist-packages (from matplotlib>=1.4.0->pyfolio==0.9.2+75.g4b901f6) (2.9.0.post0)\n",
            "Requirement already satisfied: tzdata>=2022.7 in /usr/local/lib/python3.11/dist-packages (from pandas>=0.18.1->pyfolio==0.9.2+75.g4b901f6) (2025.2)\n",
            "Requirement already satisfied: joblib>=1.2.0 in /usr/local/lib/python3.11/dist-packages (from scikit-learn>=0.16.1->pyfolio==0.9.2+75.g4b901f6) (1.5.0)\n",
            "Requirement already satisfied: threadpoolctl>=3.1.0 in /usr/local/lib/python3.11/dist-packages (from scikit-learn>=0.16.1->pyfolio==0.9.2+75.g4b901f6) (3.6.0)\n",
            "Requirement already satisfied: parso<0.9.0,>=0.8.4 in /usr/local/lib/python3.11/dist-packages (from jedi>=0.16->ipython>=3.2.3->pyfolio==0.9.2+75.g4b901f6) (0.8.4)\n",
            "Requirement already satisfied: lxml in /usr/local/lib/python3.11/dist-packages (from pandas-datareader>=0.2->empyrical>=0.5.0->pyfolio==0.9.2+75.g4b901f6) (5.4.0)\n",
            "Requirement already satisfied: requests>=2.19.0 in /usr/local/lib/python3.11/dist-packages (from pandas-datareader>=0.2->empyrical>=0.5.0->pyfolio==0.9.2+75.g4b901f6) (2.32.3)\n",
            "Requirement already satisfied: ptyprocess>=0.5 in /usr/local/lib/python3.11/dist-packages (from pexpect>4.3->ipython>=3.2.3->pyfolio==0.9.2+75.g4b901f6) (0.7.0)\n",
            "Requirement already satisfied: wcwidth in /usr/local/lib/python3.11/dist-packages (from prompt-toolkit!=3.0.0,!=3.0.1,<3.1.0,>=2.0.0->ipython>=3.2.3->pyfolio==0.9.2+75.g4b901f6) (0.2.13)\n",
            "Requirement already satisfied: six>=1.5 in /usr/local/lib/python3.11/dist-packages (from python-dateutil>=2.7->matplotlib>=1.4.0->pyfolio==0.9.2+75.g4b901f6) (1.17.0)\n",
            "Requirement already satisfied: charset-normalizer<4,>=2 in /usr/local/lib/python3.11/dist-packages (from requests>=2.19.0->pandas-datareader>=0.2->empyrical>=0.5.0->pyfolio==0.9.2+75.g4b901f6) (3.4.2)\n",
            "Requirement already satisfied: idna<4,>=2.5 in /usr/local/lib/python3.11/dist-packages (from requests>=2.19.0->pandas-datareader>=0.2->empyrical>=0.5.0->pyfolio==0.9.2+75.g4b901f6) (3.10)\n",
            "Requirement already satisfied: urllib3<3,>=1.21.1 in /usr/local/lib/python3.11/dist-packages (from requests>=2.19.0->pandas-datareader>=0.2->empyrical>=0.5.0->pyfolio==0.9.2+75.g4b901f6) (2.4.0)\n",
            "Requirement already satisfied: certifi>=2017.4.17 in /usr/local/lib/python3.11/dist-packages (from requests>=2.19.0->pandas-datareader>=0.2->empyrical>=0.5.0->pyfolio==0.9.2+75.g4b901f6) (2025.4.26)\n"
          ]
        }
      ]
    },
    {
      "cell_type": "code",
      "execution_count": null,
      "metadata": {
        "id": "H3-o9br-a8xX"
      },
      "outputs": [],
      "source": [
        "import pandas as pd\n",
        "import numpy as np\n",
        "from bs4 import BeautifulSoup as soup\n",
        "import matplotlib.pyplot as plt\n",
        "import pandas_datareader.data as web\n",
        "import seaborn as sns\n",
        "from urllib.request import Request, urlopen\n",
        "\n",
        "pd.set_option('display.max_colwidth', 25)\n",
        "\n"
      ]
    },
    {
      "cell_type": "code",
      "source": [
        "# Importar as bibliotecas\n",
        "import pyfolio as pf\n",
        "import warnings\n",
        "from bs4 import BeautifulSoup as soup\n",
        "from urllib.request import Request, urlopen\n",
        "import yfinance as yf\n",
        "\n",
        "# Ignorar warnings\n",
        "warnings.filterwarnings('ignore')"
      ],
      "metadata": {
        "id": "Qz0dZnZoHT-Y"
      },
      "execution_count": null,
      "outputs": []
    },
    {
      "cell_type": "code",
      "execution_count": null,
      "metadata": {
        "colab": {
          "base_uri": "https://localhost:8080/"
        },
        "id": "Zi0HiHnlAzbr",
        "outputId": "fa5beccf-e814-4e8e-bb2c-1107fb5f7b3b"
      },
      "outputs": [
        {
          "output_type": "stream",
          "name": "stdout",
          "text": [
            "Enter a ticker: mli\n",
            "Getting data for mli...\n",
            "\n"
          ]
        }
      ],
      "source": [
        "# Solicitar o ticker ao usuário\n",
        "symbol = input('Enter a ticker: ')\n",
        "print(f'Getting data for {symbol}...\\n')"
      ]
    },
    {
      "cell_type": "code",
      "execution_count": null,
      "metadata": {
        "colab": {
          "base_uri": "https://localhost:8080/"
        },
        "id": "jJYJARh3BKNh",
        "outputId": "dfb37862-155a-4e5c-8fe8-390593159219"
      },
      "outputs": [
        {
          "output_type": "stream",
          "name": "stdout",
          "text": [
            "<urllib.request.Request object at 0x7bf074ce46d0>\n"
          ]
        }
      ],
      "source": [
        "# Extrair dados do Finviz\n",
        "url = f\"http://finviz.com/quote.ashx?t={symbol.lower()}\"\n",
        "req = Request(url, headers={'User-Agent': 'Mozilla/5.0 (Windows NT 10.0; Win64; x64) AppleWebKit/537.36 (KHTML, like Gecko) Chrome/124.0.0.0 Safari/537.36'})\n",
        "webpage = urlopen(req).read()\n",
        "html = soup(webpage, \"html.parser\")\n",
        "\n",
        "# Checar resposta\n",
        "print(req)"
      ]
    },
    {
      "cell_type": "code",
      "execution_count": null,
      "metadata": {
        "id": "ZIeWuno1BNrC",
        "colab": {
          "base_uri": "https://localhost:8080/"
        },
        "outputId": "f3a23c24-5ac0-4a2b-afb2-7e07deb97614"
      },
      "outputs": [
        {
          "output_type": "stream",
          "name": "stdout",
          "text": [
            "\n",
            "Fetching additional data from Yahoo Finance...\n",
            "\n",
            "YF.download() has changed argument auto_adjust default to True\n"
          ]
        },
        {
          "output_type": "stream",
          "name": "stderr",
          "text": [
            "\r[*********************100%***********************]  1 of 1 completed"
          ]
        },
        {
          "output_type": "stream",
          "name": "stdout",
          "text": [
            "Data from Yahoo Finance for mli:\n",
            "\n",
            "Price           Close       High        Low       Open  Volume\n",
            "Ticker            MLI        MLI        MLI        MLI     MLI\n",
            "Date                                                          \n",
            "2020-01-02  14.694951  14.843385  14.578987  14.801638  297600\n",
            "2020-01-03  14.690312  14.699590  14.439830  14.453746  421200\n",
            "2020-01-06  14.532600  14.625372  14.500131  14.611456  318400\n",
            "2020-01-07  14.425915  14.551156  14.356337  14.514048  259200\n",
            "2020-01-08  14.379530  14.509410  14.356338  14.393446  209800\n"
          ]
        },
        {
          "output_type": "stream",
          "name": "stderr",
          "text": [
            "\n"
          ]
        }
      ],
      "source": [
        "# Adicionar dados financeiros do Yahoo Finance\n",
        "print(\"\\nFetching additional data from Yahoo Finance...\\n\")\n",
        "try:\n",
        "    # Baixar os dados usando o método atualizado do yfinance\n",
        "    stock_data = yf.download(symbol, start=\"2020-01-01\", end=\"2023-01-01\")\n",
        "    print(f\"Data from Yahoo Finance for {symbol}:\\n\")\n",
        "    print(stock_data.head())\n",
        "except Exception as e:\n",
        "    print(f\"Error fetching data from Yahoo Finance: {e}\")"
      ]
    },
    {
      "cell_type": "code",
      "execution_count": null,
      "metadata": {
        "id": "5YXe265V9gjI",
        "colab": {
          "base_uri": "https://localhost:8080/"
        },
        "outputId": "5c9417ac-c0af-43b4-b1d1-5d2300cc0f8f"
      },
      "outputs": [
        {
          "output_type": "stream",
          "name": "stdout",
          "text": [
            "\n",
            "Recent Insider Trades: \n",
            "                              Trader              Relationship  \\\n",
            "Date                                                             \n",
            "May 12 '25             HANSEN JOHN B                   Officer   \n",
            "May 12 '25           Sigloch Steffen  Chief Manufacturing O...   \n",
            "May 12 '25             HANSEN JOHN B                  Director   \n",
            "May 06 '25           HERMANSON TERRY                  Director   \n",
            "Apr 30 '25          GLADSTEIN GARY S                  Director   \n",
            "Apr 29 '25         GOLDMAN SCOTT JAY                  Director   \n",
            "Apr 03 '25           Sigloch Steffen  Chief Manufacturing O...   \n",
            "Mar 10 '25           Sigloch Steffen  Chief Manufacturing O...   \n",
            "Mar 11 '25           Sigloch Steffen  Chief Manufacturing O...   \n",
            "Feb 28 '25           Sigloch Steffen  Chief Manufacturing O...   \n",
            "Feb 28 '25           Steffen Sigloch                   Officer   \n",
            "Feb 13 '25         GOLDMAN SCOTT JAY                  Director   \n",
            "Feb 06 '25         GOLDMAN SCOTT JAY                  Director   \n",
            "Nov 21 '24       Herzog Charles P Jr                  Director   \n",
            "Nov 21 '24       Herzog Charles P Jr                  Director   \n",
            "Nov 19 '24  Miritello Christopher...  EVP, Gen. Counsel, Se...   \n",
            "Oct 30 '24             HANSEN JOHN B                  Director   \n",
            "Aug 23 '24    Christopher Gregory L.  Chairman of the Board...   \n",
            "Aug 22 '24    Christopher Gregory L.  Chairman of the Board...   \n",
            "Aug 22 '24    Christopher Gregory L.                   Officer   \n",
            "Aug 13 '24    Christopher Gregory L.  Chairman of the Board...   \n",
            "Aug 14 '24    Christopher Gregory L.  Chairman of the Board...   \n",
            "Aug 13 '24    Christopher Gregory L.                   Officer   \n",
            "Aug 09 '24             HANSEN JOHN B                  Director   \n",
            "Aug 09 '24             HANSEN JOHN B                  Director   \n",
            "May 31 '24          GLADSTEIN GARY S                  Director   \n",
            "May 31 '24          GLADSTEIN GARY S                  Director   \n",
            "May 30 '24       DONOVAN ELIZABETH M                  Director   \n",
            "\n",
            "                Transaction   Cost # Shares Value ($) # Shares Total  \\\n",
            "Date                                                                   \n",
            "May 12 '25    Proposed Sale  77.82     3130    243589            NaN   \n",
            "May 12 '25             Sale  77.67    19584   1521128         139960   \n",
            "May 12 '25             Sale  78.07     3130    244353          93914   \n",
            "May 06 '25             Sale  74.34    10000    743422         100082   \n",
            "Apr 30 '25  Option Exercise  14.39     9778    140754          19889   \n",
            "Apr 29 '25             Sale  73.46    16483   1210901          39615   \n",
            "Apr 03 '25             Sale  74.86    19584   1466097         159544   \n",
            "Mar 10 '25             Sale  82.56    11716    967332         182710   \n",
            "Mar 11 '25             Sale  82.62     3582    295938         179128   \n",
            "Feb 28 '25             Sale  79.15    27184   2151586         194426   \n",
            "Feb 28 '25    Proposed Sale  78.89   101235   7986429            NaN   \n",
            "Feb 13 '25             Sale  79.81    10000    798100          56098   \n",
            "Feb 06 '25  Option Exercise  14.39     9778    140754          67854   \n",
            "Nov 21 '24             Sale  92.04    15000   1380600          17733   \n",
            "Nov 21 '24    Proposed Sale  90.81    15000   1362150            NaN   \n",
            "Nov 19 '24  Option Exercise  12.29    10000    122900         119255   \n",
            "Oct 30 '24             Sale  83.09     1000     83090          94914   \n",
            "Aug 23 '24             Sale  70.55    50000   3527500        1164311   \n",
            "Aug 22 '24             Sale  69.92    50000   3496000        1214311   \n",
            "Aug 22 '24    Proposed Sale  69.90   100000   6990000            NaN   \n",
            "Aug 13 '24             Sale  67.59    55000   3717450        1309311   \n",
            "Aug 14 '24             Sale  67.73    45000   3047850        1264311   \n",
            "Aug 13 '24    Proposed Sale  67.00   100000   6700000            NaN   \n",
            "Aug 09 '24             Sale  67.24     8000    537920          95914   \n",
            "Aug 09 '24             Sale  67.24     2000    134480          16000   \n",
            "May 31 '24             Sale  58.90     4000    235600          10111   \n",
            "May 31 '24             Sale  58.82     2000    117644         290206   \n",
            "May 30 '24             Sale  57.73     2000    115465          24733   \n",
            "\n",
            "                 SEC Form 4  \n",
            "Date                         \n",
            "May 12 '25  May 14 04:22 PM  \n",
            "May 12 '25  May 14 10:49 AM  \n",
            "May 12 '25  May 12 10:29 AM  \n",
            "May 06 '25  May 07 03:14 PM  \n",
            "Apr 30 '25  May 02 11:53 AM  \n",
            "Apr 29 '25  Apr 30 11:41 AM  \n",
            "Apr 03 '25  Apr 07 09:53 AM  \n",
            "Mar 10 '25  Mar 12 09:00 AM  \n",
            "Mar 11 '25  Mar 12 09:00 AM  \n",
            "Feb 28 '25  Mar 03 09:51 AM  \n",
            "Feb 28 '25  Feb 28 04:58 PM  \n",
            "Feb 13 '25  Feb 13 03:01 PM  \n",
            "Feb 06 '25  Feb 10 11:19 AM  \n",
            "Nov 21 '24  Nov 22 10:37 AM  \n",
            "Nov 21 '24  Nov 21 03:41 PM  \n",
            "Nov 19 '24  Nov 21 02:39 PM  \n",
            "Oct 30 '24  Oct 31 02:01 PM  \n",
            "Aug 23 '24  Aug 26 10:43 AM  \n",
            "Aug 22 '24  Aug 26 10:43 AM  \n",
            "Aug 22 '24  Aug 22 04:50 PM  \n",
            "Aug 13 '24  Aug 15 09:36 AM  \n",
            "Aug 14 '24  Aug 15 09:36 AM  \n",
            "Aug 13 '24  Aug 13 04:27 PM  \n",
            "Aug 09 '24  Aug 12 11:29 AM  \n",
            "Aug 09 '24  Aug 12 11:29 AM  \n",
            "May 31 '24  Jun 04 12:23 PM  \n",
            "May 31 '24  Jun 04 12:23 PM  \n",
            "May 30 '24  May 31 12:31 PM  \n"
          ]
        }
      ],
      "source": [
        "def get_insider():\n",
        "    try:\n",
        "        # Find insider table\n",
        "        insider = pd.read_html(str(html), attrs = {'class': 'body-table'})[0]\n",
        "\n",
        "        # Clean up insider dataframe\n",
        "        insider = insider.iloc[1:]\n",
        "        insider.columns = ['Trader', 'Relationship', 'Date', 'Transaction', 'Cost', '# Shares', 'Value ($)', '# Shares Total', 'SEC Form 4']\n",
        "        insider = insider[['Date', 'Trader', 'Relationship', 'Transaction', 'Cost', '# Shares', 'Value ($)', '# Shares Total', 'SEC Form 4']]\n",
        "        insider = insider.set_index('Date')\n",
        "        return insider\n",
        "\n",
        "    except Exception as e:\n",
        "        return e\n",
        "\n",
        "print('\\nRecent Insider Trades: ')\n",
        "insider = get_insider()\n",
        "if insider is not None:\n",
        "    print(insider)\n",
        "else:\n",
        "    print(\"Recent insider trades not found.\")"
      ]
    },
    {
      "cell_type": "code",
      "execution_count": null,
      "metadata": {
        "id": "n16i27fZ9m6Y",
        "colab": {
          "base_uri": "https://localhost:8080/"
        },
        "outputId": "479a4fc8-1bb4-401d-85fb-752c21df03ff"
      },
      "outputs": [
        {
          "output_type": "stream",
          "name": "stdout",
          "text": [
            "\n",
            "Recent News: \n",
            "                              News Headline              Article Link\n",
            "Date                                                                 \n",
            "May-09-25 01:52PM  Mueller Industries, I...  https://www.businessw...\n",
            "06:18AM            Mueller Industries, I...  /news/53036/mueller-i...\n",
            "May-03-25 10:39PM  Top 50 High-Quality D...  https://seekingalpha....\n",
            "08:30AM            5 Relatively Secure A...  https://seekingalpha....\n",
            "Apr-29-25 05:40PM  L.B. Foster Company: ...  https://seekingalpha....\n",
            "...                                     ...                       ...\n",
            "Mar-12-23 08:02AM  Mueller Industries, I...  https://finance.yahoo...\n",
            "Feb-22-23 01:54AM  6 big dividends: Home...  https://finance.yahoo...\n",
            "Feb-21-23 07:00AM  Mueller Industries, I...  https://finance.yahoo...\n",
            "Feb-17-23 06:35PM  Purple Innovation, On...  https://finance.yahoo...\n",
            "06:35PM            Purple Innovation and...  https://finance.yahoo...\n",
            "\n",
            "[100 rows x 2 columns]\n"
          ]
        }
      ],
      "source": [
        "def get_news():\n",
        "    try:\n",
        "        # Find news table\n",
        "        news = pd.read_html(str(html), attrs = {'class': 'fullview-news-outer'})[0]\n",
        "        links = []\n",
        "        for a in html.find_all('a', class_=\"tab-link-news\"):\n",
        "            links.append(a['href'])\n",
        "\n",
        "        # Clean up news dataframe\n",
        "        news.columns = ['Date', 'News Headline']\n",
        "        news['Article Link'] = links\n",
        "        news = news.set_index('Date')\n",
        "        return news\n",
        "\n",
        "    except Exception as e:\n",
        "        return e\n",
        "\n",
        "print ('\\nRecent News: ')\n",
        "print(get_news())\n"
      ]
    },
    {
      "cell_type": "code",
      "execution_count": null,
      "metadata": {
        "id": "Bq8CTctFcVex",
        "colab": {
          "base_uri": "https://localhost:8080/"
        },
        "outputId": "357b97ec-776e-435d-beeb-d3f19442de49"
      },
      "outputs": [
        {
          "output_type": "stream",
          "name": "stdout",
          "text": [
            "<table border=\"0\" cellpadding=\"3\" cellspacing=\"0\" class=\"js-snapshot-table snapshot-table2 screener_snapshot-table-body\" width=\"100%\">\n",
            "<tr class=\"table-dark-row\">\n",
            "<td align=\"left\" class=\"snapshot-td2 cursor-pointer w-[7%]\" data-boxover=\"cssbody=[tooltip_short_bdy] cssheader=[tooltip_short_hdr] body=[Major index membership] offsetx=[10] offsety=[20] delay=[300]\">Index</td><td align=\"left\" class=\"snapshot-td2 w-[8%]\" style=\"\"><b>RUT</b></td>\n",
            "<td align=\"left\" class=\"snapshot-td2 cursor-pointer w-[7%]\" data-boxover=\"cssbody=[tooltip_short_bdy] cssheader=[tooltip_short_hdr] body=[Price-to-Earnings (ttm)] offsetx=[10] offsety=[20] delay=[300]\">P/E</td><td align=\"left\" class=\"snapshot-td2 w-[8%]\" style=\"\"><b><span class=\"color-text is-positive\">14.42</span></b></td>\n",
            "<td align=\"left\" class=\"snapshot-td2 cursor-pointer w-[7%]\" data-boxover=\"cssbody=[tooltip_short_bdy] cssheader=[tooltip_short_hdr] body=[Diluted EPS (ttm)] offsetx=[10] offsety=[20] delay=[300]\">EPS (ttm)</td><td align=\"left\" class=\"snapshot-td2 w-[8%]\" style=\"\"><b>5.49</b></td>\n",
            "<td align=\"left\" class=\"snapshot-td2 cursor-pointer w-[7%]\" data-boxover=\"cssbody=[tooltip_short_bdy] cssheader=[tooltip_short_hdr] body=[Insider ownership] offsetx=[10] offsety=[20] delay=[300]\">Insider Own</td><td align=\"left\" class=\"snapshot-td2 w-[8%]\" style=\"\"><b>3.48%</b></td>\n",
            "<td align=\"left\" class=\"snapshot-td2 cursor-pointer w-[7%]\" data-boxover=\"cssbody=[tooltip_short_bdy] cssheader=[tooltip_short_hdr] body=[Shares outstanding] offsetx=[10] offsety=[20] delay=[300]\">Shs Outstand</td><td align=\"left\" class=\"snapshot-td2 w-[8%]\" style=\"\"><b>110.65M</b></td>\n",
            "<td align=\"left\" class=\"snapshot-td2 cursor-pointer w-[7%]\" data-boxover=\"cssbody=[tooltip_short_bdy] cssheader=[tooltip_short_hdr] body=[Performance (Week)] offsetx=[10] offsety=[20] delay=[300]\">Perf Week</td><td align=\"left\" class=\"snapshot-td2 w-[8%]\" style=\"\"><b><span class=\"color-text is-positive\">5.72%</span></b></td>\n",
            "</tr>\n",
            "<tr class=\"table-dark-row\">\n",
            "<td align=\"left\" class=\"snapshot-td2 cursor-pointer w-[7%]\" data-boxover=\"cssbody=[tooltip_short_bdy] cssheader=[tooltip_short_hdr] body=[Market capitalization] offsetx=[10] offsety=[20] delay=[300]\">Market Cap</td><td align=\"left\" class=\"snapshot-td2 w-[8%]\" style=\"\"><b>8.76B</b></td>\n",
            "<td align=\"left\" class=\"snapshot-td2 cursor-pointer w-[7%]\" data-boxover=\"cssbody=[tooltip_short_bdy] cssheader=[tooltip_short_hdr] body=[Forward Price-to-Earnings (next fiscal year)] offsetx=[10] offsety=[20] delay=[300]\">Forward P/E</td><td align=\"left\" class=\"snapshot-td2 w-[8%]\" style=\"\"><b><span class=\"color-text is-positive\">11.55</span></b></td>\n",
            "<td align=\"left\" class=\"snapshot-td2 cursor-pointer w-[7%]\" data-boxover=\"cssbody=[tooltip_short_bdy] cssheader=[tooltip_short_hdr] body=[EPS estimate for next year] offsetx=[10] offsety=[20] delay=[300]\">EPS next Y</td><td align=\"left\" class=\"snapshot-td2 w-[8%]\" style=\"\"><b>6.85</b></td>\n",
            "<td align=\"left\" class=\"snapshot-td2 cursor-pointer w-[7%]\" data-boxover=\"cssbody=[tooltip_short_bdy] cssheader=[tooltip_short_hdr] body=[Insider transactions (6-Month change in Insider Ownership)] offsetx=[10] offsety=[20] delay=[300]\">Insider Trans</td><td align=\"left\" class=\"snapshot-td2 w-[8%]\" style=\"\"><b>-3.42%</b></td>\n",
            "<td align=\"left\" class=\"snapshot-td2 cursor-pointer w-[7%]\" data-boxover=\"cssbody=[tooltip_short_bdy] cssheader=[tooltip_short_hdr] body=[Shares float] offsetx=[10] offsety=[20] delay=[300]\">Shs Float</td><td align=\"left\" class=\"snapshot-td2 w-[8%]\" style=\"\"><b>106.80M</b></td>\n",
            "<td align=\"left\" class=\"snapshot-td2 cursor-pointer w-[7%]\" data-boxover=\"cssbody=[tooltip_short_bdy] cssheader=[tooltip_short_hdr] body=[Performance (Month)] offsetx=[10] offsety=[20] delay=[300]\">Perf Month</td><td align=\"left\" class=\"snapshot-td2 w-[8%]\" style=\"\"><b><span class=\"color-text is-positive\">7.62%</span></b></td>\n",
            "</tr>\n",
            "<tr class=\"table-dark-row\">\n",
            "<td align=\"left\" class=\"snapshot-td2 cursor-pointer w-[7%]\" data-boxover=\"cssbody=[tooltip_short_bdy] cssheader=[tooltip_short_hdr] body=[Income (ttm)] offsetx=[10] offsety=[20] delay=[300]\">Income</td><td align=\"left\" class=\"snapshot-td2 w-[8%]\" style=\"\"><b>623.95M</b></td>\n",
            "<td align=\"left\" class=\"snapshot-td2 cursor-pointer w-[7%]\" data-boxover=\"cssbody=[tooltip_short_bdy] cssheader=[tooltip_short_hdr] body=[Price-to-Earnings-to-Growth] offsetx=[10] offsety=[20] delay=[300]\">PEG</td><td align=\"left\" class=\"snapshot-td2 w-[8%]\" style=\"\"><b>-</b></td>\n",
            "<td align=\"left\" class=\"snapshot-td2 cursor-pointer w-[7%]\" data-boxover=\"cssbody=[tooltip_short_bdy] cssheader=[tooltip_short_hdr] body=[EPS estimate for next quarter] offsetx=[10] offsety=[20] delay=[300]\">EPS next Q</td><td align=\"left\" class=\"snapshot-td2 w-[8%]\" style=\"\"><b>1.62</b></td>\n",
            "<td align=\"left\" class=\"snapshot-td2 cursor-pointer w-[7%]\" data-boxover=\"cssbody=[tooltip_short_bdy] cssheader=[tooltip_short_hdr] body=[Institutional ownership] offsetx=[10] offsety=[20] delay=[300]\">Inst Own</td><td align=\"left\" class=\"snapshot-td2 w-[8%]\" style=\"\"><b>92.55%</b></td>\n",
            "<td align=\"left\" class=\"snapshot-td2 cursor-pointer w-[7%]\" data-boxover=\"cssbody=[tooltip_short_bdy] cssheader=[tooltip_short_hdr] body=[Short interest share] offsetx=[10] offsety=[20] delay=[300]\"><a class=\"hover:underline\" href=\"quote.ashx?t=MLI&amp;ta=1&amp;p=d&amp;ty=si\">Short Float</a></td><td align=\"left\" class=\"snapshot-td2 w-[8%]\" style=\"\"><a class=\"hover:underline\" href=\"quote.ashx?t=MLI&amp;ta=1&amp;p=d&amp;ty=si\"><b>3.81%</b></a></td>\n",
            "<td align=\"left\" class=\"snapshot-td2 cursor-pointer w-[7%]\" data-boxover=\"cssbody=[tooltip_short_bdy] cssheader=[tooltip_short_hdr] body=[Performance (Quarter)] offsetx=[10] offsety=[20] delay=[300]\">Perf Quarter</td><td align=\"left\" class=\"snapshot-td2 w-[8%]\" style=\"\"><b><span class=\"color-text is-negative\">-1.85%</span></b></td>\n",
            "</tr>\n",
            "<tr class=\"table-dark-row\">\n",
            "<td align=\"left\" class=\"snapshot-td2 cursor-pointer w-[7%]\" data-boxover=\"cssbody=[tooltip_short_bdy] cssheader=[tooltip_short_hdr] body=[Revenue (ttm)] offsetx=[10] offsety=[20] delay=[300]\">Sales</td><td align=\"left\" class=\"snapshot-td2 w-[8%]\" style=\"\"><b>3.92B</b></td>\n",
            "<td align=\"left\" class=\"snapshot-td2 cursor-pointer w-[7%]\" data-boxover=\"cssbody=[tooltip_short_bdy] cssheader=[tooltip_short_hdr] body=[Price-to-Sales (ttm)] offsetx=[10] offsety=[20] delay=[300]\">P/S</td><td align=\"left\" class=\"snapshot-td2 w-[8%]\" style=\"\"><b>2.23</b></td>\n",
            "<td align=\"left\" class=\"snapshot-td2 cursor-pointer w-[7%]\" data-boxover=\"cssbody=[tooltip_short_bdy] cssheader=[tooltip_short_hdr] body=[EPS growth this year] offsetx=[10] offsety=[20] delay=[300]\">EPS this Y</td><td align=\"left\" class=\"snapshot-td2 w-[8%]\" style=\"\"><b>12.99%</b></td>\n",
            "<td align=\"left\" class=\"snapshot-td2 cursor-pointer w-[7%]\" data-boxover=\"cssbody=[tooltip_short_bdy] cssheader=[tooltip_short_hdr] body=[Institutional transactions (3-Month change in Institutional Ownership)] offsetx=[10] offsety=[20] delay=[300]\">Inst Trans</td><td align=\"left\" class=\"snapshot-td2 w-[8%]\" style=\"\"><b>3.64%</b></td>\n",
            "<td align=\"left\" class=\"snapshot-td2 cursor-pointer w-[7%]\" data-boxover=\"cssbody=[tooltip_short_bdy] cssheader=[tooltip_short_hdr] body=[Short interest ratio] offsetx=[10] offsety=[20] delay=[300]\"><a class=\"hover:underline\" href=\"quote.ashx?t=MLI&amp;ta=1&amp;p=d&amp;ty=si\">Short Ratio</a></td><td align=\"left\" class=\"snapshot-td2 w-[8%]\" style=\"\"><a class=\"hover:underline\" href=\"quote.ashx?t=MLI&amp;ta=1&amp;p=d&amp;ty=si\"><b>4.34</b></a></td>\n",
            "<td align=\"left\" class=\"snapshot-td2 cursor-pointer w-[7%]\" data-boxover=\"cssbody=[tooltip_short_bdy] cssheader=[tooltip_short_hdr] body=[Performance (Half Year)] offsetx=[10] offsety=[20] delay=[300]\">Perf Half Y</td><td align=\"left\" class=\"snapshot-td2 w-[8%]\" style=\"\"><b><span class=\"color-text is-negative\">-17.00%</span></b></td>\n",
            "</tr>\n",
            "<tr class=\"table-dark-row\">\n",
            "<td align=\"left\" class=\"snapshot-td2 cursor-pointer w-[7%]\" data-boxover=\"cssbody=[tooltip_short_bdy] cssheader=[tooltip_short_hdr] body=[Book value per share (mrq)] offsetx=[10] offsety=[20] delay=[300]\">Book/sh</td><td align=\"left\" class=\"snapshot-td2 w-[8%]\" style=\"\"><b>24.10</b></td>\n",
            "<td align=\"left\" class=\"snapshot-td2 cursor-pointer w-[7%]\" data-boxover=\"cssbody=[tooltip_short_bdy] cssheader=[tooltip_short_hdr] body=[Price-to-Book (mrq)] offsetx=[10] offsety=[20] delay=[300]\">P/B</td><td align=\"left\" class=\"snapshot-td2 w-[8%]\" style=\"\"><b>3.28</b></td>\n",
            "<td align=\"left\" class=\"snapshot-td2 cursor-pointer w-[7%]\" data-boxover=\"cssbody=[tooltip_short_bdy] cssheader=[tooltip_short_hdr] body=[EPS growth next year] offsetx=[10] offsety=[20] delay=[300]\">EPS next Y</td><td align=\"left\" class=\"snapshot-td2 w-[8%]\" style=\"\"><b>14.17%</b></td>\n",
            "<td align=\"left\" class=\"snapshot-td2 cursor-pointer w-[7%]\" data-boxover=\"cssbody=[tooltip_short_bdy] cssheader=[tooltip_short_hdr] body=[Return on Assets (ttm)] offsetx=[10] offsety=[20] delay=[300]\">ROA</td><td align=\"left\" class=\"snapshot-td2 w-[8%]\" style=\"\"><b><span class=\"color-text is-positive\">20.37%</span></b></td>\n",
            "<td align=\"left\" class=\"snapshot-td2 cursor-pointer w-[7%]\" data-boxover=\"cssbody=[tooltip_short_bdy] cssheader=[tooltip_short_hdr] body=[Short interest] offsetx=[10] offsety=[20] delay=[300]\"><a class=\"hover:underline\" href=\"quote.ashx?t=MLI&amp;ta=1&amp;p=d&amp;ty=si\">Short Interest</a></td><td align=\"left\" class=\"snapshot-td2 w-[8%]\" style=\"\"><a class=\"hover:underline\" href=\"quote.ashx?t=MLI&amp;ta=1&amp;p=d&amp;ty=si\"><b data-boxover=\"cssbody=[tooltip_short_bdy] cssheader=[tooltip_short_hdr] body=[Settlement Date: 4/30/2025] offsetx=[10] offsety=[20] delay=[500]\">4.07M</b></a></td>\n",
            "<td align=\"left\" class=\"snapshot-td2 cursor-pointer w-[7%]\" data-boxover=\"cssbody=[tooltip_short_bdy] cssheader=[tooltip_short_hdr] body=[Performance (Year)] offsetx=[10] offsety=[20] delay=[300]\">Perf Year</td><td align=\"left\" class=\"snapshot-td2 w-[8%]\" style=\"\"><b><span class=\"color-text is-positive\">35.80%</span></b></td>\n",
            "</tr>\n",
            "<tr class=\"table-dark-row\">\n",
            "<td align=\"left\" class=\"snapshot-td2 cursor-pointer w-[7%]\" data-boxover=\"cssbody=[tooltip_short_bdy] cssheader=[tooltip_short_hdr] body=[Cash per share (mrq)] offsetx=[10] offsety=[20] delay=[300]\">Cash/sh</td><td align=\"left\" class=\"snapshot-td2 w-[8%]\" style=\"\"><b>8.00</b></td>\n",
            "<td align=\"left\" class=\"snapshot-td2 cursor-pointer w-[7%]\" data-boxover=\"cssbody=[tooltip_short_bdy] cssheader=[tooltip_short_hdr] body=[Price to cash per share (mrq)] offsetx=[10] offsety=[20] delay=[300]\">P/C</td><td align=\"left\" class=\"snapshot-td2 w-[8%]\" style=\"\"><b>9.89</b></td>\n",
            "<td align=\"left\" class=\"snapshot-td2 cursor-pointer w-[7%]\" data-boxover=\"cssbody=[tooltip_short_bdy] cssheader=[tooltip_short_hdr] body=[Long term annual growth estimate (5 years)] offsetx=[10] offsety=[20] delay=[300]\">EPS next 5Y</td><td align=\"left\" class=\"snapshot-td2 w-[8%]\" style=\"\"><b>-</b></td>\n",
            "<td align=\"left\" class=\"snapshot-td2 cursor-pointer w-[7%]\" data-boxover=\"cssbody=[tooltip_short_bdy] cssheader=[tooltip_short_hdr] body=[Return on Equity (ttm)] offsetx=[10] offsety=[20] delay=[300]\">ROE</td><td align=\"left\" class=\"snapshot-td2 w-[8%]\" style=\"\"><b>24.51%</b></td>\n",
            "<td align=\"left\" class=\"snapshot-td2 cursor-pointer w-[7%]\" data-boxover=\"cssbody=[tooltip_short_bdy] cssheader=[tooltip_short_hdr] body=[52-Week trading range] offsetx=[10] offsety=[20] delay=[300]\">52W Range</td><td align=\"left\" class=\"snapshot-td2 w-[8%]\" style=\"\"><b><small>53.53 - 96.81</small></b></td>\n",
            "<td align=\"left\" class=\"snapshot-td2 cursor-pointer w-[7%]\" data-boxover=\"cssbody=[tooltip_short_bdy] cssheader=[tooltip_short_hdr] body=[Performance (Year To Date)] offsetx=[10] offsety=[20] delay=[300]\">Perf YTD</td><td align=\"left\" class=\"snapshot-td2 w-[8%]\" style=\"\"><b><span class=\"color-text is-negative\">-0.29%</span></b></td>\n",
            "</tr>\n",
            "<tr class=\"table-dark-row\">\n",
            "<td align=\"left\" class=\"snapshot-td2 cursor-pointer w-[7%]\" data-boxover=\"cssbody=[tooltip_short_bdy] cssheader=[tooltip_short_hdr] body=[Analysts' Dividend Estimate (Fiscal Year)] offsetx=[10] offsety=[20] delay=[300]\"><a class=\"hover:underline\" href=\"quote.ashx?t=MLI&amp;ta=1&amp;p=d&amp;ty=dv\">Dividend Est.</a></td><td align=\"left\" class=\"snapshot-td2 w-[8%]\" style=\"\"><a class=\"hover:underline\" href=\"quote.ashx?t=MLI&amp;ta=1&amp;p=d&amp;ty=dv\"><b>-</b></a></td>\n",
            "<td align=\"left\" class=\"snapshot-td2 cursor-pointer w-[7%]\" data-boxover=\"cssbody=[tooltip_short_bdy] cssheader=[tooltip_short_hdr] body=[Price to Free Cash Flow (ttm)] offsetx=[10] offsety=[20] delay=[300]\">P/FCF</td><td align=\"left\" class=\"snapshot-td2 w-[8%]\" style=\"\"><b>17.32</b></td>\n",
            "<td align=\"left\" class=\"snapshot-td2 cursor-pointer w-[7%]\" data-boxover=\"cssbody=[tooltip_short_bdy] cssheader=[tooltip_short_hdr] body=[Annual EPS growth past 5 years] offsetx=[10] offsety=[20] delay=[300]\">EPS past 5Y</td><td align=\"left\" class=\"snapshot-td2 w-[8%]\" style=\"\"><b><span class=\"color-text is-positive\">42.73%</span></b></td>\n",
            "<td align=\"left\" class=\"snapshot-td2 cursor-pointer w-[7%]\" data-boxover=\"cssbody=[tooltip_short_bdy] cssheader=[tooltip_short_hdr] body=[Return on Investment (ttm)] offsetx=[10] offsety=[20] delay=[300]\">ROI</td><td align=\"left\" class=\"snapshot-td2 w-[8%]\" style=\"\"><b>23.19%</b></td>\n",
            "<td align=\"left\" class=\"snapshot-td2 cursor-pointer w-[7%]\" data-boxover=\"cssbody=[tooltip_short_bdy] cssheader=[tooltip_short_hdr] body=[Distance from 52-Week High] offsetx=[10] offsety=[20] delay=[300]\">52W High</td><td align=\"left\" class=\"snapshot-td2 w-[8%]\" style=\"\"><b><span class=\"color-text is-negative\">-18.27%</span></b></td>\n",
            "<td align=\"left\" class=\"snapshot-td2 cursor-pointer w-[7%]\" data-boxover=\"cssbody=[tooltip_short_bdy] cssheader=[tooltip_short_hdr] body=[Beta] offsetx=[10] offsety=[20] delay=[300]\">Beta</td><td align=\"left\" class=\"snapshot-td2 w-[8%]\" style=\"\"><b>1.04</b></td>\n",
            "</tr>\n",
            "<tr class=\"table-dark-row\">\n",
            "<td align=\"left\" class=\"snapshot-td2 cursor-pointer w-[7%]\" data-boxover=\"cssbody=[tooltip_short_bdy] cssheader=[tooltip_short_hdr] body=[Trailing 12 Months Dividend] offsetx=[10] offsety=[20] delay=[300]\"><a class=\"hover:underline\" href=\"quote.ashx?t=MLI&amp;ta=1&amp;p=d&amp;ty=dv\">Dividend TTM</a></td><td align=\"left\" class=\"snapshot-td2 w-[8%]\" style=\"\"><a class=\"hover:underline\" href=\"quote.ashx?t=MLI&amp;ta=1&amp;p=d&amp;ty=dv\"><b>0.85 (1.07%)</b></a></td>\n",
            "<td align=\"left\" class=\"snapshot-td2 cursor-pointer w-[7%]\" data-boxover=\"cssbody=[tooltip_short_bdy] cssheader=[tooltip_short_hdr] body=[Quick Ratio (mrq)] offsetx=[10] offsety=[20] delay=[300]\">Quick Ratio</td><td align=\"left\" class=\"snapshot-td2 w-[8%]\" style=\"\"><b><span class=\"color-text is-positive\">3.24</span></b></td>\n",
            "<td align=\"left\" class=\"snapshot-td2 cursor-pointer w-[7%]\" data-boxover=\"cssbody=[tooltip_short_bdy] cssheader=[tooltip_short_hdr] body=[Annual sales growth past 5 years] offsetx=[10] offsety=[20] delay=[300]\">Sales past 5Y</td><td align=\"left\" class=\"snapshot-td2 w-[8%]\" style=\"\"><b>11.51%</b></td>\n",
            "<td align=\"left\" class=\"snapshot-td2 cursor-pointer w-[7%]\" data-boxover=\"cssbody=[tooltip_short_bdy] cssheader=[tooltip_short_hdr] body=[Gross Margin (ttm)] offsetx=[10] offsety=[20] delay=[300]\">Gross Margin</td><td align=\"left\" class=\"snapshot-td2 w-[8%]\" style=\"\"><b>26.06%</b></td>\n",
            "<td align=\"left\" class=\"snapshot-td2 cursor-pointer w-[7%]\" data-boxover=\"cssbody=[tooltip_short_bdy] cssheader=[tooltip_short_hdr] body=[Distance from 52-Week Low] offsetx=[10] offsety=[20] delay=[300]\">52W Low</td><td align=\"left\" class=\"snapshot-td2 w-[8%]\" style=\"\"><b><span class=\"color-text is-positive\">47.82%</span></b></td>\n",
            "<td align=\"left\" class=\"snapshot-td2 cursor-pointer w-[7%]\" data-boxover=\"cssbody=[tooltip_short_bdy] cssheader=[tooltip_short_hdr] body=[Average True Range (14)] offsetx=[10] offsety=[20] delay=[300]\">ATR (14)</td><td align=\"left\" class=\"snapshot-td2 w-[8%]\" style=\"\"><b>2.30</b></td>\n",
            "</tr>\n",
            "<tr class=\"table-dark-row\">\n",
            "<td align=\"left\" class=\"snapshot-td2 cursor-pointer w-[7%]\" data-boxover=\"cssbody=[tooltip_short_bdy] cssheader=[tooltip_short_hdr] body=[Ex-Dividend Date] offsetx=[10] offsety=[20] delay=[300]\"><a class=\"hover:underline\" href=\"quote.ashx?t=MLI&amp;ta=1&amp;p=d&amp;ty=dv\">Dividend Ex-Date</a></td><td align=\"left\" class=\"snapshot-td2 w-[8%]\" style=\"\"><a class=\"hover:underline\" href=\"quote.ashx?t=MLI&amp;ta=1&amp;p=d&amp;ty=dv\"><b>Jun 06, 2025</b></a></td>\n",
            "<td align=\"left\" class=\"snapshot-td2 cursor-pointer w-[7%]\" data-boxover=\"cssbody=[tooltip_short_bdy] cssheader=[tooltip_short_hdr] body=[Current Ratio (mrq)] offsetx=[10] offsety=[20] delay=[300]\">Current Ratio</td><td align=\"left\" class=\"snapshot-td2 w-[8%]\" style=\"\"><b><span class=\"color-text is-positive\">4.29</span></b></td>\n",
            "<td align=\"left\" class=\"snapshot-td2 cursor-pointer w-[7%]\" data-boxover=\"cssbody=[tooltip_short_bdy] cssheader=[tooltip_short_hdr] body=[EPS growth TTM] offsetx=[10] offsety=[20] delay=[300]\">EPS Y/Y TTM</td><td align=\"left\" class=\"snapshot-td2 w-[8%]\" style=\"\"><b>10.05%</b></td>\n",
            "<td align=\"left\" class=\"snapshot-td2 cursor-pointer w-[7%]\" data-boxover=\"cssbody=[tooltip_short_bdy] cssheader=[tooltip_short_hdr] body=[Operating Margin (ttm)] offsetx=[10] offsety=[20] delay=[300]\">Oper. Margin</td><td align=\"left\" class=\"snapshot-td2 w-[8%]\" style=\"\"><b>19.93%</b></td>\n",
            "<td align=\"left\" class=\"snapshot-td2 cursor-pointer w-[7%]\" data-boxover=\"cssbody=[tooltip_short_bdy] cssheader=[tooltip_short_hdr] body=[Relative Strength Index] offsetx=[10] offsety=[20] delay=[300]\">RSI (14)</td><td align=\"left\" class=\"snapshot-td2 w-[8%]\" style=\"\"><b>62.63</b></td>\n",
            "<td align=\"left\" class=\"snapshot-td2 cursor-pointer w-[7%]\" data-boxover=\"cssbody=[tooltip_short_bdy] cssheader=[tooltip_short_hdr] body=[Volatility (Week, Month)] offsetx=[10] offsety=[20] delay=[300]\">Volatility</td><td align=\"left\" class=\"snapshot-td2 w-[8%]\" style=\"\"><b><small>2.06% 2.55%</small></b></td>\n",
            "</tr>\n",
            "<tr class=\"table-dark-row\">\n",
            "<td align=\"left\" class=\"snapshot-td2 cursor-pointer w-[7%]\" data-boxover=\"cssbody=[tooltip_short_bdy] cssheader=[tooltip_short_hdr] body=[Full time employees] offsetx=[10] offsety=[20] delay=[300]\">Employees</td><td align=\"left\" class=\"snapshot-td2 w-[8%]\" style=\"\"><b>5168</b></td>\n",
            "<td align=\"left\" class=\"snapshot-td2 cursor-pointer w-[7%]\" data-boxover=\"cssbody=[tooltip_short_bdy] cssheader=[tooltip_short_hdr] body=[Total Debt to Equity (mrq)] offsetx=[10] offsety=[20] delay=[300]\">Debt/Eq</td><td align=\"left\" class=\"snapshot-td2 w-[8%]\" style=\"\"><b><span class=\"color-text is-positive\">0.01</span></b></td>\n",
            "<td align=\"left\" class=\"snapshot-td2 cursor-pointer w-[7%]\" data-boxover=\"cssbody=[tooltip_short_bdy] cssheader=[tooltip_short_hdr] body=[Sales growth TTM] offsetx=[10] offsety=[20] delay=[300]\">Sales Y/Y TTM</td><td align=\"left\" class=\"snapshot-td2 w-[8%]\" style=\"\"><b>18.81%</b></td>\n",
            "<td align=\"left\" class=\"snapshot-td2 cursor-pointer w-[7%]\" data-boxover=\"cssbody=[tooltip_short_bdy] cssheader=[tooltip_short_hdr] body=[Net Profit Margin (ttm)] offsetx=[10] offsety=[20] delay=[300]\">Profit Margin</td><td align=\"left\" class=\"snapshot-td2 w-[8%]\" style=\"\"><b>15.92%</b></td>\n",
            "<td align=\"left\" class=\"snapshot-td2 cursor-pointer w-[7%]\" data-boxover=\"cssbody=[tooltip_short_bdy] cssheader=[tooltip_short_hdr] body=[Analysts' mean recommendation (1=Buy 5=Sell)] offsetx=[10] offsety=[20] delay=[300]\">Recom</td><td align=\"left\" class=\"snapshot-td2 w-[8%]\" style=\"\"><b><span class=\"color-text is-positive\">1.00</span></b></td>\n",
            "<td align=\"left\" class=\"snapshot-td2 cursor-pointer w-[7%]\" data-boxover=\"cssbody=[tooltip_short_bdy] cssheader=[tooltip_short_hdr] body=[Analysts' mean target price] offsetx=[10] offsety=[20] delay=[300]\"><a class=\"hover:underline\" href=\"quote.ashx?t=MLI&amp;ta=1&amp;p=d&amp;ty=fc\">Target Price</a></td><td align=\"left\" class=\"snapshot-td2 w-[8%]\" style=\"\"><a class=\"hover:underline\" href=\"quote.ashx?t=MLI&amp;ta=1&amp;p=d&amp;ty=fc\"><b><span class=\"color-text is-positive\">110.00</span></b></a></td>\n",
            "</tr>\n",
            "<tr class=\"table-dark-row\">\n",
            "<td align=\"left\" class=\"snapshot-td2 cursor-pointer w-[7%]\" data-boxover=\"cssbody=[tooltip_short_bdy] cssheader=[tooltip_short_hdr] body=[Stock has options trading on a market exchange / Stock is avaiable to sell short] offsetx=[10] offsety=[20] delay=[300]\">Option/Short</td><td align=\"left\" class=\"snapshot-td2 w-[8%]\" style=\"\"><b>Yes / Yes</b></td>\n",
            "<td align=\"left\" class=\"snapshot-td2 cursor-pointer w-[7%]\" data-boxover=\"cssbody=[tooltip_short_bdy] cssheader=[tooltip_short_hdr] body=[Long Term Debt to Equity (mrq)] offsetx=[10] offsety=[20] delay=[300]\">LT Debt/Eq</td><td align=\"left\" class=\"snapshot-td2 w-[8%]\" style=\"\"><b><span class=\"color-text is-positive\">0.01</span></b></td>\n",
            "<td align=\"left\" class=\"snapshot-td2 cursor-pointer w-[7%]\" data-boxover=\"cssbody=[tooltip_short_bdy] cssheader=[tooltip_short_hdr] body=[Quarterly earnings growth (YoY)] offsetx=[10] offsety=[20] delay=[300]\">EPS Q/Q</td><td align=\"left\" class=\"snapshot-td2 w-[8%]\" style=\"\"><b>14.86%</b></td>\n",
            "<td align=\"left\" class=\"snapshot-td2 cursor-pointer w-[7%]\" data-boxover=\"cssbody=[tooltip_short_bdy] cssheader=[tooltip_short_hdr] body=[Dividend Payout Ratio (ttm)] offsetx=[10] offsety=[20] delay=[300]\">Payout</td><td align=\"left\" class=\"snapshot-td2 w-[8%]\" style=\"\"><b>15.07%</b></td>\n",
            "<td align=\"left\" class=\"snapshot-td2 cursor-pointer w-[7%]\" data-boxover=\"cssbody=[tooltip_short_bdy] cssheader=[tooltip_short_hdr] body=[Relative volume] offsetx=[10] offsety=[20] delay=[300]\">Rel Volume</td><td align=\"left\" class=\"snapshot-td2 w-[8%]\" style=\"\"><b>0.37</b></td>\n",
            "<td align=\"left\" class=\"snapshot-td2 cursor-pointer w-[7%]\" data-boxover=\"cssbody=[tooltip_short_bdy] cssheader=[tooltip_short_hdr] body=[Previous close] offsetx=[10] offsety=[20] delay=[300]\">Prev Close</td><td align=\"left\" class=\"snapshot-td2 w-[8%]\" style=\"\"><b>79.32</b></td>\n",
            "</tr>\n",
            "<tr class=\"table-dark-row\">\n",
            "<td align=\"left\" class=\"snapshot-td2 cursor-pointer w-[7%]\" data-boxover=\"cssbody=[tooltip_short_bdy] cssheader=[tooltip_short_hdr] body=[Last quarter revenue surprise] offsetx=[10] offsety=[20] delay=[300]\">Sales Surprise</td><td align=\"left\" class=\"snapshot-td2 w-[8%]\" style=\"\"><b><span class=\"color-text is-negative\">-0.28%</span></b></td>\n",
            "<td align=\"left\" class=\"snapshot-td2 cursor-pointer w-[7%]\" data-boxover=\"cssbody=[tooltip_short_bdy] cssheader=[tooltip_short_hdr] body=[Last quarter EPS surprise] offsetx=[10] offsety=[20] delay=[300]\">EPS Surprise</td><td align=\"left\" class=\"snapshot-td2 w-[8%]\" style=\"\"><b><span class=\"color-text is-positive\">6.11%</span></b></td>\n",
            "<td align=\"left\" class=\"snapshot-td2 cursor-pointer w-[7%]\" data-boxover=\"cssbody=[tooltip_short_bdy] cssheader=[tooltip_short_hdr] body=[Quarterly revenue growth (YoY)] offsetx=[10] offsety=[20] delay=[300]\">Sales Q/Q</td><td align=\"left\" class=\"snapshot-td2 w-[8%]\" style=\"\"><b>17.71%</b></td>\n",
            "<td align=\"left\" class=\"snapshot-td2 cursor-pointer w-[7%]\" data-boxover=\"cssbody=[tooltip_short_bdy] cssheader=[tooltip_short_hdr] body=[Earnings date&lt;br&gt;&lt;br&gt;BMO = Before Market Open&lt;br&gt;AMC = After Market Close] offsetx=[10] offsety=[20] delay=[300]\"><a class=\"hover:underline\" href=\"quote.ashx?t=MLI&amp;ta=1&amp;p=d&amp;ty=ea\">Earnings</a></td><td align=\"left\" class=\"snapshot-td2 w-[8%]\" style=\"\"><a class=\"hover:underline\" href=\"quote.ashx?t=MLI&amp;ta=1&amp;p=d&amp;ty=ea\"><b>Apr 22 BMO</b></a></td>\n",
            "<td align=\"left\" class=\"snapshot-td2 cursor-pointer w-[7%]\" data-boxover=\"cssbody=[tooltip_short_bdy] cssheader=[tooltip_short_hdr] body=[Average volume (3 month)] offsetx=[10] offsety=[20] delay=[300]\">Avg Volume</td><td align=\"left\" class=\"snapshot-td2 w-[8%]\" style=\"\"><b>937.30K</b></td>\n",
            "<td align=\"left\" class=\"snapshot-td2 cursor-pointer w-[7%]\" data-boxover=\"cssbody=[tooltip_short_bdy] cssheader=[tooltip_short_hdr] body=[Current stock price] offsetx=[10] offsety=[20] delay=[300]\">Price</td><td align=\"left\" class=\"snapshot-td2 w-[8%]\" style=\"\"><b>79.13</b></td>\n",
            "</tr>\n",
            "<tr class=\"table-dark-row\">\n",
            "<td align=\"left\" class=\"snapshot-td2 cursor-pointer w-[7%]\" data-boxover=\"cssbody=[tooltip_short_bdy] cssheader=[tooltip_short_hdr] body=[Distance from 20-Day Simple Moving Average] offsetx=[10] offsety=[20] delay=[300]\">SMA20</td><td align=\"left\" class=\"snapshot-td2 w-[8%]\" style=\"\"><b><span class=\"color-text is-positive\">6.54%</span></b></td>\n",
            "<td align=\"left\" class=\"snapshot-td2 cursor-pointer w-[7%]\" data-boxover=\"cssbody=[tooltip_short_bdy] cssheader=[tooltip_short_hdr] body=[Distance from 50-Day Simple Moving Average] offsetx=[10] offsety=[20] delay=[300]\">SMA50</td><td align=\"left\" class=\"snapshot-td2 w-[8%]\" style=\"\"><b><span class=\"color-text is-positive\">4.29%</span></b></td>\n",
            "<td align=\"left\" class=\"snapshot-td2 cursor-pointer w-[7%]\" data-boxover=\"cssbody=[tooltip_short_bdy] cssheader=[tooltip_short_hdr] body=[Distance from 200-Day Simple Moving Average] offsetx=[10] offsety=[20] delay=[300]\">SMA200</td><td align=\"left\" class=\"snapshot-td2 w-[8%]\" style=\"\"><b><span class=\"color-text is-positive\">2.69%</span></b></td>\n",
            "<td align=\"left\" class=\"snapshot-td2 cursor-pointer w-[7%]\" data-boxover=\"cssbody=[tooltip_short_bdy] cssheader=[tooltip_short_hdr] body=[Trades] offsetx=[10] offsety=[20] delay=[300]\">Trades</td><td align=\"left\" class=\"snapshot-td2 w-[8%]\" style=\"\"><a href=\"elite.ashx?utm_source=finviz&amp;utm_medium=banner&amp;utm_campaign=etf-fundamentals\"><svg class=\"text-muted -ml-0.5\" height=\"16\" width=\"16\">\n",
            "<use href=\"/assets/dist-icons/icons.svg?rev=19#lockOutline\"></use>\n",
            "</svg></a></td>\n",
            "<td align=\"left\" class=\"snapshot-td2 cursor-pointer w-[7%]\" data-boxover=\"cssbody=[tooltip_short_bdy] cssheader=[tooltip_short_hdr] body=[Volume] offsetx=[10] offsety=[20] delay=[300]\">Volume</td><td align=\"left\" class=\"snapshot-td2 w-[8%]\" style=\"\"><b>202,333</b></td>\n",
            "<td align=\"left\" class=\"snapshot-td2 cursor-pointer w-[7%]\" data-boxover=\"cssbody=[tooltip_short_bdy] cssheader=[tooltip_short_hdr] body=[Performance (today)] offsetx=[10] offsety=[20] delay=[300]\">Change</td><td align=\"left\" class=\"snapshot-td2 w-[8%]\" style=\"\"><b><span class=\"color-text is-negative\">-0.24%</span></b></td>\n",
            "</tr>\n",
            "</table>\n"
          ]
        }
      ],
      "source": [
        "pesquisa = html.find_all(\"table\")\n",
        "print(pesquisa[9])"
      ]
    },
    {
      "cell_type": "code",
      "execution_count": null,
      "metadata": {
        "id": "C4zkeX9wdTt3",
        "colab": {
          "base_uri": "https://localhost:8080/"
        },
        "outputId": "f46629fa-7515-4050-999b-6972ffc6ddee"
      },
      "outputs": [
        {
          "output_type": "stream",
          "name": "stdout",
          "text": [
            "[['Index', 'RUT', 'P/E', '14.42', 'EPS (ttm)', '5.49', 'Insider Own', '3.48%', 'Shs Outstand', '110.65M', 'Perf Week', '5.72%'], ['Market Cap', '8.76B', 'Forward P/E', '11.55', 'EPS next Y', '6.85', 'Insider Trans', '-3.42%', 'Shs Float', '106.80M', 'Perf Month', '7.62%'], ['Income', '623.95M', 'PEG', '-', 'EPS next Q', '1.62', 'Inst Own', '92.55%', 'Short Float', '3.81%', 'Perf Quarter', '-1.85%'], ['Sales', '3.92B', 'P/S', '2.23', 'EPS this Y', '12.99%', 'Inst Trans', '3.64%', 'Short Ratio', '4.34', 'Perf Half Y', '-17.00%'], ['Book/sh', '24.10', 'P/B', '3.28', 'EPS next Y', '14.17%', 'ROA', '20.37%', 'Short Interest', '4.07M', 'Perf Year', '35.80%'], ['Cash/sh', '8.00', 'P/C', '9.89', 'EPS next 5Y', '-', 'ROE', '24.51%', '52W Range', '53.53 - 96.81', 'Perf YTD', '-0.29%'], ['Dividend Est.', '-', 'P/FCF', '17.32', 'EPS past 5Y', '42.73%', 'ROI', '23.19%', '52W High', '-18.27%', 'Beta', '1.04'], ['Dividend TTM', '0.85 (1.07%)', 'Quick Ratio', '3.24', 'Sales past 5Y', '11.51%', 'Gross Margin', '26.06%', '52W Low', '47.82%', 'ATR (14)', '2.30'], ['Dividend Ex-Date', 'Jun 06, 2025', 'Current Ratio', '4.29', 'EPS Y/Y TTM', '10.05%', 'Oper. Margin', '19.93%', 'RSI (14)', '62.63', 'Volatility', '2.06% 2.55%'], ['Employees', '5168', 'Debt/Eq', '0.01', 'Sales Y/Y TTM', '18.81%', 'Profit Margin', '15.92%', 'Recom', '1.00', 'Target Price', '110.00'], ['Option/Short', 'Yes / Yes', 'LT Debt/Eq', '0.01', 'EPS Q/Q', '14.86%', 'Payout', '15.07%', 'Rel Volume', '0.37', 'Prev Close', '79.32'], ['Sales Surprise', '-0.28%', 'EPS Surprise', '6.11%', 'Sales Q/Q', '17.71%', 'Earnings', 'Apr 22 BMO', 'Avg Volume', '937.30K', 'Price', '79.13'], ['SMA20', '6.54%', 'SMA50', '4.29%', 'SMA200', '2.69%', 'Trades', '', 'Volume', '202,333', 'Change', '-0.24%']]\n"
          ]
        }
      ],
      "source": [
        "# Extrai os atributos desejados da tabela (assumindo que o índice da tabela é 9)\n",
        "table = html.find_all(\"table\")[9]\n",
        "rows = table.find_all(\"tr\")\n",
        "\n",
        "atributos = []\n",
        "for row in rows:\n",
        "    # Extraia células de dados e limpe o conteúdo do texto\n",
        "    data_cells = [cell.text.strip() for cell in row.find_all(\"td\")]\n",
        "    atributos.append(data_cells)\n",
        "\n",
        "# Imprima ou use a lista de atributos extraída (considere uma possível limpeza de dados)\n",
        "print(atributos)\n",
        "\n",
        "\n"
      ]
    },
    {
      "cell_type": "code",
      "execution_count": null,
      "metadata": {
        "id": "IMPx5F3JcOar",
        "colab": {
          "base_uri": "https://localhost:8080/"
        },
        "outputId": "181875b4-30be-4027-f5c4-98fc5f487de0"
      },
      "outputs": [
        {
          "output_type": "stream",
          "name": "stdout",
          "text": [
            "           Atributos        Valores\n",
            "0              Index            RUT\n",
            "1                P/E          14.42\n",
            "2          EPS (ttm)           5.49\n",
            "3        Insider Own          3.48%\n",
            "4       Shs Outstand        110.65M\n",
            "5          Perf Week          5.72%\n",
            "6         Market Cap          8.76B\n",
            "7        Forward P/E          11.55\n",
            "8         EPS next Y           6.85\n",
            "9      Insider Trans         -3.42%\n",
            "10         Shs Float        106.80M\n",
            "11        Perf Month          7.62%\n",
            "12            Income        623.95M\n",
            "13               PEG              -\n",
            "14        EPS next Q           1.62\n",
            "15          Inst Own         92.55%\n",
            "16       Short Float          3.81%\n",
            "17      Perf Quarter         -1.85%\n",
            "18             Sales          3.92B\n",
            "19               P/S           2.23\n",
            "20        EPS this Y         12.99%\n",
            "21        Inst Trans          3.64%\n",
            "22       Short Ratio           4.34\n",
            "23       Perf Half Y        -17.00%\n",
            "24           Book/sh          24.10\n",
            "25               P/B           3.28\n",
            "26        EPS next Y         14.17%\n",
            "27               ROA         20.37%\n",
            "28    Short Interest          4.07M\n",
            "29         Perf Year         35.80%\n",
            "30           Cash/sh           8.00\n",
            "31               P/C           9.89\n",
            "32       EPS next 5Y              -\n",
            "33               ROE         24.51%\n",
            "34         52W Range  53.53 - 96.81\n",
            "35          Perf YTD         -0.29%\n",
            "36     Dividend Est.              -\n",
            "37             P/FCF          17.32\n",
            "38       EPS past 5Y         42.73%\n",
            "39               ROI         23.19%\n",
            "40          52W High        -18.27%\n",
            "41              Beta           1.04\n",
            "42      Dividend TTM   0.85 (1.07%)\n",
            "43       Quick Ratio           3.24\n",
            "44     Sales past 5Y         11.51%\n",
            "45      Gross Margin         26.06%\n",
            "46           52W Low         47.82%\n",
            "47          ATR (14)           2.30\n",
            "48  Dividend Ex-Date   Jun 06, 2025\n",
            "49     Current Ratio           4.29\n",
            "50       EPS Y/Y TTM         10.05%\n",
            "51      Oper. Margin         19.93%\n",
            "52          RSI (14)          62.63\n",
            "53        Volatility    2.06% 2.55%\n",
            "54         Employees           5168\n",
            "55           Debt/Eq           0.01\n",
            "56     Sales Y/Y TTM         18.81%\n",
            "57     Profit Margin         15.92%\n",
            "58             Recom           1.00\n",
            "59      Target Price         110.00\n",
            "60      Option/Short      Yes / Yes\n",
            "61        LT Debt/Eq           0.01\n",
            "62           EPS Q/Q         14.86%\n",
            "63            Payout         15.07%\n",
            "64        Rel Volume           0.37\n",
            "65        Prev Close          79.32\n",
            "66    Sales Surprise         -0.28%\n",
            "67      EPS Surprise          6.11%\n",
            "68         Sales Q/Q         17.71%\n",
            "69          Earnings     Apr 22 BMO\n",
            "70        Avg Volume        937.30K\n",
            "71             Price          79.13\n",
            "72             SMA20          6.54%\n",
            "73             SMA50          4.29%\n",
            "74            SMA200          2.69%\n",
            "75            Trades               \n",
            "76            Volume        202,333\n",
            "77            Change         -0.24%\n"
          ]
        }
      ],
      "source": [
        "# Inicializa listas vazias para armazenar atributos e valores\n",
        "attributes = []\n",
        "values = []\n",
        "\n",
        "# Iterar sobre cada linha (excluindo a linha do cabeçalho)\n",
        "for row in rows:\n",
        "    data_cells = [cell.text.strip() for cell in row.find_all(\"td\")]\n",
        "\n",
        "    # Se a linha não estiver vazia\n",
        "    if len(data_cells) > 0:\n",
        "        # Extrai atributos e valores de cada célula de dados\n",
        "        for i, cell_text in enumerate(data_cells):\n",
        "            if i % 2 == 0:  # Índices pares são atributos\n",
        "                attributes.append(cell_text)\n",
        "            else:  # Índices ímpares são valores\n",
        "                values.append(cell_text)\n",
        "\n",
        "# Crie um DataFrame a partir dos atributos e valores extraídos\n",
        "df = pd.DataFrame({'Atributos': attributes, 'Valores': values})\n",
        "\n",
        "# Configurar o Pandas para exibir todas as linhas e colunas\n",
        "pd.set_option('display.max_rows', None)\n",
        "pd.set_option('display.max_columns', None)\n",
        "\n",
        "# Imprimir o DataFrame\n",
        "print(df)"
      ]
    },
    {
      "cell_type": "markdown",
      "metadata": {
        "id": "GBNM1zkM7t3n"
      },
      "source": [
        "**Valor de Mercado**"
      ]
    },
    {
      "cell_type": "code",
      "execution_count": null,
      "metadata": {
        "id": "JdH5yB9b17PM",
        "colab": {
          "base_uri": "https://localhost:8080/"
        },
        "outputId": "ab5e6e13-d898-4a08-a3d9-0bbedd23699f"
      },
      "outputs": [
        {
          "output_type": "stream",
          "name": "stdout",
          "text": [
            "Market Cap: $8,760,000,000.00\n"
          ]
        }
      ],
      "source": [
        "# Encontrar o índice do atributo desejado\n",
        "market_cap_str = values[attributes.index('Market Cap')]\n",
        "\n",
        "# Se o último caractere for 'B', multiplique por 1 bilhão\n",
        "# Se o último caractere for 'M', multiplique por 1 milhão\n",
        "# Caso contrário, mantenha o valor como está\n",
        "if market_cap_str[-1] == 'B':\n",
        "    market_cap = float(market_cap_str[:-1]) * 1000000000\n",
        "elif market_cap_str[-1] == 'M':\n",
        "    market_cap = float(market_cap_str[:-1]) * 1000000\n",
        "else:\n",
        "    market_cap = float(market_cap_str)\n",
        "\n",
        "# Imprimir o valor do Market Cap formatado\n",
        "print(f'Market Cap: ${market_cap:,.2f}')\n"
      ]
    },
    {
      "cell_type": "markdown",
      "metadata": {
        "id": "KxcSCpvnMbxc"
      },
      "source": [
        "**ROI**"
      ]
    },
    {
      "cell_type": "code",
      "execution_count": null,
      "metadata": {
        "id": "IfJlncvUePHf",
        "colab": {
          "base_uri": "https://localhost:8080/"
        },
        "outputId": "2963121e-af86-4ce8-a4fc-597bde26992f"
      },
      "outputs": [
        {
          "output_type": "stream",
          "name": "stdout",
          "text": [
            "ROI: 0.23190000000000002\n"
          ]
        }
      ],
      "source": [
        "# Encontrar o índice do atributo ROI\n",
        "roi_str = values[attributes.index('ROI')]\n",
        "\n",
        "# Remover o '%' do final e converter para float, dividindo por 100 para obter o valor percentual\n",
        "roi_perc_str = float(roi_str[:-1]) / 100\n",
        "\n",
        "# Imprimir o ROI\n",
        "print(f'ROI: {roi_perc_str}')\n",
        "\n"
      ]
    },
    {
      "cell_type": "markdown",
      "metadata": {
        "id": "u-sJJZbuPgIS"
      },
      "source": [
        "**ROE**"
      ]
    },
    {
      "cell_type": "code",
      "execution_count": null,
      "metadata": {
        "id": "qKRqIzzBPjDA",
        "colab": {
          "base_uri": "https://localhost:8080/"
        },
        "outputId": "ab67a3a3-16b3-4700-8a98-41baf5fcfc70"
      },
      "outputs": [
        {
          "output_type": "stream",
          "name": "stdout",
          "text": [
            "ROE: 0.23190000000000002\n"
          ]
        }
      ],
      "source": [
        "# Encontrar o índice do atributo ROE\n",
        "roe_str = values[attributes.index('ROE')]\n",
        "\n",
        "# Remover o '%' do final e converter para float, dividindo por 100 para obter o valor percentual\n",
        "roe_perc_str = float(roi_str[:-1]) / 100\n",
        "\n",
        "# Imprimir o ROE\n",
        "print(f'ROE: {roe_perc_str}')\n"
      ]
    },
    {
      "cell_type": "markdown",
      "metadata": {
        "id": "mYATbdSqP36A"
      },
      "source": [
        "**PAYOUT**"
      ]
    },
    {
      "cell_type": "code",
      "execution_count": null,
      "metadata": {
        "id": "LHOYjpudP8Av",
        "colab": {
          "base_uri": "https://localhost:8080/"
        },
        "outputId": "1ad37b92-c7ac-49f3-af3e-be6eecb2880c"
      },
      "outputs": [
        {
          "output_type": "stream",
          "name": "stdout",
          "text": [
            "PAYOUT: 0.1507\n"
          ]
        }
      ],
      "source": [
        "# Encontrar o índice do atributo PAYOUT\n",
        "payout_str = values[attributes.index('Payout')]\n",
        "\n",
        "# Remover o '%' do final e converter para float, dividindo por 100 para obter o valor percentual\n",
        "payout_perc_str = float(payout_str[:-1]) / 100\n",
        "\n",
        "# Imprimir o ROE\n",
        "print(f'PAYOUT: {payout_perc_str}')\n"
      ]
    },
    {
      "cell_type": "markdown",
      "metadata": {
        "id": "QR17PHnIQl83"
      },
      "source": [
        "**DIVIDEND YIELD**"
      ]
    },
    {
      "cell_type": "code",
      "execution_count": null,
      "metadata": {
        "id": "VEomG411QuHx",
        "colab": {
          "base_uri": "https://localhost:8080/"
        },
        "outputId": "62593298-1cca-4c64-eec5-cabac286c3c0"
      },
      "outputs": [
        {
          "output_type": "stream",
          "name": "stdout",
          "text": [
            "DIVIDEND YIELD: 0\n"
          ]
        }
      ],
      "source": [
        "# Encontrar o índice do atributo Dividend Est.\n",
        "div_str = values[attributes.index('Dividend Est.')]\n",
        "\n",
        "# Verificar se o valor é '-' e tratá-lo como 0\n",
        "if div_str == '-':\n",
        "    div_total_value = 0\n",
        "else:\n",
        "    # Apagar os valores fora dos parênteses\n",
        "    div_value = div_str.split('(')[-1].split(')')[0]\n",
        "\n",
        "    # Remover os parênteses\n",
        "    div_value = div_value.replace('(', '').replace(')', '')\n",
        "\n",
        "    # Retirar o símbolo '%'\n",
        "    div_value = div_value.replace('%', '')\n",
        "\n",
        "    # Transformar em float\n",
        "    div_float = float(div_value)\n",
        "\n",
        "    # Dividir o valor por 100\n",
        "    div_total_value = div_float / 100\n",
        "\n",
        "# Imprimir o Dividend Est. renomeado para DIVIDEND YIELD\n",
        "print(f'DIVIDEND YIELD: {div_total_value}')\n",
        "\n"
      ]
    },
    {
      "cell_type": "markdown",
      "metadata": {
        "id": "NaypSkzSeHki"
      },
      "source": [
        "**Crescimento dos Lucros nos próximos 5 anos**"
      ]
    },
    {
      "cell_type": "code",
      "execution_count": null,
      "metadata": {
        "id": "w7j63fVueJ8h",
        "colab": {
          "base_uri": "https://localhost:8080/"
        },
        "outputId": "ea72faf4-9a11-4677-dcf6-d1d126800b7f"
      },
      "outputs": [
        {
          "output_type": "stream",
          "name": "stdout",
          "text": [
            "EPS next 5Y: 0\n"
          ]
        }
      ],
      "source": [
        "# Encontrar o índice do atributo EPS next 5Y\n",
        "epsn5_index = attributes.index('EPS next 5Y')\n",
        "\n",
        "# Verificar se o valor de EPS next 5Y é '-' e tratá-lo como 0, e se há múltiplos valores para o atributo 'EPS next Y'\n",
        "if epsn5_index == '-':\n",
        "    # Verificar se há múltiplos valores para o atributo 'EPS next Y'\n",
        "    epsn_y_indices = [i for i, attr in enumerate(attributes) if attr == 'EPS next Y']\n",
        "\n",
        "    if len(epsn_y_indices) >= 2:\n",
        "        # Pegar o segundo índice da lista\n",
        "        epsn_y_index = epsn_y_indices[1]\n",
        "\n",
        "        # Pegar o valor correspondente a esse índice\n",
        "        epsn_y_str = values[epsn_y_index]\n",
        "    else:\n",
        "        epsn_y_str = '-'\n",
        "\n",
        "    # Verificar se o valor de EPS next Y é '-' e tratá-lo como 0\n",
        "    if epsn_y_str == '-':\n",
        "        epsn5_perc_str = 0\n",
        "else:\n",
        "    epsn5_str = values[epsn5_index]\n",
        "    # Verificar se o valor é '-' e tratá-lo como 0\n",
        "    if epsn5_str == '-':\n",
        "        epsn5_perc_str = 0\n",
        "    else:\n",
        "        # Remover o '%' do final e converter para float, dividindo por 100 para obter o valor percentual\n",
        "        epsn5_perc_str = float(epsn5_str[:-1]) / 100\n",
        "\n",
        "# Imprimir o EPS next 5Y\n",
        "print(f'EPS next 5Y: {epsn5_perc_str}')\n",
        "\n",
        "\n",
        "\n",
        "\n"
      ]
    },
    {
      "cell_type": "markdown",
      "metadata": {
        "id": "pJOEOG9gf8TP"
      },
      "source": [
        "**LPA - Lucro por Ação**"
      ]
    },
    {
      "cell_type": "code",
      "execution_count": null,
      "metadata": {
        "id": "BxySdWMDf9q_",
        "colab": {
          "base_uri": "https://localhost:8080/"
        },
        "outputId": "bce3b9dc-0365-4642-d898-3958ad9417ee"
      },
      "outputs": [
        {
          "output_type": "stream",
          "name": "stdout",
          "text": [
            "LPA: 5.49\n"
          ]
        }
      ],
      "source": [
        "# Encontrar o índice do atributo LPA\n",
        "eps_str = values[attributes.index('EPS (ttm)')]\n",
        "\n",
        "# Transformar o VP/A em float\n",
        "eps_float = float(eps_str)\n",
        "\n",
        "# Imprimir o VP/A (Valor partrimônial por ação)\n",
        "print(f'LPA: {eps_float}')"
      ]
    },
    {
      "cell_type": "markdown",
      "metadata": {
        "id": "MGj0wgAZhw88"
      },
      "source": [
        "**VPA - Valor Patrimonial por Ação**"
      ]
    },
    {
      "cell_type": "code",
      "execution_count": null,
      "metadata": {
        "id": "_sudykqwhzLa",
        "colab": {
          "base_uri": "https://localhost:8080/"
        },
        "outputId": "bf2bc048-099e-4b1e-9ab0-1d3fa974f9cc"
      },
      "outputs": [
        {
          "output_type": "stream",
          "name": "stdout",
          "text": [
            "VPA: 24.1\n"
          ]
        }
      ],
      "source": [
        "# Encontrar o índice do atributo VP/A\n",
        "VPA_str = values[attributes.index('Book/sh')]\n",
        "\n",
        "# Transformar o VP/A em float\n",
        "VPA_float = float(VPA_str)\n",
        "\n",
        "# Imprimir o VP/A (Valor partrimônial por ação)\n",
        "print(f'VPA: {VPA_float}')"
      ]
    },
    {
      "cell_type": "markdown",
      "metadata": {
        "id": "qy08xs3JirC5"
      },
      "source": [
        "**BETA**"
      ]
    },
    {
      "cell_type": "code",
      "execution_count": null,
      "metadata": {
        "id": "YjKOoCiAisrZ",
        "colab": {
          "base_uri": "https://localhost:8080/"
        },
        "outputId": "77ce21d7-ec4e-47bb-fa92-bfc63c39ff46"
      },
      "outputs": [
        {
          "output_type": "stream",
          "name": "stdout",
          "text": [
            "Beta: 1.04\n"
          ]
        }
      ],
      "source": [
        "# Encontrar o índice do atributo Beta\n",
        "beta_str = values[attributes.index('Beta')]\n",
        "\n",
        "# Transformar o Beta em float\n",
        "beta_float = float(beta_str)\n",
        "\n",
        "# Imprimir o Beta\n",
        "print(f'Beta: {beta_float}')\n"
      ]
    },
    {
      "cell_type": "markdown",
      "metadata": {
        "id": "tDd5cFdrjO0d"
      },
      "source": [
        "**Taxa de Reinvestimento do Lucro Líquido (bLL)**"
      ]
    },
    {
      "cell_type": "code",
      "execution_count": null,
      "metadata": {
        "id": "k0rAgFmEjQWB",
        "colab": {
          "base_uri": "https://localhost:8080/"
        },
        "outputId": "075fc047-a7a7-4c57-9db3-53971633a5c2"
      },
      "outputs": [
        {
          "output_type": "stream",
          "name": "stdout",
          "text": [
            "Taxa de Reinvestimento bLL: 0.849\n"
          ]
        }
      ],
      "source": [
        "# Definir a taxa de reinvestimento com base na diferença entre 1 e o percentual de pagamento (payout)\n",
        "tax_reinvest_ll = 1 - payout_perc_str\n",
        "\n",
        "# Imprimir a taxa de reinvestimento\n",
        "print(f'Taxa de Reinvestimento bLL: {tax_reinvest_ll:.3f}')\n"
      ]
    },
    {
      "cell_type": "markdown",
      "metadata": {
        "id": "kk30fPuCkFv9"
      },
      "source": [
        "**gLL - Crescimento do Lucro Líquido**"
      ]
    },
    {
      "cell_type": "code",
      "execution_count": null,
      "metadata": {
        "id": "e00d3pVukHP-",
        "colab": {
          "base_uri": "https://localhost:8080/"
        },
        "outputId": "7c5e38a2-7dbc-4e93-9b5b-695361e69c91"
      },
      "outputs": [
        {
          "output_type": "stream",
          "name": "stdout",
          "text": [
            "gLL: 0.197\n"
          ]
        }
      ],
      "source": [
        "gll = tax_reinvest_ll*roe_perc_str\n",
        "\n",
        "\n",
        "print(f'gLL: {gll:.3f}')"
      ]
    },
    {
      "cell_type": "markdown",
      "metadata": {
        "id": "OUrVOVyZkg1t"
      },
      "source": [
        "**Ganho de Alavancagem**"
      ]
    },
    {
      "cell_type": "code",
      "execution_count": null,
      "metadata": {
        "id": "ysOPbZJ5kiIm",
        "colab": {
          "base_uri": "https://localhost:8080/"
        },
        "outputId": "7f0e6d87-74f4-4644-f9b9-f86c01d00d59"
      },
      "outputs": [
        {
          "output_type": "stream",
          "name": "stdout",
          "text": [
            "Ganho de Alavancagem: 0.000\n"
          ]
        }
      ],
      "source": [
        "gain_leverage = roe_perc_str - roi_perc_str\n",
        "\n",
        "\n",
        "print(f'Ganho de Alavancagem: {gain_leverage:.3f}')"
      ]
    },
    {
      "cell_type": "markdown",
      "metadata": {
        "id": "49mZ6bzF82kZ"
      },
      "source": [
        "**Grau de Alavancagem Financeira**"
      ]
    },
    {
      "cell_type": "code",
      "execution_count": null,
      "metadata": {
        "id": "m3kjFc-u84DB",
        "colab": {
          "base_uri": "https://localhost:8080/"
        },
        "outputId": "0dfd74c0-7300-4fc7-dd0d-5cd586a7fbd0"
      },
      "outputs": [
        {
          "output_type": "stream",
          "name": "stdout",
          "text": [
            "Grau de Alavancagem Financeira: 1.00\n"
          ]
        }
      ],
      "source": [
        "gaf = roe_perc_str/roi_perc_str\n",
        "\n",
        "\n",
        "print(f'Grau de Alavancagem Financeira: {gaf:.2f}')"
      ]
    },
    {
      "cell_type": "markdown",
      "metadata": {
        "id": "h-hs4Uoj9sKI"
      },
      "source": [
        "**Taxa de Juros Livre de Risco (Rf) - Treasury Bond 10Y**"
      ]
    },
    {
      "cell_type": "code",
      "execution_count": null,
      "metadata": {
        "id": "kxm-a_NNcHP_",
        "colab": {
          "base_uri": "https://localhost:8080/"
        },
        "outputId": "67f88dca-d38e-4efb-94cb-9406e399d124"
      },
      "outputs": [
        {
          "output_type": "stream",
          "name": "stdout",
          "text": [
            "Taxa de Juros Livre de Risco (Rf): 4.53%\n"
          ]
        }
      ],
      "source": [
        "# Requisição Url\n",
        "url = \"https://ycharts.com/indicators/10_year_treasury_rate\"\n",
        "req = Request(url, headers={'User-Agent': 'Mozilla/5.0'})\n",
        "webpage = urlopen(req).read()\n",
        "\n",
        "# Parser\n",
        "html = soup(webpage, \"html.parser\")\n",
        "\n",
        "# Buscando Valor\n",
        "xpath = '/html/body/main/div/div[2]/div/div/div[2]'\n",
        "value_elem = html.find('div', {'class':'key-stat-title'}).get_text()\n",
        "\n",
        "if value_elem is not None:\n",
        "    value = value_elem.strip()\n",
        "    value = value.split(' ')[0] # Removendo Strings\n",
        "    value = value.replace('%', '')\n",
        "\n",
        "    # Removendo Caracteres\n",
        "    Rf = float(value.replace(',', '.'))\n",
        "    Rf_str = str(Rf) + '%' # Corrigindo Erro\n",
        "\n",
        "    print(f'Taxa de Juros Livre de Risco (Rf): {Rf_str}')"
      ]
    },
    {
      "cell_type": "code",
      "execution_count": null,
      "metadata": {
        "id": "j0K0DQab9wnt",
        "colab": {
          "base_uri": "https://localhost:8080/"
        },
        "outputId": "94fb3cea-88c9-4eff-9c88-a8d168dde95f"
      },
      "outputs": [
        {
          "output_type": "stream",
          "name": "stdout",
          "text": [
            "Taxa de Juros Livre de Risco (Rf): 4.32%\n"
          ]
        }
      ],
      "source": [
        "url = 'https://ycharts.com/indicators/us_10year_government_bond_interest_rate'\n",
        "req = Request(url, headers={'User-Agent': 'Mozilla/5.0'})\n",
        "webpage = urlopen(req).read()\n",
        "html = soup(webpage, \"html.parser\")\n",
        "\n",
        "xpath = '/html/body/main/div/div[2]/div/div/div[2]'\n",
        "value_elem = html.find('div', {'class':'key-stat-title'}).get_text()\n",
        "\n",
        "if value_elem is not None:\n",
        "    value = value_elem.strip()\n",
        "    value = value.split(' ')[0] # Removendo Strings\n",
        "    value = value.replace('%', '')\n",
        "\n",
        "    # Removendo Caracteres\n",
        "    interest_rate = float(value.replace(',', '.'))\n",
        "    interest_rate_str = str(interest_rate) + '%' # Corrigindo Erro\n",
        "\n",
        "    print(f'Taxa de Juros Livre de Risco (Rf): {interest_rate_str}')"
      ]
    },
    {
      "cell_type": "markdown",
      "metadata": {
        "id": "PdUYFymr-CyA"
      },
      "source": [
        "**Taxa de Inflação Americana**"
      ]
    },
    {
      "cell_type": "code",
      "execution_count": null,
      "metadata": {
        "id": "gaLzOA-p948d",
        "colab": {
          "base_uri": "https://localhost:8080/"
        },
        "outputId": "b94529aa-8b3d-441e-a61a-5a0dd0a398ad"
      },
      "outputs": [
        {
          "output_type": "stream",
          "name": "stdout",
          "text": [
            "Taxa de Inflação Americana: 2.31%\n"
          ]
        }
      ],
      "source": [
        "# Requisição Url\n",
        "url = \"https://ycharts.com/indicators/us_consumer_price_index_yoy\"\n",
        "req = Request(url, headers={'User-Agent': 'Mozilla/5.0'})\n",
        "webpage = urlopen(req).read()\n",
        "\n",
        "# Parser\n",
        "html = soup(webpage, \"html.parser\")\n",
        "\n",
        "# Buscando Valor\n",
        "xpath = '/html/body/main/div/div[2]/div/div/div[2]'\n",
        "value_elem = html.find('div', {'class':'key-stat-title'}).get_text()\n",
        "\n",
        "if value_elem is not None:\n",
        "    value = value_elem.strip()\n",
        "    value = value.split(' ')[0] # Removendo Strings\n",
        "    value = value.replace('%', '')\n",
        "\n",
        "    # Removendo Caracteres\n",
        "    inflation = float(value.replace(',', '.'))\n",
        "    inflation_str = str(inflation) + '%' # Corrigindo Erro\n",
        "\n",
        "    print(f'Taxa de Inflação Americana: {inflation_str}')"
      ]
    },
    {
      "cell_type": "markdown",
      "metadata": {
        "id": "QddVrN16ApR2"
      },
      "source": [
        "**S&P 500 - Retorno 10Y**"
      ]
    },
    {
      "cell_type": "code",
      "execution_count": null,
      "metadata": {
        "id": "AcVzlEsX-Gid",
        "colab": {
          "base_uri": "https://localhost:8080/"
        },
        "outputId": "ea4551d0-a639-412d-a235-48e75bb2716f"
      },
      "outputs": [
        {
          "output_type": "stream",
          "name": "stderr",
          "text": [
            "\r[*********************100%***********************]  1 of 1 completed\n"
          ]
        },
        {
          "output_type": "stream",
          "name": "stdout",
          "text": [
            "\n",
            "Retorno acumulado em 10 anos: 33439.75%\n",
            "Retorno médio anual em 10 anos: 11.29%\n"
          ]
        }
      ],
      "source": [
        "# Definir função para calcular o retorno\n",
        "def calcula_retorno(dataframe):\n",
        "    df = dataframe.copy()\n",
        "    df['daily_return'] = df.iloc[:, 0].pct_change()\n",
        "    df['acum_return'] = (1 + df['daily_return']).cumprod()\n",
        "    df.iloc[0, df.columns.get_loc('acum_return')] = 1  # Corrigir o valor inicial\n",
        "    df.rename(columns={df.columns[0]: \"price\"}, inplace=True)\n",
        "    return df\n",
        "\n",
        "# Baixar dados do S&P 500\n",
        "sp500_data = yf.download('^GSPC')\n",
        "\n",
        "# Verificar se 'Adj Close' existe, senão usar 'Close'\n",
        "if 'Adj Close' in sp500_data.columns:\n",
        "    sp500 = sp500_data[['Adj Close']]\n",
        "else:\n",
        "    sp500 = sp500_data[['Close']]\n",
        "\n",
        "# Calcular os retornos\n",
        "sp500 = calcula_retorno(sp500)\n",
        "\n",
        "# Calcular o retorno acumulado em 10 anos e o retorno médio anual\n",
        "Ten_year_return = sp500['acum_return'].iloc[-1] * 100 - 100\n",
        "mean_yearly_return = sp500['daily_return'].mean() * 100 * 365\n",
        "\n",
        "# Melhorar a visualização\n",
        "print(f'\\nRetorno acumulado em 10 anos: {Ten_year_return:.2f}%')\n",
        "print(f'Retorno médio anual em 10 anos: {mean_yearly_return:.2f}%')\n"
      ]
    },
    {
      "cell_type": "markdown",
      "metadata": {
        "id": "UgvbsDqGCf9-"
      },
      "source": [
        "**Taxa de Inflação Brasil**"
      ]
    },
    {
      "cell_type": "code",
      "execution_count": null,
      "metadata": {
        "id": "WO4J1FGmCSzM"
      },
      "outputs": [],
      "source": [
        "url = 'https://br.investing.com/economic-calendar/brazilian-cpi-410'\n",
        "req = Request(url, headers={'User-Agent': 'Mozilla/5.0'})\n",
        "webpage = urlopen(req).read()\n",
        "html = soup(webpage, \"html.parser\")\n",
        "\n",
        "xpath = '/html/body/div[5]/section/div[6]/span[2]/div'\n",
        "value_elem = html.find('div', {'class':'inner_cell'})\n",
        "\n",
        "if value_elem is not None:\n",
        "    value = value_elem.get_text().strip()\n",
        "\n",
        "    # Removendo Caracteres\n",
        "    taxa_juros_br = float(value.replace(',', '.'))\n",
        "    taxa_juros_br_str = str(taxa_juros_br).replace('.', ',') + '%' # Corrigindo Erro\n",
        "\n",
        "    print(f'Taxa de Juros Livre de Risco (Rf): {taxa_juros_br_str}')"
      ]
    },
    {
      "cell_type": "markdown",
      "metadata": {
        "id": "uk5RmjqeDHry"
      },
      "source": [
        "# **INDICADORES**"
      ]
    },
    {
      "cell_type": "code",
      "execution_count": null,
      "metadata": {
        "id": "23y--7TYCvw8",
        "colab": {
          "base_uri": "https://localhost:8080/"
        },
        "outputId": "50cf3769-6a28-4c17-ca32-3b82919abd81"
      },
      "outputs": [
        {
          "output_type": "stream",
          "name": "stdout",
          "text": [
            "                Indicadores              Valor\n",
            "0                Market Cap  $8,760,000,000.00\n",
            "1                       ROI              0.232\n",
            "2                       ROE              0.232\n",
            "3                    Payout              0.151\n",
            "4                Dividend %                  0\n",
            "5               EPS next 5Y                  0\n",
            "6                       LPA               5.49\n",
            "7                       VPA               24.1\n",
            "8                      Beta               1.04\n",
            "9   Taxa Reinvestimento bLL              0.849\n",
            "10                      gLL              0.197\n",
            "11     Ganho de Alavancagem              0.000\n",
            "12   Grau Alavancagem Finac              1.000\n",
            "13  Tx Juros Livre de Risco              4.53%\n",
            "14     Taxa de Inflação USA              2.31%\n",
            "15   Retorno acum 10Y SP500           33439.8%\n",
            "16  Retorno médio 10Y SP500             11.29%\n"
          ]
        }
      ],
      "source": [
        "# Criar um novo DataFrame com as respostas organizadas\n",
        "answers = pd.DataFrame({\n",
        "    'Indicadores': ['Market Cap', 'ROI','ROE','Payout','Dividend %','EPS next 5Y','LPA','VPA','Beta','Taxa Reinvestimento bLL','gLL','Ganho de Alavancagem','Grau Alavancagem Finac','Tx Juros Livre de Risco','Taxa de Inflação USA','Retorno acum 10Y SP500','Retorno médio 10Y SP500'],\n",
        "    'Valor': [f'${market_cap:,.2f}', f' {roi_perc_str:.3f}',f' {roe_perc_str:.3f}',f' {payout_perc_str:.3f}',f' {div_total_value}',f' {epsn5_perc_str}',f' {eps_float}',f' {VPA_float}',f' {beta_str}',f' {tax_reinvest_ll:.3f}',f' {gll:.3f}',f' {gain_leverage:.3f}',f' {gaf:.3f}',f' {Rf_str}',f' {inflation_str}',f' {Ten_year_return:.1f}%',f' {mean_yearly_return:.2f}%']\n",
        "})\n",
        "\n",
        "print(answers)"
      ]
    },
    {
      "cell_type": "markdown",
      "metadata": {
        "id": "HxlmK80MU4fO"
      },
      "source": [
        "# **Balanço Patrimonial**"
      ]
    },
    {
      "cell_type": "code",
      "execution_count": null,
      "metadata": {
        "id": "YyWv24K6DLlX"
      },
      "outputs": [],
      "source": [
        "import requests\n",
        "from bs4 import BeautifulSoup\n",
        "\n",
        "url = 'https://www.zacks.com/stock/quote/'+ symbol +'/balance-sheet'\n",
        "user_agent = {'User-agent': 'Mozilla/5.0'}\n",
        "\n",
        "# Obtendo a página\n",
        "page = requests.get(url, headers = user_agent)\n",
        "\n",
        "# Criando o objeto BeautifulSoup\n",
        "soup = BeautifulSoup(page.content, 'html.parser')\n",
        "\n",
        "# Extraindo os valores da tabela\n",
        "table_rows = soup.find_all('tr')\n",
        "for tr in table_rows:\n",
        "    td = tr.find_all('td')\n",
        "    row = [i.text for i in td]\n",
        "    print(row)"
      ]
    },
    {
      "cell_type": "markdown",
      "metadata": {
        "id": "7wgaEqr0VH51"
      },
      "source": [
        "**Patrimônio Líquido (PL)**"
      ]
    },
    {
      "cell_type": "code",
      "execution_count": null,
      "metadata": {
        "id": "4fekEic0U8Qf",
        "colab": {
          "base_uri": "https://localhost:8080/"
        },
        "outputId": "9e0711e5-d5a2-403d-ad45-153d0ded7e4f"
      },
      "outputs": [
        {
          "output_type": "stream",
          "name": "stdout",
          "text": [
            "Erro: Linhas 'Total Shareholder's Equity' não encontradas.\n"
          ]
        }
      ],
      "source": [
        "# Implementação\n",
        "try:\n",
        "    # 1 - Encontrando todas as ocorrências de 'Total Shareholder's Equity'\n",
        "    equity_rows = soup.find_all('td', text=\"Total Shareholder's Equity\")\n",
        "    if not equity_rows:\n",
        "        raise ValueError(\"Linhas 'Total Shareholder's Equity' não encontradas.\")\n",
        "\n",
        "    # Selecionar a última ocorrência\n",
        "    last_equity_row = equity_rows[-1]\n",
        "\n",
        "    # Obtendo os valores da linha\n",
        "    values = last_equity_row.find_next_siblings('td')\n",
        "    values_text = [val.text.strip() for val in values]\n",
        "\n",
        "    # 2 - Verificar se o primeiro valor é 'NA'\n",
        "    if values_text[0] == 'NA':\n",
        "        # Usar o quarto valor da direita para a esquerda\n",
        "        value = values_text[-4]\n",
        "    else:\n",
        "        value = values_text[0]\n",
        "\n",
        "    # 3 - Removendo as vírgulas e convertendo o valor para float\n",
        "    value_in_millions = float(value.replace(',', '')) * 1_000_000\n",
        "\n",
        "    # 4 - Formatando o valor de volta para uma string com a notação de dólares\n",
        "    value_formatted = '${:,.2f}'.format(value_in_millions)\n",
        "\n",
        "    # 5 - Imprimindo o valor formatado\n",
        "    print('Patrimônio Líquido (PL):', value_formatted)\n",
        "\n",
        "except Exception as e:\n",
        "    print(\"Erro:\", e)\n"
      ]
    },
    {
      "cell_type": "markdown",
      "metadata": {
        "id": "5J6y9Qu3VST1"
      },
      "source": [
        "**Empréstimos e Financiamentos**"
      ]
    },
    {
      "cell_type": "code",
      "execution_count": null,
      "metadata": {
        "id": "jEhG_7auVJMn",
        "colab": {
          "base_uri": "https://localhost:8080/"
        },
        "outputId": "8a5e6c96-f4fd-4421-c336-cd39f9d2f991"
      },
      "outputs": [
        {
          "output_type": "stream",
          "name": "stdout",
          "text": [
            "Erro: Linha 'Current Portion Long-Term Debt' não encontrada.\n"
          ]
        }
      ],
      "source": [
        "# Implementação\n",
        "try:\n",
        "    # 1 - Encontrando a linha 'Current Portion Long-Term Debt'\n",
        "    current_portion_longterm_debt = soup.find('td', text=\"Current Portion Long-Term Debt\")\n",
        "    if not current_portion_longterm_debt:\n",
        "        raise ValueError(\"Linha 'Current Portion Long-Term Debt' não encontrada.\")\n",
        "\n",
        "    # Obtendo os valores da linha\n",
        "    values = current_portion_longterm_debt.find_next_siblings('td')\n",
        "    values_text = [val.text.strip() for val in values]\n",
        "\n",
        "    # 2 - Verificar se o primeiro valor é 'NA'\n",
        "    if values_text[0] == 'NA':\n",
        "        # Usar o quarto valor da direita para a esquerda\n",
        "        value = values_text[-4]\n",
        "    else:\n",
        "        value = values_text[0]\n",
        "\n",
        "    # 3 - Removendo as vírgulas e convertendo o valor para float\n",
        "    value_in_millions = float(value.replace(',', '')) * 1_000_000\n",
        "\n",
        "    # 4 - Formatando o valor de volta para uma string com a notação de dólares\n",
        "    value_formatted = '${:,.2f}'.format(value_in_millions) if value_in_millions != 0 else '$ 0.00'\n",
        "\n",
        "    # 5 - Imprimindo o valor formatado\n",
        "    print('Empréstimos e Financiamentos:', value_formatted)\n",
        "\n",
        "except Exception as e:\n",
        "    print(\"Erro:\", e)\n"
      ]
    },
    {
      "cell_type": "markdown",
      "metadata": {
        "id": "8R043JmMVdul"
      },
      "source": [
        "**Passivo Total**"
      ]
    },
    {
      "cell_type": "code",
      "execution_count": null,
      "metadata": {
        "id": "l_576zn4VVgp",
        "colab": {
          "base_uri": "https://localhost:8080/"
        },
        "outputId": "53144ea8-737f-43ae-fceb-90088e28acd7"
      },
      "outputs": [
        {
          "output_type": "stream",
          "name": "stdout",
          "text": [
            "Erro: Linha 'Total Liabilities' não encontrada.\n"
          ]
        }
      ],
      "source": [
        "# Implementação\n",
        "try:\n",
        "    # 1 - Encontrando a linha 'Total Liabilities'\n",
        "    total_liabilities = soup.find('td', text=\"Total Liabilities\")\n",
        "    if not total_liabilities:\n",
        "        raise ValueError(\"Linha 'Total Liabilities' não encontrada.\")\n",
        "\n",
        "    # Obtendo os valores da linha\n",
        "    values = total_liabilities.find_next_siblings('td')\n",
        "    values_text = [val.text.strip() for val in values]\n",
        "\n",
        "    # 2 - Verificar se o primeiro valor é 'NA'\n",
        "    if values_text[0] == 'NA':\n",
        "        # Usar o quarto valor da direita para a esquerda\n",
        "        value = values_text[-4]\n",
        "    else:\n",
        "        value = values_text[0]\n",
        "\n",
        "    # 3 - Removendo as vírgulas e convertendo o valor para float\n",
        "    value_in_millions_15 = float(value.replace(',', '')) * 1_000_000\n",
        "\n",
        "    # 4 - Formatando o valor de volta para uma string com a notação de dólares\n",
        "    value_formatted = '${:,.2f}'.format(value_in_millions_15) if value_in_millions_15 != 0 else '$ 0.00'\n",
        "\n",
        "    # 5 - Imprimindo o valor formatado\n",
        "    print('Passivo Total:', value_formatted)\n",
        "\n",
        "except Exception as e:\n",
        "    print(\"Erro:\", e)\n"
      ]
    },
    {
      "cell_type": "markdown",
      "metadata": {
        "id": "RIrL9_wqVpzt"
      },
      "source": [
        "**Dívida de Longo Prazo**"
      ]
    },
    {
      "cell_type": "code",
      "execution_count": null,
      "metadata": {
        "id": "Qb00WK79VktZ",
        "colab": {
          "base_uri": "https://localhost:8080/"
        },
        "outputId": "4f75b03e-adaf-46d4-a3d5-6a1e7ebeede0"
      },
      "outputs": [
        {
          "output_type": "stream",
          "name": "stdout",
          "text": [
            "Erro: Linha 'Long-Term Debt' não encontrada.\n"
          ]
        }
      ],
      "source": [
        "# Implementação\n",
        "try:\n",
        "    # 1 - Encontrando a linha 'Long-Term Debt'\n",
        "    longterm_debt = soup.find('td', text=\"Long-Term Debt\")\n",
        "    if not longterm_debt:\n",
        "        raise ValueError(\"Linha 'Long-Term Debt' não encontrada.\")\n",
        "\n",
        "    # Obtendo os valores da linha\n",
        "    values = longterm_debt.find_next_siblings('td')\n",
        "    values_text = [val.text.strip() for val in values]\n",
        "\n",
        "    # 2 - Verificar se o primeiro valor é 'NA'\n",
        "    if values_text[0] == 'NA':\n",
        "        # Usar o quarto valor da direita para a esquerda\n",
        "        value = values_text[-4]\n",
        "    else:\n",
        "        value = values_text[0]\n",
        "\n",
        "    # 3 - Removendo as vírgulas e convertendo o valor para float\n",
        "    value_in_millions = float(value.replace(',', '')) * 1_000_000\n",
        "\n",
        "    # 4 - Formatando o valor de volta para uma string com a notação de dólares\n",
        "    value_formatted = '${:,.2f}'.format(value_in_millions) if value_in_millions != 0 else '$ 0.00'\n",
        "\n",
        "    # 5 - Imprimindo o valor formatado\n",
        "    print('Dívida de Longo Prazo:', value_formatted)\n",
        "\n",
        "except Exception as e:\n",
        "    print(\"Erro:\", e)\n"
      ]
    },
    {
      "cell_type": "markdown",
      "metadata": {
        "id": "1aVj0avQV-Gl"
      },
      "source": [
        "**Capital de Terceiros (Po)**"
      ]
    },
    {
      "cell_type": "code",
      "execution_count": null,
      "metadata": {
        "id": "qqODxrtCVt5B",
        "colab": {
          "base_uri": "https://localhost:8080/"
        },
        "outputId": "b1a637be-46ba-48ce-d0e2-ef5fa2485213"
      },
      "outputs": [
        {
          "output_type": "stream",
          "name": "stdout",
          "text": [
            "Erro: Linha 'Current Portion Long-Term Debt' não encontrada.\n"
          ]
        }
      ],
      "source": [
        "try:\n",
        "    # 1 - Encontrando a linha 'Current Portion Long-Term Debt'\n",
        "    current_portion_longterm_debt_row = soup.find('td', text=\"Current Portion Long-Term Debt\")\n",
        "    if not current_portion_longterm_debt_row:\n",
        "        raise ValueError(\"Linha 'Current Portion Long-Term Debt' não encontrada.\")\n",
        "\n",
        "    # Obtendo os valores da linha\n",
        "    current_portion_values = current_portion_longterm_debt_row.find_next_siblings('td')\n",
        "    current_portion_text = [val.text.strip() for val in current_portion_values]\n",
        "\n",
        "    # Verificar se o primeiro valor é 'NA'\n",
        "    if current_portion_text[0] == 'NA':\n",
        "        current_portion_value = current_portion_text[-4]\n",
        "    else:\n",
        "        current_portion_value = current_portion_text[0]\n",
        "\n",
        "    # Removendo as vírgulas e convertendo o valor para float\n",
        "    current_portion_in_millions = float(current_portion_value.replace(',', '')) * 1_000_000\n",
        "\n",
        "    # 2 - Encontrando a linha 'Long-Term Debt'\n",
        "    longterm_debt_row = soup.find('td', text=\"Long-Term Debt\")\n",
        "    if not longterm_debt_row:\n",
        "        raise ValueError(\"Linha 'Long-Term Debt' não encontrada.\")\n",
        "\n",
        "    # Obtendo os valores da linha\n",
        "    longterm_values = longterm_debt_row.find_next_siblings('td')\n",
        "    longterm_text = [val.text.strip() for val in longterm_values]\n",
        "\n",
        "    # Verificar se o primeiro valor é 'NA'\n",
        "    if longterm_text[0] == 'NA':\n",
        "        longterm_value = longterm_text[-4]\n",
        "    else:\n",
        "        longterm_value = longterm_text[0]\n",
        "\n",
        "    # Removendo as vírgulas e convertendo o valor para float\n",
        "    longterm_in_millions = float(longterm_value.replace(',', '')) * 1_000_000\n",
        "\n",
        "    # 3 - Somando os valores\n",
        "    total_debt = current_portion_in_millions + longterm_in_millions\n",
        "\n",
        "    # 4 - Formatando o valor total\n",
        "    total_debt_formatted = '${:,.2f}'.format(total_debt) if total_debt != 0 else '$ 0.00'\n",
        "\n",
        "    # 5 - Imprimindo o valor formatado\n",
        "    print('Capital de Terceiros (PO):', total_debt_formatted)\n",
        "\n",
        "except Exception as e:\n",
        "    print(\"Erro:\", e)"
      ]
    },
    {
      "cell_type": "markdown",
      "metadata": {
        "id": "C-4h3BdgWGVs"
      },
      "source": [
        "**Capital Investido (Ativos Totais)**"
      ]
    },
    {
      "cell_type": "code",
      "execution_count": null,
      "metadata": {
        "id": "mMPrPSvYWC6w",
        "colab": {
          "base_uri": "https://localhost:8080/"
        },
        "outputId": "d2d5906f-074c-4184-bef5-70aab467e14f"
      },
      "outputs": [
        {
          "output_type": "stream",
          "name": "stdout",
          "text": [
            "Erro: Linha 'Total Assets' não encontrada.\n"
          ]
        }
      ],
      "source": [
        "try:\n",
        "    # 1 - Encontrando a linha 'Total Assets'\n",
        "    total_assets_row = soup.find('td', text=\"Total Assets\")\n",
        "    if not total_assets_row:\n",
        "        raise ValueError(\"Linha 'Total Assets' não encontrada.\")\n",
        "\n",
        "    # Obtendo os valores da linha\n",
        "    total_assets_values = total_assets_row.find_next_siblings('td')\n",
        "    total_assets_text = [val.text.strip() for val in total_assets_values]\n",
        "\n",
        "    # Verificar se o primeiro valor é 'NA'\n",
        "    if total_assets_text[0] == 'NA':\n",
        "        total_assets_value = total_assets_text[-4]\n",
        "    else:\n",
        "        total_assets_value = total_assets_text[0]\n",
        "\n",
        "    # 2 - Removendo as vírgulas e convertendo o valor para float\n",
        "    total_assets_in_millions = float(total_assets_value.replace(',', '')) * 1_000_000\n",
        "\n",
        "    # 3 - Formatando o valor total\n",
        "    total_assets_formatted = '${:,.2f}'.format(total_assets_in_millions) if total_assets_in_millions != 0 else '$ 0.00'\n",
        "\n",
        "    # 4 - Imprimindo o valor formatado\n",
        "    print('Capital Investido (Ativos Totais):', total_assets_formatted)\n",
        "\n",
        "except Exception as e:\n",
        "    print(\"Erro:\", e)"
      ]
    },
    {
      "cell_type": "markdown",
      "metadata": {
        "id": "wg4e1XxVWLAN"
      },
      "source": [
        "**Caixa e Aplicações Financeiras**"
      ]
    },
    {
      "cell_type": "code",
      "execution_count": null,
      "metadata": {
        "id": "V2flQRGmWJTQ",
        "colab": {
          "base_uri": "https://localhost:8080/"
        },
        "outputId": "55262611-adf5-4b81-8fb8-c9b06e5d605d"
      },
      "outputs": [
        {
          "output_type": "stream",
          "name": "stdout",
          "text": [
            "Erro: Linha 'Cash & Equivalents' não encontrada.\n"
          ]
        }
      ],
      "source": [
        "try:\n",
        "    # 1 - Encontrando a linha 'Cash & Equivalents'\n",
        "    cash_equivalents_row = soup.find('td', text=\"Cash & Equivalents\")\n",
        "    if not cash_equivalents_row:\n",
        "        raise ValueError(\"Linha 'Cash & Equivalents' não encontrada.\")\n",
        "\n",
        "    # Obtendo os valores da linha\n",
        "    cash_equivalents_values = cash_equivalents_row.find_next_siblings('td')\n",
        "    cash_equivalents_text = [val.text.strip() for val in cash_equivalents_values]\n",
        "\n",
        "    # 2 - Verificar condições específicas: 'NA' ou '-99,999'\n",
        "    if cash_equivalents_text[0] in ('NA', '-99,999'):\n",
        "        cash_equivalents_value = cash_equivalents_text[-4]  # Usar o quarto valor da direita\n",
        "    else:\n",
        "        cash_equivalents_value = cash_equivalents_text[0]\n",
        "\n",
        "    # 3 - Removendo as vírgulas e convertendo o valor para float\n",
        "    cash_equivalents_in_millions = float(cash_equivalents_value.replace(',', '')) * 1_000_000\n",
        "\n",
        "    # 4 - Formatando o valor\n",
        "    cash_equivalents_formatted = '${:,.2f}'.format(cash_equivalents_in_millions) if cash_equivalents_in_millions != 0 else '$ 0.00'\n",
        "\n",
        "    # 5 - Imprimindo o valor formatado\n",
        "    print('Caixa e Aplicações Financeiras:', cash_equivalents_formatted)\n",
        "\n",
        "except Exception as e:\n",
        "    print(\"Erro:\", e)\n"
      ]
    },
    {
      "cell_type": "markdown",
      "metadata": {
        "id": "k7J3TO85WScE"
      },
      "source": [
        "**Ativo Circulante**"
      ]
    },
    {
      "cell_type": "code",
      "execution_count": null,
      "metadata": {
        "id": "OCofbVz3WPww",
        "colab": {
          "base_uri": "https://localhost:8080/"
        },
        "outputId": "d7078256-2ec3-407e-a278-83bf2757f0fe"
      },
      "outputs": [
        {
          "output_type": "stream",
          "name": "stdout",
          "text": [
            "Erro: Linha 'Total Current Assets' não encontrada.\n"
          ]
        }
      ],
      "source": [
        "try:\n",
        "    # 1 - Encontrando a linha 'Total Current Assets'\n",
        "    total_current_assets_row = soup.find('td', text=\"Total Current Assets\")\n",
        "    if not total_current_assets_row:\n",
        "        raise ValueError(\"Linha 'Total Current Assets' não encontrada.\")\n",
        "\n",
        "    # Obtendo os valores da linha\n",
        "    total_current_assets_values = total_current_assets_row.find_next_siblings('td')\n",
        "    total_current_assets_text = [val.text.strip() for val in total_current_assets_values]\n",
        "\n",
        "    # 2 - Verificar condições específicas: 'NA' ou '-99,999'\n",
        "    if total_current_assets_text[0] in ('NA', '-99,999'):\n",
        "        total_current_assets_value = total_current_assets_text[-4]  # Usar o quarto valor da direita\n",
        "    else:\n",
        "        total_current_assets_value = total_current_assets_text[0]\n",
        "\n",
        "    # 3 - Removendo as vírgulas e convertendo o valor para float\n",
        "    total_current_assets_in_millions = float(total_current_assets_value.replace(',', '')) * 1_000_000\n",
        "\n",
        "    # 4 - Formatando o valor\n",
        "    total_current_assets_formatted = (\n",
        "        '${:,.2f}'.format(total_current_assets_in_millions)\n",
        "        if total_current_assets_in_millions != 0\n",
        "        else '$ 0.00'\n",
        "    )\n",
        "\n",
        "    # 5 - Imprimindo o valor formatado\n",
        "    print('Ativo Circulante:', total_current_assets_formatted)\n",
        "\n",
        "except Exception as e:\n",
        "    print(\"Erro:\", e)\n"
      ]
    },
    {
      "cell_type": "markdown",
      "metadata": {
        "id": "Yap7ZzImWWMf"
      },
      "source": [
        "**Ativo Circulante Operacional**"
      ]
    },
    {
      "cell_type": "code",
      "execution_count": null,
      "metadata": {
        "id": "r2to25NyWVSw",
        "colab": {
          "base_uri": "https://localhost:8080/"
        },
        "outputId": "2cec3602-554f-4e78-ff62-4e6aef6b59e9"
      },
      "outputs": [
        {
          "output_type": "stream",
          "name": "stdout",
          "text": [
            "Erro: Linha 'Total Current Assets' não encontrada.\n"
          ]
        }
      ],
      "source": [
        "try:\n",
        "    # 1 - Encontrando a linha 'Total Current Assets'\n",
        "    total_current_assets_row = soup.find('td', text=\"Total Current Assets\")\n",
        "    if not total_current_assets_row:\n",
        "        raise ValueError(\"Linha 'Total Current Assets' não encontrada.\")\n",
        "\n",
        "    total_current_assets_values = total_current_assets_row.find_next_siblings('td')\n",
        "    total_current_assets_text = [val.text.strip() for val in total_current_assets_values]\n",
        "\n",
        "    # 2 - Condição para 'Total Current Assets': 'NA' ou '-99,999'\n",
        "    if total_current_assets_text[0] in ('NA', '-99,999'):\n",
        "        total_current_assets_value = total_current_assets_text[-4]  # Usar o quarto valor da direita\n",
        "    else:\n",
        "        total_current_assets_value = total_current_assets_text[0]\n",
        "\n",
        "    # 3 - Encontrando a linha 'Cash & Equivalents'\n",
        "    cash_equivalents_row = soup.find('td', text=\"Cash & Equivalents\")\n",
        "    if not cash_equivalents_row:\n",
        "        raise ValueError(\"Linha 'Cash & Equivalents' não encontrada.\")\n",
        "\n",
        "    cash_equivalents_values = cash_equivalents_row.find_next_siblings('td')\n",
        "    cash_equivalents_text = [val.text.strip() for val in cash_equivalents_values]\n",
        "\n",
        "    # 4 - Condição para 'Cash & Equivalents': 'NA' ou '-99,999'\n",
        "    if cash_equivalents_text[0] in ('NA', '-99,999'):\n",
        "        cash_equivalents_value = cash_equivalents_text[-4]  # Usar o quarto valor da direita\n",
        "    else:\n",
        "        cash_equivalents_value = cash_equivalents_text[0]\n",
        "\n",
        "    # 5 - Removendo as vírgulas e convertendo para float\n",
        "    total_current_assets_in_millions = float(total_current_assets_value.replace(',', '')) * 1_000_000\n",
        "    cash_equivalents_in_millions = float(cash_equivalents_value.replace(',', '')) * 1_000_000\n",
        "\n",
        "    # 6 - Calculando o Ativo Circulante Operacional\n",
        "    ativo_circulante_operacional = total_current_assets_in_millions - cash_equivalents_in_millions\n",
        "\n",
        "    # 7 - Formatando o valor para exibição\n",
        "    ativo_circulante_operacional_formatted = (\n",
        "        '${:,.2f}'.format(ativo_circulante_operacional)\n",
        "        if ativo_circulante_operacional != 0\n",
        "        else '$ 0.00'\n",
        "    )\n",
        "\n",
        "    # 8 - Imprimindo o valor formatado\n",
        "    print('Ativo Circulante Operacional:', ativo_circulante_operacional_formatted)\n",
        "\n",
        "except Exception as e:\n",
        "    print(\"Erro:\", e)\n"
      ]
    },
    {
      "cell_type": "code",
      "source": [
        "# 1º Passo\n",
        "# Encontrando a linha de Total Current Assets\n",
        "total_current_assets_row = soup.find('td', text=\"Total Current Assets\").find_parent('tr')\n",
        "\n",
        "# Extraindo todos os valores da linha\n",
        "values_assets = [td.text.strip() for td in total_current_assets_row.find_all('td')]\n",
        "\n",
        "# Imprimindo os valores da linha\n",
        "print(\"Total Current Assets Row:\", values_assets)\n",
        "\n",
        "# 2º Passo\n",
        "# Encontrando a linha de Cash & Equivalents\n",
        "cash_and_equivalents_row = soup.find('td', text=\"Cash & Equivalents\").find_parent('tr')\n",
        "\n",
        "# Extraindo todos os valores da linha\n",
        "values_cash_and_equivalents = [td.text.strip() for td in cash_and_equivalents_row.find_all('td')]\n",
        "\n",
        "# Imprimindo os valores da linha\n",
        "print(\"Cash & Equivalents Row:\", values_cash_and_equivalents)"
      ],
      "metadata": {
        "colab": {
          "base_uri": "https://localhost:8080/",
          "height": 211
        },
        "id": "QzGfILaTI4aH",
        "outputId": "e4ea0a98-ffaa-4e1c-e2d9-6b753e4c4d0b"
      },
      "execution_count": null,
      "outputs": [
        {
          "output_type": "error",
          "ename": "AttributeError",
          "evalue": "'NoneType' object has no attribute 'find_parent'",
          "traceback": [
            "\u001b[0;31m---------------------------------------------------------------------------\u001b[0m",
            "\u001b[0;31mAttributeError\u001b[0m                            Traceback (most recent call last)",
            "\u001b[0;32m<ipython-input-46-e4651b26dae1>\u001b[0m in \u001b[0;36m<cell line: 0>\u001b[0;34m()\u001b[0m\n\u001b[1;32m      1\u001b[0m \u001b[0;31m# 1º Passo\u001b[0m\u001b[0;34m\u001b[0m\u001b[0;34m\u001b[0m\u001b[0m\n\u001b[1;32m      2\u001b[0m \u001b[0;31m# Encontrando a linha de Total Current Assets\u001b[0m\u001b[0;34m\u001b[0m\u001b[0;34m\u001b[0m\u001b[0m\n\u001b[0;32m----> 3\u001b[0;31m \u001b[0mtotal_current_assets_row\u001b[0m \u001b[0;34m=\u001b[0m \u001b[0msoup\u001b[0m\u001b[0;34m.\u001b[0m\u001b[0mfind\u001b[0m\u001b[0;34m(\u001b[0m\u001b[0;34m'td'\u001b[0m\u001b[0;34m,\u001b[0m \u001b[0mtext\u001b[0m\u001b[0;34m=\u001b[0m\u001b[0;34m\"Total Current Assets\"\u001b[0m\u001b[0;34m)\u001b[0m\u001b[0;34m.\u001b[0m\u001b[0mfind_parent\u001b[0m\u001b[0;34m(\u001b[0m\u001b[0;34m'tr'\u001b[0m\u001b[0;34m)\u001b[0m\u001b[0;34m\u001b[0m\u001b[0;34m\u001b[0m\u001b[0m\n\u001b[0m\u001b[1;32m      4\u001b[0m \u001b[0;34m\u001b[0m\u001b[0m\n\u001b[1;32m      5\u001b[0m \u001b[0;31m# Extraindo todos os valores da linha\u001b[0m\u001b[0;34m\u001b[0m\u001b[0;34m\u001b[0m\u001b[0m\n",
            "\u001b[0;31mAttributeError\u001b[0m: 'NoneType' object has no attribute 'find_parent'"
          ]
        }
      ]
    },
    {
      "cell_type": "markdown",
      "metadata": {
        "id": "6FIWxmkQ1VxD"
      },
      "source": [
        "**Ativo Circulante Operacional - Ano anterior**"
      ]
    },
    {
      "cell_type": "code",
      "execution_count": null,
      "metadata": {
        "id": "TGfG_cD51H79"
      },
      "outputs": [],
      "source": [
        "try:\n",
        "    # 1 - Encontrando a linha 'Total Current Assets'\n",
        "    total_current_assets_row = soup.find('td', text=\"Total Current Assets\")\n",
        "    if not total_current_assets_row:\n",
        "        raise ValueError(\"Linha 'Total Current Assets' não encontrada.\")\n",
        "\n",
        "    total_current_assets_values = total_current_assets_row.find_next_siblings('td')\n",
        "    total_current_assets_text = [val.text.strip() for val in total_current_assets_values]\n",
        "\n",
        "    # 2 - Condição para 'Total Current Assets': 'NA' ou '-99,999'\n",
        "    if total_current_assets_text[0] in ('NA', '-99,999'):\n",
        "        total_current_assets_value = total_current_assets_text[-4]  # Usar o quarto valor da direita\n",
        "    else:\n",
        "        total_current_assets_value = total_current_assets_text[0]\n",
        "\n",
        "    # 3 - Encontrando a linha 'Cash & Equivalents'\n",
        "    cash_equivalents_row = soup.find('td', text=\"Cash & Equivalents\")\n",
        "    if not cash_equivalents_row:\n",
        "        raise ValueError(\"Linha 'Cash & Equivalents' não encontrada.\")\n",
        "\n",
        "    cash_equivalents_values = cash_equivalents_row.find_next_siblings('td')\n",
        "    cash_equivalents_text = [val.text.strip() for val in cash_equivalents_values]\n",
        "\n",
        "    # 4 - Condição para 'Cash & Equivalents': 'NA' ou '-99,999'\n",
        "    if cash_equivalents_text[0] in ('NA', '-99,999'):\n",
        "        cash_equivalents_value = cash_equivalents_text[-4]  # Usar o quarto valor da direita\n",
        "    else:\n",
        "        cash_equivalents_value = cash_equivalents_text[0]\n",
        "\n",
        "    # 5 - Removendo as vírgulas e convertendo para float\n",
        "    total_current_assets_in_millions = float(total_current_assets_value.replace(',', '')) * 1_000_000\n",
        "    cash_equivalents_in_millions = float(cash_equivalents_value.replace(',', '')) * 1_000_000\n",
        "\n",
        "    # 6 - Calculando o Ativo Circulante Operacional\n",
        "    ativo_circulante_operacional = total_current_assets_in_millions - cash_equivalents_in_millions\n",
        "\n",
        "    # 7 - Formatando o valor para exibição\n",
        "    ativo_circulante_operacional_formatted = (\n",
        "        '${:,.2f}'.format(ativo_circulante_operacional)\n",
        "        if ativo_circulante_operacional != 0\n",
        "        else '$ 0.00'\n",
        "    )\n",
        "\n",
        "    # 8 - Imprimindo o valor formatado\n",
        "    print('Ativo Circulante Operacional:', ativo_circulante_operacional_formatted)\n",
        "\n",
        "except Exception as e:\n",
        "    print(\"Erro:\", e)\n",
        "\n",
        "\n"
      ]
    },
    {
      "cell_type": "markdown",
      "metadata": {
        "id": "sRkCLzmKWdmb"
      },
      "source": [
        "**Passivo Circulante**"
      ]
    },
    {
      "cell_type": "code",
      "execution_count": null,
      "metadata": {
        "id": "ZuVxSLgAWaxw"
      },
      "outputs": [],
      "source": [
        "try:\n",
        "    # 1 - Encontrando o valor de 'Total Current Liabilities'\n",
        "    total_current_liabilities = soup.find('td', text=\"Total Current Liabilities\")\n",
        "    if not total_current_liabilities:\n",
        "        raise ValueError(\"'Total Current Liabilities' não encontrado.\")\n",
        "\n",
        "    value_text = total_current_liabilities.find_next('td').text.strip()\n",
        "\n",
        "    # 2 - Tratando condições especiais para valores inválidos\n",
        "    if value_text in ('NA', '-99,999'):\n",
        "        # Usar o quarto valor da direita se os dados forem inválidos\n",
        "        sibling_values = total_current_liabilities.find_next_siblings('td')\n",
        "        value_text = sibling_values[-4].text.strip()\n",
        "\n",
        "    # 3 - Removendo as vírgulas e convertendo o valor para float\n",
        "    value_in_millions = float(value_text.replace(',', '')) * 1_000_000\n",
        "\n",
        "    # 4 - Formatando o valor para exibição\n",
        "    value_formatted = (\n",
        "        '${:,.2f}'.format(value_in_millions)\n",
        "        if value_in_millions != 0\n",
        "        else '$ 0.00'\n",
        "    )\n",
        "\n",
        "    # 5 - Imprimindo o valor formatado\n",
        "    print('Passivo Circulante:', value_formatted)\n",
        "\n",
        "except Exception as e:\n",
        "    print(\"Erro ao processar o valor de 'Total Current Liabilities':\", e)\n"
      ]
    },
    {
      "cell_type": "markdown",
      "metadata": {
        "id": "lUN-6wkxWnOk"
      },
      "source": [
        "**Passivo Circulante Operacional**"
      ]
    },
    {
      "cell_type": "code",
      "execution_count": null,
      "metadata": {
        "id": "H6-_A2DNWkcQ"
      },
      "outputs": [],
      "source": [
        "try:\n",
        "    # Encontrando o valor de Total Current Liabilities\n",
        "    total_current_liabilities = soup.find('td', text=\"Total Current Liabilities\")\n",
        "    if not total_current_liabilities:\n",
        "        raise ValueError(\"'Total Current Liabilities' não encontrado.\")\n",
        "\n",
        "    value_liabilities = total_current_liabilities.find_next('td').text.strip()\n",
        "\n",
        "    # Tratando condições especiais para valores inválidos de 'Total Current Liabilities'\n",
        "    if value_liabilities in ('NA', '-99,999'):\n",
        "        sibling_values = total_current_liabilities.find_next_siblings('td')\n",
        "        value_liabilities = sibling_values[-4].text.strip()\n",
        "\n",
        "    # Encontrando o valor de Current Portion Long-Term Debt\n",
        "    current_portion_longterm_debt = soup.find('td', text=\"Current Portion Long-Term Debt\")\n",
        "    if not current_portion_longterm_debt:\n",
        "        raise ValueError(\"'Current Portion Long-Term Debt' não encontrado.\")\n",
        "\n",
        "    value_debt = current_portion_longterm_debt.find_next('td').text.strip()\n",
        "\n",
        "    # Tratando condições especiais para valores inválidos de 'Current Portion Long-Term Debt'\n",
        "    if value_debt in ('NA', '-99,999'):\n",
        "        sibling_values_debt = current_portion_longterm_debt.find_next_siblings('td')\n",
        "        value_debt = sibling_values_debt[-4].text.strip()\n",
        "\n",
        "    # Removendo as vírgulas e convertendo os valores para float\n",
        "    value_liabilities_in_millions = float(value_liabilities.replace(',', '')) * 1_000_000\n",
        "    value_debt_in_millions = float(value_debt.replace(',', '')) * 1_000_000\n",
        "\n",
        "    # Calcular o Passivo Circulante Operacional\n",
        "    passivo_circulante_operacional = value_liabilities_in_millions - value_debt_in_millions\n",
        "\n",
        "    # Formatando o valor de volta para uma string com a notação de dólares\n",
        "    value_formatted = (\n",
        "        '${:,.2f}'.format(passivo_circulante_operacional)\n",
        "        if passivo_circulante_operacional != 0\n",
        "        else '$ 0.00'\n",
        "    )\n",
        "\n",
        "    # Imprimindo o valor formatado\n",
        "    print('Passivo Circulante Operacional:', value_formatted)\n",
        "\n",
        "except Exception as e:\n",
        "    print(\"Erro ao processar os valores:\", e)\n"
      ]
    },
    {
      "cell_type": "markdown",
      "metadata": {
        "id": "nkyDKJbC1qP_"
      },
      "source": [
        "**Passivo Circulante Operacional - Ano anterior**"
      ]
    },
    {
      "cell_type": "code",
      "execution_count": null,
      "metadata": {
        "id": "vyG86ha51m_k"
      },
      "outputs": [],
      "source": [
        "try:\n",
        "    # Encontrando os valores anuais de Total Current Liabilities\n",
        "    total_current_liabilities_annual = soup.find_all('td', text=\"Total Current Liabilities\")\n",
        "    if not total_current_liabilities_annual:\n",
        "        raise ValueError(\"'Total Current Liabilities' anual não encontrado.\")\n",
        "\n",
        "    total_current_liabilities_2_annual = total_current_liabilities_annual[0].find_next('td').find_next('td').text.strip()\n",
        "\n",
        "    # Tratando condições especiais para valores inválidos de 'Total Current Liabilities'\n",
        "    if total_current_liabilities_2_annual in ('NA', '-99,999'):\n",
        "        sibling_values = total_current_liabilities_annual[0].find_next_siblings('td')\n",
        "        total_current_liabilities_2_annual = sibling_values[-4].text.strip()\n",
        "\n",
        "    # Encontrando os valores anuais de Current Portion Long-Term Debt\n",
        "    current_portion_longterm_debt_annual = soup.find_all('td', text=\"Current Portion Long-Term Debt\")\n",
        "    if not current_portion_longterm_debt_annual:\n",
        "        raise ValueError(\"'Current Portion Long-Term Debt' anual não encontrado.\")\n",
        "\n",
        "    current_portion_longterm_debt_2_annual = current_portion_longterm_debt_annual[0].find_next('td').find_next('td').text.strip()\n",
        "\n",
        "    # Tratando condições especiais para valores inválidos de 'Current Portion Long-Term Debt'\n",
        "    if current_portion_longterm_debt_2_annual in ('NA', '-99,999'):\n",
        "        sibling_values_debt = current_portion_longterm_debt_annual[0].find_next_siblings('td')\n",
        "        current_portion_longterm_debt_2_annual = sibling_values_debt[-4].text.strip()\n",
        "\n",
        "    # Removendo as vírgulas e convertendo os valores para float\n",
        "    value_liabilities_in_millions_annual = float(total_current_liabilities_2_annual.replace(',', '')) * 1_000_000\n",
        "    value_debt_in_millions_annual = float(current_portion_longterm_debt_2_annual.replace(',', '')) * 1_000_000\n",
        "\n",
        "    # Calcular o Passivo Circulante Operacional\n",
        "    passivo_circulante_operacional_annual = value_liabilities_in_millions_annual - value_debt_in_millions_annual\n",
        "\n",
        "    # Formatando o valor de volta para uma string com a notação de dólares\n",
        "    value_formatted_annual = (\n",
        "        '${:,.2f}'.format(passivo_circulante_operacional_annual)\n",
        "        if passivo_circulante_operacional_annual != 0\n",
        "        else '$ 0.00'\n",
        "    )\n",
        "\n",
        "    # Imprimindo os valores\n",
        "    print('Passivo Circulante Operacional (Ano anterior):', value_formatted_annual)\n",
        "\n",
        "except Exception as e:\n",
        "    print(\"Erro ao processar os valores:\", e)\n"
      ]
    },
    {
      "cell_type": "markdown",
      "metadata": {
        "id": "q6QBV9OWWttM"
      },
      "source": [
        "#**Cash Flow Statements**\n",
        "\n",
        "\n"
      ]
    },
    {
      "cell_type": "code",
      "execution_count": null,
      "metadata": {
        "id": "w5v0nnY4WsQf"
      },
      "outputs": [],
      "source": [
        "import requests\n",
        "from bs4 import BeautifulSoup\n",
        "\n",
        "url = 'https://www.zacks.com/stock/quote/'+ symbol +'/cash-flow-statements'\n",
        "user_agent = {'User-agent': 'Mozilla/5.0'}\n",
        "\n",
        "# Obtendo a página\n",
        "page = requests.get(url, headers = user_agent)\n",
        "\n",
        "# Criando o objeto BeautifulSoup\n",
        "soup = BeautifulSoup(page.content, 'html.parser')\n",
        "\n",
        "# Extraindo os valores da tabela\n",
        "table_rows = soup.find_all('tr')\n",
        "for tr in table_rows:\n",
        "    td = tr.find_all('td')\n",
        "    row = [i.text for i in td]\n",
        "    print(row)"
      ]
    },
    {
      "cell_type": "markdown",
      "metadata": {
        "id": "ptLgJTnxXGgS"
      },
      "source": [
        "**Despesa Financeira**"
      ]
    },
    {
      "cell_type": "code",
      "execution_count": null,
      "metadata": {
        "id": "e_twOfu8W_m_"
      },
      "outputs": [],
      "source": [
        "try:\n",
        "    # Encontrando o valor de Issuance (Repayment) of Debt\n",
        "    issuance_repayment_of_debt = soup.find('td', text=\"Issuance (Repayment) of Debt\")\n",
        "    if not issuance_repayment_of_debt:\n",
        "        raise ValueError(\"'Issuance (Repayment) of Debt' não encontrado.\")\n",
        "\n",
        "    value = issuance_repayment_of_debt.find_next('td').text.strip()\n",
        "\n",
        "    # Tratando condições especiais para valores inválidos de 'Issuance (Repayment) of Debt'\n",
        "    if value in ('NA', '-99,999'):\n",
        "        sibling_values = issuance_repayment_of_debt.find_next_siblings('td')\n",
        "        value = sibling_values[-4].text.strip()\n",
        "\n",
        "    # Removendo as vírgulas e convertendo o valor para float\n",
        "    value_in_millions = float(value.replace(',', '')) * 1_000_000\n",
        "\n",
        "    # Formatando o valor de volta para uma string com a notação de dólares\n",
        "    value_formatted = (\n",
        "        '${:,.2f}'.format(value_in_millions)\n",
        "        if value_in_millions != 0\n",
        "        else '$ 0.00'\n",
        "    )\n",
        "\n",
        "    # Imprimindo o valor formatado\n",
        "    print('Despesa Financeira (Issuance/Repayment of Debt):', value_formatted)\n",
        "\n",
        "except Exception as e:\n",
        "    print(\"Erro ao processar os valores:\", e)\n"
      ]
    },
    {
      "cell_type": "markdown",
      "metadata": {
        "id": "n_bWQQ1mXQtr"
      },
      "source": [
        "**Depreciação e Amortização**"
      ]
    },
    {
      "cell_type": "code",
      "execution_count": null,
      "metadata": {
        "id": "Vn8Bjzw9XHZu"
      },
      "outputs": [],
      "source": [
        "try:\n",
        "    # Encontrando o valor de Depreciação/Amortização & Exaustão\n",
        "    Depreciation_Amortization_Depletion = soup.find('td', text=\"Depreciation/Amortization & Depletion\")\n",
        "    if not Depreciation_Amortization_Depletion:\n",
        "        raise ValueError(\"'Depreciation/Amortization & Depletion' não encontrado.\")\n",
        "\n",
        "    value = Depreciation_Amortization_Depletion.find_next('td').text.strip()\n",
        "\n",
        "    # Tratando condições especiais para valores inválidos de 'Depreciation/Amortization & Depletion'\n",
        "    if value in ('NA', '-99,999'):\n",
        "        sibling_values = Depreciation_Amortization_Depletion.find_next_siblings('td')\n",
        "        value = sibling_values[-4].text.strip()\n",
        "\n",
        "    # Removendo as vírgulas e convertendo o valor para float\n",
        "    value_in_millions_7 = float(value.replace(',', '')) * 1_000_000\n",
        "\n",
        "    # Formatando o valor de volta para uma string com a notação de dólares\n",
        "    value_formatted = (\n",
        "        '${:,.2f}'.format(value_in_millions_7)\n",
        "        if value_in_millions_7 != 0\n",
        "        else '$ 0.00'\n",
        "    )\n",
        "\n",
        "    # Imprimindo o valor formatado\n",
        "    print('Depreciação e Amortização:', value_formatted)\n",
        "\n",
        "except Exception as e:\n",
        "    print(\"Erro ao processar os valores:\", e)\n"
      ]
    },
    {
      "cell_type": "markdown",
      "metadata": {
        "id": "3QN0UdnFXWSN"
      },
      "source": [
        "**CAPEX**"
      ]
    },
    {
      "cell_type": "code",
      "execution_count": null,
      "metadata": {
        "id": "F3kNRoVKXUkm"
      },
      "outputs": [],
      "source": [
        "# Encontrando o valor de Property & Equipment (CAPEX)\n",
        "Property_Equipment = soup.find('td', text=\"Property & Equipment\")\n",
        "value = Property_Equipment.find_next('td').text.strip()\n",
        "\n",
        "# Verificando se o valor é 'NA'\n",
        "if value == 'NA':\n",
        "    # Pegar o próximo valor imediatamente após o 'NA'\n",
        "    next_value = Property_Equipment.find_next('td').find_next('td').text.strip()\n",
        "    value = next_value  # Atribuindo o novo valor\n",
        "\n",
        "# Removendo as vírgulas e o símbolo negativo, caso exista\n",
        "if value[0] == '-':\n",
        "    capex = float(value[1:].replace(',', '')) * 1000000\n",
        "else:\n",
        "    capex = float(value.replace(',', '')) * 1000000\n",
        "\n",
        "# Formatando o valor de volta para uma string com a notação de dólares\n",
        "if capex == 0:\n",
        "    value_formatted = '$ 0.00'\n",
        "else:\n",
        "    value_formatted = '${:,.2f}'.format(capex)\n",
        "\n",
        "# Imprimindo o valor formatado\n",
        "print('CAPEX:', value_formatted)\n",
        "\n",
        "\n"
      ]
    },
    {
      "cell_type": "markdown",
      "metadata": {
        "id": "HCseyNejXfBK"
      },
      "source": [
        "**Aquisição / Alienação de Subsidiárias**"
      ]
    },
    {
      "cell_type": "code",
      "execution_count": null,
      "metadata": {
        "id": "J29itABGXaQu"
      },
      "outputs": [],
      "source": [
        "# Encontrando o valor de Acquisition/Disposition of Subsidiaries\n",
        "Acquisition = soup.find('td', text=\"Acquisition/ Disposition of Subsidiaries\")\n",
        "value = Acquisition.find_next('td').text.strip()\n",
        "\n",
        "# Verificando se o valor é 'NA'\n",
        "if value == 'NA':\n",
        "    # Pegar o próximo valor imediatamente após o 'NA'\n",
        "    next_value = Acquisition.find_next('td').find_next('td').text.strip()\n",
        "    value = next_value  # Atribuindo o novo valor\n",
        "\n",
        "# Removendo as vírgulas e o símbolo negativo, caso exista\n",
        "if value == 'NA':\n",
        "    value_in_millions_9 = 0\n",
        "elif value[0] == '-':\n",
        "    value_in_millions_9 = float(value[1:].replace(',', '')) * 1000000\n",
        "else:\n",
        "    value_in_millions_9 = float(value.replace(',', '')) * 1000000\n",
        "\n",
        "# Formatando o valor de volta para uma string com a notação de dólares\n",
        "if value_in_millions_9 == 0:\n",
        "    value_formatted = '$ 0.00'\n",
        "else:\n",
        "    value_formatted = '${:,.2f}'.format(value_in_millions_9)\n",
        "\n",
        "# Imprimindo o valor formatado\n",
        "print('Aquisição / Alienação de Subsidiárias:', value_formatted)\n"
      ]
    },
    {
      "cell_type": "markdown",
      "metadata": {
        "id": "tuD3ZDzlXk3b"
      },
      "source": [
        "**Investimentos**"
      ]
    },
    {
      "cell_type": "code",
      "execution_count": null,
      "metadata": {
        "id": "pb9IlxEJXiU2"
      },
      "outputs": [],
      "source": [
        "# Encontrando o valor de Investimentos\n",
        "Investments = soup.find('td', text=\"Investments\")\n",
        "value = Investments.find_next('td').text.strip()\n",
        "\n",
        "# Verificando se o valor é 'NA'\n",
        "if value == 'NA':\n",
        "    # Pegar o próximo valor imediatamente após o 'NA'\n",
        "    next_value = Investments.find_next('td').find_next('td').text.strip()\n",
        "    value = next_value  # Atribuindo o novo valor\n",
        "\n",
        "# Removendo as vírgulas e o símbolo negativo, caso exista\n",
        "if value == 'NA':\n",
        "    value_in_millions_10 = 0\n",
        "elif value[0] == '-':\n",
        "    value_in_millions_10 = float(value[1:].replace(',', '')) * 1000000\n",
        "else:\n",
        "    value_in_millions_10 = float(value.replace(',', '')) * 1000000\n",
        "\n",
        "# Formatando o valor de volta para uma string com a notação de dólares\n",
        "if value_in_millions_10 == 0:\n",
        "    value_formatted = '$ 0.00'\n",
        "else:\n",
        "    value_formatted = '${:,.2f}'.format(value_in_millions_10)\n",
        "\n",
        "# Imprimindo o valor formatado\n",
        "print('Investimentos:', value_formatted)\n"
      ]
    },
    {
      "cell_type": "markdown",
      "metadata": {
        "id": "lI9hJnCKXtZy"
      },
      "source": [
        "**Outras atividades de investimento**"
      ]
    },
    {
      "cell_type": "code",
      "execution_count": null,
      "metadata": {
        "id": "DSftPZP6Xqa3"
      },
      "outputs": [],
      "source": [
        "# Encontrando o valor de Outras atividades de investimento\n",
        "Other_Investing_Activities = soup.find('td', text=\"Other Investing Activities\")\n",
        "value = Other_Investing_Activities.find_next('td').text.strip()\n",
        "\n",
        "# Verificando se o valor é 'NA'\n",
        "if value == 'NA':\n",
        "    # Pegar o próximo valor imediatamente após o 'NA'\n",
        "    next_value = Other_Investing_Activities.find_next('td').find_next('td').text.strip()\n",
        "    value = next_value  # Atribuindo o novo valor\n",
        "\n",
        "# Removendo as vírgulas e o símbolo negativo, caso exista\n",
        "if value == 'NA':\n",
        "    Other_Investing_Activities = 0\n",
        "elif value[0] == '-':\n",
        "    Other_Investing_Activities = float(value[1:].replace(',', '')) * 1000000\n",
        "else:\n",
        "    Other_Investing_Activities = float(value.replace(',', '')) * 1000000\n",
        "\n",
        "# Formatando o valor de volta para uma string com a notação de dólares\n",
        "if Other_Investing_Activities == 0:\n",
        "    Other_Investing_Activities_formatted = '$ 0.00'\n",
        "else:\n",
        "    Other_Investing_Activities_formatted = '${:,.2f}'.format(Other_Investing_Activities)\n",
        "\n",
        "# Imprimindo o valor formatado\n",
        "print('Outras atividades de investimento:', Other_Investing_Activities_formatted)\n"
      ]
    },
    {
      "cell_type": "markdown",
      "metadata": {
        "id": "DlKAczNMXzSb"
      },
      "source": [
        "**Fluxo de Caixa das atividades de investimentos**"
      ]
    },
    {
      "cell_type": "code",
      "execution_count": null,
      "metadata": {
        "id": "c4QtCfyoXyX9"
      },
      "outputs": [],
      "source": [
        "# Calculando FC das atividades de investimentos\n",
        "FCAI = capex + value_in_millions_9 + value_in_millions_10 + Other_Investing_Activities\n",
        "\n",
        "# Formatando o valor de volta para uma string com a notação de dólares\n",
        "if FCAI == 0:\n",
        "  FCAI_formatted = '$ 0.00'\n",
        "else:\n",
        "  FCAI_formatted = '${:,.2f}'.format(FCAI)\n",
        "\n",
        "# Imprimindo o valor formatado\n",
        "print('FCAI:', FCAI_formatted)"
      ]
    },
    {
      "cell_type": "markdown",
      "metadata": {
        "id": "JfWZuysXX75J"
      },
      "source": [
        "# **DRE**"
      ]
    },
    {
      "cell_type": "code",
      "execution_count": null,
      "metadata": {
        "id": "NuHiOqrGX3XN"
      },
      "outputs": [],
      "source": [
        "import requests\n",
        "from bs4 import BeautifulSoup\n",
        "\n",
        "url = 'https://www.zacks.com/stock/quote/'+ symbol +'/income-statement'\n",
        "user_agent = {'User-agent': 'Mozilla/5.0'}\n",
        "\n",
        "# Obtendo a página\n",
        "page = requests.get(url, headers = user_agent)\n",
        "\n",
        "# Criando o objeto BeautifulSoup\n",
        "soup = BeautifulSoup(page.content, 'html.parser')\n",
        "\n",
        "# Extraindo os valores da tabela\n",
        "table_rows = soup.find_all('tr')\n",
        "for tr in table_rows:\n",
        "    td = tr.find_all('td')\n",
        "    row = [i.text for i in td]\n",
        "    print(row)"
      ]
    },
    {
      "cell_type": "markdown",
      "metadata": {
        "id": "VMfrRCFEYXfR"
      },
      "source": [
        "**Receita**"
      ]
    },
    {
      "cell_type": "code",
      "execution_count": null,
      "metadata": {
        "id": "gKIBzMCTYBgm"
      },
      "outputs": [],
      "source": [
        "# Encontrando o valor de Sales\n",
        "Sales = soup.find('td', text=\"Sales\")\n",
        "value = Sales.find_next('td').text.strip()\n",
        "\n",
        "# Verificando se o valor é 'NA'\n",
        "if value == 'NA':\n",
        "    # Pegar o próximo valor imediatamente após o 'NA'\n",
        "    next_value = Sales.find_next('td').find_next('td').text.strip()\n",
        "    value = next_value  # Atribuindo o novo valor\n",
        "\n",
        "# Removendo as vírgulas e convertendo o valor para float\n",
        "value_in_millions = float(value.replace(',', '')) * 1000000\n",
        "\n",
        "# Formatando o valor de volta para uma string com a notação de dólares\n",
        "if value_in_millions == 0:\n",
        "    value_formatted = '$ 0.00'\n",
        "else:\n",
        "    value_formatted = '${:,.2f}'.format(value_in_millions)\n",
        "\n",
        "# Imprimindo o valor formatado\n",
        "print('Receita:', value_formatted)\n"
      ]
    },
    {
      "cell_type": "markdown",
      "metadata": {
        "id": "WJV7IZM6Yc8R"
      },
      "source": [
        "**Custos**"
      ]
    },
    {
      "cell_type": "code",
      "execution_count": null,
      "metadata": {
        "id": "52Okw8gGYaVE"
      },
      "outputs": [],
      "source": [
        "# Encontrando o valor de Cost of Goods\n",
        "Cost_of_Goods = soup.find('td', text=\"Cost Of Goods\")\n",
        "value = Cost_of_Goods.find_next('td').text.strip()\n",
        "\n",
        "# Verificando se o valor é 'NA'\n",
        "if value == 'NA':\n",
        "    # Pegar o próximo valor imediatamente após o 'NA'\n",
        "    next_value = Cost_of_Goods.find_next('td').find_next('td').text.strip()\n",
        "    value = next_value  # Atribuindo o novo valor\n",
        "\n",
        "# Removendo as vírgulas e convertendo o valor para float\n",
        "value_in_millions_1 = float(value.replace(',', '')) * 1000000\n",
        "\n",
        "# Formatando o valor de volta para uma string com a notação de dólares\n",
        "if value_in_millions_1 == 0:\n",
        "    value_formatted = '$ 0.00'\n",
        "else:\n",
        "    value_formatted = '${:,.2f}'.format(value_in_millions_1)\n",
        "\n",
        "# Imprimindo o valor formatado\n",
        "print('Custos:', value_formatted)\n"
      ]
    },
    {
      "cell_type": "markdown",
      "metadata": {
        "id": "cO6AI7IjYyVS"
      },
      "source": [
        "**Resultado Bruto**"
      ]
    },
    {
      "cell_type": "code",
      "execution_count": null,
      "metadata": {
        "id": "duEswoFNYme8"
      },
      "outputs": [],
      "source": [
        "# Encontrando o valor de Resultado Bruto\n",
        "Resultado_Bruto = value_in_millions - value_in_millions_1\n",
        "Resultado_Bruto\n",
        "\n",
        "if Resultado_Bruto == 0:\n",
        "  Resultado_Bruto_formatted = '$ 0.00'\n",
        "else:\n",
        "  Resultado_Bruto_formatted = '${:,.2f}'.format(Resultado_Bruto)\n",
        "\n",
        "# Imprimindo o valor formatado\n",
        "print('Resultado Bruto:', Resultado_Bruto_formatted)"
      ]
    },
    {
      "cell_type": "markdown",
      "metadata": {
        "id": "3K9xllUIY8gb"
      },
      "source": [
        "**EBIT**"
      ]
    },
    {
      "cell_type": "code",
      "execution_count": null,
      "metadata": {
        "id": "0BQgHs9QY4Fu"
      },
      "outputs": [],
      "source": [
        "# Encontrando o valor de Pretax Income\n",
        "Pretax_Income = soup.find('td', text=\"Pretax Income\")\n",
        "value = Pretax_Income.find_next('td').text.strip()\n",
        "\n",
        "# Verificando se o valor é 'NA'\n",
        "if value == 'NA':\n",
        "    # Pegar o próximo valor imediatamente após o 'NA'\n",
        "    next_value = Pretax_Income.find_next('td').find_next('td').text.strip()\n",
        "    value = next_value  # Atribuindo o novo valor\n",
        "\n",
        "# Removendo as vírgulas e convertendo o valor para float\n",
        "ebit = float(value.replace(',', '')) * 1000000\n",
        "\n",
        "# Formatando o valor de volta para uma string com a notação de dólares\n",
        "if ebit == 0:\n",
        "    value_formatted = '$ 0.00'\n",
        "else:\n",
        "    value_formatted = '${:,.2f}'.format(ebit)\n",
        "\n",
        "# Imprimindo o valor formatado\n",
        "print('EBIT:', value_formatted)\n"
      ]
    },
    {
      "cell_type": "markdown",
      "metadata": {
        "id": "Ggb09-adZCBb"
      },
      "source": [
        "**EBITDA**"
      ]
    },
    {
      "cell_type": "code",
      "execution_count": null,
      "metadata": {
        "id": "5vk6w_yPY_QO"
      },
      "outputs": [],
      "source": [
        "# Encontrando o valor de EBITDA\n",
        "EBITDA = ebit + value_in_millions_7\n",
        "EBITDA\n",
        "\n",
        "if EBITDA == 0:\n",
        "  EBITDA_formatted = '$ 0.00'\n",
        "else:\n",
        "  EBITDA_formatted = '${:,.2f}'.format(EBITDA)\n",
        "\n",
        "# Imprimindo o valor formatado\n",
        "print('EBITDA:', EBITDA_formatted)"
      ]
    },
    {
      "cell_type": "markdown",
      "metadata": {
        "id": "NXRwCCTLZIs3"
      },
      "source": [
        "**IR**"
      ]
    },
    {
      "cell_type": "code",
      "execution_count": null,
      "metadata": {
        "id": "BR3sFsi0ZE_z"
      },
      "outputs": [],
      "source": [
        "# Encontrando o valor de Income Taxes\n",
        "Income_Taxes = soup.find('td', text=\"Income Taxes\")\n",
        "value = Income_Taxes.find_next('td').text.strip()\n",
        "\n",
        "# Verificando se o valor é 'NA'\n",
        "if value == 'NA':\n",
        "    # Pegar o próximo valor imediatamente após o 'NA'\n",
        "    next_value = Income_Taxes.find_next('td').find_next('td').text.strip()\n",
        "    value = next_value  # Atribuindo o novo valor\n",
        "\n",
        "# Removendo as vírgulas e convertendo o valor para float\n",
        "value_in_millions_3 = float(value.replace(',', '')) * 1000000\n",
        "\n",
        "# Formatando o valor de volta para uma string com a notação de dólares\n",
        "if value_in_millions_3 == 0:\n",
        "    value_formatted = '$ 0.00'\n",
        "else:\n",
        "    value_formatted = '${:,.2f}'.format(value_in_millions_3)\n",
        "\n",
        "# Imprimindo o valor formatado\n",
        "print('IR:', value_formatted)\n"
      ]
    },
    {
      "cell_type": "markdown",
      "metadata": {
        "id": "w6lK383FZWJI"
      },
      "source": [
        "# **NOPAT Restrito**"
      ]
    },
    {
      "cell_type": "code",
      "execution_count": null,
      "metadata": {
        "id": "PvfZW6usZL-L"
      },
      "outputs": [],
      "source": [
        "# Encontrando o valor de NOPAT Restrito\n",
        "NOPAT_Restrito = ebit - value_in_millions_3\n",
        "NOPAT_Restrito\n",
        "\n",
        "if NOPAT_Restrito == 0:\n",
        "  NOPAT_Restrito_formatted = '$ 0.00'\n",
        "else:\n",
        "  NOPAT_Restrito_formatted = '${:,.2f}'.format(NOPAT_Restrito)\n",
        "\n",
        "# Imprimindo o valor formatado\n",
        "print('NOPAT Restrito:', NOPAT_Restrito_formatted)"
      ]
    },
    {
      "cell_type": "markdown",
      "metadata": {
        "id": "Qt5ZNkiUZiiv"
      },
      "source": [
        "**Depesa Financeira**"
      ]
    },
    {
      "cell_type": "code",
      "execution_count": null,
      "metadata": {
        "id": "bNa_fAHjZlmH"
      },
      "outputs": [],
      "source": [
        "# Encontrando o valor de Investment Gains/Losses\n",
        "Investment_Gains_Losses = soup.find('td', text=\"Investment Gains/Losses\")\n",
        "value = Investment_Gains_Losses.find_next('td').text.strip()\n",
        "\n",
        "# Verificando se o valor é 'NA'\n",
        "if value == 'NA':\n",
        "    # Pegar o próximo valor imediatamente após o 'NA'\n",
        "    next_value = Investment_Gains_Losses.find_next('td').find_next('td').text.strip()\n",
        "    value = next_value  # Atribuindo o novo valor\n",
        "\n",
        "# Removendo as vírgulas e convertendo o valor para float\n",
        "value_in_millions_4 = float(value.replace(',', '')) * 1000000\n",
        "\n",
        "# Formatando o valor de volta para uma string com a notação de dólares\n",
        "if value_in_millions_4 == 0:\n",
        "    value_formatted = '$ 0.00'\n",
        "else:\n",
        "    value_formatted = '${:,.2f}'.format(value_in_millions_4)\n",
        "\n",
        "# Imprimindo o valor formatado\n",
        "print('Despesa Financeira:', value_formatted)\n"
      ]
    },
    {
      "cell_type": "markdown",
      "metadata": {
        "id": "0QOo7ViOZaeQ"
      },
      "source": [
        "**Lucro Líquido**\n"
      ]
    },
    {
      "cell_type": "code",
      "execution_count": null,
      "metadata": {
        "id": "ufKgP_GJZwxR"
      },
      "outputs": [],
      "source": [
        "# Encontrando o valor de Net Income (GAAP)\n",
        "Net_Income_GAAP = soup.find('td', text=\"Net Income (GAAP)\")\n",
        "value = Net_Income_GAAP.find_next('td').text.strip()\n",
        "\n",
        "# Verificando se o valor é 'NA'\n",
        "if value == 'NA':\n",
        "    # Pegar o próximo valor imediatamente após o 'NA'\n",
        "    next_value = Net_Income_GAAP.find_next('td').find_next('td').text.strip()\n",
        "    value = next_value  # Atribuindo o novo valor\n",
        "\n",
        "# Removendo as vírgulas e convertendo o valor para float\n",
        "value_in_millions_5 = float(value.replace(',', '')) * 1000000\n",
        "\n",
        "# Formatando o valor de volta para uma string com a notação de dólares\n",
        "if value_in_millions_5 == 0:\n",
        "    value_formatted = '$ 0.00'\n",
        "else:\n",
        "    value_formatted = '${:,.2f}'.format(value_in_millions_5)\n",
        "\n",
        "# Imprimindo o valor formatado\n",
        "print('Lucro Líquido:', value_formatted)\n"
      ]
    },
    {
      "cell_type": "markdown",
      "metadata": {
        "id": "Xmv84-dYaEbX"
      },
      "source": [
        "# **FCL**"
      ]
    },
    {
      "cell_type": "markdown",
      "metadata": {
        "id": "PHU_wRUSaAIf"
      },
      "source": [
        "**NOPAT Restrito**"
      ]
    },
    {
      "cell_type": "code",
      "execution_count": null,
      "metadata": {
        "id": "7i-A_fnraBUx"
      },
      "outputs": [],
      "source": [
        "# Encontrando o valor de NOPAT Restrito\n",
        "NOPAT_Restrito = ebit - value_in_millions_3\n",
        "NOPAT_Restrito\n",
        "\n",
        "if NOPAT_Restrito == 0:\n",
        "  NOPAT_Restrito_formatted = '$ 0.00'\n",
        "else:\n",
        "  NOPAT_Restrito_formatted = '${:,.2f}'.format(NOPAT_Restrito)\n",
        "\n",
        "# Imprimindo o valor formatado\n",
        "print('NOPAT Restrito:', NOPAT_Restrito_formatted)"
      ]
    },
    {
      "cell_type": "markdown",
      "metadata": {
        "id": "GEIpBkwqaK2m"
      },
      "source": [
        "**Depreciação e Amortização**"
      ]
    },
    {
      "cell_type": "code",
      "execution_count": null,
      "metadata": {
        "id": "HYNizc0JZzd5"
      },
      "outputs": [],
      "source": [
        "import requests\n",
        "from bs4 import BeautifulSoup\n",
        "\n",
        "symbol = 'AAPL'  # Defina o símbolo da ação ou o valor desejado\n",
        "\n",
        "url = 'https://www.zacks.com/stock/quote/' + symbol + '/cash-flow-statements'\n",
        "user_agent = {'User-agent': 'Mozilla/5.0'}\n",
        "\n",
        "# Obtendo a página\n",
        "page = requests.get(url, headers=user_agent)\n",
        "\n",
        "# Criando o objeto BeautifulSoup\n",
        "soup = BeautifulSoup(page.content, 'html.parser')\n",
        "\n",
        "# Extraindo os valores da tabela\n",
        "table_rows = soup.find_all('tr')\n",
        "for tr in table_rows:\n",
        "    td = tr.find_all('td')\n",
        "    row = [i.text for i in td]\n",
        "\n",
        "# Encontrando o valor de Depreciação e Amortização\n",
        "Depreciation_Amortization_Depletion = soup.find('td', text=\"Depreciation/Amortization & Depletion\")\n",
        "value = Depreciation_Amortization_Depletion.find_next('td').text.strip()\n",
        "\n",
        "# Verificando se o valor é 'NA'\n",
        "if value == 'NA':\n",
        "    # Pegar o próximo valor válido imediatamente após o 'NA'\n",
        "    next_value = Depreciation_Amortization_Depletion.find_next('td').find_next('td').text.strip()\n",
        "    value = next_value  # Atribuindo o novo valor\n",
        "\n",
        "# Removendo as vírgulas e convertendo o valor para float\n",
        "value_in_millions_7 = float(value.replace(',', '')) * 1000000\n",
        "\n",
        "# Formatando o valor de volta para uma string com a notação de dólares\n",
        "if value_in_millions_7 == 0:\n",
        "    value_formatted = '$ 0.00'\n",
        "else:\n",
        "    value_formatted = '${:,.2f}'.format(value_in_millions_7)\n",
        "\n",
        "# Imprimindo o valor formatado\n",
        "print('Depreciação e Amortização:', value_formatted)\n"
      ]
    },
    {
      "cell_type": "markdown",
      "metadata": {
        "id": "IrPeiR_taVX9"
      },
      "source": [
        "**FCO**"
      ]
    },
    {
      "cell_type": "code",
      "execution_count": null,
      "metadata": {
        "id": "3TAs_WVqaDg5"
      },
      "outputs": [],
      "source": [
        "# Calculando FCO\n",
        "FCO = NOPAT_Restrito + value_in_millions_7\n",
        "\n",
        "# Formatando o valor de volta para uma string com a notação de dólares\n",
        "if FCO == 0:\n",
        "  FCO_formatted = '$ 0.00'\n",
        "else:\n",
        "  FCO_formatted = '${:,.2f}'.format(FCO)\n",
        "\n",
        "# Imprimindo o valor formatado\n",
        "print('FCO:', FCO_formatted)"
      ]
    },
    {
      "cell_type": "markdown",
      "metadata": {
        "id": "N_4yxVXbaZde"
      },
      "source": [
        "**Δ NC Giro**"
      ]
    },
    {
      "cell_type": "code",
      "execution_count": null,
      "metadata": {
        "id": "YpiiFj46aYQp"
      },
      "outputs": [],
      "source": [
        "# Calculando NC Giro\n",
        "NC_Giro_atual = ativo_circulante_operacional - passivo_circulante_operacional\n",
        "NC_Giro_ano_anterior = ativo_circulante_operacional_annual - passivo_circulante_operacional_annual\n",
        "\n",
        "Var_NC_Giro = NC_Giro_atual - NC_Giro_ano_anterior\n",
        "\n",
        "NC_Giro_atual_formatted = '${:,.2f}'.format(NC_Giro_atual)\n",
        "NC_Giro_ano_anterior_formatted = '${:,.2f}'.format(NC_Giro_ano_anterior)\n",
        "\n",
        "# Formatando o valor de volta para uma string com a notação de dólares\n",
        "if Var_NC_Giro == 0:\n",
        "  Var_NC_Giro_formatted = '$ 0.00'\n",
        "else:\n",
        "  Var_NC_Giro_formatted = '${:,.2f}'.format(Var_NC_Giro)\n",
        "\n",
        "# Imprimindo o valor formatado\n",
        "print('NC Giro Atual:', NC_Giro_atual_formatted)\n",
        "print('NC Giro Ano Anterior:', NC_Giro_ano_anterior_formatted)\n",
        "print('Δ NC Giro:', Var_NC_Giro_formatted)"
      ]
    },
    {
      "cell_type": "markdown",
      "metadata": {
        "id": "2l3xzHc8ae3e"
      },
      "source": [
        "**CAPEX**"
      ]
    },
    {
      "cell_type": "code",
      "execution_count": null,
      "metadata": {
        "id": "Flk687Ijadog"
      },
      "outputs": [],
      "source": [
        "CAPEX_formatted = '${:,.2f}'.format(capex)\n",
        "print('CAPEX:', CAPEX_formatted)"
      ]
    },
    {
      "cell_type": "markdown",
      "metadata": {
        "id": "gHnMwA6eakDG"
      },
      "source": [
        "**FCFF**"
      ]
    },
    {
      "cell_type": "code",
      "execution_count": null,
      "metadata": {
        "id": "SFsUWTIRai_Q"
      },
      "outputs": [],
      "source": [
        "# Calculando FCFF\n",
        "if Var_NC_Giro > 0:\n",
        "  FCFF = FCO - Var_NC_Giro - capex\n",
        "elif Var_NC_Giro < 0:\n",
        "  FCFF = FCO + Var_NC_Giro - capex\n",
        "\n",
        "# Formatando o valor de volta para uma string com a notação de dólares\n",
        "if FCFF == 0:\n",
        "  FCFF_formatted = '$ 0.00'\n",
        "else:\n",
        "  FCFF_formatted = '${:,.2f}'.format(FCFF)\n",
        "\n",
        "# Imprimindo o valor formatado\n",
        "print('FCFF:', FCFF_formatted)"
      ]
    },
    {
      "cell_type": "markdown",
      "metadata": {
        "id": "YSTkFVKDaqYH"
      },
      "source": [
        "**Novas Dívidas**"
      ]
    },
    {
      "cell_type": "code",
      "execution_count": null,
      "metadata": {
        "id": "dEEXeYHNannQ"
      },
      "outputs": [],
      "source": [
        "# Calculando Novas Dívidas\n",
        "Novas_dividas = value_in_millions_9 + value_in_millions_10\n",
        "\n",
        "# Formatando o valor de volta para uma string com a notação de dólares\n",
        "if Novas_dividas == 0:\n",
        "  Novas_dividas_formatted = '$ 0.00'\n",
        "else:\n",
        "  Novas_dividas_formatted = '${:,.2f}'.format(Novas_dividas)\n",
        "\n",
        "# Imprimindo o valor formatado\n",
        "print('Novas Dívidas:', Novas_dividas_formatted)"
      ]
    },
    {
      "cell_type": "markdown",
      "metadata": {
        "id": "H77Rf7X4auNN"
      },
      "source": [
        "**IR**"
      ]
    },
    {
      "cell_type": "code",
      "execution_count": null,
      "metadata": {
        "id": "-IO-S8gLatUQ"
      },
      "outputs": [],
      "source": [
        "# Imprimindo o valor formatado\n",
        "IR_formatted = '${:,.2f}'.format(value_in_millions_3)\n",
        "print('IR:', IR_formatted)"
      ]
    },
    {
      "cell_type": "markdown",
      "metadata": {
        "id": "owrhneo1ayv3"
      },
      "source": [
        "**FCDA**"
      ]
    },
    {
      "cell_type": "code",
      "execution_count": null,
      "metadata": {
        "id": "ik2kjuKhaxx4"
      },
      "outputs": [],
      "source": [
        "# Calculando FCDA\n",
        "FCDA = FCFF + Novas_dividas + value_in_millions_3\n",
        "\n",
        "# Formatando o valor de volta para uma string com a notação de dólares\n",
        "if FCDA == 0:\n",
        "  FCDA_formatted = '$ 0.00'\n",
        "else:\n",
        "  FCDA_formatted = '${:,.2f}'.format(FCDA)\n",
        "\n",
        "# Imprimindo o valor formatado\n",
        "print('FCDA:', FCDA_formatted)"
      ]
    },
    {
      "cell_type": "markdown",
      "metadata": {
        "id": "DK-3VqX6gaod"
      },
      "source": [
        "# **CAPM - Custo do Capital Próprio**"
      ]
    },
    {
      "cell_type": "markdown",
      "metadata": {
        "id": "rPKfufNUgeCU"
      },
      "source": [
        "**Custo de Capital Próprio**"
      ]
    },
    {
      "cell_type": "code",
      "execution_count": null,
      "metadata": {
        "id": "AKwQaRHpa3lw"
      },
      "outputs": [],
      "source": [
        "# Convertendo beta_str para float\n",
        "beta_float = float(beta_str)\n",
        "\n",
        "# Convertendo mean_yearly_return para float\n",
        "mean_yearly_return_float = float(mean_yearly_return)\n",
        "\n",
        "# Calculando Ke\n",
        "Ke = interest_rate + (beta_float * (mean_yearly_return_float - interest_rate))\n",
        "Ke_formatted = '{:,.2f}%'.format(Ke)\n",
        "print('Ke:', Ke_formatted)"
      ]
    },
    {
      "cell_type": "markdown",
      "metadata": {
        "id": "JJgJzfioinSS"
      },
      "source": [
        "**Ki (Kd) - Custo da Dívida**"
      ]
    },
    {
      "cell_type": "code",
      "execution_count": null,
      "metadata": {
        "id": "B5sImewKghsw"
      },
      "outputs": [],
      "source": [
        "# Calculando Ki (Kd) - Custo da Dívida\n",
        "if value_in_millions_4 == 0:\n",
        "  Ki = Rf + inflation\n",
        "else:\n",
        "  Ki = (value_in_millions_4 / total_debt) + 1\n",
        "\n",
        "# Formatando o valor de volta para uma string com a notação de dólares\n",
        "if Ki == 0:\n",
        "  Ki_formatted = ' 0.00 %'\n",
        "else:\n",
        "  Ki_formatted = '{:,.2f} %'.format(Ki)\n",
        "\n",
        "# Imprimindo o valor formatado\n",
        "print('Ki (Kd) - Custo da Dívida:', Ki_formatted)"
      ]
    },
    {
      "cell_type": "markdown",
      "metadata": {
        "id": "dqwOcWCYivpZ"
      },
      "source": [
        "**Po e PL**"
      ]
    },
    {
      "cell_type": "code",
      "execution_count": null,
      "metadata": {
        "id": "kB7UUUUXirbJ"
      },
      "outputs": [],
      "source": [
        "Po = total_debt\n",
        "PL = value_in_millions_12\n",
        "Po_formatted = '${:,.2f}'.format(total_debt)\n",
        "PL_formatted = '${:,.2f}'.format(value_in_millions_12)\n",
        "print ('PL:' , PL_formatted)\n",
        "print ('Po:' , Po_formatted)"
      ]
    },
    {
      "cell_type": "markdown",
      "metadata": {
        "id": "J072SJMJi0D_"
      },
      "source": [
        "**PL / (Po+PL)**"
      ]
    },
    {
      "cell_type": "code",
      "execution_count": null,
      "metadata": {
        "id": "3ZFvS9pGiyXB"
      },
      "outputs": [],
      "source": [
        "# Calculando PL / (Po+PL)\n",
        "if value_in_millions_12 == 0:\n",
        "  PL_Po_PL = 0.0\n",
        "else:\n",
        "  PL_Po_PL = value_in_millions_12 / (value_in_millions_12 + total_debt)\n",
        "\n",
        "# Formatando o valor de volta para uma string com a notação de dólares\n",
        "if PL_Po_PL == 0:\n",
        "   PL_Po_PL_formatted = ' 0.0'\n",
        "else:\n",
        "  PL_Po_PL_formatted = '{:,.2f}'.format(PL_Po_PL)\n",
        "\n",
        "# Imprimindo o valor formatado\n",
        "print('PL / (Po+PL):', PL_Po_PL_formatted)"
      ]
    },
    {
      "cell_type": "markdown",
      "metadata": {
        "id": "gvM7LE8Vi9nh"
      },
      "source": [
        "**Po / (Po+PL)**"
      ]
    },
    {
      "cell_type": "code",
      "execution_count": null,
      "metadata": {
        "id": "B7jDhL2Mi6zZ"
      },
      "outputs": [],
      "source": [
        "# Calculando Po / (Po+PL)\n",
        "if total_debt == 0:\n",
        "  Po_Po_PL = 0.0\n",
        "else:\n",
        "  Po_Po_PL = total_debt / (value_in_millions_12 + total_debt)\n",
        "\n",
        "# Formatando o valor de volta para uma string com a notação de dólares\n",
        "if Po_Po_PL == 0:\n",
        "   Po_Po_PL_formatted = ' 0.0'\n",
        "else:\n",
        "  Po_Po_PL_formatted = '{:,.2f}'.format(Po_Po_PL)\n",
        "\n",
        "# Imprimindo o valor formatado\n",
        "print('Po / (Po+PL):', Po_Po_PL_formatted)"
      ]
    },
    {
      "cell_type": "markdown",
      "metadata": {
        "id": "Lu3fabttjBPt"
      },
      "source": [
        "**WACC**"
      ]
    },
    {
      "cell_type": "code",
      "execution_count": null,
      "metadata": {
        "id": "u9eDciTojAGB"
      },
      "outputs": [],
      "source": [
        "# Calculando WACC\n",
        "wacc = (Ke * PL_Po_PL ) + (Ki * Po_Po_PL)\n",
        "wacc_formatted = '{:,.2f}%'.format(wacc)\n",
        "print ('WACC:' , wacc_formatted)"
      ]
    },
    {
      "cell_type": "markdown",
      "metadata": {
        "id": "wytXLofNjHXX"
      },
      "source": [
        "**Custo de Oportunidade**"
      ]
    },
    {
      "cell_type": "code",
      "execution_count": null,
      "metadata": {
        "id": "v3KkFEwojEJx"
      },
      "outputs": [],
      "source": [
        "# Calculando Co = PL*Ke\n",
        "Co = value_in_millions_12*(Ke/100)\n",
        "Co_formatted = '${:,.2f}'.format(Co)\n",
        "value_in_millions_12_formated = '${:,.2f}'.format(value_in_millions_12)\n",
        "print('PL:' ,value_in_millions_12_formated)\n",
        "print ('Ke:' ,Ke_formatted)\n",
        "print ('Co:' , Co_formatted)"
      ]
    },
    {
      "cell_type": "markdown",
      "metadata": {
        "id": "qDglBb9RjNaP"
      },
      "source": [
        "**Lucro Econômico (EVA)**"
      ]
    },
    {
      "cell_type": "code",
      "execution_count": null,
      "metadata": {
        "id": "u-HzKFBZjKmh"
      },
      "outputs": [],
      "source": [
        "# Calculando LE = LL - Co\n",
        "LE = value_in_millions_5 - Co\n",
        "LE_formatted = '${:,.2f}'.format(LE)\n",
        "LL_formatted = '${:,.2f}'.format(value_in_millions_5)\n",
        "\n",
        "# Ganho em Excesso = LL - LE\n",
        "GE = value_in_millions_5 - LE\n",
        "GE_formatted = '${:,.2f}'.format(GE)\n",
        "print ('LL:' , LL_formatted)\n",
        "print ('LE:' , LE_formatted)\n",
        "print ('Ganho em Excesso:' , GE_formatted)"
      ]
    },
    {
      "cell_type": "markdown",
      "metadata": {
        "id": "xKNQTSRujSy2"
      },
      "source": [
        "**ROE > KE**"
      ]
    },
    {
      "cell_type": "code",
      "execution_count": null,
      "metadata": {
        "id": "IEEBEKbijQSH"
      },
      "outputs": [],
      "source": [
        "# Removendo o '%' da string roe_str e convertendo para float\n",
        "roe_float = float(roe_str.strip('%'))\n",
        "\n",
        "# Calculando a diferença entre ROE e Ke\n",
        "ROE_KE = roe_float - Ke\n",
        "\n",
        "# Imprimindo os resultados\n",
        "print('ROE: {:.2f}%'.format(roe_float))\n",
        "print('KE: {:.2f}%'.format(Ke))\n",
        "print('Diferença de ROE x Ke: {:.2f}%'.format(ROE_KE))\n",
        "\n",
        "# Verificando se ROE é maior, menor ou igual a KE\n",
        "if ROE_KE > 0:\n",
        "    print(\"SIM, ROE é maior que KE\")\n",
        "elif ROE_KE < 0:\n",
        "    print(\"NÃO, ROE é menor que KE\")\n",
        "else:\n",
        "    print(\"IGUAL, ROE é igual a KE\")\n"
      ]
    },
    {
      "cell_type": "markdown",
      "metadata": {
        "id": "6EPVC0v5j8MG"
      },
      "source": [
        "**ROI > WACC**"
      ]
    },
    {
      "cell_type": "code",
      "execution_count": null,
      "metadata": {
        "id": "JR5G2dJsj-l_"
      },
      "outputs": [],
      "source": [
        "# Removendo o '%' da string roi_str e convertendo para float\n",
        "roi_float = float(roi_str.strip('%'))\n",
        "\n",
        "# Calculando a diferença entre ROI e WACC\n",
        "ROI_WACC = roi_float - wacc\n",
        "\n",
        "# Imprimindo os resultados\n",
        "print('ROI: {:.2f}%'.format(roi_float))\n",
        "print('WACC: {:.2f}%'.format(wacc))\n",
        "print('Diferença de ROI x WACC: {:.2f}%'.format(ROI_WACC))\n",
        "\n",
        "# Verificando se ROI é maior, menor ou igual a WACC\n",
        "if ROI_WACC > 0:\n",
        "    print(\"SIM, ROI é maior que WACC\")\n",
        "elif ROI_WACC < 0:\n",
        "    print(\"NÃO, ROI é menor que WACC\")\n",
        "else:\n",
        "    print(\"IGUAL, ROI é igual a WACC\")\n"
      ]
    },
    {
      "cell_type": "markdown",
      "metadata": {
        "id": "_rVPTRRZj8UP"
      },
      "source": [
        "# **Valuation**"
      ]
    },
    {
      "cell_type": "markdown",
      "metadata": {
        "id": "UMtEBJgKkcNn"
      },
      "source": [
        "**Nº de Ações**"
      ]
    },
    {
      "cell_type": "code",
      "execution_count": null,
      "metadata": {
        "id": "t8EqUCwHjVQv"
      },
      "outputs": [],
      "source": [
        "# Encontrar o índice do atributo desejado\n",
        "shs_outstand_str = values[attributes.index('Shs Outstand')]\n",
        "\n",
        "# Se o último caractere for 'M', multiplique por 1 milhão\n",
        "# Se for 'B', multiplique por 1 bilhão\n",
        "# Caso contrário, mantenha o valor como está\n",
        "if shs_outstand_str[-1] == 'M':\n",
        "    shs_outstand = float(shs_outstand_str[:-1]) * 1000000\n",
        "elif shs_outstand_str[-1] == 'B':\n",
        "    shs_outstand = float(shs_outstand_str[:-1]) * 1000000000\n",
        "else:\n",
        "    shs_outstand = float(shs_outstand_str)\n",
        "\n",
        "# Imprimir o valor de 'Shs Outstand'\n",
        "print(f'Nº de Ações: {shs_outstand}')\n",
        "\n",
        "\n"
      ]
    },
    {
      "cell_type": "markdown",
      "metadata": {
        "id": "ZFS5J2VZl-xt"
      },
      "source": [
        "**Crescimento dos Lucros líquidos ponderado ao Mercado - gLL + Média Mercado**"
      ]
    },
    {
      "cell_type": "code",
      "execution_count": null,
      "metadata": {
        "id": "6RLMcL9akgyu"
      },
      "outputs": [],
      "source": [
        "#Crescimento dos Lucros líquidos ponderado ao Mercado - gLL + Média Mercado\n",
        "# O correto seria somar ponderar o gll + a média do crescimento do ROE de 5Y)\n",
        "gll_M = (gll + (mean_yearly_return/100))/2\n",
        "print(f'gLL + Média do Mercado: {gll_M:.3f}')"
      ]
    },
    {
      "cell_type": "markdown",
      "metadata": {
        "id": "4LsQDFmvmER2"
      },
      "source": [
        "**bNOPAT**"
      ]
    },
    {
      "cell_type": "code",
      "execution_count": null,
      "metadata": {
        "id": "mjOG5zPRmBOL"
      },
      "outputs": [],
      "source": [
        "# Calculando bNOPAT\n",
        "#bNOPAT = (CAPEX - Amortização e Depeciação) / EBIT\n",
        "bNOPAT = (capex - value_in_millions_7)/ebit\n",
        "\n",
        "print('CAPEX:', CAPEX_formatted)\n",
        "print('Depreciação e Amortização:', value_formatted)\n",
        "print('EBIT:', value_formatted)\n",
        "\n",
        "\n",
        "print(f'bNOPAT: {bNOPAT:.3f}')"
      ]
    },
    {
      "cell_type": "markdown",
      "metadata": {
        "id": "Vrg9OI5pmNQn"
      },
      "source": [
        "**gNOPAT**"
      ]
    },
    {
      "cell_type": "code",
      "execution_count": null,
      "metadata": {
        "id": "aVfBk9BHmG0L"
      },
      "outputs": [],
      "source": [
        "# Calculando gNOPAT\n",
        "# gNOPAT = bNOPAT * ROI\n",
        "gNOPAT = bNOPAT * roi_perc_str\n",
        "print(f'gNOPAT: {gNOPAT:.3f}')"
      ]
    },
    {
      "cell_type": "markdown",
      "metadata": {
        "id": "snEAaG2amgi0"
      },
      "source": [
        "**Crescimeto na perpetuidade**"
      ]
    },
    {
      "cell_type": "code",
      "execution_count": null,
      "metadata": {
        "id": "Yd7-Zu6dmSPb"
      },
      "outputs": [],
      "source": [
        "# Calculando Crescimeto na perpetuidade\n",
        "CP = 2/100\n",
        "print(f'Crescimeto na perpetuidade: {CP:.3f}')"
      ]
    },
    {
      "cell_type": "markdown",
      "metadata": {
        "id": "exaQvAy4mmCd"
      },
      "source": [
        "**FCFF**"
      ]
    },
    {
      "cell_type": "code",
      "execution_count": null,
      "metadata": {
        "id": "zUmnxvubmjRC"
      },
      "outputs": [],
      "source": [
        "FCFF\n",
        "# Imprimindo o valor formatado\n",
        "print('FCFF:', FCFF_formatted)"
      ]
    },
    {
      "cell_type": "markdown",
      "metadata": {
        "id": "4DQ49f1Amul8"
      },
      "source": [
        "**VP**"
      ]
    },
    {
      "cell_type": "code",
      "execution_count": null,
      "metadata": {
        "id": "qVttBcsHmo9y"
      },
      "outputs": [],
      "source": [
        "# A Taxa de desconto é calculada usando a formula (1+wacc)^n\n",
        "# Ano 0\n",
        "Ano_0 = 0\n",
        "EBITDA_0 = 0.0\n",
        "FCDE_0 = FCFF\n",
        "Taxa_Desconto_0 = 0.0\n",
        "VP_0 = FCDE_0\n",
        "\n",
        "# Ano 1\n",
        "Ano_1 = 1\n",
        "EBITDA_1 = FCDE_0 * gll_M\n",
        "FCDE_1 = FCDE_0 + EBITDA_1\n",
        "Taxa_Desconto_1 = pow (1 + wacc/100, Ano_1)\n",
        "VP_1 = FCDE_1/Taxa_Desconto_1\n",
        "\n",
        "# Ano 2\n",
        "Ano_2 = 2\n",
        "EBITDA_2 = FCDE_1 * gll_M\n",
        "FCDE_2 = FCDE_1 + EBITDA_2\n",
        "Taxa_Desconto_2 = pow (1 + wacc/100, Ano_2)\n",
        "VP_2 = FCDE_2/Taxa_Desconto_2\n",
        "\n",
        "# Ano 3\n",
        "Ano_3 = 3\n",
        "EBITDA_3 = FCDE_2 * gll_M\n",
        "FCDE_3 = FCDE_2 + EBITDA_3\n",
        "Taxa_Desconto_3 = pow (1 + wacc/100, Ano_3)\n",
        "VP_3 = FCDE_3/Taxa_Desconto_3\n",
        "\n",
        "# Ano 4\n",
        "Ano_4 = 4\n",
        "EBITDA_4 = FCDE_3 * gll_M\n",
        "FCDE_4 = FCDE_3 + EBITDA_4\n",
        "Taxa_Desconto_4 = pow (1 + wacc/100, Ano_4)\n",
        "VP_4 = FCDE_4/Taxa_Desconto_4\n",
        "\n",
        "# Ano 5\n",
        "Ano_5 = 5\n",
        "EBITDA_5 = FCDE_4 * gll_M\n",
        "FCDE_5 = FCDE_4 + EBITDA_5\n",
        "Taxa_Desconto_5 = pow (1 + wacc/100, Ano_5)\n",
        "VP_5 = FCDE_5/Taxa_Desconto_5\n",
        "\n",
        "# Ano 6\n",
        "Ano_6 = 6\n",
        "EBITDA_6 = FCDE_5 * gll_M\n",
        "FCDE_6 = FCDE_5 + EBITDA_6\n",
        "Taxa_Desconto_6 = pow (1 + wacc/100, Ano_6)\n",
        "VP_6 = FCDE_6/Taxa_Desconto_6\n",
        "\n",
        "# Ano 7\n",
        "Ano_7 = 7\n",
        "EBITDA_7 = FCDE_6 * gll_M\n",
        "FCDE_7 = FCDE_6 + EBITDA_7\n",
        "Taxa_Desconto_7 = pow (1 + wacc/100, Ano_7)\n",
        "VP_7 = FCDE_7/Taxa_Desconto_7\n",
        "\n",
        "# Ano 8\n",
        "Ano_8 = 8\n",
        "EBITDA_8 = FCDE_7 * gll_M\n",
        "FCDE_8 = FCDE_7 + EBITDA_8\n",
        "Taxa_Desconto_8 = pow (1 + wacc/100, Ano_8)\n",
        "VP_8 = FCDE_8/Taxa_Desconto_8\n",
        "\n",
        "# Ano 9\n",
        "Ano_9 = 9\n",
        "EBITDA_9 = FCDE_8 * gll_M\n",
        "FCDE_9 = FCDE_8 + EBITDA_9\n",
        "Taxa_Desconto_9 = pow (1 + wacc/100, Ano_9)\n",
        "VP_9 = FCDE_9/Taxa_Desconto_9\n",
        "\n",
        "# Ano 10\n",
        "Ano_10 = 10\n",
        "EBITDA_10 = FCDE_9 * gll_M\n",
        "FCDE_10 = FCDE_9 + EBITDA_10\n",
        "Taxa_Desconto_10 = pow (1 + wacc/100, Ano_10)\n",
        "VP_10 = FCDE_10/Taxa_Desconto_10\n",
        "\n",
        "# Ano 11 - Perpetuidade\n",
        "Ano_11 = 11\n",
        "FCDE_11 = FCDE_10\n",
        "Taxa_Desconto_11 =  (wacc/100 - (gNOPAT))*100\n",
        "VP_perpeturidade = (FCDE_11/(Taxa_Desconto_11)*100)\n",
        "VP_11 = VP_perpeturidade / (Taxa_Desconto_10)\n",
        "\n",
        "\n",
        "print(\"Ano  |     EBITDA         |     FCDE             |   Taxa de Desconto     |        VP\")\n",
        "print(\"{:^4} | ${:^11,.2f}       | ${:^11,.2f}    | {:^15.2f}        | ${:^11,.2f}\".format(Ano_0, EBITDA_0, FCDE_0, Taxa_Desconto_0, VP_0))\n",
        "print(\"{:^4} | ${:^11,.2f}    | ${:^11,.2f}    | {:^15.2f}        | ${:^11,.2f}\".format(Ano_1, EBITDA_1, FCDE_1, Taxa_Desconto_1, VP_1))\n",
        "print(\"{:^4} | ${:^11,.2f}    | ${:^11,.2f}    | {:^15.2f}        | ${:^11,.2f}\".format(Ano_2, EBITDA_2, FCDE_2, Taxa_Desconto_2, VP_2))\n",
        "print(\"{:^4} | ${:^11,.2f}    | ${:^11,.2f}    | {:^15.2f}        | ${:^11,.2f}\".format(Ano_3, EBITDA_3, FCDE_3, Taxa_Desconto_3, VP_3))\n",
        "print(\"{:^4} | ${:^11,.2f}    | ${:^11,.2f}    | {:^15.2f}        | ${:^11,.2f}\".format(Ano_4, EBITDA_4, FCDE_4, Taxa_Desconto_4, VP_4))\n",
        "print(\"{:^4} | ${:^11,.2f}    | ${:^11,.2f}    | {:^15.2f}        | ${:^11,.2f}\".format(Ano_5, EBITDA_5, FCDE_5, Taxa_Desconto_5, VP_5))\n",
        "print(\"{:^4} | ${:^11,.2f}    | ${:^11,.2f}    | {:^15.2f}        | ${:^11,.2f}\".format(Ano_6, EBITDA_6, FCDE_6, Taxa_Desconto_6, VP_6))\n",
        "print(\"{:^4} | ${:^11,.2f}    | ${:^11,.2f}    | {:^15.2f}        | ${:^11,.2f}\".format(Ano_7, EBITDA_7, FCDE_7, Taxa_Desconto_7, VP_7))\n",
        "print(\"{:^4} | ${:^11,.2f}    | ${:^11,.2f}    | {:^15.2f}        | ${:^11,.2f}\".format(Ano_8, EBITDA_8, FCDE_8, Taxa_Desconto_8, VP_8))\n",
        "print(\"{:^4} | ${:^11,.2f}    | ${:^11,.2f}    | {:^15.2f}        | ${:^11,.2f}\".format(Ano_9, EBITDA_9, FCDE_9, Taxa_Desconto_9, VP_9))\n",
        "print(\"{:^4} | ${:^11,.2f}  | ${:^11,.2f}   | {:^15.2f}        | ${:^11,.2f}\".format(Ano_10, EBITDA_10, FCDE_10, Taxa_Desconto_10, VP_10))\n",
        "print(\"{:^4}                      | ${:^11,.2f}   | {:^15.2f}        | ${:^11,.2f}\".format(Ano_11, FCDE_11, Taxa_Desconto_11, VP_11))"
      ]
    },
    {
      "cell_type": "markdown",
      "metadata": {
        "id": "jTRD18c8m5It"
      },
      "source": [
        "**VP**"
      ]
    },
    {
      "cell_type": "code",
      "execution_count": null,
      "metadata": {
        "id": "db-lzepkmzqy"
      },
      "outputs": [],
      "source": [
        "#Encontrando o Valor Patrimonial (VP)\n",
        "VP = VP_0 + VP_1 + VP_2 + VP_3 + VP_4 + VP_5 + VP_6 + VP_7 + VP_8 + VP_9 + VP_10 + VP_11\n",
        "VP_formatted = '${:,.2f}'.format(VP)\n",
        "print ('VP:' , VP_formatted)"
      ]
    },
    {
      "cell_type": "markdown",
      "metadata": {
        "id": "gYpdx2lkIjF0"
      },
      "source": [
        "# **Preço Justo da Ação**\n",
        "\n"
      ]
    },
    {
      "cell_type": "code",
      "execution_count": null,
      "metadata": {
        "id": "n5iLfLVom6Ra"
      },
      "outputs": [],
      "source": [
        "# Encontrando o Preço Justo da Ação\n",
        "\n",
        "# Ativo Total\n",
        "Ativo_Total = value_in_millions\n",
        "Ativo_Total_formatted = '${:,.2f}'.format(Ativo_Total)\n",
        "print(f'Ativo Total: ${Ativo_Total_formatted}')\n",
        "\n",
        "# Passivo Total\n",
        "Passivo_Total = value_in_millions_15\n",
        "Passivo_Total_formatted = '${:,.2f}'.format(Passivo_Total)\n",
        "print(f'Passivo Total: ${Passivo_Total_formatted}')\n",
        "\n",
        "# PL = Ativo Total - Passivo Total\n",
        "PL_ajustado = value_in_millions - value_in_millions_15\n",
        "PL_ajustado_formatted = '${:,.2f}'.format(PL_ajustado)\n",
        "print(f'PL Ajustado: ${PL_ajustado_formatted}')\n",
        "\n",
        "# FCLL\n",
        "print('FCFF:', FCFF_formatted)\n",
        "\n",
        "# Número de Ações\n",
        "print(f'Nº de Ações: {shs_outstand}')\n",
        "\n",
        "# Verificar se VP é negativo\n",
        "if VP < 0:\n",
        "    PJA = ((value_in_millions - value_in_millions_15) + FCFF)/ shs_outstand\n",
        "else:\n",
        "    PJA = VP / shs_outstand\n",
        "\n",
        "PJA_formatted = '${:,.2f}'.format(PJA)\n",
        "print('PJA:', PJA_formatted)\n",
        "\n",
        "\n",
        "# Calcular o preço atual\n",
        "# Encontrar o índice do atributo desejado\n",
        "price_str = values[attributes.index('Price')]\n",
        "price = float(price_str)\n",
        "# Imprimir o valor de 'Preço'\n",
        "print(f'Preço: {price_str}')\n",
        "\n",
        "Margem_P = PJA - price\n",
        "Margem_P_formatted = '${:,.2f}'.format(Margem_P)\n",
        "print('Margem:' , Margem_P_formatted)\n",
        "\n",
        "Margem_Perc = (Margem_P / PJA)*100\n",
        "Margem_Perc_formatted = '{:,.2f}%'.format(Margem_Perc)\n",
        "print('Margem Percentual:' , Margem_Perc_formatted)"
      ]
    },
    {
      "cell_type": "markdown",
      "metadata": {
        "id": "bOF3pexeMymj"
      },
      "source": [
        "# **AVALIAÇÃO PELO LUCRO EM EXCESSO**"
      ]
    },
    {
      "cell_type": "code",
      "execution_count": null,
      "metadata": {
        "id": "Kmt1o_gBIr3F"
      },
      "outputs": [],
      "source": [
        "# Calculando Vo = Capital Investido + PV do Retorno em Excesso\n",
        "#PV do Retorno em Excesso = Goodwill\n",
        "\n",
        "Goodwill = LE / Ke\n",
        "Goodwill_formatted = '${:,.2f}'.format(Goodwill)\n",
        "print('Goodwill',Goodwill_formatted)\n",
        "\n",
        "# Lucros futuros esperados\n",
        "LFE = gll_M * LE\n",
        "LFE_formatted = '${:,.2f}'.format(LFE)\n",
        "print('LFE',LFE_formatted)\n",
        "\n",
        "# Valor da empresa = patrimônio líquido + goodwill + lucros futuros esperados\n",
        "Vo_excesso = PL + (Goodwill*10) + (LFE*10)\n",
        "Vo_excesso_formatted = '${:,.2f}'.format(Vo_excesso)\n",
        "print('Vo',Vo_excesso_formatted)\n",
        "\n",
        "# Valor Patrimonial por Ação\n",
        "print(f'VPA: {VPA_str}')\n",
        "\n",
        "#Encontrando o Preço Justo da Ação pelo Lucro em Excesso\n",
        "PJA_E = Vo_excesso / shs_outstand\n",
        "PJA_E_formatted = '${:,.2f}'.format(PJA_E)\n",
        "print ('PJA pelo Lucro em Excesso:' , PJA_E_formatted)\n",
        "\n",
        "# Calcular o preço atual\n",
        "# Encontrar o índice do atributo desejado\n",
        "price_str = values[attributes.index('Price')]\n",
        "price = float(price_str)\n",
        "# Imprimir o valor de 'Preço'\n",
        "print(f'Preço: {price_str}')"
      ]
    },
    {
      "cell_type": "markdown",
      "metadata": {
        "id": "At1ucHgcNI2T"
      },
      "source": [
        "# **Valor Intrínseco**"
      ]
    },
    {
      "cell_type": "code",
      "execution_count": null,
      "metadata": {
        "id": "kRO25vuYNBZs"
      },
      "outputs": [],
      "source": [
        "import math\n",
        "\n",
        "eps = float(eps_str)\n",
        "VPA = float(VPA_str)\n",
        "\n",
        "# Calcular o valor intrínseco em dólar\n",
        "valor_intrinseco = math.sqrt(eps * VPA * 22.5)\n",
        "\n",
        "# Calcular o preço atual\n",
        "# Encontrar o índice do atributo desejado\n",
        "price_str = values[attributes.index('Price')]\n",
        "price = float(price_str)\n",
        "# Imprimir o valor de 'Preço'\n",
        "print(f'Preço: ${price_str}')\n",
        "\n",
        "# Calcular a diferença entre o valor intrínseco e o preço atual\n",
        "diferenca = valor_intrinseco - price\n",
        "\n",
        "# Calcular a diferença percentual\n",
        "dif_percentual = diferenca / valor_intrinseco * 100\n",
        "\n",
        "# Verificar se está com ágio ou deságio\n",
        "if price > valor_intrinseco:\n",
        "    agio_desagio = 'ágio'\n",
        "else:\n",
        "    agio_desagio = 'deságio'\n",
        "\n",
        "# Exibir os resultados\n",
        "print(f\"Valor intrínseco: ${valor_intrinseco:.2f}\")\n",
        "print(f\"Diferença: ${diferenca:.2f}\")\n",
        "print(f\"Margem percentual: {dif_percentual:.2f}% {agio_desagio}\")\n",
        "\n",
        "if agio_desagio == 'ágio':\n",
        "    recomendacao = 'Recomendação: Venda'\n",
        "else:\n",
        "    recomendacao = 'Recomendação: Compra'\n",
        "\n",
        "print(recomendacao)"
      ]
    },
    {
      "cell_type": "markdown",
      "metadata": {
        "id": "5QcTklKINgKm"
      },
      "source": [
        "# **Comparativo entre Avaliações**"
      ]
    },
    {
      "cell_type": "code",
      "execution_count": null,
      "metadata": {
        "id": "wIsB_nf1NRpU"
      },
      "outputs": [],
      "source": [
        "print ('Stock:',symbol)\n",
        "print(f'Preço Atual: ${price_str}')\n",
        "print(f\"Valor intrínseco: ${valor_intrinseco:.2f}\")\n",
        "print ('Preço Valuation:' , PJA_formatted)\n",
        "print ('PJA pelo Lucro em Excesso:' , PJA_E_formatted)"
      ]
    },
    {
      "cell_type": "markdown",
      "source": [
        "# **Retorno S&P 500 - 10 Y x Ticker em análise**"
      ],
      "metadata": {
        "id": "eVPOPmSZCxAj"
      }
    },
    {
      "cell_type": "markdown",
      "source": [
        "**Retorno S&P 500**"
      ],
      "metadata": {
        "id": "EHK0KxNxC1kb"
      }
    },
    {
      "cell_type": "code",
      "source": [
        "Ten_year_return = sp500['acum_return'].iloc[-1] * 100 - 100\n",
        "print(f'Retorno acumulado 10Y: {Ten_year_return:.1f}%')\n",
        "\n",
        "mean_yearly_return = sp500['daily_return'].mean() * 100 * 365\n",
        "print(f'Retorno médio anual 10Y: {mean_yearly_return:.2f}%')"
      ],
      "metadata": {
        "id": "v7Tap3C4CsnM"
      },
      "execution_count": null,
      "outputs": []
    },
    {
      "cell_type": "markdown",
      "source": [
        "**Retorno Ticker**"
      ],
      "metadata": {
        "id": "bS4Q4yI7C7GW"
      }
    },
    {
      "cell_type": "code",
      "source": [
        "def calcula_retorno(dataframe):\n",
        "  df = dataframe.copy()\n",
        "  df['daily_return']        = df.iloc[:,0].pct_change()\n",
        "  df['acum_return']         = (1 +  df['daily_return']).cumprod()\n",
        "  df['acum_return'].iloc[0] = 1\n",
        "  df.rename(columns={df.columns[0]: \"price\" }, inplace=True)\n",
        "  return df\n",
        "\n",
        "ticker = yf.download(symbol)[['Adj Close']]\n",
        "ticker\n",
        "\n",
        "ticker = calcula_retorno(ticker)\n",
        "ticker\n",
        "\n",
        "Ten_year_return_ticker = ticker['acum_return'].iloc[-1] * 100 - 100\n",
        "print(f'Retorno acumulado 10Y do Ticker: {Ten_year_return_ticker:.1f}%')\n",
        "\n",
        "mean_yearly_return_ticker = ticker['daily_return'].mean() * 100 * 365\n",
        "print(f'Retorno médio anual 10Y do Ticker: {mean_yearly_return_ticker:.2f}%')\n"
      ],
      "metadata": {
        "id": "V8b6Rdt4Cxgq"
      },
      "execution_count": null,
      "outputs": []
    },
    {
      "cell_type": "code",
      "source": [
        "\n",
        "# Gráfico 1\n",
        "fig1 = go.Figure()\n",
        "fig1.add_trace(go.Scatter(x=sp500.index[-252*10:], y=sp500['price'][-252*10:], line=dict(color='blue')))\n",
        "fig1.update_layout(yaxis_type=\"log\")\n",
        "\n",
        "# Adicionando o nome do ticker no canto superior esquerdo do Gráfico 1\n",
        "fig1.add_annotation(\n",
        "    xref=\"paper\",\n",
        "    yref=\"paper\",\n",
        "    x=0.02,\n",
        "    y=0.98,\n",
        "    text=\"SP 500\",\n",
        "    showarrow=False,\n",
        "    font=dict(size=22)\n",
        ")\n",
        "\n",
        "fig1.show()\n",
        "\n",
        "\n",
        "# Gráfico 2\n",
        "fig2 = go.Figure()\n",
        "fig2.add_trace(go.Scatter(x=ticker.index[-252*10:], y=ticker['price'][-252*10:], line=dict(color='red')))\n",
        "fig2.update_layout(yaxis_type=\"log\")\n",
        "\n",
        "# Adicionando o nome do ticker no canto superior esquerdo do Gráfico 2\n",
        "fig2.add_annotation(\n",
        "    xref=\"paper\",\n",
        "    yref=\"paper\",\n",
        "    x=0.02,\n",
        "    y=0.98,\n",
        "    text=\"Ticker\",\n",
        "    showarrow=False,\n",
        "    font=dict(size=22)\n",
        ")\n",
        "\n",
        "fig2.show()"
      ],
      "metadata": {
        "id": "cNSTnNxTC_16"
      },
      "execution_count": null,
      "outputs": []
    },
    {
      "cell_type": "markdown",
      "source": [
        "**Análise correlacionadas ao Benchmarket (S&P 500)**"
      ],
      "metadata": {
        "id": "3lWg-hjHDHk2"
      }
    },
    {
      "cell_type": "code",
      "source": [
        "tickers = [symbol,\"^GSPC\"]\n",
        "dados_yahoo = web.get_data_yahoo(tickers, period=\"10y\")[\"Adj Close\"]"
      ],
      "metadata": {
        "id": "kdzID1lzDDDi"
      },
      "execution_count": null,
      "outputs": []
    },
    {
      "cell_type": "code",
      "source": [
        "dados_yahoo.columns = [symbol,\"SP500\"]\n",
        "dados_yahoo"
      ],
      "metadata": {
        "id": "6UhrgQ_tDKBJ"
      },
      "execution_count": null,
      "outputs": []
    },
    {
      "cell_type": "markdown",
      "source": [
        "RETORNO DIARIOS"
      ],
      "metadata": {
        "id": "6O6a8dMfDOhU"
      }
    },
    {
      "cell_type": "code",
      "source": [
        "retorno = dados_yahoo.pct_change()\n",
        "retorno"
      ],
      "metadata": {
        "id": "HZa6ptwYDLlJ"
      },
      "execution_count": null,
      "outputs": []
    },
    {
      "cell_type": "markdown",
      "source": [
        "RETORNO ACUMULADO"
      ],
      "metadata": {
        "id": "v4enE_6dDWuU"
      }
    },
    {
      "cell_type": "code",
      "source": [
        "retorno_acumulado = (1 + retorno).cumprod()\n",
        "retorno_acumulado.iloc[0] = 1\n",
        "retorno_acumulado"
      ],
      "metadata": {
        "id": "DsLGk_QeDT8x"
      },
      "execution_count": null,
      "outputs": []
    },
    {
      "cell_type": "markdown",
      "source": [
        "# **Gráfico comparativo**"
      ],
      "metadata": {
        "id": "Wjo7Y-QaDb2r"
      }
    },
    {
      "cell_type": "code",
      "source": [
        "# Criar o gráfico comparativo\n",
        "fig = go.Figure()\n",
        "fig.add_trace(go.Scatter(x=retorno_acumulado.index, y=retorno_acumulado[symbol], name=symbol))\n",
        "fig.add_trace(go.Scatter(x=retorno_acumulado.index, y=retorno_acumulado[\"SP500\"], name=\"SP500\"))\n",
        "\n",
        "fig.update_layout(\n",
        "    title=\"Retornos Acumulados - Comparação entre {} e SP500\".format(symbol),\n",
        "    xaxis_title=\"Data\",\n",
        "    yaxis_title=\"Retorno Acumulado\",\n",
        "    legend_title=\"Ticker\",\n",
        ")\n",
        "\n",
        "fig.show()\n"
      ],
      "metadata": {
        "id": "KctUSAfgDZtZ"
      },
      "execution_count": null,
      "outputs": []
    },
    {
      "cell_type": "code",
      "source": [
        "carteira = 10000 * retorno_acumulado.iloc[:, :5]\n",
        "carteira[\"saldo\"] = carteira.sum(axis=1)\n",
        "carteira[\"retorno\"] = carteira[\"saldo\"].pct_change()\n",
        "carteira"
      ],
      "metadata": {
        "id": "ly56pkZqDeCJ"
      },
      "execution_count": null,
      "outputs": []
    },
    {
      "cell_type": "markdown",
      "source": [
        "# **RESULTADOS**"
      ],
      "metadata": {
        "id": "GZRX2yD4DiN9"
      }
    },
    {
      "cell_type": "code",
      "source": [
        "pf.create_full_tear_sheet(carteira[\"retorno\"], benchmark_rets=retorno[\"SP500\"])"
      ],
      "metadata": {
        "id": "_1TiVNHaDfdR"
      },
      "execution_count": null,
      "outputs": []
    },
    {
      "cell_type": "code",
      "source": [
        "fig, ax1 = plt.subplots(figsize=(22,12))\n",
        "pf.plot_rolling_beta(carteira[\"retorno\"],factor_returns=retorno[\"SP500\"], ax=ax1)\n",
        "plt.ylim((0.5,2))"
      ],
      "metadata": {
        "id": "36ou9b15DkHp"
      },
      "execution_count": null,
      "outputs": []
    },
    {
      "cell_type": "code",
      "source": [],
      "metadata": {
        "id": "jK4_kCIADlxQ"
      },
      "execution_count": null,
      "outputs": []
    }
  ],
  "metadata": {
    "colab": {
      "provenance": [],
      "authorship_tag": "ABX9TyOs1ekqbaawm5MlRI2iAYGU",
      "include_colab_link": true
    },
    "kernelspec": {
      "display_name": "Python 3",
      "name": "python3"
    },
    "language_info": {
      "name": "python"
    }
  },
  "nbformat": 4,
  "nbformat_minor": 0
}
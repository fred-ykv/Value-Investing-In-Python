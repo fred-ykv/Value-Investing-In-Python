{
  "nbformat": 4,
  "nbformat_minor": 0,
  "metadata": {
    "colab": {
      "provenance": [],
      "include_colab_link": true
    },
    "kernelspec": {
      "name": "python3",
      "display_name": "Python 3"
    }
  },
  "cells": [
    {
      "cell_type": "markdown",
      "metadata": {
        "id": "view-in-github",
        "colab_type": "text"
      },
      "source": [
        "<a href=\"https://colab.research.google.com/github/fred-ykv/Value-Investing-In-Python/blob/master/Retorno_S%26P500_e_IBOV.ipynb\" target=\"_parent\"><img src=\"https://colab.research.google.com/assets/colab-badge.svg\" alt=\"Open In Colab\"/></a>"
      ]
    },
    {
      "cell_type": "markdown",
      "metadata": {
        "id": "b2A8eh8FbRkw"
      },
      "source": [
        "###Python para Investimentos - Melhores e Piores dias S&P500 e Índice Bovespa"
      ]
    },
    {
      "cell_type": "markdown",
      "metadata": {
        "id": "HFCzJqCTbSe3"
      },
      "source": [
        "**Python para Investimentos** é um conjunto de códigos e vídeos em que mostro como utilizar a linguagem de programação PYTHON através da ferramenta online Google Colab para fazer estudos no mercado financeiro."
      ]
    },
    {
      "cell_type": "markdown",
      "metadata": {
        "id": "_3fqaPymbSpm"
      },
      "source": [
        "**Canal no Youtube:** https://www.youtube.com/ricospeloacaso?sub_confirmation=1"
      ]
    },
    {
      "cell_type": "markdown",
      "metadata": {
        "id": "TmhVRnMLbSwg"
      },
      "source": [
        "Link para o Vídeo: https://youtu.be/QBBaqaI7_II"
      ]
    },
    {
      "cell_type": "code",
      "metadata": {
        "id": "b8zXIUpnbS8n",
        "cellView": "form"
      },
      "source": [
        "#@title Vídeo\n",
        "from IPython.display import YouTubeVideo\n",
        "YouTubeVideo('QBBaqaI7_II', width=854, height=480)"
      ],
      "execution_count": null,
      "outputs": []
    },
    {
      "cell_type": "markdown",
      "metadata": {
        "id": "FIo0v8wSb7Gu"
      },
      "source": [
        "##Importações e Configurações Iniciais"
      ]
    },
    {
      "cell_type": "code",
      "metadata": {
        "id": "mdnUOq9sYFVx",
        "colab": {
          "base_uri": "https://localhost:8080/"
        },
        "outputId": "97383c8c-4c78-4046-b45b-e511d3d2329b"
      },
      "source": [
        "!pip install yfinance"
      ],
      "execution_count": 2,
      "outputs": [
        {
          "output_type": "stream",
          "name": "stdout",
          "text": [
            "Looking in indexes: https://pypi.org/simple, https://us-python.pkg.dev/colab-wheels/public/simple/\n",
            "Collecting yfinance\n",
            "  Downloading yfinance-0.2.12-py2.py3-none-any.whl (59 kB)\n",
            "\u001b[2K     \u001b[90m━━━━━━━━━━━━━━━━━━━━━━━━━━━━━━━━━━━━━━━━\u001b[0m \u001b[32m59.2/59.2 KB\u001b[0m \u001b[31m3.6 MB/s\u001b[0m eta \u001b[36m0:00:00\u001b[0m\n",
            "\u001b[?25hCollecting appdirs>=1.4.4\n",
            "  Downloading appdirs-1.4.4-py2.py3-none-any.whl (9.6 kB)\n",
            "Collecting cryptography>=3.3.2\n",
            "  Downloading cryptography-39.0.2-cp36-abi3-manylinux_2_28_x86_64.whl (4.2 MB)\n",
            "\u001b[2K     \u001b[90m━━━━━━━━━━━━━━━━━━━━━━━━━━━━━━━━━━━━━━━━\u001b[0m \u001b[32m4.2/4.2 MB\u001b[0m \u001b[31m73.7 MB/s\u001b[0m eta \u001b[36m0:00:00\u001b[0m\n",
            "\u001b[?25hCollecting requests>=2.26\n",
            "  Downloading requests-2.28.2-py3-none-any.whl (62 kB)\n",
            "\u001b[2K     \u001b[90m━━━━━━━━━━━━━━━━━━━━━━━━━━━━━━━━━━━━━━━━\u001b[0m \u001b[32m62.8/62.8 KB\u001b[0m \u001b[31m7.9 MB/s\u001b[0m eta \u001b[36m0:00:00\u001b[0m\n",
            "\u001b[?25hRequirement already satisfied: lxml>=4.9.1 in /usr/local/lib/python3.9/dist-packages (from yfinance) (4.9.2)\n",
            "Collecting html5lib>=1.1\n",
            "  Downloading html5lib-1.1-py2.py3-none-any.whl (112 kB)\n",
            "\u001b[2K     \u001b[90m━━━━━━━━━━━━━━━━━━━━━━━━━━━━━━━━━━━━━━\u001b[0m \u001b[32m112.2/112.2 KB\u001b[0m \u001b[31m11.3 MB/s\u001b[0m eta \u001b[36m0:00:00\u001b[0m\n",
            "\u001b[?25hRequirement already satisfied: pytz>=2022.5 in /usr/local/lib/python3.9/dist-packages (from yfinance) (2022.7.1)\n",
            "Collecting frozendict>=2.3.4\n",
            "  Downloading frozendict-2.3.5-cp39-cp39-manylinux_2_17_x86_64.manylinux2014_x86_64.whl (112 kB)\n",
            "\u001b[2K     \u001b[90m━━━━━━━━━━━━━━━━━━━━━━━━━━━━━━━━━━━━━━\u001b[0m \u001b[32m112.8/112.8 KB\u001b[0m \u001b[31m13.6 MB/s\u001b[0m eta \u001b[36m0:00:00\u001b[0m\n",
            "\u001b[?25hRequirement already satisfied: numpy>=1.16.5 in /usr/local/lib/python3.9/dist-packages (from yfinance) (1.22.4)\n",
            "Collecting beautifulsoup4>=4.11.1\n",
            "  Downloading beautifulsoup4-4.11.2-py3-none-any.whl (129 kB)\n",
            "\u001b[2K     \u001b[90m━━━━━━━━━━━━━━━━━━━━━━━━━━━━━━━━━━━━━━\u001b[0m \u001b[32m129.4/129.4 KB\u001b[0m \u001b[31m12.0 MB/s\u001b[0m eta \u001b[36m0:00:00\u001b[0m\n",
            "\u001b[?25hRequirement already satisfied: multitasking>=0.0.7 in /usr/local/lib/python3.9/dist-packages (from yfinance) (0.0.11)\n",
            "Requirement already satisfied: pandas>=1.3.0 in /usr/local/lib/python3.9/dist-packages (from yfinance) (1.3.5)\n",
            "Collecting soupsieve>1.2\n",
            "  Downloading soupsieve-2.4-py3-none-any.whl (37 kB)\n",
            "Requirement already satisfied: cffi>=1.12 in /usr/local/lib/python3.9/dist-packages (from cryptography>=3.3.2->yfinance) (1.15.1)\n",
            "Requirement already satisfied: six>=1.9 in /usr/local/lib/python3.9/dist-packages (from html5lib>=1.1->yfinance) (1.15.0)\n",
            "Requirement already satisfied: webencodings in /usr/local/lib/python3.9/dist-packages (from html5lib>=1.1->yfinance) (0.5.1)\n",
            "Requirement already satisfied: python-dateutil>=2.7.3 in /usr/local/lib/python3.9/dist-packages (from pandas>=1.3.0->yfinance) (2.8.2)\n",
            "Requirement already satisfied: certifi>=2017.4.17 in /usr/local/lib/python3.9/dist-packages (from requests>=2.26->yfinance) (2022.12.7)\n",
            "Requirement already satisfied: idna<4,>=2.5 in /usr/local/lib/python3.9/dist-packages (from requests>=2.26->yfinance) (2.10)\n",
            "Collecting charset-normalizer<4,>=2\n",
            "  Downloading charset_normalizer-3.1.0-cp39-cp39-manylinux_2_17_x86_64.manylinux2014_x86_64.whl (199 kB)\n",
            "\u001b[2K     \u001b[90m━━━━━━━━━━━━━━━━━━━━━━━━━━━━━━━━━━━━━━\u001b[0m \u001b[32m199.2/199.2 KB\u001b[0m \u001b[31m18.9 MB/s\u001b[0m eta \u001b[36m0:00:00\u001b[0m\n",
            "\u001b[?25hRequirement already satisfied: urllib3<1.27,>=1.21.1 in /usr/local/lib/python3.9/dist-packages (from requests>=2.26->yfinance) (1.26.14)\n",
            "Requirement already satisfied: pycparser in /usr/local/lib/python3.9/dist-packages (from cffi>=1.12->cryptography>=3.3.2->yfinance) (2.21)\n",
            "Installing collected packages: appdirs, soupsieve, html5lib, frozendict, charset-normalizer, requests, cryptography, beautifulsoup4, yfinance\n",
            "  Attempting uninstall: html5lib\n",
            "    Found existing installation: html5lib 1.0.1\n",
            "    Uninstalling html5lib-1.0.1:\n",
            "      Successfully uninstalled html5lib-1.0.1\n",
            "  Attempting uninstall: requests\n",
            "    Found existing installation: requests 2.25.1\n",
            "    Uninstalling requests-2.25.1:\n",
            "      Successfully uninstalled requests-2.25.1\n",
            "  Attempting uninstall: beautifulsoup4\n",
            "    Found existing installation: beautifulsoup4 4.6.3\n",
            "    Uninstalling beautifulsoup4-4.6.3:\n",
            "      Successfully uninstalled beautifulsoup4-4.6.3\n",
            "Successfully installed appdirs-1.4.4 beautifulsoup4-4.11.2 charset-normalizer-3.1.0 cryptography-39.0.2 frozendict-2.3.5 html5lib-1.1 requests-2.28.2 soupsieve-2.4 yfinance-0.2.12\n"
          ]
        }
      ]
    },
    {
      "cell_type": "code",
      "metadata": {
        "id": "HhV2x8xiYLVJ"
      },
      "source": [
        "import yfinance as yf\n",
        "import plotly.graph_objs as go\n",
        "import pandas as pd"
      ],
      "execution_count": 3,
      "outputs": []
    },
    {
      "cell_type": "markdown",
      "metadata": {
        "id": "eNy03mBnjPdF"
      },
      "source": [
        "###Funções"
      ]
    },
    {
      "cell_type": "code",
      "metadata": {
        "id": "rGsTm97dCzTX"
      },
      "source": [
        "def calcula_retorno(dataframe):\n",
        "  df = dataframe.copy()  \n",
        "  df['daily_return']        = df.iloc[:,0].pct_change()\n",
        "  df['acum_return']         = (1 +  df['daily_return']).cumprod()\n",
        "  df['acum_return'].iloc[0] = 1\n",
        "  df.rename(columns={df.columns[0]: \"price\" }, inplace=True)\n",
        "  return df"
      ],
      "execution_count": 4,
      "outputs": []
    },
    {
      "cell_type": "markdown",
      "metadata": {
        "id": "CPNrxTpLGfK3"
      },
      "source": [
        "##S&P500 - Índice com as 500 maiores empresas americanas"
      ]
    },
    {
      "cell_type": "code",
      "metadata": {
        "id": "6XW7oUpeYM05",
        "colab": {
          "base_uri": "https://localhost:8080/",
          "height": 473
        },
        "outputId": "44a9720b-43e1-4edc-d23e-ba3eabbcd56a"
      },
      "source": [
        "sp500 = yf.download('^GSPC')[['Adj Close']]\n",
        "sp500"
      ],
      "execution_count": 5,
      "outputs": [
        {
          "output_type": "stream",
          "name": "stdout",
          "text": [
            "\r[*********************100%***********************]  1 of 1 completed\n"
          ]
        },
        {
          "output_type": "execute_result",
          "data": {
            "text/plain": [
              "              Adj Close\n",
              "Date                   \n",
              "1927-12-30    17.660000\n",
              "1928-01-03    17.760000\n",
              "1928-01-04    17.719999\n",
              "1928-01-05    17.549999\n",
              "1928-01-06    17.660000\n",
              "...                 ...\n",
              "2023-03-02  3981.350098\n",
              "2023-03-03  4045.639893\n",
              "2023-03-06  4048.419922\n",
              "2023-03-07  3986.370117\n",
              "2023-03-08  3979.120117\n",
              "\n",
              "[23910 rows x 1 columns]"
            ],
            "text/html": [
              "\n",
              "  <div id=\"df-30cfe0d5-428c-4398-9cf6-a4ec5c6c7649\">\n",
              "    <div class=\"colab-df-container\">\n",
              "      <div>\n",
              "<style scoped>\n",
              "    .dataframe tbody tr th:only-of-type {\n",
              "        vertical-align: middle;\n",
              "    }\n",
              "\n",
              "    .dataframe tbody tr th {\n",
              "        vertical-align: top;\n",
              "    }\n",
              "\n",
              "    .dataframe thead th {\n",
              "        text-align: right;\n",
              "    }\n",
              "</style>\n",
              "<table border=\"1\" class=\"dataframe\">\n",
              "  <thead>\n",
              "    <tr style=\"text-align: right;\">\n",
              "      <th></th>\n",
              "      <th>Adj Close</th>\n",
              "    </tr>\n",
              "    <tr>\n",
              "      <th>Date</th>\n",
              "      <th></th>\n",
              "    </tr>\n",
              "  </thead>\n",
              "  <tbody>\n",
              "    <tr>\n",
              "      <th>1927-12-30</th>\n",
              "      <td>17.660000</td>\n",
              "    </tr>\n",
              "    <tr>\n",
              "      <th>1928-01-03</th>\n",
              "      <td>17.760000</td>\n",
              "    </tr>\n",
              "    <tr>\n",
              "      <th>1928-01-04</th>\n",
              "      <td>17.719999</td>\n",
              "    </tr>\n",
              "    <tr>\n",
              "      <th>1928-01-05</th>\n",
              "      <td>17.549999</td>\n",
              "    </tr>\n",
              "    <tr>\n",
              "      <th>1928-01-06</th>\n",
              "      <td>17.660000</td>\n",
              "    </tr>\n",
              "    <tr>\n",
              "      <th>...</th>\n",
              "      <td>...</td>\n",
              "    </tr>\n",
              "    <tr>\n",
              "      <th>2023-03-02</th>\n",
              "      <td>3981.350098</td>\n",
              "    </tr>\n",
              "    <tr>\n",
              "      <th>2023-03-03</th>\n",
              "      <td>4045.639893</td>\n",
              "    </tr>\n",
              "    <tr>\n",
              "      <th>2023-03-06</th>\n",
              "      <td>4048.419922</td>\n",
              "    </tr>\n",
              "    <tr>\n",
              "      <th>2023-03-07</th>\n",
              "      <td>3986.370117</td>\n",
              "    </tr>\n",
              "    <tr>\n",
              "      <th>2023-03-08</th>\n",
              "      <td>3979.120117</td>\n",
              "    </tr>\n",
              "  </tbody>\n",
              "</table>\n",
              "<p>23910 rows × 1 columns</p>\n",
              "</div>\n",
              "      <button class=\"colab-df-convert\" onclick=\"convertToInteractive('df-30cfe0d5-428c-4398-9cf6-a4ec5c6c7649')\"\n",
              "              title=\"Convert this dataframe to an interactive table.\"\n",
              "              style=\"display:none;\">\n",
              "        \n",
              "  <svg xmlns=\"http://www.w3.org/2000/svg\" height=\"24px\"viewBox=\"0 0 24 24\"\n",
              "       width=\"24px\">\n",
              "    <path d=\"M0 0h24v24H0V0z\" fill=\"none\"/>\n",
              "    <path d=\"M18.56 5.44l.94 2.06.94-2.06 2.06-.94-2.06-.94-.94-2.06-.94 2.06-2.06.94zm-11 1L8.5 8.5l.94-2.06 2.06-.94-2.06-.94L8.5 2.5l-.94 2.06-2.06.94zm10 10l.94 2.06.94-2.06 2.06-.94-2.06-.94-.94-2.06-.94 2.06-2.06.94z\"/><path d=\"M17.41 7.96l-1.37-1.37c-.4-.4-.92-.59-1.43-.59-.52 0-1.04.2-1.43.59L10.3 9.45l-7.72 7.72c-.78.78-.78 2.05 0 2.83L4 21.41c.39.39.9.59 1.41.59.51 0 1.02-.2 1.41-.59l7.78-7.78 2.81-2.81c.8-.78.8-2.07 0-2.86zM5.41 20L4 18.59l7.72-7.72 1.47 1.35L5.41 20z\"/>\n",
              "  </svg>\n",
              "      </button>\n",
              "      \n",
              "  <style>\n",
              "    .colab-df-container {\n",
              "      display:flex;\n",
              "      flex-wrap:wrap;\n",
              "      gap: 12px;\n",
              "    }\n",
              "\n",
              "    .colab-df-convert {\n",
              "      background-color: #E8F0FE;\n",
              "      border: none;\n",
              "      border-radius: 50%;\n",
              "      cursor: pointer;\n",
              "      display: none;\n",
              "      fill: #1967D2;\n",
              "      height: 32px;\n",
              "      padding: 0 0 0 0;\n",
              "      width: 32px;\n",
              "    }\n",
              "\n",
              "    .colab-df-convert:hover {\n",
              "      background-color: #E2EBFA;\n",
              "      box-shadow: 0px 1px 2px rgba(60, 64, 67, 0.3), 0px 1px 3px 1px rgba(60, 64, 67, 0.15);\n",
              "      fill: #174EA6;\n",
              "    }\n",
              "\n",
              "    [theme=dark] .colab-df-convert {\n",
              "      background-color: #3B4455;\n",
              "      fill: #D2E3FC;\n",
              "    }\n",
              "\n",
              "    [theme=dark] .colab-df-convert:hover {\n",
              "      background-color: #434B5C;\n",
              "      box-shadow: 0px 1px 3px 1px rgba(0, 0, 0, 0.15);\n",
              "      filter: drop-shadow(0px 1px 2px rgba(0, 0, 0, 0.3));\n",
              "      fill: #FFFFFF;\n",
              "    }\n",
              "  </style>\n",
              "\n",
              "      <script>\n",
              "        const buttonEl =\n",
              "          document.querySelector('#df-30cfe0d5-428c-4398-9cf6-a4ec5c6c7649 button.colab-df-convert');\n",
              "        buttonEl.style.display =\n",
              "          google.colab.kernel.accessAllowed ? 'block' : 'none';\n",
              "\n",
              "        async function convertToInteractive(key) {\n",
              "          const element = document.querySelector('#df-30cfe0d5-428c-4398-9cf6-a4ec5c6c7649');\n",
              "          const dataTable =\n",
              "            await google.colab.kernel.invokeFunction('convertToInteractive',\n",
              "                                                     [key], {});\n",
              "          if (!dataTable) return;\n",
              "\n",
              "          const docLinkHtml = 'Like what you see? Visit the ' +\n",
              "            '<a target=\"_blank\" href=https://colab.research.google.com/notebooks/data_table.ipynb>data table notebook</a>'\n",
              "            + ' to learn more about interactive tables.';\n",
              "          element.innerHTML = '';\n",
              "          dataTable['output_type'] = 'display_data';\n",
              "          await google.colab.output.renderOutput(dataTable, element);\n",
              "          const docLink = document.createElement('div');\n",
              "          docLink.innerHTML = docLinkHtml;\n",
              "          element.appendChild(docLink);\n",
              "        }\n",
              "      </script>\n",
              "    </div>\n",
              "  </div>\n",
              "  "
            ]
          },
          "metadata": {},
          "execution_count": 5
        }
      ]
    },
    {
      "cell_type": "code",
      "metadata": {
        "id": "Q6KAfNLBDgGm",
        "colab": {
          "base_uri": "https://localhost:8080/",
          "height": 455
        },
        "outputId": "7d5db175-f3fc-443a-cd1f-7b672acc0a6d"
      },
      "source": [
        "sp500 = calcula_retorno(sp500)\n",
        "sp500"
      ],
      "execution_count": 6,
      "outputs": [
        {
          "output_type": "execute_result",
          "data": {
            "text/plain": [
              "                  price  daily_return  acum_return\n",
              "Date                                              \n",
              "1927-12-30    17.660000           NaN     1.000000\n",
              "1928-01-03    17.760000      0.005663     1.005663\n",
              "1928-01-04    17.719999     -0.002252     1.003397\n",
              "1928-01-05    17.549999     -0.009594     0.993771\n",
              "1928-01-06    17.660000      0.006268     1.000000\n",
              "...                 ...           ...          ...\n",
              "2023-03-02  3981.350098      0.007582   225.444515\n",
              "2023-03-03  4045.639893      0.016148   229.084934\n",
              "2023-03-06  4048.419922      0.000687   229.242353\n",
              "2023-03-07  3986.370117     -0.015327   225.728774\n",
              "2023-03-08  3979.120117     -0.001819   225.318242\n",
              "\n",
              "[23910 rows x 3 columns]"
            ],
            "text/html": [
              "\n",
              "  <div id=\"df-9933465e-d18e-4b2d-b461-98131de68b49\">\n",
              "    <div class=\"colab-df-container\">\n",
              "      <div>\n",
              "<style scoped>\n",
              "    .dataframe tbody tr th:only-of-type {\n",
              "        vertical-align: middle;\n",
              "    }\n",
              "\n",
              "    .dataframe tbody tr th {\n",
              "        vertical-align: top;\n",
              "    }\n",
              "\n",
              "    .dataframe thead th {\n",
              "        text-align: right;\n",
              "    }\n",
              "</style>\n",
              "<table border=\"1\" class=\"dataframe\">\n",
              "  <thead>\n",
              "    <tr style=\"text-align: right;\">\n",
              "      <th></th>\n",
              "      <th>price</th>\n",
              "      <th>daily_return</th>\n",
              "      <th>acum_return</th>\n",
              "    </tr>\n",
              "    <tr>\n",
              "      <th>Date</th>\n",
              "      <th></th>\n",
              "      <th></th>\n",
              "      <th></th>\n",
              "    </tr>\n",
              "  </thead>\n",
              "  <tbody>\n",
              "    <tr>\n",
              "      <th>1927-12-30</th>\n",
              "      <td>17.660000</td>\n",
              "      <td>NaN</td>\n",
              "      <td>1.000000</td>\n",
              "    </tr>\n",
              "    <tr>\n",
              "      <th>1928-01-03</th>\n",
              "      <td>17.760000</td>\n",
              "      <td>0.005663</td>\n",
              "      <td>1.005663</td>\n",
              "    </tr>\n",
              "    <tr>\n",
              "      <th>1928-01-04</th>\n",
              "      <td>17.719999</td>\n",
              "      <td>-0.002252</td>\n",
              "      <td>1.003397</td>\n",
              "    </tr>\n",
              "    <tr>\n",
              "      <th>1928-01-05</th>\n",
              "      <td>17.549999</td>\n",
              "      <td>-0.009594</td>\n",
              "      <td>0.993771</td>\n",
              "    </tr>\n",
              "    <tr>\n",
              "      <th>1928-01-06</th>\n",
              "      <td>17.660000</td>\n",
              "      <td>0.006268</td>\n",
              "      <td>1.000000</td>\n",
              "    </tr>\n",
              "    <tr>\n",
              "      <th>...</th>\n",
              "      <td>...</td>\n",
              "      <td>...</td>\n",
              "      <td>...</td>\n",
              "    </tr>\n",
              "    <tr>\n",
              "      <th>2023-03-02</th>\n",
              "      <td>3981.350098</td>\n",
              "      <td>0.007582</td>\n",
              "      <td>225.444515</td>\n",
              "    </tr>\n",
              "    <tr>\n",
              "      <th>2023-03-03</th>\n",
              "      <td>4045.639893</td>\n",
              "      <td>0.016148</td>\n",
              "      <td>229.084934</td>\n",
              "    </tr>\n",
              "    <tr>\n",
              "      <th>2023-03-06</th>\n",
              "      <td>4048.419922</td>\n",
              "      <td>0.000687</td>\n",
              "      <td>229.242353</td>\n",
              "    </tr>\n",
              "    <tr>\n",
              "      <th>2023-03-07</th>\n",
              "      <td>3986.370117</td>\n",
              "      <td>-0.015327</td>\n",
              "      <td>225.728774</td>\n",
              "    </tr>\n",
              "    <tr>\n",
              "      <th>2023-03-08</th>\n",
              "      <td>3979.120117</td>\n",
              "      <td>-0.001819</td>\n",
              "      <td>225.318242</td>\n",
              "    </tr>\n",
              "  </tbody>\n",
              "</table>\n",
              "<p>23910 rows × 3 columns</p>\n",
              "</div>\n",
              "      <button class=\"colab-df-convert\" onclick=\"convertToInteractive('df-9933465e-d18e-4b2d-b461-98131de68b49')\"\n",
              "              title=\"Convert this dataframe to an interactive table.\"\n",
              "              style=\"display:none;\">\n",
              "        \n",
              "  <svg xmlns=\"http://www.w3.org/2000/svg\" height=\"24px\"viewBox=\"0 0 24 24\"\n",
              "       width=\"24px\">\n",
              "    <path d=\"M0 0h24v24H0V0z\" fill=\"none\"/>\n",
              "    <path d=\"M18.56 5.44l.94 2.06.94-2.06 2.06-.94-2.06-.94-.94-2.06-.94 2.06-2.06.94zm-11 1L8.5 8.5l.94-2.06 2.06-.94-2.06-.94L8.5 2.5l-.94 2.06-2.06.94zm10 10l.94 2.06.94-2.06 2.06-.94-2.06-.94-.94-2.06-.94 2.06-2.06.94z\"/><path d=\"M17.41 7.96l-1.37-1.37c-.4-.4-.92-.59-1.43-.59-.52 0-1.04.2-1.43.59L10.3 9.45l-7.72 7.72c-.78.78-.78 2.05 0 2.83L4 21.41c.39.39.9.59 1.41.59.51 0 1.02-.2 1.41-.59l7.78-7.78 2.81-2.81c.8-.78.8-2.07 0-2.86zM5.41 20L4 18.59l7.72-7.72 1.47 1.35L5.41 20z\"/>\n",
              "  </svg>\n",
              "      </button>\n",
              "      \n",
              "  <style>\n",
              "    .colab-df-container {\n",
              "      display:flex;\n",
              "      flex-wrap:wrap;\n",
              "      gap: 12px;\n",
              "    }\n",
              "\n",
              "    .colab-df-convert {\n",
              "      background-color: #E8F0FE;\n",
              "      border: none;\n",
              "      border-radius: 50%;\n",
              "      cursor: pointer;\n",
              "      display: none;\n",
              "      fill: #1967D2;\n",
              "      height: 32px;\n",
              "      padding: 0 0 0 0;\n",
              "      width: 32px;\n",
              "    }\n",
              "\n",
              "    .colab-df-convert:hover {\n",
              "      background-color: #E2EBFA;\n",
              "      box-shadow: 0px 1px 2px rgba(60, 64, 67, 0.3), 0px 1px 3px 1px rgba(60, 64, 67, 0.15);\n",
              "      fill: #174EA6;\n",
              "    }\n",
              "\n",
              "    [theme=dark] .colab-df-convert {\n",
              "      background-color: #3B4455;\n",
              "      fill: #D2E3FC;\n",
              "    }\n",
              "\n",
              "    [theme=dark] .colab-df-convert:hover {\n",
              "      background-color: #434B5C;\n",
              "      box-shadow: 0px 1px 3px 1px rgba(0, 0, 0, 0.15);\n",
              "      filter: drop-shadow(0px 1px 2px rgba(0, 0, 0, 0.3));\n",
              "      fill: #FFFFFF;\n",
              "    }\n",
              "  </style>\n",
              "\n",
              "      <script>\n",
              "        const buttonEl =\n",
              "          document.querySelector('#df-9933465e-d18e-4b2d-b461-98131de68b49 button.colab-df-convert');\n",
              "        buttonEl.style.display =\n",
              "          google.colab.kernel.accessAllowed ? 'block' : 'none';\n",
              "\n",
              "        async function convertToInteractive(key) {\n",
              "          const element = document.querySelector('#df-9933465e-d18e-4b2d-b461-98131de68b49');\n",
              "          const dataTable =\n",
              "            await google.colab.kernel.invokeFunction('convertToInteractive',\n",
              "                                                     [key], {});\n",
              "          if (!dataTable) return;\n",
              "\n",
              "          const docLinkHtml = 'Like what you see? Visit the ' +\n",
              "            '<a target=\"_blank\" href=https://colab.research.google.com/notebooks/data_table.ipynb>data table notebook</a>'\n",
              "            + ' to learn more about interactive tables.';\n",
              "          element.innerHTML = '';\n",
              "          dataTable['output_type'] = 'display_data';\n",
              "          await google.colab.output.renderOutput(dataTable, element);\n",
              "          const docLink = document.createElement('div');\n",
              "          docLink.innerHTML = docLinkHtml;\n",
              "          element.appendChild(docLink);\n",
              "        }\n",
              "      </script>\n",
              "    </div>\n",
              "  </div>\n",
              "  "
            ]
          },
          "metadata": {},
          "execution_count": 6
        }
      ]
    },
    {
      "cell_type": "code",
      "source": [
        "Ten_year_return = sp500['acum_return'].iloc[-1] * 100 - 100\n",
        "print(f'{Ten_year_return:.1f}%')"
      ],
      "metadata": {
        "colab": {
          "base_uri": "https://localhost:8080/"
        },
        "id": "iNiSjwH4ZX-T",
        "outputId": "ac5fffea-c194-40d4-9e85-996d924b7a28"
      },
      "execution_count": 9,
      "outputs": [
        {
          "output_type": "stream",
          "name": "stdout",
          "text": [
            "22431.8%\n"
          ]
        }
      ]
    },
    {
      "cell_type": "code",
      "source": [
        "mean_yearly_return = sp500['daily_return'].mean() * 100 * 365\n",
        "print(f'Retorno médio anual 10Y: {mean_yearly_return:.2f}%')"
      ],
      "metadata": {
        "colab": {
          "base_uri": "https://localhost:8080/"
        },
        "id": "4Hp1Sz46a9w2",
        "outputId": "5a71a927-8b3f-40a4-b210-7c3781a49f6e"
      },
      "execution_count": 19,
      "outputs": [
        {
          "output_type": "stream",
          "name": "stdout",
          "text": [
            "Retorno médio anual 10Y: 10.90%\n"
          ]
        }
      ]
    },
    {
      "cell_type": "code",
      "source": [
        "# calculando o retorno médio anual dos últimos 10 anos\n",
        "# obtendo o número de dias:\n",
        "n_days = len(sp500.index)\n",
        "\n",
        "# número de anos\n",
        "n_years = int(n_days/365)\n",
        "\n",
        "# calculando o retorno médio anual\n",
        "avg_annual_return = sp500['acum_return'].iloc[-1]**(1/n_years)-1\n",
        "\n",
        "# imprimindo o resultado\n",
        "print('Retorno médio anual dos últimos 10 anos: {:.2f}%'.format(avg_annual_return*100))"
      ],
      "metadata": {
        "id": "VpDNtFHyft0v"
      },
      "execution_count": null,
      "outputs": []
    },
    {
      "cell_type": "code",
      "metadata": {
        "id": "2EcfYwxlYTJ5"
      },
      "source": [
        "fig = go.Figure()\n",
        "fig.add_trace(go.Scatter(x=sp500.index, y=sp500['price']))\n",
        "fig.update_layout(yaxis_type=\"log\")\n",
        "fig.show()"
      ],
      "execution_count": null,
      "outputs": []
    },
    {
      "cell_type": "markdown",
      "metadata": {
        "id": "GC96d_vSHDFL"
      },
      "source": [
        "###Os melhores e piores dias do S&P500"
      ]
    },
    {
      "cell_type": "markdown",
      "metadata": {
        "id": "JhbU5hcyHWhx"
      },
      "source": [
        "Os 10 melhores dias"
      ]
    },
    {
      "cell_type": "code",
      "metadata": {
        "id": "hZU8NkVfZ6Wp"
      },
      "source": [
        "sp500_melhores = sp500['daily_return'].sort_values(ascending=False)[:10]\n",
        "sp500_melhores"
      ],
      "execution_count": null,
      "outputs": []
    },
    {
      "cell_type": "markdown",
      "metadata": {
        "id": "B13NkL37HwJR"
      },
      "source": [
        "Os 10 piores dias"
      ]
    },
    {
      "cell_type": "code",
      "metadata": {
        "id": "FCx6BpXqHyeJ"
      },
      "source": [
        "sp500_piores = sp500['daily_return'].sort_values(ascending=True)[:10]\n",
        "sp500_piores"
      ],
      "execution_count": null,
      "outputs": []
    },
    {
      "cell_type": "markdown",
      "metadata": {
        "id": "4GQnCFXdJ9Oa"
      },
      "source": [
        "###S&P500 **vs** S&P500 sem os 10 melhores dias **vs** S&P500 sem os 10 piores dias"
      ]
    },
    {
      "cell_type": "code",
      "metadata": {
        "id": "lgEmrsuLPSkz"
      },
      "source": [
        "sp500_sem_melhores_dias = (1 + sp500['daily_return'].drop(sp500_melhores.index)).cumprod()\n",
        "sp500_sem_piores_dias   = (1 + sp500['daily_return'].drop(sp500_piores.index)).cumprod()"
      ],
      "execution_count": null,
      "outputs": []
    },
    {
      "cell_type": "code",
      "metadata": {
        "id": "48IEZwPpNTAw"
      },
      "source": [
        "print(\"Retorno do S&P desde 1927:             {:.2%}\".format(sp500['acum_return'].iloc[-1] - 1))\n",
        "print(\"Retorno do S&P sem os 10 piores dias:  {:.2%}\".format(sp500_sem_piores_dias.iloc[-1] - 1))\n",
        "print(\"Retorno do S&P sem os 10 melhores dias: {:.2%}\".format(sp500_sem_melhores_dias.iloc[-1] - 1))"
      ],
      "execution_count": null,
      "outputs": []
    },
    {
      "cell_type": "code",
      "metadata": {
        "id": "_oZwl-sejVMa"
      },
      "source": [
        "fig = go.Figure()\n",
        "\n",
        "fig.add_trace(go.Scatter(x=sp500.index, y=sp500['acum_return'], name='S&P500'))\n",
        "fig.add_trace(go.Scatter(x=sp500_sem_melhores_dias.index, y=sp500_sem_melhores_dias.values,name='S&P500 sem 10 melhores dias'))\n",
        "fig.add_trace(go.Scatter(x=sp500_sem_melhores_dias.index, y=sp500_sem_piores_dias.values, name='S&P500 sem 10 piores dias'))\n",
        "\n",
        "#fig.update_layout(yaxis_type=\"log\")\n",
        "fig.show()"
      ],
      "execution_count": null,
      "outputs": []
    },
    {
      "cell_type": "markdown",
      "metadata": {
        "id": "vfM7CcoRQ6qX"
      },
      "source": [
        "##Índice Bovespa"
      ]
    },
    {
      "cell_type": "code",
      "metadata": {
        "id": "PMGarcxHQ6qY"
      },
      "source": [
        "ibov = yf.download('^BVSP', start='1995-01-01')[['Adj Close']]"
      ],
      "execution_count": null,
      "outputs": []
    },
    {
      "cell_type": "code",
      "metadata": {
        "id": "AVQWS6BnQ6qc"
      },
      "source": [
        "ibov = calcula_retorno(ibov)\n",
        "ibov"
      ],
      "execution_count": null,
      "outputs": []
    },
    {
      "cell_type": "code",
      "metadata": {
        "id": "qIfCPgjLQ6qe"
      },
      "source": [
        "fig = go.Figure()\n",
        "fig.add_trace(go.Scatter(x=ibov.index, y=ibov['price']))\n",
        "#fig.update_layout(yaxis_type=\"log\")\n",
        "fig.show()"
      ],
      "execution_count": null,
      "outputs": []
    },
    {
      "cell_type": "markdown",
      "metadata": {
        "id": "TrsyYZS-Q6qh"
      },
      "source": [
        "###Os melhores e piores dias do Índice Bovespa"
      ]
    },
    {
      "cell_type": "markdown",
      "metadata": {
        "id": "tifwj5BeQ6qh"
      },
      "source": [
        "Os 10 melhores dias"
      ]
    },
    {
      "cell_type": "code",
      "metadata": {
        "id": "SniZX2FbQ6qi"
      },
      "source": [
        "ibov_melhores = ibov['daily_return'].sort_values(ascending=False)[:10]\n",
        "ibov_melhores"
      ],
      "execution_count": null,
      "outputs": []
    },
    {
      "cell_type": "markdown",
      "metadata": {
        "id": "M7rbP8gaQ6qk"
      },
      "source": [
        "Os 10 piores dias"
      ]
    },
    {
      "cell_type": "code",
      "metadata": {
        "id": "raKyrFK7Q6qk"
      },
      "source": [
        "ibov_piores = ibov['daily_return'].sort_values(ascending=True)[:10]\n",
        "ibov_piores"
      ],
      "execution_count": null,
      "outputs": []
    },
    {
      "cell_type": "markdown",
      "metadata": {
        "id": "2TCN-TdcQ6qm"
      },
      "source": [
        "###IBOV **vs** IBOV sem os 10 melhores dias **vs** IBOV sem os 10 piores dias"
      ]
    },
    {
      "cell_type": "code",
      "metadata": {
        "id": "BC1tX3WCQ6qm"
      },
      "source": [
        "ibov_sem_melhores_dias = (1 + ibov['daily_return'].drop(ibov_melhores.index)).cumprod()\n",
        "ibov_sem_piores_dias   = (1 + ibov['daily_return'].drop(ibov_piores.index)).cumprod()"
      ],
      "execution_count": null,
      "outputs": []
    },
    {
      "cell_type": "code",
      "metadata": {
        "id": "kyx45cdCQ6qp"
      },
      "source": [
        "print(\"Retorno do IBOV desde 1995             : {:.2%}\".format(ibov['acum_return'].iloc[-1]     - 1))\n",
        "print(\"Retorno do IBOV sem os 10 piores dias  : {:.2%}\".format(ibov_sem_piores_dias.iloc[-1]    - 1))\n",
        "print(\"Retorno do IBOV sem os 10 melhores dias:  {:.2%}\".format(ibov_sem_melhores_dias.iloc[-1] - 1))"
      ],
      "execution_count": null,
      "outputs": []
    },
    {
      "cell_type": "code",
      "metadata": {
        "id": "kFVtLu-WQ6qr"
      },
      "source": [
        "fig = go.Figure()\n",
        "\n",
        "fig.add_trace(go.Scatter(x=ibov.index, y=ibov['acum_return'], name='IBOV'))\n",
        "fig.add_trace(go.Scatter(x=ibov_sem_melhores_dias.index, y=ibov_sem_melhores_dias.values,name='IBOV sem 10 melhores dias'))\n",
        "fig.add_trace(go.Scatter(x=ibov_sem_melhores_dias.index, y=ibov_sem_piores_dias.values, name='IBOV sem 10 piores dias'))\n",
        "\n",
        "#fig.update_layout(yaxis_type=\"log\")\n",
        "fig.show()"
      ],
      "execution_count": null,
      "outputs": []
    },
    {
      "cell_type": "markdown",
      "metadata": {
        "id": "gut19SJ6ci-1"
      },
      "source": [
        "##Insights\n",
        "\n",
        "\n"
      ]
    },
    {
      "cell_type": "markdown",
      "metadata": {
        "id": "tiwzEmhle7mG"
      },
      "source": [
        "\n",
        "No mercado de ações, alguns poucos dias podem fazer muita diferença no resultado de longo prazo:\n",
        "\n",
        "1. Limitar suas perdas pode aumentar consideravelmente seu retorno final\n",
        "\n",
        "2. Estar fora do mercado pode custar muito caro"
      ]
    }
  ]
}
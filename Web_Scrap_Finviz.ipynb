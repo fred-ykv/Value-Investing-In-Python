{
  "cells": [
    {
      "cell_type": "markdown",
      "metadata": {
        "id": "view-in-github",
        "colab_type": "text"
      },
      "source": [
        "<a href=\"https://colab.research.google.com/github/fred-ykv/Value-Investing-In-Python/blob/master/Web_Scrap_Finviz.ipynb\" target=\"_parent\"><img src=\"https://colab.research.google.com/assets/colab-badge.svg\" alt=\"Open In Colab\"/></a>"
      ]
    },
    {
      "cell_type": "code",
      "execution_count": 1155,
      "metadata": {
        "id": "wY-LWbMOurgX"
      },
      "outputs": [],
      "source": [
        "import pandas as pd\n",
        "import numpy as np\n",
        "from bs4 import BeautifulSoup as soup\n",
        "from urllib.request import Request, urlopen\n",
        "\n",
        "pd.set_option('display.max_colwidth', 25)"
      ]
    },
    {
      "cell_type": "markdown",
      "metadata": {
        "id": "mwlgWGhPu6Pb"
      },
      "source": [
        "# Entrada do Ticker"
      ]
    },
    {
      "cell_type": "code",
      "execution_count": 1156,
      "metadata": {
        "colab": {
          "base_uri": "https://localhost:8080/"
        },
        "id": "4w94Nzhiu2vs",
        "outputId": "7ba73c46-edb1-459f-87d7-e552a7a6ec8e"
      },
      "outputs": [
        {
          "output_type": "stream",
          "name": "stdout",
          "text": [
            "Enter a ticker: MLI\n",
            "Getting data for MLI...\n",
            "\n"
          ]
        }
      ],
      "source": [
        "symbol = input('Enter a ticker: ')\n",
        "print ('Getting data for ' + symbol + '...\\n')"
      ]
    },
    {
      "cell_type": "markdown",
      "metadata": {
        "id": "rIwGESCovDR5"
      },
      "source": [
        "# Set up scraper"
      ]
    },
    {
      "cell_type": "code",
      "execution_count": 1157,
      "metadata": {
        "id": "mBHiAQp_u_Mq"
      },
      "outputs": [],
      "source": [
        "url = (\"http://finviz.com/quote.ashx?t=\" + symbol.lower())\n",
        "req = Request(url, headers={'User-Agent': 'Mozilla/5.0'})\n",
        "webpage = urlopen(req).read()\n",
        "html = soup(webpage, \"html.parser\")"
      ]
    },
    {
      "cell_type": "code",
      "execution_count": 1158,
      "metadata": {
        "id": "AFOQbAnpvGoC"
      },
      "outputs": [],
      "source": [
        "def get_fundamentals():\n",
        "    try:\n",
        "        # Find fundamentals table\n",
        "        fundamentals = pd.read_html(str(html), attrs = {'class': 'snapshot-table2'})[0]\n",
        "        \n",
        "        # Clean up fundamentals dataframe\n",
        "        fundamentals.columns = ['0', '1', '2', '3', '4', '5', '6', '7', '8', '9', '10', '11']\n",
        "        colOne = []\n",
        "        colLength = len(fundamentals)\n",
        "        for k in np.arange(0, colLength, 2):\n",
        "            colOne.append(fundamentals[f'{k}'])\n",
        "        attrs = pd.concat(colOne, ignore_index=True)\n",
        "    \n",
        "        colTwo = []\n",
        "        colLength = len(fundamentals)\n",
        "        for k in np.arange(1, colLength, 2):\n",
        "            colTwo.append(fundamentals[f'{k}'])\n",
        "        vals = pd.concat(colTwo, ignore_index=True)\n",
        "        \n",
        "        fundamentals = pd.DataFrame()\n",
        "        fundamentals['Attributes'] = attrs\n",
        "        fundamentals['Values'] = vals\n",
        "        fundamentals = fundamentals.set_index('Attributes')\n",
        "        return fundamentals\n",
        "\n",
        "    except Exception as e:\n",
        "        return e"
      ]
    },
    {
      "cell_type": "code",
      "execution_count": 1159,
      "metadata": {
        "id": "hsCMRBm9vQIJ"
      },
      "outputs": [],
      "source": [
        "def get_news():\n",
        "    try:\n",
        "        # Find news table\n",
        "        news = pd.read_html(str(html), attrs = {'class': 'fullview-news-outer'})[0]\n",
        "        links = []\n",
        "        for a in html.find_all('a', class_=\"tab-link-news\"):\n",
        "            links.append(a['href'])\n",
        "        \n",
        "        # Clean up news dataframe\n",
        "        news.columns = ['Date', 'News Headline']\n",
        "        news['Article Link'] = links\n",
        "        news = news.set_index('Date')\n",
        "        return news\n",
        "\n",
        "    except Exception as e:\n",
        "        return e"
      ]
    },
    {
      "cell_type": "code",
      "execution_count": 1160,
      "metadata": {
        "id": "2rphDYZIv8CI"
      },
      "outputs": [],
      "source": [
        "def get_insider():\n",
        "    try:\n",
        "        # Find insider table\n",
        "        insider = pd.read_html(str(html), attrs = {'class': 'body-table'})[0]\n",
        "        \n",
        "        # Clean up insider dataframe\n",
        "        insider = insider.iloc[1:]\n",
        "        insider.columns = ['Trader', 'Relationship', 'Date', 'Transaction', 'Cost', '# Shares', 'Value ($)', '# Shares Total', 'SEC Form 4']\n",
        "        insider = insider[['Date', 'Trader', 'Relationship', 'Transaction', 'Cost', '# Shares', 'Value ($)', '# Shares Total', 'SEC Form 4']]\n",
        "        insider = insider.set_index('Date')\n",
        "        return insider\n",
        "\n",
        "    except Exception as e:\n",
        "        return e"
      ]
    },
    {
      "cell_type": "code",
      "execution_count": 1161,
      "metadata": {
        "colab": {
          "base_uri": "https://localhost:8080/"
        },
        "id": "h_oQvoE4v_GP",
        "outputId": "9c36f2a5-9df5-4bea-84fd-a467255f12c9"
      },
      "outputs": [
        {
          "output_type": "stream",
          "name": "stdout",
          "text": [
            "Fundamental Ratios: \n",
            "                 Values\n",
            "Attributes             \n",
            "Index                 -\n",
            "Market Cap        4.24B\n",
            "Income          658.30M\n",
            "Sales             3.98B\n",
            "Book/sh           29.24\n",
            "...                 ...\n",
            "ATR                2.02\n",
            "Volatility  2.53% 3.25%\n",
            "Prev Close        74.20\n",
            "Price             74.58\n",
            "Change            0.51%\n",
            "\n",
            "[72 rows x 1 columns]\n"
          ]
        }
      ],
      "source": [
        "print ('Fundamental Ratios: ')\n",
        "print(get_fundamentals())"
      ]
    },
    {
      "cell_type": "code",
      "execution_count": 1162,
      "metadata": {
        "colab": {
          "base_uri": "https://localhost:8080/"
        },
        "id": "zDzZXoVlwBcv",
        "outputId": "651d588f-55e8-44fb-fba9-ef0df40e7c2a"
      },
      "outputs": [
        {
          "output_type": "stream",
          "name": "stdout",
          "text": [
            "\n",
            "Recent News: \n",
            "Length of values (100) does not match length of index (103)\n"
          ]
        }
      ],
      "source": [
        "print ('\\nRecent News: ')\n",
        "print(get_news())"
      ]
    },
    {
      "cell_type": "code",
      "execution_count": 1163,
      "metadata": {
        "colab": {
          "base_uri": "https://localhost:8080/"
        },
        "id": "4hptH8LYwEUv",
        "outputId": "2ffb1040-c0b5-486a-c414-8303c0628cb5"
      },
      "outputs": [
        {
          "output_type": "stream",
          "name": "stdout",
          "text": [
            "\n",
            "Recent Insider Trades: \n",
            "                          Trader              Relationship      Transaction  \\\n",
            "Date                                                                          \n",
            "Feb 09             HANSEN JOHN B                  Director             Sale   \n",
            "Feb 07    Christopher Gregory L.  Chairman of the Board...             Sale   \n",
            "Dec 20  Miritello Christopher...  VP, General Counsel, ...  Option Exercise   \n",
            "Nov 23             HANSEN JOHN B                  Director             Sale   \n",
            "Oct 20             HANSEN JOHN B                  Director             Sale   \n",
            "Oct 20             HANSEN JOHN B                  Director             Sale   \n",
            "Aug 25             HANSEN JOHN B                  Director             Sale   \n",
            "Aug 09             HANSEN JOHN B                  Director             Sale   \n",
            "Jul 26             HANSEN JOHN B                  Director             Sale   \n",
            "Apr 21             HANSEN JOHN B                  Director             Sale   \n",
            "Apr 12          GLADSTEIN GARY S                  Director  Option Exercise   \n",
            "Mar 01         GOLDMAN SCOTT JAY                  Director             Sale   \n",
            "\n",
            "         Cost # Shares Value ($) # Shares Total       SEC Form 4  \n",
            "Date                                                              \n",
            "Feb 09  73.43     1778    130555          54107  Feb 09 04:01 PM  \n",
            "Feb 07  74.16    55381   4107247         625784  Feb 09 01:25 PM  \n",
            "Dec 20  24.58     3000     73740          43580  Dec 22 10:27 AM  \n",
            "Nov 23  68.94     1000     68944          55885  Nov 23 11:18 AM  \n",
            "Oct 20  63.13     1000     63130          56885  Oct 24 09:47 AM  \n",
            "Oct 20  63.13      500     31564          12500  Oct 24 09:47 AM  \n",
            "Aug 25  67.02     1000     67016          57885  Aug 26 10:33 AM  \n",
            "Aug 09  67.67     1000     67670          58885  Aug 10 04:22 PM  \n",
            "Jul 26  64.27     1000     64272          59885  Jul 26 04:11 PM  \n",
            "Apr 21  60.33     2000    120660          57885  Apr 21 11:01 AM  \n",
            "Apr 12  18.97     4889     92744         138140  Apr 13 09:39 AM  \n",
            "Mar 01  57.11     2500    142775          17590  Mar 02 11:32 AM  \n"
          ]
        }
      ],
      "source": [
        "print ('\\nRecent Insider Trades: ')\n",
        "print(get_insider())"
      ]
    },
    {
      "cell_type": "code",
      "execution_count": 1164,
      "metadata": {
        "colab": {
          "base_uri": "https://localhost:8080/"
        },
        "id": "OsnhT191eMsD",
        "outputId": "8d26640b-400f-43bc-8177-27d66d91210d"
      },
      "outputs": [
        {
          "output_type": "stream",
          "name": "stdout",
          "text": [
            "\n",
            "Fundamental Ratios: \n",
            "                 Values\n",
            "Attributes             \n",
            "Index                 -\n",
            "Market Cap        4.24B\n",
            "Income          658.30M\n",
            "Sales             3.98B\n",
            "Book/sh           29.24\n",
            "...                 ...\n",
            "ATR                2.02\n",
            "Volatility  2.53% 3.25%\n",
            "Prev Close        74.20\n",
            "Price             74.58\n",
            "Change            0.51%\n",
            "\n",
            "[72 rows x 1 columns]\n",
            "\n",
            "Recent News: \n",
            "Length of values (100) does not match length of index (103)\n",
            "\n",
            "Recent Insider Trades: \n",
            "                          Trader              Relationship      Transaction  \\\n",
            "Date                                                                          \n",
            "Feb 09             HANSEN JOHN B                  Director             Sale   \n",
            "Feb 07    Christopher Gregory L.  Chairman of the Board...             Sale   \n",
            "Dec 20  Miritello Christopher...  VP, General Counsel, ...  Option Exercise   \n",
            "Nov 23             HANSEN JOHN B                  Director             Sale   \n",
            "Oct 20             HANSEN JOHN B                  Director             Sale   \n",
            "Oct 20             HANSEN JOHN B                  Director             Sale   \n",
            "Aug 25             HANSEN JOHN B                  Director             Sale   \n",
            "Aug 09             HANSEN JOHN B                  Director             Sale   \n",
            "Jul 26             HANSEN JOHN B                  Director             Sale   \n",
            "Apr 21             HANSEN JOHN B                  Director             Sale   \n",
            "Apr 12          GLADSTEIN GARY S                  Director  Option Exercise   \n",
            "Mar 01         GOLDMAN SCOTT JAY                  Director             Sale   \n",
            "\n",
            "         Cost # Shares Value ($) # Shares Total       SEC Form 4  \n",
            "Date                                                              \n",
            "Feb 09  73.43     1778    130555          54107  Feb 09 04:01 PM  \n",
            "Feb 07  74.16    55381   4107247         625784  Feb 09 01:25 PM  \n",
            "Dec 20  24.58     3000     73740          43580  Dec 22 10:27 AM  \n",
            "Nov 23  68.94     1000     68944          55885  Nov 23 11:18 AM  \n",
            "Oct 20  63.13     1000     63130          56885  Oct 24 09:47 AM  \n",
            "Oct 20  63.13      500     31564          12500  Oct 24 09:47 AM  \n",
            "Aug 25  67.02     1000     67016          57885  Aug 26 10:33 AM  \n",
            "Aug 09  67.67     1000     67670          58885  Aug 10 04:22 PM  \n",
            "Jul 26  64.27     1000     64272          59885  Jul 26 04:11 PM  \n",
            "Apr 21  60.33     2000    120660          57885  Apr 21 11:01 AM  \n",
            "Apr 12  18.97     4889     92744         138140  Apr 13 09:39 AM  \n",
            "Mar 01  57.11     2500    142775          17590  Mar 02 11:32 AM  \n"
          ]
        }
      ],
      "source": [
        "print ('\\nFundamental Ratios: ')\n",
        "print(get_fundamentals())\n",
        "\n",
        "print ('\\nRecent News: ')\n",
        "print(get_news())\n",
        "\n",
        "print ('\\nRecent Insider Trades: ')\n",
        "print(get_insider())"
      ]
    },
    {
      "cell_type": "code",
      "execution_count": 1165,
      "metadata": {
        "colab": {
          "base_uri": "https://localhost:8080/"
        },
        "id": "czgejvytfcKR",
        "outputId": "943b97f0-6d09-4d11-85d1-171ee9cc48f9"
      },
      "outputs": [
        {
          "output_type": "stream",
          "name": "stdout",
          "text": [
            "Fundamental Ratios: \n",
            "Values    4.24B\n",
            "Name: Market Cap, dtype: object\n"
          ]
        }
      ],
      "source": [
        "print ('Fundamental Ratios: ')\n",
        "fundamentals = get_fundamentals()\n",
        "if 'Market Cap' in fundamentals.index:\n",
        "    print(fundamentals.loc['Market Cap'])\n",
        "else:\n",
        "    print('Market Cap is not listed.')"
      ]
    },
    {
      "cell_type": "code",
      "execution_count": 1166,
      "metadata": {
        "colab": {
          "base_uri": "https://localhost:8080/"
        },
        "id": "P2iO87-LBg6f",
        "outputId": "d03cef4f-aca3-4fdd-e3ed-553d4181c3f9"
      },
      "outputs": [
        {
          "output_type": "stream",
          "name": "stdout",
          "text": [
            "Market Cap: 4240000000\n"
          ]
        }
      ],
      "source": [
        "market_cap_str = fundamentals.loc['Market Cap']['Values']\n",
        "market_cap_str = market_cap_str.strip()\n",
        "\n",
        "if market_cap_str[-1] == 'B':\n",
        "    market_cap = float(market_cap_str[:-1]) * 1000000000\n",
        "elif market_cap_str[-1] == 'M':\n",
        "    market_cap = float(market_cap_str[:-1]) * 1000000\n",
        "else:\n",
        "    market_cap = float(market_cap_str)\n",
        "\n",
        "print(f'Market Cap: {int(market_cap)}')"
      ]
    },
    {
      "cell_type": "code",
      "execution_count": 1167,
      "metadata": {
        "colab": {
          "base_uri": "https://localhost:8080/"
        },
        "id": "4pCYwoB3DCtJ",
        "outputId": "0de163f6-6f12-4d0d-c927-cb2c2d242222"
      },
      "outputs": [
        {
          "output_type": "stream",
          "name": "stdout",
          "text": [
            "ROI: 0,4\n"
          ]
        }
      ],
      "source": [
        "roi_str = fundamentals.loc['ROI']['Values']\n",
        "roi_str = roi_str.replace('%', '')\n",
        "roi = float(roi_str)\n",
        "roi_perc = roi/100\n",
        "roi_perc_str = str(roi_perc).replace('.', ',')\n",
        "\n",
        "print(f'ROI: {roi_perc_str}')"
      ]
    },
    {
      "cell_type": "code",
      "execution_count": 1168,
      "metadata": {
        "colab": {
          "base_uri": "https://localhost:8080/"
        },
        "id": "12kaNIYxWh6P",
        "outputId": "8b289880-8709-479e-d128-93b3286be549"
      },
      "outputs": [
        {
          "output_type": "stream",
          "name": "stdout",
          "text": [
            "ROE: 0,462\n"
          ]
        }
      ],
      "source": [
        "roe_str = fundamentals.loc['ROE']['Values']\n",
        "roe_str = roe_str.replace('%', '')\n",
        "roe = float(roe_str)\n",
        "roe_perc = roe/100\n",
        "roe_perc_str = str(roe_perc).replace('.', ',')\n",
        "\n",
        "print(f'ROE: {roe_perc_str}')"
      ]
    },
    {
      "cell_type": "code",
      "execution_count": 1169,
      "metadata": {
        "colab": {
          "base_uri": "https://localhost:8080/"
        },
        "id": "U96m0qdGX_RG",
        "outputId": "eb79adb0-c869-4f71-b4f7-eb33c504e35a"
      },
      "outputs": [
        {
          "output_type": "stream",
          "name": "stdout",
          "text": [
            "Payout: 0,064\n"
          ]
        }
      ],
      "source": [
        "payout_str = fundamentals.loc['Payout']['Values']\n",
        "payout_str = payout_str.replace('%', '')\n",
        "payout = float(payout_str)\n",
        "payout_perc = payout/100\n",
        "payout_perc_str = str(payout_perc).replace('.', ',')\n",
        "\n",
        "print(f'Payout: {payout_perc_str}')"
      ]
    },
    {
      "cell_type": "code",
      "execution_count": 1170,
      "metadata": {
        "colab": {
          "base_uri": "https://localhost:8080/"
        },
        "id": "AHUhWXBCY1jQ",
        "outputId": "a1ab22fb-28a9-4912-e5d8-996ac207603f"
      },
      "outputs": [
        {
          "output_type": "stream",
          "name": "stdout",
          "text": [
            "Dividend %: 0,016200000000000003\n"
          ]
        }
      ],
      "source": [
        "div_str = fundamentals.loc['Dividend %']['Values']\n",
        "div_str = div_str.replace('%', '')\n",
        "div = float(div_str)\n",
        "div_perc = div/100\n",
        "div_perc_str = str(div_perc).replace('.', ',')\n",
        "\n",
        "print(f'Dividend %: {div_perc_str}')"
      ]
    },
    {
      "cell_type": "code",
      "execution_count": 1171,
      "metadata": {
        "colab": {
          "base_uri": "https://localhost:8080/"
        },
        "id": "-YRa_nTckNnm",
        "outputId": "7e8dfaa2-ff3b-46a1-bbdc-4475e74e4dc6"
      },
      "outputs": [
        {
          "output_type": "stream",
          "name": "stdout",
          "text": [
            "EPS next 5: 0,12\n"
          ]
        }
      ],
      "source": [
        "epsn5_str = fundamentals.loc['EPS next 5Y']['Values']\n",
        "epsn5_str = epsn5_str.replace('%', '')\n",
        "epsn5 = float(epsn5_str)\n",
        "epsn5_perc = epsn5/100\n",
        "epsn5_perc_str = str(epsn5_perc).replace('.', ',')\n",
        "\n",
        "print(f'EPS next 5: {epsn5_perc_str}')"
      ]
    },
    {
      "cell_type": "code",
      "execution_count": 1172,
      "metadata": {
        "colab": {
          "base_uri": "https://localhost:8080/"
        },
        "id": "cAa6nJ-WZTCX",
        "outputId": "ae397d8f-2f04-4b37-bd70-3f09f909c265"
      },
      "outputs": [
        {
          "output_type": "stream",
          "name": "stdout",
          "text": [
            "EPS: 11,64\n"
          ]
        }
      ],
      "source": [
        "eps_str = fundamentals.loc['EPS (ttm)']['Values']\n",
        "eps = float(eps_str)\n",
        "eps_str = str(eps).replace('.', ',')\n",
        "\n",
        "print(f'EPS: {eps_str}')"
      ]
    },
    {
      "cell_type": "code",
      "execution_count": 1173,
      "metadata": {
        "colab": {
          "base_uri": "https://localhost:8080/"
        },
        "id": "qW2zDMpUNKHc",
        "outputId": "c931f6df-12dc-4a24-eaf8-373d5f24b179"
      },
      "outputs": [
        {
          "output_type": "stream",
          "name": "stdout",
          "text": [
            "LPA: 29.24\n"
          ]
        }
      ],
      "source": [
        "LPA_str = fundamentals.loc['Book/sh']['Values']\n",
        "LPA = float(LPA_str)\n",
        "LPA_str = str(LPA).replace('.', ',')\n",
        "\n",
        "print(f'LPA: {LPA}')\n"
      ]
    },
    {
      "cell_type": "code",
      "execution_count": 1174,
      "metadata": {
        "colab": {
          "base_uri": "https://localhost:8080/"
        },
        "id": "rMK_D4b2OMI-",
        "outputId": "cbcf2506-a3f6-438f-baa8-63aa92f507c8"
      },
      "outputs": [
        {
          "output_type": "stream",
          "name": "stdout",
          "text": [
            "O valor intrínseco da ação é de $87.51\n"
          ]
        }
      ],
      "source": [
        "import math\n",
        "\n",
        "eps = float(eps)\n",
        "LPA = float(LPA)\n",
        "\n",
        "# Calcular o valor intrínseco em dólar\n",
        "valor_intrinseco = math.sqrt(eps * LPA * 22.5)\n",
        "\n",
        "print(f\"O valor intrínseco da ação é de ${valor_intrinseco:.2f}\")\n"
      ]
    },
    {
      "cell_type": "code",
      "execution_count": 1175,
      "metadata": {
        "colab": {
          "base_uri": "https://localhost:8080/"
        },
        "id": "GlsIfPO5PG21",
        "outputId": "fe0806f1-4889-4463-993c-8830ec87ff69"
      },
      "outputs": [
        {
          "output_type": "stream",
          "name": "stdout",
          "text": [
            "Preço Atual: 74,58\n"
          ]
        }
      ],
      "source": [
        " price_str = fundamentals.loc['Price']['Values']\n",
        " price = float(price_str)\n",
        " price_str = str(price).replace('.', ',')\n",
        "\n",
        "print(f'Preço Atual: {price_str}')"
      ]
    },
    {
      "cell_type": "code",
      "execution_count": 1176,
      "metadata": {
        "colab": {
          "base_uri": "https://localhost:8080/"
        },
        "id": "EEcHx3PiSHxb",
        "outputId": "9475d256-31a8-4f4f-c27c-97cf6c1d6908"
      },
      "outputs": [
        {
          "output_type": "stream",
          "name": "stdout",
          "text": [
            "Valor intrínseco: $87.51\n",
            "Preço atual: $74.58\n",
            "Diferença: $12.93\n",
            "Diferença percentual: 14.78% deságio\n",
            "Recomendação: Compra\n"
          ]
        }
      ],
      "source": [
        "# Calcular a diferença entre o valor intrínseco e o preço atual\n",
        "diferenca = valor_intrinseco - price\n",
        "\n",
        "# Calcular a diferença percentual\n",
        "dif_percentual = diferenca / valor_intrinseco * 100\n",
        "\n",
        "# Verificar se está com ágio ou deságio\n",
        "if price > valor_intrinseco:\n",
        "    agio_desagio = 'ágio'\n",
        "else:\n",
        "    agio_desagio = 'deságio'\n",
        "\n",
        "# Exibir os resultados\n",
        "print(f\"Valor intrínseco: ${valor_intrinseco:.2f}\")\n",
        "print(f\"Preço atual: ${price:.2f}\")\n",
        "print(f\"Diferença: ${diferenca:.2f}\")\n",
        "print(f\"Diferença percentual: {dif_percentual:.2f}% {agio_desagio}\")\n",
        "\n",
        "if agio_desagio == 'ágio':\n",
        "    recomendacao = 'Recomendação: Venda'\n",
        "else:\n",
        "    recomendacao = 'Recomendação: Compra'\n",
        "\n",
        "print(recomendacao)"
      ]
    },
    {
      "cell_type": "code",
      "execution_count": 1177,
      "metadata": {
        "colab": {
          "base_uri": "https://localhost:8080/"
        },
        "id": "W3VZTjvNXE2N",
        "outputId": "381babf8-179d-4bc5-a50f-f162eba135ad"
      },
      "outputs": [
        {
          "output_type": "stream",
          "name": "stdout",
          "text": [
            "Beta: 1,12\n"
          ]
        }
      ],
      "source": [
        "beta_str = fundamentals.loc['Beta']['Values']\n",
        "beta = float(beta_str)\n",
        "beta_str = str(beta).replace('.', ',')\n",
        "\n",
        "print(f'Beta: {beta_str}')"
      ]
    },
    {
      "cell_type": "code",
      "execution_count": 1178,
      "metadata": {
        "colab": {
          "base_uri": "https://localhost:8080/"
        },
        "id": "S8yaXG1nXx0r",
        "outputId": "e48dfa7d-8e93-4785-940a-b18e48cf6de7"
      },
      "outputs": [
        {
          "output_type": "stream",
          "name": "stdout",
          "text": [
            "Taxa de Reinvestimento LL: 0,9359999999999999\n"
          ]
        }
      ],
      "source": [
        "tax_reinvest_ll = 1 - payout_perc\n",
        "tax_reinvest_ll_str = str(tax_reinvest_ll).replace('.', ',')\n",
        "\n",
        "print(f'Taxa de Reinvestimento LL: {tax_reinvest_ll_str}')"
      ]
    },
    {
      "cell_type": "code",
      "execution_count": 1179,
      "metadata": {
        "colab": {
          "base_uri": "https://localhost:8080/"
        },
        "id": "ZFKNRQlJBwhs",
        "outputId": "1573942d-90d3-459f-aa3d-7e157c034305"
      },
      "outputs": [
        {
          "output_type": "stream",
          "name": "stdout",
          "text": [
            "gLL: 0,432432\n"
          ]
        }
      ],
      "source": [
        "roe_str = fundamentals.loc['ROE']['Values']\n",
        "roe_str = roe_str.replace('%', '')\n",
        "roe = float(roe_str)\n",
        "roe_perc = roe/100\n",
        "\n",
        "gll = tax_reinvest_ll*roe_perc\n",
        "gll_str = str(gll).replace('.', ',')\n",
        "\n",
        "print(f'gLL: {gll_str}')"
      ]
    },
    {
      "cell_type": "code",
      "execution_count": 1180,
      "metadata": {
        "colab": {
          "base_uri": "https://localhost:8080/"
        },
        "id": "FQ_5vMvUDoMp",
        "outputId": "0cdb7ddb-582b-44ec-9edf-7e907ef6180a"
      },
      "outputs": [
        {
          "output_type": "stream",
          "name": "stdout",
          "text": [
            "Ganho de Alavancagem: 0,062\n"
          ]
        }
      ],
      "source": [
        "gain_leverage = roe_perc - roi_perc\n",
        "gain_leverage_str = str(gain_leverage).replace('.', ',')\n",
        "\n",
        "print(f'Ganho de Alavancagem: {gain_leverage_str}')"
      ]
    },
    {
      "cell_type": "code",
      "execution_count": 1181,
      "metadata": {
        "colab": {
          "base_uri": "https://localhost:8080/"
        },
        "id": "p6eTgz40PCVP",
        "outputId": "9af87add-3230-422f-9cd2-bcf270b4c954"
      },
      "outputs": [
        {
          "output_type": "stream",
          "name": "stdout",
          "text": [
            "Grau de Alavancagem Financeira: 1,155\n"
          ]
        }
      ],
      "source": [
        "gaf = roe_perc/roi_perc\n",
        "gaf_str = str(gaf).replace('.', ',')\n",
        "\n",
        "print(f'Grau de Alavancagem Financeira: {gaf_str}')"
      ]
    },
    {
      "cell_type": "code",
      "execution_count": 1182,
      "metadata": {
        "colab": {
          "base_uri": "https://localhost:8080/"
        },
        "id": "NTYB9ICbJpfP",
        "outputId": "c5373c25-9616-49f7-8efe-94501b1c270b"
      },
      "outputs": [
        {
          "output_type": "stream",
          "name": "stdout",
          "text": [
            "Taxa de Juros Livre de Risco (Rf): 3,92%\n"
          ]
        }
      ],
      "source": [
        "# Requisição Url\n",
        "url = \"https://ycharts.com/indicators/10_year_treasury_rate\"\n",
        "req = Request(url, headers={'User-Agent': 'Mozilla/5.0'})\n",
        "webpage = urlopen(req).read()\n",
        "\n",
        "# Parser\n",
        "html = soup(webpage, \"html.parser\")\n",
        "\n",
        "# Buscando Valor\n",
        "xpath = '/html/body/main/div/div[2]/div/div/div[2]'\n",
        "value_elem = html.find('div', {'class':'key-stat-title'}).get_text()\n",
        "\n",
        "if value_elem is not None:\n",
        "    value = value_elem.strip()\n",
        "    value = value.split(' ')[0] # Removendo Strings\n",
        "    value = value.replace('%', '')\n",
        "\n",
        "    # Removendo Caracteres\n",
        "    Rf = float(value.replace(',', '.'))\n",
        "    Rf_str = str(Rf).replace('.', ',') + '%' # Corrigindo Erro\n",
        "\n",
        "    print(f'Taxa de Juros Livre de Risco (Rf): {Rf_str}')"
      ]
    },
    {
      "cell_type": "code",
      "execution_count": 1183,
      "metadata": {
        "colab": {
          "base_uri": "https://localhost:8080/"
        },
        "id": "vaOXnTfIhKZL",
        "outputId": "2e06f241-705d-4494-88a7-2604150e4451"
      },
      "outputs": [
        {
          "output_type": "stream",
          "name": "stdout",
          "text": [
            "Taxa de Inflação Americana:: 6,41%\n"
          ]
        }
      ],
      "source": [
        "# Requisição Url\n",
        "url = \"https://ycharts.com/indicators/us_consumer_price_index_yoy\"\n",
        "req = Request(url, headers={'User-Agent': 'Mozilla/5.0'})\n",
        "webpage = urlopen(req).read()\n",
        "\n",
        "# Parser\n",
        "html = soup(webpage, \"html.parser\")\n",
        "\n",
        "# Buscando Valor\n",
        "xpath = '/html/body/main/div/div[2]/div/div/div[2]'\n",
        "value_elem = html.find('div', {'class':'key-stat-title'}).get_text()\n",
        "\n",
        "if value_elem is not None:\n",
        "    value = value_elem.strip()\n",
        "    value = value.split(' ')[0] # Removendo Strings\n",
        "    value = value.replace('%', '')\n",
        "\n",
        "    # Removendo Caracteres\n",
        "    inflation = float(value.replace(',', '.'))\n",
        "    inflation_str = str(inflation).replace('.', ',') + '%' # Corrigindo Erro\n",
        "\n",
        "    print(f'Taxa de Inflação Americana:: {inflation_str}')"
      ]
    },
    {
      "cell_type": "code",
      "execution_count": 1184,
      "metadata": {
        "colab": {
          "base_uri": "https://localhost:8080/"
        },
        "id": "WrolaS5zoty5",
        "outputId": "92311e6a-561d-43db-b5d6-68f47b200b6a"
      },
      "outputs": [
        {
          "output_type": "stream",
          "name": "stdout",
          "text": [
            "Taxa de Juros Livre de Risco (Rf): 3,53%\n"
          ]
        }
      ],
      "source": [
        "url = 'https://ycharts.com/indicators/us_10year_government_bond_interest_rate'\n",
        "req = Request(url, headers={'User-Agent': 'Mozilla/5.0'})\n",
        "webpage = urlopen(req).read()\n",
        "html = soup(webpage, \"html.parser\")\n",
        "\n",
        "xpath = '/html/body/main/div/div[2]/div/div/div[2]'\n",
        "value_elem = html.find('div', {'class':'key-stat-title'}).get_text()\n",
        "\n",
        "if value_elem is not None:\n",
        "    value = value_elem.strip()\n",
        "    value = value.split(' ')[0] # Removendo Strings\n",
        "    value = value.replace('%', '')\n",
        "\n",
        "    # Removendo Caracteres\n",
        "    interest_rate = float(value.replace(',', '.'))\n",
        "    interest_rate_str = str(interest_rate).replace('.', ',') + '%' # Corrigindo Erro\n",
        "\n",
        "    print(f'Taxa de Juros Livre de Risco (Rf): {interest_rate_str}')"
      ]
    },
    {
      "cell_type": "code",
      "execution_count": 1185,
      "metadata": {
        "colab": {
          "base_uri": "https://localhost:8080/"
        },
        "id": "h7iBvQAXz6td",
        "outputId": "829190aa-60a0-4a03-8b63-7cd53659043c"
      },
      "outputs": [
        {
          "output_type": "stream",
          "name": "stdout",
          "text": [
            "Retorno Carteira de Mercado (Rm): 0,13535\n"
          ]
        }
      ],
      "source": [
        "# Set up scraper\n",
        "url = 'https://www.investing.com/rates-bonds/brazil-1-year-bond-yield'\n",
        "req = Request(url, headers={'User-Agent': 'Mozilla/5.0'})\n",
        "webpage = urlopen(req).read()\n",
        "html = soup(webpage, \"html.parser\")\n",
        "\n",
        "rm_str = html.find('span', {'class': 'arial_26 inlineblock pid-24024-last'})\n",
        "rm = float(rm_str.text)\n",
        "rm_perc = rm/100\n",
        "rm_perc_str = str(rm_perc).replace('.', ',')\n",
        "\n",
        "print(f'Retorno Carteira de Mercado (Rm): {rm_perc_str}')"
      ]
    },
    {
      "cell_type": "code",
      "execution_count": 1186,
      "metadata": {
        "colab": {
          "base_uri": "https://localhost:8080/"
        },
        "id": "MSITK02r7exL",
        "outputId": "0e6064b3-8846-4ad1-9d0a-94c57c238502"
      },
      "outputs": [
        {
          "output_type": "stream",
          "name": "stdout",
          "text": [
            "Taxa de Inflação Brasil (%) : 5,77%\n"
          ]
        }
      ],
      "source": [
        "# Set up scraper\n",
        "url = 'https://br.investing.com/economic-calendar/brazilian-cpi-410'\n",
        "req = Request(url, headers={'User-Agent': 'Mozilla/5.0'})\n",
        "webpage = urlopen(req).read()\n",
        "html = soup(webpage, \"html.parser\")\n",
        "\n",
        "inflation_str = html.find('div', {'class': 'arial_14 redFont'})\n",
        "inflation = float(inflation_str.text.replace(',', '.').replace('%', ''))\n",
        "inflation_perc_str = str(inflation).replace('.', ',')\n",
        "\n",
        "print(f'Taxa de Inflação Brasil (%) : {inflation_perc_str}%')"
      ]
    },
    {
      "cell_type": "markdown",
      "metadata": {
        "id": "GhZCj1Utv5KY"
      },
      "source": [
        "# **Balanço Patrimonial**"
      ]
    },
    {
      "cell_type": "code",
      "execution_count": 1187,
      "metadata": {
        "colab": {
          "base_uri": "https://localhost:8080/"
        },
        "id": "E8e37lRbv6gi",
        "outputId": "217c4ab7-75d6-4a9a-c0b9-74e403b133fe"
      },
      "outputs": [
        {
          "output_type": "stream",
          "name": "stdout",
          "text": [
            "[]\n",
            "['Strong Buy', '24.28%']\n",
            "['Buy', '17.83%']\n",
            "['Hold', '9.19%']\n",
            "['Sell', '5.00%']\n",
            "['Strong Sell', '2.16%']\n",
            "['500', '10.51%']\n",
            "['A']\n",
            "['A']\n",
            "['A']\n",
            "['A']\n",
            "[]\n",
            "['Assets', '\\xa0', '\\xa0', '\\xa0', '\\xa0', '\\xa0']\n",
            "['Cash & Equivalents', '679', '88', '119', '98', '73']\n",
            "['Receivables', '380', '472', '358', '270', '273']\n",
            "['Notes Receivable', 'NA', '0', '0', '0', '0']\n",
            "['Inventories', '449', '430', '315', '292', '330']\n",
            "['Other Current Assets', '27', '29', '34', '34', '27']\n",
            "['Total Current Assets', '1,535', '1,019', '825', '694', '703']\n",
            "['Net Property & Equipment', '380', '386', '377', '363', '371']\n",
            "['Investments & Advances', 'NA', '61', '38', '48', '58']\n",
            "['Other Non-Current Assets', 'NA', '0', '0', '0', '0']\n",
            "['Deferred Charges', 'NA', '0', '0', '0', '0']\n",
            "['Intangibles', 'NA', '233', '245', '213', '212']\n",
            "['Deposits & Other Assets', '305', '7', '14', '25', '26']\n",
            "['Total Assets', '2,242', '1,729', '1,529', '1,371', '1,370']\n",
            "[]\n",
            "['Notes Payable', 'NA', '0', '0', '0', '0']\n",
            "['Accounts Payable', '128', '181', '148', '86', '104']\n",
            "['Current Portion Long-Term Debt', '1', '1', '41', '8', '7']\n",
            "['Current Portion Capital Leases', 'NA', '0', '0', '0', '0']\n",
            "['Accrued Expenses', 'NA', '50', '46', '42', '39']\n",
            "['Income Taxes Payable', 'NA', '0', '0', '0', '0']\n",
            "['Other Current Liabilities', '215', '145', '98', '94', '83']\n",
            "['Total Current Liabilities', '348', '382', '340', '234', '233']\n",
            "['Mortgages', 'NA', '0', '0', '0', '0']\n",
            "['Deferred Taxes/Income', '16', '14', '17', '21', '17']\n",
            "['Convertible Debt', 'NA', '0', '0', '0', '0']\n",
            "['Long-Term Debt', '1', '1', '287', '379', '490']\n",
            "['Non-Current Capital Leases', 'NA', '0', '0', '0', '0']\n",
            "['Other Non-Current Liabilities', '46', '57', '63', '52', '67']\n",
            "['Minority Interest (Liabilities)', 'NA', '0', '0', '0', '0']\n",
            "['Total Liabilities', '428', '472', '728', '709', '806']\n",
            "[]\n",
            "['Preferred Stock', 'NA', '0', '0', '0', '0']\n",
            "['Common Stock (Par)', 'NA', '1', '1', '1', '1']\n",
            "['Capital Surplus', 'NA', '286', '280', '279', '277']\n",
            "['Retained Earnings', 'NA', '1,458', '1,020', '903', '825']\n",
            "['Other Equity', '23', '-19', '-31', '-50', '-65']\n",
            "['Treasury Stock', 'NA', '470', '469', '470', '474']\n",
            "[\"Total Shareholder's Equity\", '1,814', '1,257', '801', '662', '563']\n",
            "[\"Total Liabilities & Shareholder's Equity\", '2,242', '1,729', '1,529', '1,371', '1,370']\n",
            "['Total Common Equity', '101,813', '1,257', '801', '662', '563']\n",
            "['Shares Outstanding', '56.60', '57.30', '57.00', '56.90', '57.60']\n",
            "['Book Value Per Share', '1,798.82', '21.94', '14.05', '11.64', '9.78']\n",
            "[]\n",
            "['Assets', '\\xa0', '\\xa0', '\\xa0', '\\xa0', '\\xa0']\n",
            "['Cash & Equivalents', '679', '484', '203', '139', '88']\n",
            "['Receivables', '380', '441', '612', '588', '472']\n",
            "['Notes Receivable', 'NA', '0', '0', '0', '0']\n",
            "['Inventories', '449', '455', '476', '472', '430']\n",
            "['Other Current Assets', '27', '42', '46', '41', '29']\n",
            "['Total Current Assets', '1,535', '1,421', '1,336', '1,241', '1,019']\n",
            "['Net Property & Equipment', '380', '374', '388', '381', '386']\n",
            "['Investments & Advances', 'NA', '70', '70', '63', '61']\n",
            "['Other Non-Current Assets', 'NA', '0', '0', '0', '0']\n",
            "['Deferred Charges', 'NA', '0', '0', '0', '0']\n",
            "['Intangibles', 'NA', '212', '223', '233', '233']\n",
            "['Deposits & Other Assets', '305', '7', '7', '7', '7']\n",
            "['Total Assets', '2,242', '2,110', '2,047', '1,946', '1,729']\n",
            "[]\n",
            "['Notes Payable', 'NA', '0', '0', '0', '0']\n",
            "['Accounts Payable', '128', '167', '209', '227', '181']\n",
            "['Current Portion Long-Term Debt', '1', '1', '1', '1', '1']\n",
            "['Current Portion Capital Leases', 'NA', '0', '0', '0', '0']\n",
            "['Accrued Expenses', 'NA', '54', '44', '35', '50']\n",
            "['Income Taxes Payable', 'NA', '0', '0', '0', '0']\n",
            "['Other Current Liabilities', '215', '147', '159', '183', '145']\n",
            "['Total Current Liabilities', '348', '375', '419', '452', '382']\n",
            "['Mortgages', 'NA', '0', '0', '0', '0']\n",
            "['Deferred Taxes/Income', '16', '11', '12', '16', '14']\n",
            "['Convertible Debt', 'NA', '0', '0', '0', '0']\n",
            "['Long-Term Debt', '1', '1', '1', '1', '1']\n",
            "['Non-Current Capital Leases', 'NA', '0', '0', '0', '0']\n",
            "['Other Non-Current Liabilities', '46', '', '54', '55', '57']\n",
            "['Minority Interest (Liabilities)', 'NA', '0', '0', '0', '0']\n",
            "['Total Liabilities', '428', '455', '501', '540', '472']\n",
            "[]\n",
            "['Preferred Stock', 'NA', '0', '0', '0', '0']\n",
            "['Common Stock (Par)', 'NA', '1', '1', '1', '1']\n",
            "['Capital Surplus', 'NA', '294', '291', '289', '286']\n",
            "['Retained Earnings', 'NA', '1,935', '1,795', '1,603', '1,458']\n",
            "['Other Equity', '23', '-70', '-38', '-12', '-19']\n",
            "['Treasury Stock', 'NA', '506', '503', '474', '470']\n",
            "[\"Total Shareholder's Equity\", '1,814', '1,655', '1,546', '1,406', '1,257']\n",
            "[\"Total Liabilities & Shareholder's Equity\", '2,242', '2,110', '2,047', '1,946', '1,729']\n",
            "['Total Common Equity', '101,813', '1,655', '1,546', '1,406', '1,257']\n",
            "['Shares Outstanding', '56.60', '56.60', '56.60', '56.90', '57.30']\n",
            "['Book Value Per Share', '1,798.82', '29.23', '27.31', '24.71', '21.94']\n"
          ]
        }
      ],
      "source": [
        "import requests\n",
        "from bs4 import BeautifulSoup\n",
        "\n",
        "url = 'https://www.zacks.com/stock/quote/'+ symbol +'/balance-sheet'\n",
        "user_agent = {'User-agent': 'Mozilla/5.0'}\n",
        "\n",
        "# Obtendo a página\n",
        "page = requests.get(url, headers = user_agent)\n",
        "\n",
        "# Criando o objeto BeautifulSoup\n",
        "soup = BeautifulSoup(page.content, 'html.parser')\n",
        "\n",
        "# Extraindo os valores da tabela\n",
        "table_rows = soup.find_all('tr')\n",
        "for tr in table_rows:\n",
        "    td = tr.find_all('td')\n",
        "    row = [i.text for i in td]\n",
        "    print(row)"
      ]
    },
    {
      "cell_type": "markdown",
      "metadata": {
        "id": "B5IFDW9iwLTE"
      },
      "source": [
        "Patrimônio Líquido (PL)"
      ]
    },
    {
      "cell_type": "code",
      "execution_count": 1188,
      "metadata": {
        "colab": {
          "base_uri": "https://localhost:8080/"
        },
        "id": "KBiuA5-ncn7J",
        "outputId": "8c67567f-a164-497f-e0c1-6175cdbbf7e9"
      },
      "outputs": [
        {
          "output_type": "stream",
          "name": "stdout",
          "text": [
            "$1,814,000,000.00\n"
          ]
        }
      ],
      "source": [
        "# Encontrando o valor de Total Shareholder's Equity\n",
        "total_shareholders_equity = soup.find('td', text=\"Total Shareholder's Equity\")\n",
        "value = total_shareholders_equity.find_next('td').text\n",
        "\n",
        "# Removendo as vírgulas e convertendo o valor para float\n",
        "value_in_millions_12 = float(value.replace(',', '')) * 1000000\n",
        "\n",
        "# Formatando o valor de volta para uma string com a notação de dólares\n",
        "value_formatted = '${:,.2f}'.format(value_in_millions_12)\n",
        "\n",
        "# Imprimindo o valor formatado\n",
        "print(value_formatted)\n"
      ]
    },
    {
      "cell_type": "markdown",
      "metadata": {
        "id": "o2uxJMJXntEl"
      },
      "source": [
        "Empréstimos e Financiamentos"
      ]
    },
    {
      "cell_type": "code",
      "execution_count": 1189,
      "metadata": {
        "colab": {
          "base_uri": "https://localhost:8080/"
        },
        "id": "qiFyvuqOnue7",
        "outputId": "554f6822-9602-4ab5-c247-19c138de816b"
      },
      "outputs": [
        {
          "output_type": "stream",
          "name": "stdout",
          "text": [
            "Empréstimos e Financiamentos: $1,000,000.00\n"
          ]
        }
      ],
      "source": [
        "# Encontrando o valor de Current Portion Long-Term Debt\n",
        "current_portion_longterm_debt = soup.find('td', text=\"Current Portion Long-Term Debt\")\n",
        "value = current_portion_longterm_debt.find_next('td').text\n",
        "\n",
        "# Removendo as vírgulas e convertendo o valor para float\n",
        "value_in_millions = float(value.replace(',', '')) * 1000000\n",
        "\n",
        "# Formatando o valor de volta para uma string com a notação de dólares\n",
        "if value_in_millions == 0:\n",
        "  value_formatted = '$ 0.00'\n",
        "else:\n",
        "  value_formatted = '${:,.2f}'.format(value_in_millions)\n",
        "\n",
        "# Imprimindo o valor formatado\n",
        "print('Empréstimos e Financiamentos:', value_formatted)"
      ]
    },
    {
      "cell_type": "markdown",
      "metadata": {
        "id": "Fdxk7XvXt4V7"
      },
      "source": [
        "Dívida de Longo Prazo"
      ]
    },
    {
      "cell_type": "code",
      "execution_count": 1190,
      "metadata": {
        "colab": {
          "base_uri": "https://localhost:8080/"
        },
        "id": "WFGk6-WLt5ZB",
        "outputId": "f8c18a38-5f83-4f53-d87c-175a5af29c67"
      },
      "outputs": [
        {
          "output_type": "stream",
          "name": "stdout",
          "text": [
            "Dívida de Longo Prazo: $1,000,000.00\n"
          ]
        }
      ],
      "source": [
        "# Encontrando o valor de Long-Term Debt\n",
        "longterm_debt = soup.find('td', text=\"Long-Term Debt\")\n",
        "value = longterm_debt.find_next('td').text\n",
        "\n",
        "# Removendo as vírgulas e convertendo o valor para float\n",
        "value_in_millions = float(value.replace(',', '')) * 1000000\n",
        "\n",
        "# Formatando o valor de volta para uma string com a notação de dólares\n",
        "if value_in_millions == 0:\n",
        "  value_formatted = '$ 0.00'\n",
        "else:\n",
        "  value_formatted = '${:,.2f}'.format(value_in_millions)\n",
        "\n",
        "# Imprimindo o valor formatado\n",
        "print('Dívida de Longo Prazo:', value_formatted)"
      ]
    },
    {
      "cell_type": "markdown",
      "metadata": {
        "id": "bIDRUHSkJNDG"
      },
      "source": [
        "Capital de Terceiros (Po)"
      ]
    },
    {
      "cell_type": "code",
      "execution_count": 1191,
      "metadata": {
        "colab": {
          "base_uri": "https://localhost:8080/"
        },
        "id": "z74vx5Lqt_OY",
        "outputId": "f4fed206-169b-47ae-88c3-60003f25851c"
      },
      "outputs": [
        {
          "output_type": "stream",
          "name": "stdout",
          "text": [
            "Capital de Terceiros (PO): $2,000,000.00\n"
          ]
        }
      ],
      "source": [
        "# Encontrando o valor de Current Portion Long-Term Debt\n",
        "current_portion_longterm_debt = soup.find('td', text=\"Current Portion Long-Term Debt\")\n",
        "value = current_portion_longterm_debt.find_next('td').text\n",
        "\n",
        "# Removendo as vírgulas e convertendo o valor para float\n",
        "current_portion_longterm_debt_in_millions = float(value.replace(',', '')) * 1000000\n",
        "\n",
        "# Encontrando o valor de Long-Term Debt\n",
        "longterm_debt = soup.find('td', text=\"Long-Term Debt\")\n",
        "value = longterm_debt.find_next('td').text\n",
        "\n",
        "# Removendo as vírgulas e convertendo o valor para float\n",
        "longterm_debt_in_millions = float(value.replace(',', '')) * 1000000\n",
        "\n",
        "# Somando os valores de Current Portion Long-Term Debt e Long-Term Debt\n",
        "total_debt = current_portion_longterm_debt_in_millions + longterm_debt_in_millions\n",
        "\n",
        "# Formatando o valor de volta para uma string com a notação de dólares\n",
        "if total_debt == 0:\n",
        "  total_debt_formatted = '$ 0.00'\n",
        "else:\n",
        "  total_debt_formatted = '${:,.2f}'.format(total_debt)\n",
        "\n",
        "# Imprimindo o valor formatado\n",
        "print('Capital de Terceiros (PO):', total_debt_formatted)\n"
      ]
    },
    {
      "cell_type": "markdown",
      "metadata": {
        "id": "cFBhQ9M1gNbb"
      },
      "source": [
        "Capital Investido (Ativos Totais)"
      ]
    },
    {
      "cell_type": "code",
      "execution_count": 1192,
      "metadata": {
        "colab": {
          "base_uri": "https://localhost:8080/"
        },
        "id": "gTLiEhxAgQZy",
        "outputId": "618b0870-eebd-4e96-bbf8-5b559f6e30f4"
      },
      "outputs": [
        {
          "output_type": "stream",
          "name": "stdout",
          "text": [
            "Capital Investido (Ativos Totais): $2,242,000,000.00\n"
          ]
        }
      ],
      "source": [
        "# Encontrando o valor de Total Assets\n",
        "total_assets = soup.find('td', text=\"Total Assets\")\n",
        "value = total_assets.find_next('td').text\n",
        "\n",
        "# Removendo as vírgulas e convertendo o valor para float\n",
        "value_in_millions = float(value.replace(',', '')) * 1000000\n",
        "\n",
        "# Formatando o valor de volta para uma string com a notação de dólares\n",
        "if value_in_millions == 0:\n",
        "  value_formatted = '$ 0.00'\n",
        "else:\n",
        "  value_formatted = '${:,.2f}'.format(value_in_millions)\n",
        "\n",
        "# Imprimindo o valor formatado\n",
        "print('Capital Investido (Ativos Totais):', value_formatted)"
      ]
    },
    {
      "cell_type": "markdown",
      "metadata": {
        "id": "d3zMr0_Rdyip"
      },
      "source": [
        "Caixa e Aplicações Financeiras"
      ]
    },
    {
      "cell_type": "code",
      "execution_count": 1193,
      "metadata": {
        "colab": {
          "base_uri": "https://localhost:8080/"
        },
        "id": "KyklFekkdtPh",
        "outputId": "e8c69697-91f7-4e9d-cadd-c8c460f8890d"
      },
      "outputs": [
        {
          "output_type": "stream",
          "name": "stdout",
          "text": [
            "Caixa e Aplicações Financeiras: $679,000,000.00\n"
          ]
        }
      ],
      "source": [
        "# Encontrando o valor de Cash & Equivalents\n",
        "cash_equivalents = soup.find('td', text=\"Cash & Equivalents\")\n",
        "value = cash_equivalents.find_next('td').text\n",
        "\n",
        "# Removendo as vírgulas e convertendo o valor para float\n",
        "value_in_millions = float(value.replace(',', '')) * 1000000\n",
        "\n",
        "# Formatando o valor de volta para uma string com a notação de dólares\n",
        "if value_in_millions == 0:\n",
        "  value_formatted = '$ 0.00'\n",
        "else:\n",
        "  value_formatted = '${:,.2f}'.format(value_in_millions)\n",
        "\n",
        "# Imprimindo o valor formatado\n",
        "print('Caixa e Aplicações Financeiras:', value_formatted)"
      ]
    },
    {
      "cell_type": "markdown",
      "metadata": {
        "id": "WVBz6__YRVl8"
      },
      "source": [
        "Ativo Circulante"
      ]
    },
    {
      "cell_type": "code",
      "execution_count": 1194,
      "metadata": {
        "colab": {
          "base_uri": "https://localhost:8080/"
        },
        "id": "fn8vbZ_lRYAD",
        "outputId": "2157b558-f296-49dc-c517-92b2b40affde"
      },
      "outputs": [
        {
          "output_type": "stream",
          "name": "stdout",
          "text": [
            "Ativo Circulante: $1,535,000,000.00\n"
          ]
        }
      ],
      "source": [
        "# Encontrando o valor de Total Current Assets\n",
        "total_current_assets = soup.find('td', text=\"Total Current Assets\")\n",
        "value = total_current_assets.find_next('td').text\n",
        "\n",
        "# Removendo as vírgulas e convertendo o valor para float\n",
        "value_in_millions = float(value.replace(',', '')) * 1000000\n",
        "\n",
        "# Formatando o valor de volta para uma string com a notação de dólares\n",
        "if value_in_millions == 0:\n",
        "  value_formatted = '$ 0.00'\n",
        "else:\n",
        "  value_formatted = '${:,.2f}'.format(value_in_millions)\n",
        "\n",
        "# Imprimindo o valor formatado\n",
        "print('Ativo Circulante:', value_formatted)"
      ]
    },
    {
      "cell_type": "markdown",
      "metadata": {
        "id": "Kt4oBXt1edPi"
      },
      "source": [
        "Ativo Circulante Operacional"
      ]
    },
    {
      "cell_type": "code",
      "execution_count": 1195,
      "metadata": {
        "colab": {
          "base_uri": "https://localhost:8080/"
        },
        "id": "poPdyWOPeeh6",
        "outputId": "eff012de-d6d5-45c7-8c7d-cef997629c97"
      },
      "outputs": [
        {
          "output_type": "stream",
          "name": "stdout",
          "text": [
            "Ativo Circulante Operacional: $856,000,000.00\n"
          ]
        }
      ],
      "source": [
        "# Encontrando o valor de Total Current Assets\n",
        "total_current_assets = soup.find('td', text=\"Total Current Assets\")\n",
        "value_assets = total_current_assets.find_next('td').text\n",
        "\n",
        "# Encontrando o valor de Cash & Equivalents\n",
        "cash_equivalents = soup.find('td', text=\"Cash & Equivalents\")\n",
        "value_cash = cash_equivalents.find_next('td').text\n",
        "\n",
        "# Removendo as vírgulas e convertendo os valores para float\n",
        "value_assets_in_millions = float(value_assets.replace(',', '')) * 1000000\n",
        "value_cash_in_millions = float(value_cash.replace(',', '')) * 1000000\n",
        "\n",
        "# Calcular o Ativo Circulante Operacional\n",
        "value_operational_1 = value_assets_in_millions - value_cash_in_millions\n",
        "\n",
        "# Formatando o valor de volta para uma string com a notação de dólares\n",
        "if value_operational_1 == 0:\n",
        "  value_formatted = '$ 0.00'\n",
        "else:\n",
        "  value_formatted = '${:,.2f}'.format(value_operational_1)\n",
        "\n",
        "# Imprimindo o valor formatado\n",
        "print('Ativo Circulante Operacional:', value_formatted)"
      ]
    },
    {
      "cell_type": "markdown",
      "metadata": {
        "id": "tV01CZOCR8yL"
      },
      "source": [
        "Passivo Circulante"
      ]
    },
    {
      "cell_type": "code",
      "execution_count": 1196,
      "metadata": {
        "colab": {
          "base_uri": "https://localhost:8080/"
        },
        "id": "s29f-NSER6Ds",
        "outputId": "1264a8c5-969e-48de-9890-c8e75ea3ab6e"
      },
      "outputs": [
        {
          "output_type": "stream",
          "name": "stdout",
          "text": [
            "Passivo Circulante: $348,000,000.00\n"
          ]
        }
      ],
      "source": [
        "# Encontrando o valor de Total Current Liabilities\n",
        "total_current_liabilities = soup.find('td', text=\"Total Current Liabilities\")\n",
        "value = total_current_liabilities.find_next('td').text\n",
        "\n",
        "# Removendo as vírgulas e convertendo o valor para float\n",
        "value_in_millions = float(value.replace(',', '')) * 1000000\n",
        "\n",
        "# Formatando o valor de volta para uma string com a notação de dólares\n",
        "if value_in_millions == 0:\n",
        "  value_formatted = '$ 0.00'\n",
        "else:\n",
        "  value_formatted = '${:,.2f}'.format(value_in_millions)\n",
        "\n",
        "# Imprimindo o valor formatado\n",
        "print('Passivo Circulante:', value_formatted)"
      ]
    },
    {
      "cell_type": "markdown",
      "metadata": {
        "id": "DzcKySdDSmXK"
      },
      "source": [
        "Passivo Circulante Operacional"
      ]
    },
    {
      "cell_type": "code",
      "execution_count": 1197,
      "metadata": {
        "colab": {
          "base_uri": "https://localhost:8080/"
        },
        "id": "H0L4AaDvSpXS",
        "outputId": "bffdf2c1-fb8a-4c10-f82e-86d544857b94"
      },
      "outputs": [
        {
          "output_type": "stream",
          "name": "stdout",
          "text": [
            "Passivo Circulante Operacional: $347,000,000.00\n"
          ]
        }
      ],
      "source": [
        "# Encontrando o valor de Total Current Liabilities\n",
        "total_current_liabilities = soup.find('td', text=\"Total Current Liabilities\")\n",
        "value_liabilities = total_current_liabilities.find_next('td').text\n",
        "\n",
        "# Encontrando o valor de Current Portion Long-Term Debt\n",
        "current_portion_longterm_debt = soup.find('td', text=\"Current Portion Long-Term Debt\")\n",
        "value_debt = current_portion_longterm_debt.find_next('td').text\n",
        "\n",
        "# Removendo as vírgulas e convertendo os valores para float\n",
        "value_liabilities_in_millions = float(value_liabilities.replace(',', '')) * 1000000\n",
        "value_debt_in_millions = float(value_debt.replace(',', '')) * 1000000\n",
        "\n",
        "# Calcular o Passivo Circulante Operacional\n",
        "value_operational_2 = value_liabilities_in_millions - value_debt_in_millions\n",
        "\n",
        "# Formatando o valor de volta para uma string com a notação de dólares\n",
        "if value_operational_2 == 0:\n",
        "  value_formatted = '$ 0.00'\n",
        "else:\n",
        "  value_formatted = '${:,.2f}'.format(value_operational_2)\n",
        "\n",
        "# Imprimindo o valor formatado\n",
        "print('Passivo Circulante Operacional:', value_formatted)"
      ]
    },
    {
      "cell_type": "markdown",
      "metadata": {
        "id": "ndtz254klbIW"
      },
      "source": [
        "## Cash Flow Statements"
      ]
    },
    {
      "cell_type": "code",
      "execution_count": 1198,
      "metadata": {
        "colab": {
          "base_uri": "https://localhost:8080/"
        },
        "id": "x_LTjHWgjXaZ",
        "outputId": "a6aeb986-d237-4aad-ee47-ad21da704b97"
      },
      "outputs": [
        {
          "output_type": "stream",
          "name": "stdout",
          "text": [
            "[]\n",
            "['Strong Buy', '24.28%']\n",
            "['Buy', '17.83%']\n",
            "['Hold', '9.19%']\n",
            "['Sell', '5.00%']\n",
            "['Strong Sell', '2.16%']\n",
            "['500', '10.51%']\n",
            "['A']\n",
            "['A']\n",
            "['A']\n",
            "['A']\n",
            "[]\n",
            "['Cash Flow From Operations, Investments & Financial Activities', '\\xa0', '\\xa0', '\\xa0', '\\xa0', '\\xa0']\n",
            "['Net Income (Loss)', '662.82', '475.12', '143.65', '106.23', '106.82']\n",
            "['Depreciation/Amortization & Depletion', '44.09', '45.66', '45.16', '43.01', '39.87']\n",
            "['Net Change from Assets/Liabilities', '17.63', '-177.66', '24.77', '15.73', '1.98']\n",
            "['Net Cash from Discontinued Operations', 'NA', '0.00', '0.00', '0.00', '0.00']\n",
            "['Other Operating Activities', '-0.59', '-31.42', '31.50', '35.57', '19.22']\n",
            "['Net Cash From Operating Activities', '723.94', '311.70', '245.07', '200.54', '167.89']\n",
            "['Property & Equipment', '-29.79', '-29.53', '-43.70', '-27.92', '-19.78']\n",
            "['Acquisition/ Disposition of Subsidiaries', 'NA', '51.68', '-72.65', '3.47', '-167.68']\n",
            "['Investments', '-217.86', '-1.61', '0.00', '-16.00', '-1.61']\n",
            "['Other Investing Activities', '5.65', '8.54', '-9.27', '0.00', '1.97']\n",
            "['Net Cash from Investing Activities', '-242.00', '29.07', '-125.62', '-40.46', '-187.10']\n",
            "[]\n",
            "['Issuance (Repurchase) of Capital Stock', '-38.05', '-4.86', '-5.57', '-1.76', '-33.56']\n",
            "['Issuance (Repayment) of Debt', '-0.14', '-330.72', '-57.12', '-110.37', '29.32']\n",
            "['Increase (Decrease) Short-Term Debt', 'NA', '0.00', '0.00', '0.00', '0.00']\n",
            "['Payment of Dividends & Other Distributions', '-63.04', '-38.86', '-22.34', '-23.17', '-23.30']\n",
            "['Other Financing Activities', '-1.43', '-2.28', '-7.23', '-4.40', '-0.73']\n",
            "['Net Cash from Financing Activities', '-102.66', '-376.72', '-92.26', '-139.69', '-28.27']\n",
            "['Effect of Exchange Rate Changes', '-4.37', '-1.05', '2.15', '0.51', '-1.95']\n",
            "['Net Change In Cash & Equivalents', '374.92', '-37.00', '29.33', '20.90', '-49.43']\n",
            "['Cash at Beginning of Period', '90.38', '127.38', '98.04', '77.14', '126.56']\n",
            "['Cash at End of Period', '465.30', '90.38', '127.38', '98.04', '77.14']\n",
            "['Diluted Net EPS', '11.64', '8.25', '2.47', '1.79', '1.82']\n"
          ]
        }
      ],
      "source": [
        "import requests\n",
        "from bs4 import BeautifulSoup\n",
        "\n",
        "url = 'https://www.zacks.com/stock/quote/'+ symbol +'/cash-flow-statements'\n",
        "user_agent = {'User-agent': 'Mozilla/5.0'}\n",
        "\n",
        "# Obtendo a página\n",
        "page = requests.get(url, headers = user_agent)\n",
        "\n",
        "# Criando o objeto BeautifulSoup\n",
        "soup = BeautifulSoup(page.content, 'html.parser')\n",
        "\n",
        "# Extraindo os valores da tabela\n",
        "table_rows = soup.find_all('tr')\n",
        "for tr in table_rows:\n",
        "    td = tr.find_all('td')\n",
        "    row = [i.text for i in td]\n",
        "    print(row)"
      ]
    },
    {
      "cell_type": "markdown",
      "metadata": {
        "id": "ooxTrTU0p0kv"
      },
      "source": [
        "Despesa Financeira"
      ]
    },
    {
      "cell_type": "code",
      "execution_count": 1199,
      "metadata": {
        "colab": {
          "base_uri": "https://localhost:8080/"
        },
        "id": "kTPW4Hdopwez",
        "outputId": "13ef776e-e580-4795-dcb6-d563b994e577"
      },
      "outputs": [
        {
          "output_type": "stream",
          "name": "stdout",
          "text": [
            "Despesa Financeira: $-140,000.00\n"
          ]
        }
      ],
      "source": [
        "# Encontrando o valor de Issuance (Repayment) of Debt\n",
        "issuance_repayment_of_debt = soup.find('td', text=\"Issuance (Repayment) of Debt\")\n",
        "value = issuance_repayment_of_debt.find_next('td').text\n",
        "\n",
        "# Removendo as vírgulas e convertendo o valor para float\n",
        "value_in_millions = float(value.replace(',', '')) * 1000000\n",
        "\n",
        "# Formatando o valor de volta para uma string com a notação de dólares\n",
        "if value_in_millions == 0:\n",
        "  value_formatted = '$ 0.00'\n",
        "else:\n",
        "  value_formatted = '${:,.2f}'.format(value_in_millions)\n",
        "\n",
        "# Imprimindo o valor formatado\n",
        "print('Despesa Financeira:', value_formatted)"
      ]
    },
    {
      "cell_type": "markdown",
      "source": [
        "Depreciação e Amortização"
      ],
      "metadata": {
        "id": "1CL6FYJ0RoaY"
      }
    },
    {
      "cell_type": "code",
      "source": [
        "# Encontrando o valor de Depreciação e Amortização\n",
        "Depreciation_Amortization_Depletion = soup.find('td', text=\"Depreciation/Amortization & Depletion\")\n",
        "value = Depreciation_Amortization_Depletion.find_next('td').text\n",
        "\n",
        "# Removendo as vírgulas e convertendo o valor para float\n",
        "value_in_millions_7 = float(value.replace(',', '')) * 1000000\n",
        "\n",
        "# Formatando o valor de volta para uma string com a notação de dólares\n",
        "if value_in_millions_7 == 0:\n",
        "  value_formatted = '$ 0.00'\n",
        "else:\n",
        "  value_formatted = '${:,.2f}'.format(value_in_millions_7)\n",
        "\n",
        "# Imprimindo o valor formatado\n",
        "print('Depreciação e Amortização:', value_formatted)"
      ],
      "metadata": {
        "colab": {
          "base_uri": "https://localhost:8080/"
        },
        "id": "d8BmkEnURmbG",
        "outputId": "fedb6713-4803-4515-dda5-1ae9046d6a47"
      },
      "execution_count": 1200,
      "outputs": [
        {
          "output_type": "stream",
          "name": "stdout",
          "text": [
            "Depreciação e Amortização: $44,090,000.00\n"
          ]
        }
      ]
    },
    {
      "cell_type": "markdown",
      "source": [
        "CAPEX"
      ],
      "metadata": {
        "id": "iph9WmpcJLcM"
      }
    },
    {
      "cell_type": "code",
      "source": [
        "# Encontrando o valor de CAPEX\n",
        "Property_Equipment = soup.find('td', text=\"Property & Equipment\")\n",
        "value = Property_Equipment.find_next('td').text\n",
        "\n",
        "# Removendo as vírgulas e o símbolo negativo, caso exista\n",
        "if value[0] == '-':\n",
        "  value_in_millions_8 = float(value[1:].replace(',', '')) * 1000000\n",
        "else:\n",
        "  value_in_millions_8 = float(value.replace(',', '')) * 1000000\n",
        "\n",
        "# Formatando o valor de volta para uma string com a notação de dólares\n",
        "if value_in_millions_8 == 0:\n",
        "  value_formatted = '$ 0.00'\n",
        "else:\n",
        "  value_formatted = '${:,.2f}'.format(value_in_millions_8)\n",
        "\n",
        "# Imprimindo o valor formatado\n",
        "print('CAPEX:', value_formatted)"
      ],
      "metadata": {
        "colab": {
          "base_uri": "https://localhost:8080/"
        },
        "id": "tl7X_r6yMB0B",
        "outputId": "abde1c03-5bd5-4a8d-a686-dffafc4e83fb"
      },
      "execution_count": 1201,
      "outputs": [
        {
          "output_type": "stream",
          "name": "stdout",
          "text": [
            "CAPEX: $29,790,000.00\n"
          ]
        }
      ]
    },
    {
      "cell_type": "markdown",
      "source": [
        "Aquisição / Alienação de Subsidiárias"
      ],
      "metadata": {
        "id": "kE2d1k5KND10"
      }
    },
    {
      "cell_type": "code",
      "source": [
        "# Encontrando o valor de Aquisição / Alienação de Subsidiárias\n",
        "Acquisition = soup.find('td', text=\"Acquisition/ Disposition of Subsidiaries\")\n",
        "value = Acquisition.find_next('td').text\n",
        "\n",
        "# Removendo as vírgulas e o símbolo negativo, caso exista\n",
        "if value == 'NA':\n",
        "  value_in_millions_9 = 0\n",
        "elif value[0] == '-':\n",
        "  value_in_millions_9 = float(value[1:].replace(',', '')) * 1000000\n",
        "else:\n",
        "  value_in_millions_9 = float(value.replace(',', '')) * 1000000\n",
        "\n",
        "# Formatando o valor de volta para uma string com a notação de dólares\n",
        "if value_in_millions_9 == 0:\n",
        "  value_formatted = '$ 0.00'\n",
        "else:\n",
        "  value_formatted = '${:,.2f}'.format(value_in_millions_9)\n",
        "\n",
        "# Imprimindo o valor formatado\n",
        "print('Aquisição / Alienação de Subsidiárias:', value_formatted)"
      ],
      "metadata": {
        "id": "9D0AEM4vX2qd",
        "colab": {
          "base_uri": "https://localhost:8080/"
        },
        "outputId": "61db6059-4f9b-4ed4-86ef-756778cc45f9"
      },
      "execution_count": 1202,
      "outputs": [
        {
          "output_type": "stream",
          "name": "stdout",
          "text": [
            "Aquisição / Alienação de Subsidiárias: $ 0.00\n"
          ]
        }
      ]
    },
    {
      "cell_type": "markdown",
      "source": [
        "Investimentos"
      ],
      "metadata": {
        "id": "W--d--MTNsE7"
      }
    },
    {
      "cell_type": "code",
      "source": [
        "# Encontrando o valor de Investimentos\n",
        "Investments = soup.find('td', text=\"Investments\")\n",
        "value = Investments.find_next('td').text\n",
        "\n",
        "# Removendo as vírgulas e o símbolo negativo, caso exista\n",
        "if value[0] == '-':\n",
        "  value_in_millions_10 = float(value[1:].replace(',', '')) * 1000000\n",
        "else:\n",
        "  value_in_millions_10 = float(value.replace(',', '')) * 1000000\n",
        "\n",
        "# Formatando o valor de volta para uma string com a notação de dólares\n",
        "if value_in_millions_10 == 0:\n",
        "  value_formatted = '$ 0.00'\n",
        "else:\n",
        "  value_formatted = '${:,.2f}'.format(value_in_millions_10)\n",
        "\n",
        "# Imprimindo o valor formatado\n",
        "print('Investimentos:', value_formatted)"
      ],
      "metadata": {
        "colab": {
          "base_uri": "https://localhost:8080/"
        },
        "id": "3hM0Sy6cN7I3",
        "outputId": "7535a600-17bb-4444-e0db-eafb61873f7d"
      },
      "execution_count": 1203,
      "outputs": [
        {
          "output_type": "stream",
          "name": "stdout",
          "text": [
            "Investimentos: $217,860,000.00\n"
          ]
        }
      ]
    },
    {
      "cell_type": "markdown",
      "source": [
        "Outras atividades de investimento"
      ],
      "metadata": {
        "id": "j4bMzwaQWBs-"
      }
    },
    {
      "cell_type": "code",
      "source": [
        "# Encontrando o valor de Outras atividades de investimento\n",
        "Other_Investing_Activities = soup.find('td', text=\"Other Investing Activities\")\n",
        "value = Investments.find_next('td').text\n",
        "\n",
        "# Removendo as vírgulas e o símbolo negativo, caso exista\n",
        "if value[0] == '-':\n",
        "  Other_Investing_Activities = float(value[1:].replace(',', '')) * 1000000\n",
        "else:\n",
        "  Other_Investing_Activities = float(value.replace(',', '')) * 1000000\n",
        "\n",
        "# Formatando o valor de volta para uma string com a notação de dólares\n",
        "if Other_Investing_Activities == 0:\n",
        "  Other_Investing_Activities_formatted = '$ 0.00'\n",
        "else:\n",
        "  Other_Investing_Activities_formatted = '${:,.2f}'.format(Other_Investing_Activities)\n",
        "\n",
        "# Imprimindo o valor formatado\n",
        "print('Outras atividades de investimento:', Other_Investing_Activities_formatted)"
      ],
      "metadata": {
        "colab": {
          "base_uri": "https://localhost:8080/"
        },
        "id": "P7a6dI4nWEqN",
        "outputId": "50dbe877-4272-438a-97f4-13d026cd9854"
      },
      "execution_count": 1204,
      "outputs": [
        {
          "output_type": "stream",
          "name": "stdout",
          "text": [
            "Outras atividades de investimento: $217,860,000.00\n"
          ]
        }
      ]
    },
    {
      "cell_type": "markdown",
      "source": [
        "Fluxo de Caixa das atividades de investimentos"
      ],
      "metadata": {
        "id": "NrtSE_QyY-LX"
      }
    },
    {
      "cell_type": "code",
      "source": [
        "# Calculando FC das atividades de investimentos\n",
        "FCAI = value_in_millions_8 + value_in_millions_9 + value_in_millions_10 + Other_Investing_Activities\n",
        "\n",
        "# Formatando o valor de volta para uma string com a notação de dólares\n",
        "if FCAI == 0:\n",
        "  FCAI_formatted = '$ 0.00'\n",
        "else:\n",
        "  FCAI_formatted = '${:,.2f}'.format(FCAI)\n",
        "\n",
        "# Imprimindo o valor formatado\n",
        "print('FCAI:', FCAI_formatted)"
      ],
      "metadata": {
        "colab": {
          "base_uri": "https://localhost:8080/"
        },
        "id": "BVkCunFRZCnH",
        "outputId": "c99fa3ef-5b4b-421e-c9d5-5e529995de14"
      },
      "execution_count": 1205,
      "outputs": [
        {
          "output_type": "stream",
          "name": "stdout",
          "text": [
            "FCAI: $465,510,000.00\n"
          ]
        }
      ]
    },
    {
      "cell_type": "markdown",
      "source": [
        "## DRE"
      ],
      "metadata": {
        "id": "xOUrvFqs9Ghv"
      }
    },
    {
      "cell_type": "code",
      "source": [
        "import requests\n",
        "from bs4 import BeautifulSoup\n",
        "\n",
        "url = 'https://www.zacks.com/stock/quote/'+ symbol +'/income-statement'\n",
        "user_agent = {'User-agent': 'Mozilla/5.0'}\n",
        "\n",
        "# Obtendo a página\n",
        "page = requests.get(url, headers = user_agent)\n",
        "\n",
        "# Criando o objeto BeautifulSoup\n",
        "soup = BeautifulSoup(page.content, 'html.parser')\n",
        "\n",
        "# Extraindo os valores da tabela\n",
        "table_rows = soup.find_all('tr')\n",
        "for tr in table_rows:\n",
        "    td = tr.find_all('td')\n",
        "    row = [i.text for i in td]\n",
        "    print(row)"
      ],
      "metadata": {
        "colab": {
          "base_uri": "https://localhost:8080/"
        },
        "id": "Eb0FuXn69TMm",
        "outputId": "53a36328-ef69-4de1-a94f-eb5e91a9b77c"
      },
      "execution_count": 1206,
      "outputs": [
        {
          "output_type": "stream",
          "name": "stdout",
          "text": [
            "[]\n",
            "['Strong Buy', '24.28%']\n",
            "['Buy', '17.83%']\n",
            "['Hold', '9.19%']\n",
            "['Sell', '5.00%']\n",
            "['Strong Sell', '2.16%']\n",
            "['500', '10.51%']\n",
            "['A']\n",
            "['A']\n",
            "['A']\n",
            "['A']\n",
            "[]\n",
            "['Sales', '3,982', '3,769', '2,398', '2,431', '2,508']\n",
            "['Cost Of Goods', '2,865', '2,939', '1,966', '2,036', '2,150']\n",
            "['Gross Profit', '1,118', '830', '432', '395', '357']\n",
            "['Selling & Adminstrative & Depr. & Amort Expenses', '240', '175', '186', '204', '185']\n",
            "['Income After Depreciation & Amortization', '877', '656', '246', '191', '173']\n",
            "['Non-Operating Income', '0', '-7', '-17', '0', '3']\n",
            "['Interest Expense', '1', '8', '19', '26', '25']\n",
            "['Pretax Income', '876', '641', '209', '166', '150']\n",
            "['Income Taxes', '223', '166', '55', '35', '31']\n",
            "['Minority Interest', '5', '7', '4', '5', '2']\n",
            "['Investment Gains/Losses', '10', '0', '-10', '-25', '-13']\n",
            "['Other Income/Charges', 'NA', '0', '0', '0', '0']\n",
            "['Income From Cont. Operations', '663', '475', '144', '106', '107']\n",
            "['Extras & Discontinued Operations', '0', '0', '0', '0', '0']\n",
            "['Net Income (GAAP)', '658', '469', '139', '101', '104']\n",
            "[]\n",
            "['Income Before Depreciation & Amortization', '921', '702', '291', '234', '213']\n",
            "['Depreciation & Amortization (Cash Flow)', '44', '46', '45', '43', '40']\n",
            "['Income After Depreciation & Amortization', '877', '656', '246', '191', '173']\n",
            "[]\n",
            "['Average Shares', '56.56', '56.80', '56.39', '56.34', '57.27']\n",
            "['Diluted EPS Before Non-Recurring Items', '11.64', '7.49', '2.46', '2.19', '1.86']\n",
            "['Diluted Net EPS (GAAP)', '11.64', '8.25', '2.47', '1.79', '1.82']\n",
            "[]\n",
            "['Sales', '877.58', '944.83', '1,150.04', '1,010.00', '956.36']\n",
            "['Cost Of Goods', '620.80', '678.64', '820.91', '744.51', '726.59']\n",
            "['Gross Profit', '256.78', '266.19', '329.13', '265.49', '229.76']\n",
            "['SG&A, R&D, and Dept/Amort Expenses', '66.37', '61.03', '60.26', '52.79', '57.62']\n",
            "['Income After SG&A, R&D, and Dept/Amort Expenses', '190.41', '205.16', '268.87', '212.70', '172.14']\n",
            "['Non-Operating Income', '-4.32', '1.03', '2.20', '0.78', '-0.03']\n",
            "['Interest Expense', '0.14', '0.36', '0.15', '0.16', '0.26']\n",
            "['Pretax Income', '185.95', '205.83', '270.93', '213.32', '171.85']\n",
            "['Income Taxes', '49.80', '51.04', '68.29', '54.20', '44.86']\n",
            "['Minority Interest', '1.33', '1.27', '0.97', '0.93', '1.10']\n",
            "['Investment Gains/Losses', '4.09', '1.01', '4.89', '0.12', '-0.29']\n",
            "['Other Income/Charges', 'NA', '0.00', '0.00', '0.00', '0.00']\n",
            "['Income From Cont. Operations', '140.24', '155.81', '207.52', '159.25', '126.70']\n",
            "['Extras & Discontinued Operations', '0.00', '0.00', '0.00', '0.00', '0.00']\n",
            "['Net Income (GAAP)', '138.91', '154.54', '206.55', '158.32', '125.60']\n",
            "[]\n",
            "['Average Shares', '56.36', '56.42', '56.53', '56.91', '56.90']\n",
            "['Diluted EPS Before Non-Recurring Items', '2.46', '2.74', '3.65', '2.78', '2.21']\n",
            "['Diluted Net EPS (GAAP)', '2.46', '2.74', '3.65', '2.78', '2.21']\n"
          ]
        }
      ]
    },
    {
      "cell_type": "markdown",
      "source": [
        "Receita"
      ],
      "metadata": {
        "id": "wo8Nym2L9N3W"
      }
    },
    {
      "cell_type": "code",
      "source": [
        "# Encontrando o valor de Sales\n",
        "Sales = soup.find('td', text=\"Sales\")\n",
        "value = Sales.find_next('td').text\n",
        "\n",
        "# Removendo as vírgulas e convertendo o valor para float\n",
        "value_in_millions = float(value.replace(',', '')) * 1000000\n",
        "\n",
        "# Formatando o valor de volta para uma string com a notação de dólares\n",
        "if value_in_millions == 0:\n",
        "  value_formatted = '$ 0.00'\n",
        "else:\n",
        "  value_formatted = '${:,.2f}'.format(value_in_millions)\n",
        "\n",
        "# Imprimindo o valor formatado\n",
        "print('Receita:', value_formatted)"
      ],
      "metadata": {
        "colab": {
          "base_uri": "https://localhost:8080/"
        },
        "id": "ThXLfdxd9SZw",
        "outputId": "cb993471-a089-4706-cca8-8d223df67f65"
      },
      "execution_count": 1207,
      "outputs": [
        {
          "output_type": "stream",
          "name": "stdout",
          "text": [
            "Receita: $3,982,000,000.00\n"
          ]
        }
      ]
    },
    {
      "cell_type": "markdown",
      "source": [
        "Custos"
      ],
      "metadata": {
        "id": "0jeNS0l5Prhh"
      }
    },
    {
      "cell_type": "code",
      "source": [
        "# Encontrando o valor de Cost of Goods\n",
        "Cost_of_Goods = soup.find('td', text=\"Cost Of Goods\")\n",
        "value = Cost_of_Goods.find_next('td').text\n",
        "\n",
        "# Removendo as vírgulas e convertendo o valor para float\n",
        "value_in_millions_1 = float(value.replace(',', '')) * 1000000\n",
        "\n",
        "# Formatando o valor de volta para uma string com a notação de dólares\n",
        "if value_in_millions_1 == 0:\n",
        "  value_formatted = '$ 0.00'\n",
        "else:\n",
        "  value_formatted = '${:,.2f}'.format(value_in_millions_1)\n",
        "\n",
        "# Imprimindo o valor formatado\n",
        "print('Custos:', value_formatted)"
      ],
      "metadata": {
        "colab": {
          "base_uri": "https://localhost:8080/"
        },
        "id": "QS1A9hXpPt17",
        "outputId": "14f6ce38-45d5-400e-b99d-2a4a16cb21fb"
      },
      "execution_count": 1208,
      "outputs": [
        {
          "output_type": "stream",
          "name": "stdout",
          "text": [
            "Custos: $2,865,000,000.00\n"
          ]
        }
      ]
    },
    {
      "cell_type": "markdown",
      "source": [
        "Resultado Bruto"
      ],
      "metadata": {
        "id": "8d69l5g-QLgZ"
      }
    },
    {
      "cell_type": "code",
      "source": [
        "# Encontrando o valor de Resultado Bruto\n",
        "Resultado_Bruto = value_in_millions - value_in_millions_1\n",
        "Resultado_Bruto \n",
        "\n",
        "if Resultado_Bruto == 0:\n",
        "  Resultado_Bruto_formatted = '$ 0.00'\n",
        "else:\n",
        "  Resultado_Bruto_formatted = '${:,.2f}'.format(Resultado_Bruto)\n",
        "\n",
        "# Imprimindo o valor formatado\n",
        "print('Resultado Bruto:', Resultado_Bruto_formatted)"
      ],
      "metadata": {
        "colab": {
          "base_uri": "https://localhost:8080/"
        },
        "id": "TarLT2-uQR-Z",
        "outputId": "b3e9fe8f-040d-4e90-e0cd-ddfc0b8e4a3f"
      },
      "execution_count": 1209,
      "outputs": [
        {
          "output_type": "stream",
          "name": "stdout",
          "text": [
            "Resultado Bruto: $1,117,000,000.00\n"
          ]
        }
      ]
    },
    {
      "cell_type": "markdown",
      "source": [
        "**EBITDA**"
      ],
      "metadata": {
        "id": "Cbn5lsLFL2SP"
      }
    },
    {
      "cell_type": "code",
      "source": [
        "# Encontrando o valor de EBITDA\n",
        "EBITDA = value_in_millions_2 + value_in_millions_7\n",
        "EBITDA \n",
        "\n",
        "if EBITDA == 0:\n",
        "  EBITDA_formatted = '$ 0.00'\n",
        "else:\n",
        "  EBITDA_formatted = '${:,.2f}'.format(EBITDA)\n",
        "\n",
        "# Imprimindo o valor formatado\n",
        "print('EBITDA:', EBITDA_formatted)"
      ],
      "metadata": {
        "colab": {
          "base_uri": "https://localhost:8080/"
        },
        "id": "4AMQP79dMIUa",
        "outputId": "01672297-d7fe-471c-a93b-728a6cea5e63"
      },
      "execution_count": 1210,
      "outputs": [
        {
          "output_type": "stream",
          "name": "stdout",
          "text": [
            "EBITDA: $969,090,000.00\n"
          ]
        }
      ]
    },
    {
      "cell_type": "markdown",
      "source": [
        "**EBIT**"
      ],
      "metadata": {
        "id": "qbtAIus_S1U-"
      }
    },
    {
      "cell_type": "code",
      "source": [
        "# Encontrando o valor de Pretax Income\n",
        "Pretax_Income = soup.find('td', text=\"Pretax Income\")\n",
        "value = Pretax_Income.find_next('td').text\n",
        "\n",
        "# Removendo as vírgulas e convertendo o valor para float\n",
        "value_in_millions_2 = float(value.replace(',', '')) * 1000000\n",
        "\n",
        "# Formatando o valor de volta para uma string com a notação de dólares\n",
        "if value_in_millions_2 == 0:\n",
        "  value_formatted = '$ 0.00'\n",
        "else:\n",
        "  value_formatted = '${:,.2f}'.format(value_in_millions_2)\n",
        "\n",
        "# Imprimindo o valor formatado\n",
        "print('EBIT:', value_formatted)"
      ],
      "metadata": {
        "colab": {
          "base_uri": "https://localhost:8080/"
        },
        "id": "oMwZx3DRS3fF",
        "outputId": "bfd81157-54b5-4cad-a874-2591ba42d873"
      },
      "execution_count": 1211,
      "outputs": [
        {
          "output_type": "stream",
          "name": "stdout",
          "text": [
            "EBIT: $876,000,000.00\n"
          ]
        }
      ]
    },
    {
      "cell_type": "markdown",
      "source": [
        "IR"
      ],
      "metadata": {
        "id": "R-0StA4ITY9s"
      }
    },
    {
      "cell_type": "code",
      "source": [
        "# Encontrando o valor de Income Taxes\n",
        "Income_Taxes = soup.find('td', text=\"Income Taxes\")\n",
        "value = Income_Taxes.find_next('td').text\n",
        "\n",
        "# Removendo as vírgulas e convertendo o valor para float\n",
        "value_in_millions_3 = float(value.replace(',', '')) * 1000000\n",
        "\n",
        "# Formatando o valor de volta para uma string com a notação de dólares\n",
        "if value_in_millions_3 == 0:\n",
        "  value_formatted = '$ 0.00'\n",
        "else:\n",
        "  value_formatted = '${:,.2f}'.format(value_in_millions_3)\n",
        "\n",
        "# Imprimindo o valor formatado\n",
        "print('IR:', value_formatted)"
      ],
      "metadata": {
        "colab": {
          "base_uri": "https://localhost:8080/"
        },
        "id": "uxtwcWUfTbNt",
        "outputId": "54959fa0-ad0e-4e55-fd4c-cc3593afe205"
      },
      "execution_count": 1212,
      "outputs": [
        {
          "output_type": "stream",
          "name": "stdout",
          "text": [
            "IR: $223,000,000.00\n"
          ]
        }
      ]
    },
    {
      "cell_type": "markdown",
      "source": [
        "# *NOPAT Restrito* "
      ],
      "metadata": {
        "id": "AgKUvscyT2pz"
      }
    },
    {
      "cell_type": "code",
      "source": [
        "# Encontrando o valor de NOPAT Restrito\n",
        "NOPAT_Restrito = value_in_millions_2 - value_in_millions_3\n",
        "NOPAT_Restrito \n",
        "\n",
        "if NOPAT_Restrito == 0:\n",
        "  NOPAT_Restrito_formatted = '$ 0.00'\n",
        "else:\n",
        "  NOPAT_Restrito_formatted = '${:,.2f}'.format(NOPAT_Restrito)\n",
        "\n",
        "# Imprimindo o valor formatado\n",
        "print('NOPAT Restrito:', NOPAT_Restrito_formatted)"
      ],
      "metadata": {
        "colab": {
          "base_uri": "https://localhost:8080/"
        },
        "id": "CxyJ7aOCUESb",
        "outputId": "525b85aa-dff7-459b-bd06-2b2b444acdbb"
      },
      "execution_count": 1213,
      "outputs": [
        {
          "output_type": "stream",
          "name": "stdout",
          "text": [
            "NOPAT Restrito: $653,000,000.00\n"
          ]
        }
      ]
    },
    {
      "cell_type": "markdown",
      "source": [
        "Depesa Financeira"
      ],
      "metadata": {
        "id": "F3HHswLIY4sc"
      }
    },
    {
      "cell_type": "code",
      "source": [
        "# Encontrando o valor de Investment Gains/Losses\n",
        "Investment_Gains_Losses = soup.find('td', text=\"Investment Gains/Losses\")\n",
        "value = Investment_Gains_Losses.find_next('td').text\n",
        "\n",
        "# Removendo as vírgulas e convertendo o valor para float\n",
        "value_in_millions_4 = float(value.replace(',', '')) * 1000000\n",
        "\n",
        "# Formatando o valor de volta para uma string com a notação de dólares\n",
        "if value_in_millions_4 == 0:\n",
        "  value_formatted = '$ 0.00'\n",
        "else:\n",
        "  value_formatted = '${:,.2f}'.format(value_in_millions_4)\n",
        "\n",
        "# Imprimindo o valor formatado\n",
        "print('Despesa Financeira:', value_formatted)"
      ],
      "metadata": {
        "colab": {
          "base_uri": "https://localhost:8080/"
        },
        "id": "WMmPUyMxY70r",
        "outputId": "1ebf535f-7f01-4d2c-c930-c21deb37e34e"
      },
      "execution_count": 1214,
      "outputs": [
        {
          "output_type": "stream",
          "name": "stdout",
          "text": [
            "Despesa Financeira: $10,000,000.00\n"
          ]
        }
      ]
    },
    {
      "cell_type": "markdown",
      "source": [
        "Lucro Líquido"
      ],
      "metadata": {
        "id": "JSFJiWKCZe7d"
      }
    },
    {
      "cell_type": "code",
      "source": [
        "# Encontrando o valor de Net Income (GAAP)\n",
        "Net_Income_GAAP = soup.find('td', text=\"Net Income (GAAP)\")\n",
        "value = Net_Income_GAAP.find_next('td').text\n",
        "\n",
        "# Removendo as vírgulas e convertendo o valor para float\n",
        "value_in_millions_5 = float(value.replace(',', '')) * 1000000\n",
        "\n",
        "# Formatando o valor de volta para uma string com a notação de dólares\n",
        "if value_in_millions_5 == 0:\n",
        "  value_formatted = '$ 0.00'\n",
        "else:\n",
        "  value_formatted = '${:,.2f}'.format(value_in_millions_5)\n",
        "\n",
        "# Imprimindo o valor formatado\n",
        "print('Lucro Líquido:', value_formatted)"
      ],
      "metadata": {
        "colab": {
          "base_uri": "https://localhost:8080/"
        },
        "id": "EhCQ1epeZirF",
        "outputId": "920a6311-8656-4f39-806d-6e3ab348cef2"
      },
      "execution_count": 1215,
      "outputs": [
        {
          "output_type": "stream",
          "name": "stdout",
          "text": [
            "Lucro Líquido: $658,000,000.00\n"
          ]
        }
      ]
    },
    {
      "cell_type": "markdown",
      "source": [
        "## **FCL**"
      ],
      "metadata": {
        "id": "kVDpZpUz7I3s"
      }
    },
    {
      "cell_type": "markdown",
      "source": [
        "NOPAT Restrito"
      ],
      "metadata": {
        "id": "2yRdls9e7XYp"
      }
    },
    {
      "cell_type": "code",
      "source": [
        "# Encontrando o valor de NOPAT Restrito\n",
        "NOPAT_Restrito = value_in_millions_2 - value_in_millions_3\n",
        "NOPAT_Restrito \n",
        "\n",
        "if NOPAT_Restrito == 0:\n",
        "  NOPAT_Restrito_formatted = '$ 0.00'\n",
        "else:\n",
        "  NOPAT_Restrito_formatted = '${:,.2f}'.format(NOPAT_Restrito)\n",
        "\n",
        "# Imprimindo o valor formatado\n",
        "print('NOPAT Restrito:', NOPAT_Restrito_formatted)"
      ],
      "metadata": {
        "colab": {
          "base_uri": "https://localhost:8080/"
        },
        "id": "4TsiECKb7fQZ",
        "outputId": "00ce1196-6c42-48bc-932e-2a9ddfbe9488"
      },
      "execution_count": 1216,
      "outputs": [
        {
          "output_type": "stream",
          "name": "stdout",
          "text": [
            "NOPAT Restrito: $653,000,000.00\n"
          ]
        }
      ]
    },
    {
      "cell_type": "markdown",
      "source": [
        "Depreciação e Amortização"
      ],
      "metadata": {
        "id": "5D4-GZ0N7hsT"
      }
    },
    {
      "cell_type": "code",
      "source": [
        "import requests\n",
        "from bs4 import BeautifulSoup\n",
        "\n",
        "url = 'https://www.zacks.com/stock/quote/'+ symbol +'/cash-flow-statements'\n",
        "user_agent = {'User-agent': 'Mozilla/5.0'}\n",
        "\n",
        "# Obtendo a página\n",
        "page = requests.get(url, headers = user_agent)\n",
        "\n",
        "# Criando o objeto BeautifulSoup\n",
        "soup = BeautifulSoup(page.content, 'html.parser')\n",
        "\n",
        "# Extraindo os valores da tabela\n",
        "table_rows = soup.find_all('tr')\n",
        "for tr in table_rows:\n",
        "    td = tr.find_all('td')\n",
        "    row = [i.text for i in td]\n",
        "    \n",
        "# Encontrando o valor de Depreciação e Amortização\n",
        "Depreciation_Amortization_Depletion = soup.find('td', text=\"Depreciation/Amortization & Depletion\")\n",
        "value = Depreciation_Amortization_Depletion.find_next('td').text\n",
        "\n",
        "# Removendo as vírgulas e convertendo o valor para float\n",
        "value_in_millions_7 = float(value.replace(',', '')) * 1000000\n",
        "\n",
        "# Formatando o valor de volta para uma string com a notação de dólares\n",
        "if value_in_millions_7 == 0:\n",
        "  value_formatted = '$ 0.00'\n",
        "else:\n",
        "  value_formatted = '${:,.2f}'.format(value_in_millions_7)\n",
        "\n",
        "# Imprimindo o valor formatado\n",
        "print('Depreciação e Amortização:', value_formatted)"
      ],
      "metadata": {
        "colab": {
          "base_uri": "https://localhost:8080/"
        },
        "id": "SOUkNxRF7qj5",
        "outputId": "338b6f23-b71d-4285-afc9-114ecf0f4b17"
      },
      "execution_count": 1217,
      "outputs": [
        {
          "output_type": "stream",
          "name": "stdout",
          "text": [
            "Depreciação e Amortização: $44,090,000.00\n"
          ]
        }
      ]
    },
    {
      "cell_type": "markdown",
      "source": [
        "FCO"
      ],
      "metadata": {
        "id": "EmtOz-1l71eg"
      }
    },
    {
      "cell_type": "code",
      "source": [
        "# Calculando FCO\n",
        "FCO = NOPAT_Restrito + value_in_millions_7\n",
        "\n",
        "# Formatando o valor de volta para uma string com a notação de dólares\n",
        "if FCO == 0:\n",
        "  FCO_formatted = '$ 0.00'\n",
        "else:\n",
        "  FCO_formatted = '${:,.2f}'.format(FCO)\n",
        "\n",
        "# Imprimindo o valor formatado\n",
        "print('FCO:', FCO_formatted)"
      ],
      "metadata": {
        "colab": {
          "base_uri": "https://localhost:8080/"
        },
        "id": "xM4UtcFQ74yb",
        "outputId": "c18fd997-8e5b-44b2-9f6c-92c79039342c"
      },
      "execution_count": 1218,
      "outputs": [
        {
          "output_type": "stream",
          "name": "stdout",
          "text": [
            "FCO: $697,090,000.00\n"
          ]
        }
      ]
    },
    {
      "cell_type": "markdown",
      "source": [
        "Δ NC Giro"
      ],
      "metadata": {
        "id": "RTThCUujHUhW"
      }
    },
    {
      "cell_type": "code",
      "source": [
        "# Calculando NC Giro\n",
        "NC_Giro = value_operational_1 - value_operational_2\n",
        "\n",
        "# Formatando o valor de volta para uma string com a notação de dólares\n",
        "if NC_Giro == 0:\n",
        "  NC_Giro_formatted = '$ 0.00'\n",
        "else:\n",
        "  NC_Giro_formatted = '${:,.2f}'.format(NC_Giro)\n",
        "\n",
        "# Imprimindo o valor formatado\n",
        "print('Δ NC Giro:', NC_Giro_formatted)"
      ],
      "metadata": {
        "colab": {
          "base_uri": "https://localhost:8080/"
        },
        "id": "K3U7367iHYJ3",
        "outputId": "0ab0dfb5-29ba-40b4-a5b7-0bafd5b96fba"
      },
      "execution_count": 1219,
      "outputs": [
        {
          "output_type": "stream",
          "name": "stdout",
          "text": [
            "Δ NC Giro: $509,000,000.00\n"
          ]
        }
      ]
    },
    {
      "cell_type": "markdown",
      "source": [
        "CAPEX"
      ],
      "metadata": {
        "id": "KOYuDMIibW_z"
      }
    },
    {
      "cell_type": "code",
      "source": [
        "CAPEX_formatted = '${:,.2f}'.format(value_in_millions_8)\n",
        "print('CAPEX:', CAPEX_formatted)"
      ],
      "metadata": {
        "colab": {
          "base_uri": "https://localhost:8080/"
        },
        "id": "5wyM300WbHBW",
        "outputId": "15880b33-8b42-4f9d-9520-db1097eabf65"
      },
      "execution_count": 1220,
      "outputs": [
        {
          "output_type": "stream",
          "name": "stdout",
          "text": [
            "CAPEX: $29,790,000.00\n"
          ]
        }
      ]
    },
    {
      "cell_type": "markdown",
      "source": [
        "FCFF"
      ],
      "metadata": {
        "id": "COzJ0z-IXcq1"
      }
    },
    {
      "cell_type": "code",
      "source": [
        "# Calculando FCFF\n",
        "if NC_Giro > 0:\n",
        "  FCFF = FCO - NC_Giro - value_in_millions_8\n",
        "elif NC_Giro < 0:\n",
        "  FCFF = FCO + NC_Giro - value_in_millions_8\n",
        "\n",
        "# Formatando o valor de volta para uma string com a notação de dólares\n",
        "if FCFF == 0:\n",
        "  FCFF_formatted = '$ 0.00'\n",
        "else:\n",
        "  FCFF_formatted = '${:,.2f}'.format(FCFF)\n",
        "\n",
        "# Imprimindo o valor formatado\n",
        "print('FCFF:', FCFF_formatted)"
      ],
      "metadata": {
        "colab": {
          "base_uri": "https://localhost:8080/"
        },
        "id": "LRnSIkiBYBHh",
        "outputId": "f23254d6-b8ed-4f22-e7dc-d495004c9f11"
      },
      "execution_count": 1221,
      "outputs": [
        {
          "output_type": "stream",
          "name": "stdout",
          "text": [
            "FCFF: $158,300,000.00\n"
          ]
        }
      ]
    },
    {
      "cell_type": "markdown",
      "source": [
        "Novas Dívidas"
      ],
      "metadata": {
        "id": "mJDGo-EeOtEi"
      }
    },
    {
      "cell_type": "code",
      "source": [
        "# Calculando Novas Dívidas\n",
        "Novas_dividas = value_in_millions_9 + value_in_millions_10\n",
        "\n",
        "# Formatando o valor de volta para uma string com a notação de dólares\n",
        "if Novas_dividas == 0:\n",
        "  Novas_dividas_formatted = '$ 0.00'\n",
        "else:\n",
        "  Novas_dividas_formatted = '${:,.2f}'.format(Novas_dividas)\n",
        "\n",
        "# Imprimindo o valor formatado\n",
        "print('Novas Dívidas:', Novas_dividas_formatted)"
      ],
      "metadata": {
        "colab": {
          "base_uri": "https://localhost:8080/"
        },
        "id": "p5rjXI4AOu__",
        "outputId": "41e542c8-4f95-4ee2-e1a2-12494b702824"
      },
      "execution_count": 1222,
      "outputs": [
        {
          "output_type": "stream",
          "name": "stdout",
          "text": [
            "Novas Dívidas: $217,860,000.00\n"
          ]
        }
      ]
    },
    {
      "cell_type": "markdown",
      "source": [
        "IR"
      ],
      "metadata": {
        "id": "qfpM_xw_Pet1"
      }
    },
    {
      "cell_type": "code",
      "source": [
        "# Imprimindo o valor formatado\n",
        "IR_formatted = '${:,.2f}'.format(value_in_millions_3)\n",
        "print('IR:', IR_formatted)"
      ],
      "metadata": {
        "colab": {
          "base_uri": "https://localhost:8080/"
        },
        "id": "h4l-C5OKPgws",
        "outputId": "7124d01b-04b7-4e41-e759-51b812afbc76"
      },
      "execution_count": 1223,
      "outputs": [
        {
          "output_type": "stream",
          "name": "stdout",
          "text": [
            "IR: $223,000,000.00\n"
          ]
        }
      ]
    },
    {
      "cell_type": "markdown",
      "source": [
        "**FCDA**"
      ],
      "metadata": {
        "id": "htoqd64hQ1xz"
      }
    },
    {
      "cell_type": "code",
      "source": [
        "# Calculando FCDA\n",
        "FCDA = FCFF + Novas_dividas + value_in_millions_3\n",
        "\n",
        "# Formatando o valor de volta para uma string com a notação de dólares\n",
        "if FCDA == 0:\n",
        "  FCDA_formatted = '$ 0.00'\n",
        "else:\n",
        "  FCDA_formatted = '${:,.2f}'.format(FCDA)\n",
        "\n",
        "# Imprimindo o valor formatado\n",
        "print('FCDA:', FCDA_formatted)"
      ],
      "metadata": {
        "colab": {
          "base_uri": "https://localhost:8080/"
        },
        "id": "S2xtWOPgQ84K",
        "outputId": "73d1ce3a-1e71-43b2-af08-33f610c87674"
      },
      "execution_count": 1224,
      "outputs": [
        {
          "output_type": "stream",
          "name": "stdout",
          "text": [
            "FCDA: $599,160,000.00\n"
          ]
        }
      ]
    },
    {
      "cell_type": "markdown",
      "metadata": {
        "id": "DH-nf24b1SOE"
      },
      "source": [
        "# **CAPM - Custo do Capital Próprio**"
      ]
    },
    {
      "cell_type": "markdown",
      "metadata": {
        "id": "RGbIYpb66SIE"
      },
      "source": [
        "Custo de Capital Próprio"
      ]
    },
    {
      "cell_type": "code",
      "execution_count": 1225,
      "metadata": {
        "id": "s7HSQpcL1Wh6",
        "colab": {
          "base_uri": "https://localhost:8080/"
        },
        "outputId": "73a20d29-7a30-42e5-c354-7224457bbe1c"
      },
      "outputs": [
        {
          "output_type": "stream",
          "name": "stdout",
          "text": [
            "Rj (Ke): 14,735600000000002\n"
          ]
        }
      ],
      "source": [
        "Ke = interest_rate + (beta*(rm - interest_rate))\n",
        "Ke_str = str(Ke).replace('.', ',')\n",
        "\n",
        "print(f'Rj (Ke): {Ke_str}')"
      ]
    },
    {
      "cell_type": "markdown",
      "metadata": {
        "id": "1R_c9FBG8DAg"
      },
      "source": [
        "Ki (Kd) - Custo da Dívida"
      ]
    },
    {
      "cell_type": "code",
      "execution_count": 1226,
      "metadata": {
        "id": "7yzJR2Iz0mx2",
        "colab": {
          "base_uri": "https://localhost:8080/"
        },
        "outputId": "f5cb2054-ba43-4cc7-ff92-fd92cbcc5aa0"
      },
      "outputs": [
        {
          "output_type": "stream",
          "name": "stdout",
          "text": [
            "Ki (Kd) - Custo da Dívida: 6.00 %\n"
          ]
        }
      ],
      "source": [
        "# Calculando Ki (Kd) - Custo da Dívida\n",
        "if value_in_millions_4 == 0:\n",
        "  Ki = Rf + inflation\n",
        "else:\n",
        "  Ki = (value_in_millions_4 / total_debt) + 1\n",
        "\n",
        "# Formatando o valor de volta para uma string com a notação de dólares\n",
        "if Ki == 0:\n",
        "  Ki_formatted = ' 0.00 %'\n",
        "else:\n",
        "  Ki_formatted = '{:,.2f} %'.format(Ki)\n",
        "\n",
        "# Imprimindo o valor formatado\n",
        "print('Ki (Kd) - Custo da Dívida:', Ki_formatted)"
      ]
    },
    {
      "cell_type": "markdown",
      "source": [
        "Po e PL"
      ],
      "metadata": {
        "id": "aBzsBZxMTwNb"
      }
    },
    {
      "cell_type": "code",
      "source": [
        "Po = total_debt\n",
        "PL = value_in_millions_12\n",
        "Po_formatted = '${:,.2f}'.format(total_debt)\n",
        "PL_formatted = '${:,.2f}'.format(value_in_millions_12)\n",
        "print ('PL:' , PL_formatted)\n",
        "print ('Po:' , Po_formatted)"
      ],
      "metadata": {
        "colab": {
          "base_uri": "https://localhost:8080/"
        },
        "id": "Gee_hzpfT0Ts",
        "outputId": "f0ac171a-c3bb-4499-df97-9faf3997b3c7"
      },
      "execution_count": 1237,
      "outputs": [
        {
          "output_type": "stream",
          "name": "stdout",
          "text": [
            "PL: $1,814,000,000.00\n",
            "Po: $2,000,000.00\n"
          ]
        }
      ]
    },
    {
      "cell_type": "markdown",
      "metadata": {
        "id": "rku-vAM-vjJK"
      },
      "source": [
        "PL / (Po+PL)"
      ]
    },
    {
      "cell_type": "code",
      "execution_count": 1236,
      "metadata": {
        "id": "rJbhVGskvm_I",
        "colab": {
          "base_uri": "https://localhost:8080/"
        },
        "outputId": "982fbc5d-603d-45d3-a69b-34c7275ed221"
      },
      "outputs": [
        {
          "output_type": "stream",
          "name": "stdout",
          "text": [
            "PL / (Po+PL): 1.00\n"
          ]
        }
      ],
      "source": [
        "# Calculando PL / (Po+PL)\n",
        "if value_in_millions_12 == 0:\n",
        "  PL_Po_PL = 0.0\n",
        "else:\n",
        "  PL_Po_PL = value_in_millions_12 / (value_in_millions_12 + total_debt)\n",
        "\n",
        "# Formatando o valor de volta para uma string com a notação de dólares\n",
        "if PL_Po_PL == 0:\n",
        "   PL_Po_PL_formatted = ' 0.0'\n",
        "else:\n",
        "  PL_Po_PL_formatted = '{:,.2f}'.format(PL_Po_PL)\n",
        "\n",
        "# Imprimindo o valor formatado\n",
        "print('PL / (Po+PL):', PL_Po_PL_formatted)"
      ]
    },
    {
      "cell_type": "markdown",
      "metadata": {
        "id": "dAz6lQsivnm5"
      },
      "source": [
        "Po / (Po+PL)"
      ]
    },
    {
      "cell_type": "code",
      "execution_count": 1228,
      "metadata": {
        "id": "ZQAP7hjBvprg",
        "colab": {
          "base_uri": "https://localhost:8080/"
        },
        "outputId": "b6497846-9ab1-47be-ee0f-3a38f9c024e9"
      },
      "outputs": [
        {
          "output_type": "stream",
          "name": "stdout",
          "text": [
            "Po / (Po+PL): 0.00\n"
          ]
        }
      ],
      "source": [
        "# Calculando Po / (Po+PL)\n",
        "if total_debt == 0:\n",
        "  Po_Po_PL = 0.0\n",
        "else:\n",
        "  Po_Po_PL = total_debt / (value_in_millions_12 + total_debt)\n",
        "\n",
        "# Formatando o valor de volta para uma string com a notação de dólares\n",
        "if Po_Po_PL == 0:\n",
        "   Po_Po_PL_formatted = ' 0.0'\n",
        "else:\n",
        "  Po_Po_PL_formatted = '{:,.2f}'.format(Po_Po_PL)\n",
        "\n",
        "# Imprimindo o valor formatado\n",
        "print('Po / (Po+PL):', Po_Po_PL_formatted)"
      ]
    },
    {
      "cell_type": "markdown",
      "metadata": {
        "id": "qeeiAaPTvrl3"
      },
      "source": [
        "**WACC**"
      ]
    },
    {
      "cell_type": "code",
      "execution_count": 1229,
      "metadata": {
        "id": "r09vWCutvw0v",
        "colab": {
          "base_uri": "https://localhost:8080/"
        },
        "outputId": "9a9e1d65-8ea9-4514-83f7-51dde34cdd73"
      },
      "outputs": [
        {
          "output_type": "stream",
          "name": "stdout",
          "text": [
            "WACC: 14.73%\n"
          ]
        }
      ],
      "source": [
        "# Calculando WACC\n",
        "wacc = (Ke * PL_Po_PL ) + (Ki * Po_Po_PL)\n",
        "wacc_formatted = '{:,.2f}%'.format(wacc)\n",
        "print ('WACC:' , wacc_formatted)"
      ]
    },
    {
      "cell_type": "markdown",
      "source": [
        "**Custo de Oportunidade**"
      ],
      "metadata": {
        "id": "agGo1GPIHK-t"
      }
    },
    {
      "cell_type": "code",
      "source": [
        "# Calculando Co = PL/Ke\n",
        "Co = value_in_millions_12/(Ke/100)\n",
        "Co_formatted = '${:,.2f}'.format(Co)\n",
        "print ('Co:' , Co_formatted)\n"
      ],
      "metadata": {
        "colab": {
          "base_uri": "https://localhost:8080/"
        },
        "id": "Vdh7TY1JHN2M",
        "outputId": "fc05f71b-622a-4add-b167-d48297465ca8"
      },
      "execution_count": 1230,
      "outputs": [
        {
          "output_type": "stream",
          "name": "stdout",
          "text": [
            "Co: $12,310,323,298.68\n"
          ]
        }
      ]
    },
    {
      "cell_type": "markdown",
      "source": [
        "**Lucro Econômico (EVA)**"
      ],
      "metadata": {
        "id": "MiWdaQehJIw7"
      }
    },
    {
      "cell_type": "code",
      "source": [
        "# Calculando LE = LL - Co\n",
        "LE = value_in_millions_5 - Co\n",
        "LE_formatted = '${:,.2f}'.format(LE)\n",
        "print ('LE:' , LE_formatted)\n"
      ],
      "metadata": {
        "colab": {
          "base_uri": "https://localhost:8080/"
        },
        "id": "o8RSTxxJJKuV",
        "outputId": "58a31f65-bef0-4058-e867-a90da14cfb70"
      },
      "execution_count": 1231,
      "outputs": [
        {
          "output_type": "stream",
          "name": "stdout",
          "text": [
            "LE: $-11,652,323,298.68\n"
          ]
        }
      ]
    },
    {
      "cell_type": "code",
      "source": [],
      "metadata": {
        "id": "K5bapQoyJm0f"
      },
      "execution_count": 1231,
      "outputs": []
    }
  ],
  "metadata": {
    "colab": {
      "provenance": [],
      "authorship_tag": "ABX9TyOfGmQNIAdb5gue4wEk44MU",
      "include_colab_link": true
    },
    "kernelspec": {
      "display_name": "Python 3",
      "name": "python3"
    },
    "language_info": {
      "name": "python"
    }
  },
  "nbformat": 4,
  "nbformat_minor": 0
}
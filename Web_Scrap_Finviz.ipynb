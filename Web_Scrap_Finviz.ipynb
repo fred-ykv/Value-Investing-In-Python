{
  "cells": [
    {
      "cell_type": "markdown",
      "metadata": {
        "id": "view-in-github",
        "colab_type": "text"
      },
      "source": [
        "<a href=\"https://colab.research.google.com/github/fred-ykv/Value-Investing-In-Python/blob/master/Web_Scrap_Finviz.ipynb\" target=\"_parent\"><img src=\"https://colab.research.google.com/assets/colab-badge.svg\" alt=\"Open In Colab\"/></a>"
      ]
    },
    {
      "cell_type": "code",
      "execution_count": 142,
      "metadata": {
        "id": "wY-LWbMOurgX"
      },
      "outputs": [],
      "source": [
        "import pandas as pd\n",
        "import numpy as np\n",
        "from bs4 import BeautifulSoup as soup\n",
        "from urllib.request import Request, urlopen\n",
        "\n",
        "pd.set_option('display.max_colwidth', 25)"
      ]
    },
    {
      "cell_type": "markdown",
      "metadata": {
        "id": "mwlgWGhPu6Pb"
      },
      "source": [
        "# Entrada do Ticker"
      ]
    },
    {
      "cell_type": "code",
      "execution_count": 143,
      "metadata": {
        "colab": {
          "base_uri": "https://localhost:8080/"
        },
        "id": "4w94Nzhiu2vs",
        "outputId": "1a3098d7-6df3-46d1-d947-d8f4e4e83da6"
      },
      "outputs": [
        {
          "output_type": "stream",
          "name": "stdout",
          "text": [
            "Enter a ticker: wire\n",
            "Getting data for wire...\n",
            "\n"
          ]
        }
      ],
      "source": [
        "symbol = input('Enter a ticker: ')\n",
        "print ('Getting data for ' + symbol + '...\\n')"
      ]
    },
    {
      "cell_type": "markdown",
      "metadata": {
        "id": "rIwGESCovDR5"
      },
      "source": [
        "# Set up scraper"
      ]
    },
    {
      "cell_type": "code",
      "execution_count": 144,
      "metadata": {
        "id": "mBHiAQp_u_Mq"
      },
      "outputs": [],
      "source": [
        "url = (\"http://finviz.com/quote.ashx?t=\" + symbol.lower())\n",
        "req = Request(url, headers={'User-Agent': 'Mozilla/5.0'})\n",
        "webpage = urlopen(req).read()\n",
        "html = soup(webpage, \"html.parser\")"
      ]
    },
    {
      "cell_type": "code",
      "execution_count": 145,
      "metadata": {
        "id": "AFOQbAnpvGoC"
      },
      "outputs": [],
      "source": [
        "def get_fundamentals():\n",
        "    try:\n",
        "        # Find fundamentals table\n",
        "        fundamentals = pd.read_html(str(html), attrs = {'class': 'snapshot-table2'})[0]\n",
        "        \n",
        "        # Clean up fundamentals dataframe\n",
        "        fundamentals.columns = ['0', '1', '2', '3', '4', '5', '6', '7', '8', '9', '10', '11']\n",
        "        colOne = []\n",
        "        colLength = len(fundamentals)\n",
        "        for k in np.arange(0, colLength, 2):\n",
        "            colOne.append(fundamentals[f'{k}'])\n",
        "        attrs = pd.concat(colOne, ignore_index=True)\n",
        "    \n",
        "        colTwo = []\n",
        "        colLength = len(fundamentals)\n",
        "        for k in np.arange(1, colLength, 2):\n",
        "            colTwo.append(fundamentals[f'{k}'])\n",
        "        vals = pd.concat(colTwo, ignore_index=True)\n",
        "        \n",
        "        fundamentals = pd.DataFrame()\n",
        "        fundamentals['Attributes'] = attrs\n",
        "        fundamentals['Values'] = vals\n",
        "        fundamentals = fundamentals.set_index('Attributes')\n",
        "        return fundamentals\n",
        "\n",
        "    except Exception as e:\n",
        "        return e"
      ]
    },
    {
      "cell_type": "code",
      "execution_count": 146,
      "metadata": {
        "id": "hsCMRBm9vQIJ"
      },
      "outputs": [],
      "source": [
        "def get_news():\n",
        "    try:\n",
        "        # Find news table\n",
        "        news = pd.read_html(str(html), attrs = {'class': 'fullview-news-outer'})[0]\n",
        "        links = []\n",
        "        for a in html.find_all('a', class_=\"tab-link-news\"):\n",
        "            links.append(a['href'])\n",
        "        \n",
        "        # Clean up news dataframe\n",
        "        news.columns = ['Date', 'News Headline']\n",
        "        news['Article Link'] = links\n",
        "        news = news.set_index('Date')\n",
        "        return news\n",
        "\n",
        "    except Exception as e:\n",
        "        return e"
      ]
    },
    {
      "cell_type": "code",
      "execution_count": 147,
      "metadata": {
        "id": "2rphDYZIv8CI"
      },
      "outputs": [],
      "source": [
        "def get_insider():\n",
        "    try:\n",
        "        # Find insider table\n",
        "        insider = pd.read_html(str(html), attrs = {'class': 'body-table'})[0]\n",
        "        \n",
        "        # Clean up insider dataframe\n",
        "        insider = insider.iloc[1:]\n",
        "        insider.columns = ['Trader', 'Relationship', 'Date', 'Transaction', 'Cost', '# Shares', 'Value ($)', '# Shares Total', 'SEC Form 4']\n",
        "        insider = insider[['Date', 'Trader', 'Relationship', 'Transaction', 'Cost', '# Shares', 'Value ($)', '# Shares Total', 'SEC Form 4']]\n",
        "        insider = insider.set_index('Date')\n",
        "        return insider\n",
        "\n",
        "    except Exception as e:\n",
        "        return e"
      ]
    },
    {
      "cell_type": "code",
      "execution_count": 148,
      "metadata": {
        "colab": {
          "base_uri": "https://localhost:8080/"
        },
        "id": "h_oQvoE4v_GP",
        "outputId": "5b34804b-dfac-4ba7-d7d8-447921374176"
      },
      "outputs": [
        {
          "output_type": "stream",
          "name": "stdout",
          "text": [
            "Fundamental Ratios: \n",
            "                 Values\n",
            "Attributes             \n",
            "Index                 -\n",
            "Market Cap        3.44B\n",
            "Income          717.80M\n",
            "Sales             3.02B\n",
            "Book/sh           99.60\n",
            "...                 ...\n",
            "ATR                6.90\n",
            "Volatility  4.64% 3.84%\n",
            "Prev Close       188.48\n",
            "Price            189.63\n",
            "Change            0.61%\n",
            "\n",
            "[72 rows x 1 columns]\n"
          ]
        }
      ],
      "source": [
        "print ('Fundamental Ratios: ')\n",
        "print(get_fundamentals())"
      ]
    },
    {
      "cell_type": "code",
      "execution_count": 149,
      "metadata": {
        "colab": {
          "base_uri": "https://localhost:8080/"
        },
        "id": "zDzZXoVlwBcv",
        "outputId": "04d4e97f-7a7f-465a-e2a9-46f4347b2ad9"
      },
      "outputs": [
        {
          "output_type": "stream",
          "name": "stdout",
          "text": [
            "\n",
            "Recent News: \n",
            "Length of values (100) does not match length of index (103)\n"
          ]
        }
      ],
      "source": [
        "print ('\\nRecent News: ')\n",
        "print(get_news())"
      ]
    },
    {
      "cell_type": "code",
      "execution_count": 150,
      "metadata": {
        "colab": {
          "base_uri": "https://localhost:8080/"
        },
        "id": "4hptH8LYwEUv",
        "outputId": "2d6b5a5b-4f1b-4a30-8797-c4bd4d5a3f5b"
      },
      "outputs": [
        {
          "output_type": "stream",
          "name": "stdout",
          "text": [
            "\n",
            "Recent Insider Trades: \n",
            "                 Trader Relationship      Transaction    Cost # Shares  \\\n",
            "Date                                                                     \n",
            "Feb 21  Ford Matthew D.   Controller             Sale  200.00     2725   \n",
            "Feb 17  Ford Matthew D.   Controller             Sale  200.00      275   \n",
            "Jul 21  Ford Matthew D.   Controller  Option Exercise   51.63     1000   \n",
            "\n",
            "       Value ($) # Shares Total       SEC Form 4  \n",
            "Date                                              \n",
            "Feb 21    545000          34138  Feb 21 12:30 PM  \n",
            "Feb 17     55000          36863  Feb 21 12:30 PM  \n",
            "Jul 21     51630          31500  Jul 22 12:51 PM  \n"
          ]
        }
      ],
      "source": [
        "print ('\\nRecent Insider Trades: ')\n",
        "print(get_insider())"
      ]
    },
    {
      "cell_type": "code",
      "execution_count": 151,
      "metadata": {
        "colab": {
          "base_uri": "https://localhost:8080/"
        },
        "id": "OsnhT191eMsD",
        "outputId": "2189e685-784e-4842-9705-eef149528b96"
      },
      "outputs": [
        {
          "output_type": "stream",
          "name": "stdout",
          "text": [
            "\n",
            "Fundamental Ratios: \n",
            "                 Values\n",
            "Attributes             \n",
            "Index                 -\n",
            "Market Cap        3.44B\n",
            "Income          717.80M\n",
            "Sales             3.02B\n",
            "Book/sh           99.60\n",
            "...                 ...\n",
            "ATR                6.90\n",
            "Volatility  4.64% 3.84%\n",
            "Prev Close       188.48\n",
            "Price            189.63\n",
            "Change            0.61%\n",
            "\n",
            "[72 rows x 1 columns]\n",
            "\n",
            "Recent News: \n",
            "Length of values (100) does not match length of index (103)\n",
            "\n",
            "Recent Insider Trades: \n",
            "                 Trader Relationship      Transaction    Cost # Shares  \\\n",
            "Date                                                                     \n",
            "Feb 21  Ford Matthew D.   Controller             Sale  200.00     2725   \n",
            "Feb 17  Ford Matthew D.   Controller             Sale  200.00      275   \n",
            "Jul 21  Ford Matthew D.   Controller  Option Exercise   51.63     1000   \n",
            "\n",
            "       Value ($) # Shares Total       SEC Form 4  \n",
            "Date                                              \n",
            "Feb 21    545000          34138  Feb 21 12:30 PM  \n",
            "Feb 17     55000          36863  Feb 21 12:30 PM  \n",
            "Jul 21     51630          31500  Jul 22 12:51 PM  \n"
          ]
        }
      ],
      "source": [
        "print ('\\nFundamental Ratios: ')\n",
        "print(get_fundamentals())\n",
        "\n",
        "print ('\\nRecent News: ')\n",
        "print(get_news())\n",
        "\n",
        "print ('\\nRecent Insider Trades: ')\n",
        "print(get_insider())"
      ]
    },
    {
      "cell_type": "code",
      "execution_count": 152,
      "metadata": {
        "colab": {
          "base_uri": "https://localhost:8080/"
        },
        "id": "czgejvytfcKR",
        "outputId": "0d7161ee-8478-4d99-8976-7c41d56f201e"
      },
      "outputs": [
        {
          "output_type": "stream",
          "name": "stdout",
          "text": [
            "Fundamental Ratios: \n",
            "Values    3.44B\n",
            "Name: Market Cap, dtype: object\n"
          ]
        }
      ],
      "source": [
        "print ('Fundamental Ratios: ')\n",
        "fundamentals = get_fundamentals()\n",
        "if 'Market Cap' in fundamentals.index:\n",
        "    print(fundamentals.loc['Market Cap'])\n",
        "else:\n",
        "    print('Market Cap is not listed.')"
      ]
    },
    {
      "cell_type": "code",
      "execution_count": 153,
      "metadata": {
        "colab": {
          "base_uri": "https://localhost:8080/"
        },
        "id": "P2iO87-LBg6f",
        "outputId": "135dc295-2df4-4ed6-a958-0eea1c5195e4"
      },
      "outputs": [
        {
          "output_type": "stream",
          "name": "stdout",
          "text": [
            "Market Cap: 3440000000\n"
          ]
        }
      ],
      "source": [
        "market_cap_str = fundamentals.loc['Market Cap']['Values']\n",
        "market_cap_str = market_cap_str.strip()\n",
        "\n",
        "if market_cap_str[-1] == 'B':\n",
        "    market_cap = float(market_cap_str[:-1]) * 1000000000\n",
        "elif market_cap_str[-1] == 'M':\n",
        "    market_cap = float(market_cap_str[:-1]) * 1000000\n",
        "else:\n",
        "    market_cap = float(market_cap_str)\n",
        "\n",
        "print(f'Market Cap: {int(market_cap)}')"
      ]
    },
    {
      "cell_type": "code",
      "execution_count": 154,
      "metadata": {
        "colab": {
          "base_uri": "https://localhost:8080/"
        },
        "id": "4pCYwoB3DCtJ",
        "outputId": "4cdb3831-fbf5-453c-f65f-0710d5500f0d"
      },
      "outputs": [
        {
          "output_type": "stream",
          "name": "stdout",
          "text": [
            "ROI: 0,389\n"
          ]
        }
      ],
      "source": [
        "roi_str = fundamentals.loc['ROI']['Values']\n",
        "roi_str = roi_str.replace('%', '')\n",
        "roi = float(roi_str)\n",
        "roi_perc = roi/100\n",
        "roi_perc_str = str(roi_perc).replace('.', ',')\n",
        "\n",
        "print(f'ROI: {roi_perc_str}')"
      ]
    },
    {
      "cell_type": "code",
      "execution_count": 155,
      "metadata": {
        "colab": {
          "base_uri": "https://localhost:8080/"
        },
        "id": "12kaNIYxWh6P",
        "outputId": "3b849159-cbc0-4e62-c3e9-2b8e012fc557"
      },
      "outputs": [
        {
          "output_type": "stream",
          "name": "stdout",
          "text": [
            "ROE: 0,44\n"
          ]
        }
      ],
      "source": [
        "roe_str = fundamentals.loc['ROE']['Values']\n",
        "roe_str = roe_str.replace('%', '')\n",
        "roe = float(roe_str)\n",
        "roe_perc = roe/100\n",
        "roe_perc_str = str(roe_perc).replace('.', ',')\n",
        "\n",
        "print(f'ROE: {roe_perc_str}')"
      ]
    },
    {
      "cell_type": "code",
      "execution_count": 156,
      "metadata": {
        "colab": {
          "base_uri": "https://localhost:8080/"
        },
        "id": "U96m0qdGX_RG",
        "outputId": "fe220e40-e97e-4828-a5b4-d6c64c2bbc20"
      },
      "outputs": [
        {
          "output_type": "stream",
          "name": "stdout",
          "text": [
            "Payout: 0,002\n"
          ]
        }
      ],
      "source": [
        "payout_str = fundamentals.loc['Payout']['Values']\n",
        "payout_str = payout_str.replace('%', '')\n",
        "payout = float(payout_str)\n",
        "payout_perc = payout/100\n",
        "payout_perc_str = str(payout_perc).replace('.', ',')\n",
        "\n",
        "print(f'Payout: {payout_perc_str}')"
      ]
    },
    {
      "cell_type": "code",
      "execution_count": 157,
      "metadata": {
        "colab": {
          "base_uri": "https://localhost:8080/"
        },
        "id": "AHUhWXBCY1jQ",
        "outputId": "15c11cb6-d736-4ca9-e92f-9b980afc7c4f"
      },
      "outputs": [
        {
          "output_type": "stream",
          "name": "stdout",
          "text": [
            "Dividend %: 0,0004\n"
          ]
        }
      ],
      "source": [
        "div_str = fundamentals.loc['Dividend %']['Values']\n",
        "div_str = div_str.replace('%', '')\n",
        "div = float(div_str)\n",
        "div_perc = div/100\n",
        "div_perc_str = str(div_perc).replace('.', ',')\n",
        "\n",
        "print(f'Dividend %: {div_perc_str}')"
      ]
    },
    {
      "cell_type": "code",
      "execution_count": 158,
      "metadata": {
        "colab": {
          "base_uri": "https://localhost:8080/"
        },
        "id": "-YRa_nTckNnm",
        "outputId": "d1d56661-a1ef-4554-e160-f2d08f141881"
      },
      "outputs": [
        {
          "output_type": "stream",
          "name": "stdout",
          "text": [
            "EPS next 5: 0,1\n"
          ]
        }
      ],
      "source": [
        "epsn5_str = fundamentals.loc['EPS next 5Y']['Values']\n",
        "epsn5_str = epsn5_str.replace('%', '')\n",
        "epsn5 = float(epsn5_str)\n",
        "epsn5_perc = epsn5/100\n",
        "epsn5_perc_str = str(epsn5_perc).replace('.', ',')\n",
        "\n",
        "print(f'EPS next 5: {epsn5_perc_str}')"
      ]
    },
    {
      "cell_type": "code",
      "execution_count": 159,
      "metadata": {
        "colab": {
          "base_uri": "https://localhost:8080/"
        },
        "id": "cAa6nJ-WZTCX",
        "outputId": "3d80c184-e6b2-48d1-cec9-bcea0380c571"
      },
      "outputs": [
        {
          "output_type": "stream",
          "name": "stdout",
          "text": [
            "EPS: 36,91\n"
          ]
        }
      ],
      "source": [
        "eps_str = fundamentals.loc['EPS (ttm)']['Values']\n",
        "eps = float(eps_str)\n",
        "eps_str = str(eps).replace('.', ',')\n",
        "\n",
        "print(f'EPS: {eps_str}')"
      ]
    },
    {
      "cell_type": "code",
      "execution_count": 160,
      "metadata": {
        "colab": {
          "base_uri": "https://localhost:8080/"
        },
        "id": "qW2zDMpUNKHc",
        "outputId": "ef2ce69f-ef8e-4551-c8ce-a6118dfca3bb"
      },
      "outputs": [
        {
          "output_type": "stream",
          "name": "stdout",
          "text": [
            "LPA: 99.6\n"
          ]
        }
      ],
      "source": [
        "LPA_str = fundamentals.loc['Book/sh']['Values']\n",
        "LPA = float(LPA_str)\n",
        "LPA_str = str(LPA).replace('.', ',')\n",
        "\n",
        "print(f'LPA: {LPA}')\n"
      ]
    },
    {
      "cell_type": "code",
      "execution_count": 161,
      "metadata": {
        "colab": {
          "base_uri": "https://localhost:8080/"
        },
        "id": "rMK_D4b2OMI-",
        "outputId": "03cc9016-6b68-4639-f0ed-fd7630d6259a"
      },
      "outputs": [
        {
          "output_type": "stream",
          "name": "stdout",
          "text": [
            "O valor intrínseco da ação é de $287.60\n"
          ]
        }
      ],
      "source": [
        "import math\n",
        "\n",
        "eps = float(eps)\n",
        "LPA = float(LPA)\n",
        "\n",
        "# Calcular o valor intrínseco em dólar\n",
        "valor_intrinseco = math.sqrt(eps * LPA * 22.5)\n",
        "\n",
        "print(f\"O valor intrínseco da ação é de ${valor_intrinseco:.2f}\")\n"
      ]
    },
    {
      "cell_type": "code",
      "execution_count": 162,
      "metadata": {
        "colab": {
          "base_uri": "https://localhost:8080/"
        },
        "id": "GlsIfPO5PG21",
        "outputId": "ac890ec3-bb71-4d80-e470-fddcca3ce018"
      },
      "outputs": [
        {
          "output_type": "stream",
          "name": "stdout",
          "text": [
            "Preço Atual: 189,63\n"
          ]
        }
      ],
      "source": [
        " price_str = fundamentals.loc['Price']['Values']\n",
        " price = float(price_str)\n",
        " price_str = str(price).replace('.', ',')\n",
        "\n",
        "print(f'Preço Atual: {price_str}')"
      ]
    },
    {
      "cell_type": "code",
      "execution_count": 163,
      "metadata": {
        "colab": {
          "base_uri": "https://localhost:8080/"
        },
        "id": "EEcHx3PiSHxb",
        "outputId": "82432625-a04f-42a2-f3c6-3f606b6ee601"
      },
      "outputs": [
        {
          "output_type": "stream",
          "name": "stdout",
          "text": [
            "Valor intrínseco: $287.60\n",
            "Preço atual: $189.63\n",
            "Diferença: $97.97\n",
            "Diferença percentual: 34.07% deságio\n",
            "Recomendação: Compra\n"
          ]
        }
      ],
      "source": [
        "# Calcular a diferença entre o valor intrínseco e o preço atual\n",
        "diferenca = valor_intrinseco - price\n",
        "\n",
        "# Calcular a diferença percentual\n",
        "dif_percentual = diferenca / valor_intrinseco * 100\n",
        "\n",
        "# Verificar se está com ágio ou deságio\n",
        "if price > valor_intrinseco:\n",
        "    agio_desagio = 'ágio'\n",
        "else:\n",
        "    agio_desagio = 'deságio'\n",
        "\n",
        "# Exibir os resultados\n",
        "print(f\"Valor intrínseco: ${valor_intrinseco:.2f}\")\n",
        "print(f\"Preço atual: ${price:.2f}\")\n",
        "print(f\"Diferença: ${diferenca:.2f}\")\n",
        "print(f\"Diferença percentual: {dif_percentual:.2f}% {agio_desagio}\")\n",
        "\n",
        "if agio_desagio == 'ágio':\n",
        "    recomendacao = 'Recomendação: Venda'\n",
        "else:\n",
        "    recomendacao = 'Recomendação: Compra'\n",
        "\n",
        "print(recomendacao)"
      ]
    },
    {
      "cell_type": "code",
      "execution_count": 164,
      "metadata": {
        "colab": {
          "base_uri": "https://localhost:8080/"
        },
        "id": "W3VZTjvNXE2N",
        "outputId": "e44b1e86-e9e9-4a7c-fbb5-e927b7f7e8db"
      },
      "outputs": [
        {
          "output_type": "stream",
          "name": "stdout",
          "text": [
            "Beta: 1,34\n"
          ]
        }
      ],
      "source": [
        "beta_str = fundamentals.loc['Beta']['Values']\n",
        "beta = float(beta_str)\n",
        "beta_str = str(beta).replace('.', ',')\n",
        "\n",
        "print(f'Beta: {beta_str}')"
      ]
    },
    {
      "cell_type": "code",
      "execution_count": 165,
      "metadata": {
        "colab": {
          "base_uri": "https://localhost:8080/"
        },
        "id": "S8yaXG1nXx0r",
        "outputId": "73e60b5e-db02-4def-e283-9f2d24320588"
      },
      "outputs": [
        {
          "output_type": "stream",
          "name": "stdout",
          "text": [
            "Taxa de Reinvestimento LL: 0,998\n"
          ]
        }
      ],
      "source": [
        "tax_reinvest_ll = 1 - payout_perc\n",
        "tax_reinvest_ll_str = str(tax_reinvest_ll).replace('.', ',')\n",
        "\n",
        "print(f'Taxa de Reinvestimento LL: {tax_reinvest_ll_str}')"
      ]
    },
    {
      "cell_type": "code",
      "execution_count": 166,
      "metadata": {
        "colab": {
          "base_uri": "https://localhost:8080/"
        },
        "id": "ZFKNRQlJBwhs",
        "outputId": "da67f617-e0f0-4de7-c52f-628042f15aeb"
      },
      "outputs": [
        {
          "output_type": "stream",
          "name": "stdout",
          "text": [
            "gLL: 0,43912\n"
          ]
        }
      ],
      "source": [
        "roe_str = fundamentals.loc['ROE']['Values']\n",
        "roe_str = roe_str.replace('%', '')\n",
        "roe = float(roe_str)\n",
        "roe_perc = roe/100\n",
        "\n",
        "gll = tax_reinvest_ll*roe_perc\n",
        "gll_str = str(gll).replace('.', ',')\n",
        "\n",
        "print(f'gLL: {gll_str}')"
      ]
    },
    {
      "cell_type": "code",
      "execution_count": 167,
      "metadata": {
        "colab": {
          "base_uri": "https://localhost:8080/"
        },
        "id": "FQ_5vMvUDoMp",
        "outputId": "39bf7314-410f-4f38-8ec9-e93bc1b86182"
      },
      "outputs": [
        {
          "output_type": "stream",
          "name": "stdout",
          "text": [
            "Ganho de Alavancagem: 0,05099999999999999\n"
          ]
        }
      ],
      "source": [
        "gain_leverage = roe_perc - roi_perc\n",
        "gain_leverage_str = str(gain_leverage).replace('.', ',')\n",
        "\n",
        "print(f'Ganho de Alavancagem: {gain_leverage_str}')"
      ]
    },
    {
      "cell_type": "code",
      "execution_count": 168,
      "metadata": {
        "colab": {
          "base_uri": "https://localhost:8080/"
        },
        "id": "p6eTgz40PCVP",
        "outputId": "4fd6031b-8245-4b21-d666-1a28d7556dc4"
      },
      "outputs": [
        {
          "output_type": "stream",
          "name": "stdout",
          "text": [
            "Grau de Alavancagem Financeira: 1,1311053984575836\n"
          ]
        }
      ],
      "source": [
        "gaf = roe_perc/roi_perc\n",
        "gaf_str = str(gaf).replace('.', ',')\n",
        "\n",
        "print(f'Grau de Alavancagem Financeira: {gaf_str}')"
      ]
    },
    {
      "cell_type": "code",
      "execution_count": 169,
      "metadata": {
        "colab": {
          "base_uri": "https://localhost:8080/"
        },
        "id": "NTYB9ICbJpfP",
        "outputId": "96fae0d0-dfae-4341-96d1-1ea62f2fc7e8"
      },
      "outputs": [
        {
          "output_type": "stream",
          "name": "stdout",
          "text": [
            "Taxa de Juros Livre de Risco (Rf): 3,95%\n"
          ]
        }
      ],
      "source": [
        "# Requisição Url\n",
        "url = \"https://ycharts.com/indicators/10_year_treasury_rate\"\n",
        "req = Request(url, headers={'User-Agent': 'Mozilla/5.0'})\n",
        "webpage = urlopen(req).read()\n",
        "\n",
        "# Parser\n",
        "html = soup(webpage, \"html.parser\")\n",
        "\n",
        "# Buscando Valor\n",
        "xpath = '/html/body/main/div/div[2]/div/div/div[2]'\n",
        "value_elem = html.find('div', {'class':'key-stat-title'}).get_text()\n",
        "\n",
        "if value_elem is not None:\n",
        "    value = value_elem.strip()\n",
        "    value = value.split(' ')[0] # Removendo Strings\n",
        "    value = value.replace('%', '')\n",
        "\n",
        "    # Removendo Caracteres\n",
        "    Rf = float(value.replace(',', '.'))\n",
        "    Rf_str = str(Rf).replace('.', ',') + '%' # Corrigindo Erro\n",
        "\n",
        "    print(f'Taxa de Juros Livre de Risco (Rf): {Rf_str}')"
      ]
    },
    {
      "cell_type": "code",
      "execution_count": 170,
      "metadata": {
        "colab": {
          "base_uri": "https://localhost:8080/"
        },
        "id": "vaOXnTfIhKZL",
        "outputId": "1909fb93-c130-483d-86a3-ee5424d24a4d"
      },
      "outputs": [
        {
          "output_type": "stream",
          "name": "stdout",
          "text": [
            "Taxa de Inflação Americana:: 6,41%\n"
          ]
        }
      ],
      "source": [
        "# Requisição Url\n",
        "url = \"https://ycharts.com/indicators/us_consumer_price_index_yoy\"\n",
        "req = Request(url, headers={'User-Agent': 'Mozilla/5.0'})\n",
        "webpage = urlopen(req).read()\n",
        "\n",
        "# Parser\n",
        "html = soup(webpage, \"html.parser\")\n",
        "\n",
        "# Buscando Valor\n",
        "xpath = '/html/body/main/div/div[2]/div/div/div[2]'\n",
        "value_elem = html.find('div', {'class':'key-stat-title'}).get_text()\n",
        "\n",
        "if value_elem is not None:\n",
        "    value = value_elem.strip()\n",
        "    value = value.split(' ')[0] # Removendo Strings\n",
        "    value = value.replace('%', '')\n",
        "\n",
        "    # Removendo Caracteres\n",
        "    inflation = float(value.replace(',', '.'))\n",
        "    inflation_str = str(inflation).replace('.', ',') + '%' # Corrigindo Erro\n",
        "\n",
        "    print(f'Taxa de Inflação Americana:: {inflation_str}')"
      ]
    },
    {
      "cell_type": "code",
      "execution_count": 171,
      "metadata": {
        "colab": {
          "base_uri": "https://localhost:8080/"
        },
        "id": "WrolaS5zoty5",
        "outputId": "7f0c0709-5609-4177-f71f-df7627c90fcc"
      },
      "outputs": [
        {
          "output_type": "stream",
          "name": "stdout",
          "text": [
            "Taxa de Juros Livre de Risco (Rf): 3,53%\n"
          ]
        }
      ],
      "source": [
        "url = 'https://ycharts.com/indicators/us_10year_government_bond_interest_rate'\n",
        "req = Request(url, headers={'User-Agent': 'Mozilla/5.0'})\n",
        "webpage = urlopen(req).read()\n",
        "html = soup(webpage, \"html.parser\")\n",
        "\n",
        "xpath = '/html/body/main/div/div[2]/div/div/div[2]'\n",
        "value_elem = html.find('div', {'class':'key-stat-title'}).get_text()\n",
        "\n",
        "if value_elem is not None:\n",
        "    value = value_elem.strip()\n",
        "    value = value.split(' ')[0] # Removendo Strings\n",
        "    value = value.replace('%', '')\n",
        "\n",
        "    # Removendo Caracteres\n",
        "    interest_rate = float(value.replace(',', '.'))\n",
        "    interest_rate_str = str(interest_rate).replace('.', ',') + '%' # Corrigindo Erro\n",
        "\n",
        "    print(f'Taxa de Juros Livre de Risco (Rf): {interest_rate_str}')"
      ]
    },
    {
      "cell_type": "code",
      "execution_count": 172,
      "metadata": {
        "colab": {
          "base_uri": "https://localhost:8080/"
        },
        "id": "h7iBvQAXz6td",
        "outputId": "a8960ba0-b57a-4fe8-9cdc-496fa0828fdd"
      },
      "outputs": [
        {
          "output_type": "stream",
          "name": "stdout",
          "text": [
            "Retorno Carteira de Mercado (Rm): 0,13608\n"
          ]
        }
      ],
      "source": [
        "# Set up scraper\n",
        "url = 'https://www.investing.com/rates-bonds/brazil-1-year-bond-yield'\n",
        "req = Request(url, headers={'User-Agent': 'Mozilla/5.0'})\n",
        "webpage = urlopen(req).read()\n",
        "html = soup(webpage, \"html.parser\")\n",
        "\n",
        "rm_str = html.find('span', {'class': 'arial_26 inlineblock pid-24024-last'})\n",
        "rm = float(rm_str.text)\n",
        "rm_perc = rm/100\n",
        "rm_perc_str = str(rm_perc).replace('.', ',')\n",
        "\n",
        "print(f'Retorno Carteira de Mercado (Rm): {rm_perc_str}')"
      ]
    },
    {
      "cell_type": "code",
      "execution_count": 173,
      "metadata": {
        "colab": {
          "base_uri": "https://localhost:8080/"
        },
        "id": "MSITK02r7exL",
        "outputId": "deb45f17-6c02-433e-989c-8b6612a86aff"
      },
      "outputs": [
        {
          "output_type": "stream",
          "name": "stdout",
          "text": [
            "Taxa de Inflação Brasil (%) : 5,77%\n"
          ]
        }
      ],
      "source": [
        "# Set up scraper\n",
        "url = 'https://br.investing.com/economic-calendar/brazilian-cpi-410'\n",
        "req = Request(url, headers={'User-Agent': 'Mozilla/5.0'})\n",
        "webpage = urlopen(req).read()\n",
        "html = soup(webpage, \"html.parser\")\n",
        "\n",
        "inflation_str = html.find('div', {'class': 'arial_14 redFont'})\n",
        "inflation = float(inflation_str.text.replace(',', '.').replace('%', ''))\n",
        "inflation_perc_str = str(inflation).replace('.', ',')\n",
        "\n",
        "print(f'Taxa de Inflação Brasil (%) : {inflation_perc_str}%')"
      ]
    },
    {
      "cell_type": "markdown",
      "metadata": {
        "id": "GhZCj1Utv5KY"
      },
      "source": [
        "# **Balanço Patrimonial**"
      ]
    },
    {
      "cell_type": "code",
      "execution_count": 174,
      "metadata": {
        "colab": {
          "base_uri": "https://localhost:8080/"
        },
        "id": "E8e37lRbv6gi",
        "outputId": "44db4055-c35b-459e-c81b-b825ddf2d809"
      },
      "outputs": [
        {
          "output_type": "stream",
          "name": "stdout",
          "text": [
            "[]\n",
            "['Strong Buy', '24.28%']\n",
            "['Buy', '17.83%']\n",
            "['Hold', '9.19%']\n",
            "['Sell', '5.00%']\n",
            "['Strong Sell', '2.16%']\n",
            "['500', '10.51%']\n",
            "['A']\n",
            "['A']\n",
            "['A']\n",
            "['A']\n",
            "[]\n",
            "['Assets', '\\xa0', '\\xa0', '\\xa0', '\\xa0', '\\xa0']\n",
            "['Cash & Equivalents', '731', '439', '183', '231', '178']\n",
            "['Receivables', '514', '492', '277', '227', '237']\n",
            "['Notes Receivable', '0', '0', '0', '0', '0']\n",
            "['Inventories', '153', '101', '92', '90', '102']\n",
            "['Other Current Assets', '4', '3', '3', '2', '2']\n",
            "['Total Current Assets', '1,402', '1,035', '555', '549', '519']\n",
            "['Net Property & Equipment', '617', '495', '411', '333', '299']\n",
            "['Investments & Advances', '0', '0', '0', '0', '0']\n",
            "['Other Non-Current Assets', '0', '0', '0', '0', '0']\n",
            "['Deferred Charges', '0', '0', '0', '0', '0']\n",
            "['Intangibles', '0', '0', '0', '0', '0']\n",
            "['Deposits & Other Assets', '0', '1', '1', '1', '0']\n",
            "['Total Assets', '2,019', '1,531', '966', '883', '818']\n",
            "[]\n",
            "['Notes Payable', '0', '0', '0', '0', '0']\n",
            "['Accounts Payable', '63', '75', '57', '41', '37']\n",
            "['Current Portion Long-Term Debt', '0', '0', '0', '0', '0']\n",
            "['Current Portion Capital Leases', '0', '0', '0', '0', '0']\n",
            "['Accrued Expenses', '81', '79', '37', '35', '37']\n",
            "['Income Taxes Payable', '0', '0', '0', '0', '0']\n",
            "['Other Current Liabilities', '0', '0', '0', '0', '0']\n",
            "['Total Current Liabilities', '144', '154', '94', '75', '74']\n",
            "['Mortgages', '0', '0', '0', '0', '0']\n",
            "['Deferred Taxes/Income', '56', '37', '35', '29', '24']\n",
            "['Convertible Debt', '0', '0', '0', '0', '0']\n",
            "['Long-Term Debt', '0', '0', '0', '0', '0']\n",
            "['Non-Current Capital Leases', '0', '0', '0', '0', '0']\n",
            "['Other Non-Current Liabilities', '0', '0', '0', '0', '0']\n",
            "['Minority Interest (Liabilities)', '0', '0', '0', '0', '0']\n",
            "['Total Liabilities', '200', '191', '129', '104', '98']\n",
            "[]\n",
            "['Preferred Stock', '0', '0', '0', '0', '0']\n",
            "['Common Stock (Par)', '0', '0', '0', '0', '0']\n",
            "['Capital Surplus', '84', '73', '68', '63', '61']\n",
            "['Retained Earnings', '2,137', '1,421', '881', '807', '750']\n",
            "['Other Equity', '0', '0', '0', '0', '0']\n",
            "['Treasury Stock', '403', '155', '112', '91', '91']\n",
            "[\"Total Shareholder's Equity\", '1,819', '1,339', '838', '779', '720']\n",
            "[\"Total Liabilities & Shareholder's Equity\", '2,019', '1,531', '966', '883', '818']\n",
            "['Total Common Equity', '1,819', '1,339', '838', '779', '720']\n",
            "['Shares Outstanding', '18.30', '20.20', '20.60', '20.90', '20.80']\n",
            "['Book Value Per Share', '99.38', '66.29', '40.67', '37.28', '34.64']\n",
            "[]\n",
            "['Assets', '\\xa0', '\\xa0', '\\xa0', '\\xa0', '\\xa0']\n",
            "['Cash & Equivalents', '731', '574', '470', '466', '439']\n",
            "['Receivables', '514', '565', '606', '549', '492']\n",
            "['Notes Receivable', '0', '0', '0', '0', '0']\n",
            "['Inventories', '153', '136', '121', '116', '101']\n",
            "['Other Current Assets', '4', '20', '10', '3', '3']\n",
            "['Total Current Assets', '1,402', '1,295', '1,207', '1,135', '1,035']\n",
            "['Net Property & Equipment', '617', '588', '561', '524', '495']\n",
            "['Investments & Advances', '0', '0', '0', '0', '0']\n",
            "['Other Non-Current Assets', '0', '0', '0', '0', '0']\n",
            "['Deferred Charges', '0', '0', '0', '0', '0']\n",
            "['Intangibles', '0', '0', '0', '0', '0']\n",
            "['Deposits & Other Assets', '0', '1', '1', '1', '1']\n",
            "['Total Assets', '2,019', '1,883', '1,769', '1,660', '1,531']\n",
            "[]\n",
            "['Notes Payable', '0', '0', '0', '0', '0']\n",
            "['Accounts Payable', '63', '69', '71', '73', '75']\n",
            "['Current Portion Long-Term Debt', '0', '0', '0', '0', '0']\n",
            "['Current Portion Capital Leases', '0', '0', '0', '0', '0']\n",
            "['Accrued Expenses', '81', '83', '73', '62', '79']\n",
            "['Income Taxes Payable', '0', '0', '2', '48', '0']\n",
            "['Other Current Liabilities', '0', '0', '0', '0', '0']\n",
            "['Total Current Liabilities', '144', '152', '145', '183', '154']\n",
            "['Mortgages', '0', '0', '0', '0', '0']\n",
            "['Deferred Taxes/Income', '56', '47', '40', '33', '37']\n",
            "['Convertible Debt', '0', '0', '0', '0', '0']\n",
            "['Long-Term Debt', '0', '0', '0', '0', '0']\n",
            "['Non-Current Capital Leases', '0', '0', '0', '0', '0']\n",
            "['Other Non-Current Liabilities', '0', '', '0', '0', '0']\n",
            "['Minority Interest (Liabilities)', '0', '0', '0', '0', '0']\n",
            "['Total Liabilities', '200', '198', '185', '216', '191']\n",
            "[]\n",
            "['Preferred Stock', '0', '0', '0', '0', '0']\n",
            "['Common Stock (Par)', '0', '0', '0', '0', '0']\n",
            "['Capital Surplus', '84', '81', '78', '75', '73']\n",
            "['Retained Earnings', '2,137', '1,984', '1,792', '1,582', '1,421']\n",
            "['Other Equity', '0', '0', '0', '0', '0']\n",
            "['Treasury Stock', '403', '380', '287', '213', '155']\n",
            "[\"Total Shareholder's Equity\", '1,819', '1,685', '1,584', '1,444', '1,339']\n",
            "[\"Total Liabilities & Shareholder's Equity\", '2,019', '1,883', '1,769', '1,660', '1,531']\n",
            "['Total Common Equity', '1,819', '1,685', '1,584', '1,444', '1,339']\n",
            "['Shares Outstanding', '18.30', '18.30', '19.10', '19.70', '20.20']\n",
            "['Book Value Per Share', '99.38', '92.06', '82.93', '73.30', '66.29']\n"
          ]
        }
      ],
      "source": [
        "import requests\n",
        "from bs4 import BeautifulSoup\n",
        "\n",
        "url = 'https://www.zacks.com/stock/quote/'+ symbol +'/balance-sheet'\n",
        "user_agent = {'User-agent': 'Mozilla/5.0'}\n",
        "\n",
        "# Obtendo a página\n",
        "page = requests.get(url, headers = user_agent)\n",
        "\n",
        "# Criando o objeto BeautifulSoup\n",
        "soup = BeautifulSoup(page.content, 'html.parser')\n",
        "\n",
        "# Extraindo os valores da tabela\n",
        "table_rows = soup.find_all('tr')\n",
        "for tr in table_rows:\n",
        "    td = tr.find_all('td')\n",
        "    row = [i.text for i in td]\n",
        "    print(row)"
      ]
    },
    {
      "cell_type": "markdown",
      "metadata": {
        "id": "B5IFDW9iwLTE"
      },
      "source": [
        "Patrimônio Líquido (PL)"
      ]
    },
    {
      "cell_type": "code",
      "execution_count": 175,
      "metadata": {
        "colab": {
          "base_uri": "https://localhost:8080/"
        },
        "id": "KBiuA5-ncn7J",
        "outputId": "90d74750-92d4-441a-b20c-926510ff2f46"
      },
      "outputs": [
        {
          "output_type": "stream",
          "name": "stdout",
          "text": [
            "$1,819,000,000.00\n"
          ]
        }
      ],
      "source": [
        "# Encontrando o valor de Total Shareholder's Equity\n",
        "total_shareholders_equity = soup.find('td', text=\"Total Shareholder's Equity\")\n",
        "value = total_shareholders_equity.find_next('td').text\n",
        "\n",
        "# Removendo as vírgulas e convertendo o valor para float\n",
        "value_in_millions = float(value.replace(',', '')) * 1000000\n",
        "\n",
        "# Formatando o valor de volta para uma string com a notação de dólares\n",
        "value_formatted = '${:,.2f}'.format(value_in_millions)\n",
        "\n",
        "# Imprimindo o valor formatado\n",
        "print(value_formatted)\n"
      ]
    },
    {
      "cell_type": "markdown",
      "metadata": {
        "id": "o2uxJMJXntEl"
      },
      "source": [
        "Empréstimos e Financiamentos"
      ]
    },
    {
      "cell_type": "code",
      "execution_count": 176,
      "metadata": {
        "colab": {
          "base_uri": "https://localhost:8080/"
        },
        "id": "qiFyvuqOnue7",
        "outputId": "332106f7-455e-4cdd-84ed-b107738feb4b"
      },
      "outputs": [
        {
          "output_type": "stream",
          "name": "stdout",
          "text": [
            "Empréstimos e Financiamentos: $ 0.00\n"
          ]
        }
      ],
      "source": [
        "# Encontrando o valor de Current Portion Long-Term Debt\n",
        "current_portion_longterm_debt = soup.find('td', text=\"Current Portion Long-Term Debt\")\n",
        "value = current_portion_longterm_debt.find_next('td').text\n",
        "\n",
        "# Removendo as vírgulas e convertendo o valor para float\n",
        "value_in_millions = float(value.replace(',', '')) * 1000000\n",
        "\n",
        "# Formatando o valor de volta para uma string com a notação de dólares\n",
        "if value_in_millions == 0:\n",
        "  value_formatted = '$ 0.00'\n",
        "else:\n",
        "  value_formatted = '${:,.2f}'.format(value_in_millions)\n",
        "\n",
        "# Imprimindo o valor formatado\n",
        "print('Empréstimos e Financiamentos:', value_formatted)"
      ]
    },
    {
      "cell_type": "markdown",
      "metadata": {
        "id": "Fdxk7XvXt4V7"
      },
      "source": [
        "Dívida de Longo Prazo"
      ]
    },
    {
      "cell_type": "code",
      "execution_count": 177,
      "metadata": {
        "colab": {
          "base_uri": "https://localhost:8080/"
        },
        "id": "WFGk6-WLt5ZB",
        "outputId": "31071a58-af4a-4164-e24d-d2d6d4e6037d"
      },
      "outputs": [
        {
          "output_type": "stream",
          "name": "stdout",
          "text": [
            "Dívida de Longo Prazo: $ 0.00\n"
          ]
        }
      ],
      "source": [
        "# Encontrando o valor de Long-Term Debt\n",
        "longterm_debt = soup.find('td', text=\"Long-Term Debt\")\n",
        "value = longterm_debt.find_next('td').text\n",
        "\n",
        "# Removendo as vírgulas e convertendo o valor para float\n",
        "value_in_millions = float(value.replace(',', '')) * 1000000\n",
        "\n",
        "# Formatando o valor de volta para uma string com a notação de dólares\n",
        "if value_in_millions == 0:\n",
        "  value_formatted = '$ 0.00'\n",
        "else:\n",
        "  value_formatted = '${:,.2f}'.format(value_in_millions)\n",
        "\n",
        "# Imprimindo o valor formatado\n",
        "print('Dívida de Longo Prazo:', value_formatted)"
      ]
    },
    {
      "cell_type": "markdown",
      "metadata": {
        "id": "bIDRUHSkJNDG"
      },
      "source": [
        "Capital de Terceiros (Po)"
      ]
    },
    {
      "cell_type": "code",
      "execution_count": 178,
      "metadata": {
        "colab": {
          "base_uri": "https://localhost:8080/"
        },
        "id": "z74vx5Lqt_OY",
        "outputId": "093aab5b-9d2b-45e7-e169-d45b14267092"
      },
      "outputs": [
        {
          "output_type": "stream",
          "name": "stdout",
          "text": [
            "Capital de Terceiros (PO): $ 0.00\n"
          ]
        }
      ],
      "source": [
        "# Encontrando o valor de Current Portion Long-Term Debt\n",
        "current_portion_longterm_debt = soup.find('td', text=\"Current Portion Long-Term Debt\")\n",
        "value = current_portion_longterm_debt.find_next('td').text\n",
        "\n",
        "# Removendo as vírgulas e convertendo o valor para float\n",
        "current_portion_longterm_debt_in_millions = float(value.replace(',', '')) * 1000000\n",
        "\n",
        "# Encontrando o valor de Long-Term Debt\n",
        "longterm_debt = soup.find('td', text=\"Long-Term Debt\")\n",
        "value = longterm_debt.find_next('td').text\n",
        "\n",
        "# Removendo as vírgulas e convertendo o valor para float\n",
        "longterm_debt_in_millions = float(value.replace(',', '')) * 1000000\n",
        "\n",
        "# Somando os valores de Current Portion Long-Term Debt e Long-Term Debt\n",
        "total_debt = current_portion_longterm_debt_in_millions + longterm_debt_in_millions\n",
        "\n",
        "# Formatando o valor de volta para uma string com a notação de dólares\n",
        "if total_debt == 0:\n",
        "  total_debt_formatted = '$ 0.00'\n",
        "else:\n",
        "  total_debt_formatted = '${:,.2f}'.format(total_debt)\n",
        "\n",
        "# Imprimindo o valor formatado\n",
        "print('Capital de Terceiros (PO):', total_debt_formatted)\n"
      ]
    },
    {
      "cell_type": "markdown",
      "metadata": {
        "id": "cFBhQ9M1gNbb"
      },
      "source": [
        "Capital Investido (Ativos Totais)"
      ]
    },
    {
      "cell_type": "code",
      "execution_count": 179,
      "metadata": {
        "colab": {
          "base_uri": "https://localhost:8080/"
        },
        "id": "gTLiEhxAgQZy",
        "outputId": "692601fc-0669-4116-96a1-59ff892cf174"
      },
      "outputs": [
        {
          "output_type": "stream",
          "name": "stdout",
          "text": [
            "Capital Investido (Ativos Totais): $2,019,000,000.00\n"
          ]
        }
      ],
      "source": [
        "# Encontrando o valor de Total Assets\n",
        "total_assets = soup.find('td', text=\"Total Assets\")\n",
        "value = total_assets.find_next('td').text\n",
        "\n",
        "# Removendo as vírgulas e convertendo o valor para float\n",
        "value_in_millions = float(value.replace(',', '')) * 1000000\n",
        "\n",
        "# Formatando o valor de volta para uma string com a notação de dólares\n",
        "if value_in_millions == 0:\n",
        "  value_formatted = '$ 0.00'\n",
        "else:\n",
        "  value_formatted = '${:,.2f}'.format(value_in_millions)\n",
        "\n",
        "# Imprimindo o valor formatado\n",
        "print('Capital Investido (Ativos Totais):', value_formatted)"
      ]
    },
    {
      "cell_type": "markdown",
      "metadata": {
        "id": "d3zMr0_Rdyip"
      },
      "source": [
        "Caixa e Aplicações Financeiras"
      ]
    },
    {
      "cell_type": "code",
      "execution_count": 180,
      "metadata": {
        "colab": {
          "base_uri": "https://localhost:8080/"
        },
        "id": "KyklFekkdtPh",
        "outputId": "b790d73a-60de-42e3-a4ab-7209b6e62fb6"
      },
      "outputs": [
        {
          "output_type": "stream",
          "name": "stdout",
          "text": [
            "Caixa e Aplicações Financeiras: $731,000,000.00\n"
          ]
        }
      ],
      "source": [
        "# Encontrando o valor de Cash & Equivalents\n",
        "cash_equivalents = soup.find('td', text=\"Cash & Equivalents\")\n",
        "value = cash_equivalents.find_next('td').text\n",
        "\n",
        "# Removendo as vírgulas e convertendo o valor para float\n",
        "value_in_millions = float(value.replace(',', '')) * 1000000\n",
        "\n",
        "# Formatando o valor de volta para uma string com a notação de dólares\n",
        "if value_in_millions == 0:\n",
        "  value_formatted = '$ 0.00'\n",
        "else:\n",
        "  value_formatted = '${:,.2f}'.format(value_in_millions)\n",
        "\n",
        "# Imprimindo o valor formatado\n",
        "print('Caixa e Aplicações Financeiras:', value_formatted)"
      ]
    },
    {
      "cell_type": "markdown",
      "metadata": {
        "id": "WVBz6__YRVl8"
      },
      "source": [
        "Ativo Circulante"
      ]
    },
    {
      "cell_type": "code",
      "execution_count": 181,
      "metadata": {
        "colab": {
          "base_uri": "https://localhost:8080/"
        },
        "id": "fn8vbZ_lRYAD",
        "outputId": "e23a6bab-324a-4c2f-8662-29f9b8409526"
      },
      "outputs": [
        {
          "output_type": "stream",
          "name": "stdout",
          "text": [
            "Ativo Circulante: $1,402,000,000.00\n"
          ]
        }
      ],
      "source": [
        "# Encontrando o valor de Total Current Assets\n",
        "total_current_assets = soup.find('td', text=\"Total Current Assets\")\n",
        "value = total_current_assets.find_next('td').text\n",
        "\n",
        "# Removendo as vírgulas e convertendo o valor para float\n",
        "value_in_millions = float(value.replace(',', '')) * 1000000\n",
        "\n",
        "# Formatando o valor de volta para uma string com a notação de dólares\n",
        "if value_in_millions == 0:\n",
        "  value_formatted = '$ 0.00'\n",
        "else:\n",
        "  value_formatted = '${:,.2f}'.format(value_in_millions)\n",
        "\n",
        "# Imprimindo o valor formatado\n",
        "print('Ativo Circulante:', value_formatted)"
      ]
    },
    {
      "cell_type": "markdown",
      "metadata": {
        "id": "Kt4oBXt1edPi"
      },
      "source": [
        "Ativo Circulante Operacional"
      ]
    },
    {
      "cell_type": "code",
      "execution_count": 182,
      "metadata": {
        "colab": {
          "base_uri": "https://localhost:8080/"
        },
        "id": "poPdyWOPeeh6",
        "outputId": "540d9b28-dbc2-4e2c-a533-8675a8e18b68"
      },
      "outputs": [
        {
          "output_type": "stream",
          "name": "stdout",
          "text": [
            "Ativo Circulante Operacional: $671,000,000.00\n"
          ]
        }
      ],
      "source": [
        "# Encontrando o valor de Total Current Assets\n",
        "total_current_assets = soup.find('td', text=\"Total Current Assets\")\n",
        "value_assets = total_current_assets.find_next('td').text\n",
        "\n",
        "# Encontrando o valor de Cash & Equivalents\n",
        "cash_equivalents = soup.find('td', text=\"Cash & Equivalents\")\n",
        "value_cash = cash_equivalents.find_next('td').text\n",
        "\n",
        "# Removendo as vírgulas e convertendo os valores para float\n",
        "value_assets_in_millions = float(value_assets.replace(',', '')) * 1000000\n",
        "value_cash_in_millions = float(value_cash.replace(',', '')) * 1000000\n",
        "\n",
        "# Calcular o Ativo Circulante Operacional\n",
        "value_operational = value_assets_in_millions - value_cash_in_millions\n",
        "\n",
        "# Formatando o valor de volta para uma string com a notação de dólares\n",
        "if value_operational == 0:\n",
        "  value_formatted = '$ 0.00'\n",
        "else:\n",
        "  value_formatted = '${:,.2f}'.format(value_operational)\n",
        "\n",
        "# Imprimindo o valor formatado\n",
        "print('Ativo Circulante Operacional:', value_formatted)"
      ]
    },
    {
      "cell_type": "markdown",
      "metadata": {
        "id": "tV01CZOCR8yL"
      },
      "source": [
        "Passivo Circulante"
      ]
    },
    {
      "cell_type": "code",
      "execution_count": 183,
      "metadata": {
        "colab": {
          "base_uri": "https://localhost:8080/"
        },
        "id": "s29f-NSER6Ds",
        "outputId": "a05808c8-b48a-474c-99ce-d5eeade3632a"
      },
      "outputs": [
        {
          "output_type": "stream",
          "name": "stdout",
          "text": [
            "Passivo Circulante: $144,000,000.00\n"
          ]
        }
      ],
      "source": [
        "# Encontrando o valor de Total Current Liabilities\n",
        "total_current_liabilities = soup.find('td', text=\"Total Current Liabilities\")\n",
        "value = total_current_liabilities.find_next('td').text\n",
        "\n",
        "# Removendo as vírgulas e convertendo o valor para float\n",
        "value_in_millions = float(value.replace(',', '')) * 1000000\n",
        "\n",
        "# Formatando o valor de volta para uma string com a notação de dólares\n",
        "if value_in_millions == 0:\n",
        "  value_formatted = '$ 0.00'\n",
        "else:\n",
        "  value_formatted = '${:,.2f}'.format(value_in_millions)\n",
        "\n",
        "# Imprimindo o valor formatado\n",
        "print('Passivo Circulante:', value_formatted)"
      ]
    },
    {
      "cell_type": "markdown",
      "metadata": {
        "id": "DzcKySdDSmXK"
      },
      "source": [
        "Passivo Circulante Operacional"
      ]
    },
    {
      "cell_type": "code",
      "execution_count": 184,
      "metadata": {
        "colab": {
          "base_uri": "https://localhost:8080/"
        },
        "id": "H0L4AaDvSpXS",
        "outputId": "603f4cc0-f9fb-47a2-f5d2-a61fc213ffef"
      },
      "outputs": [
        {
          "output_type": "stream",
          "name": "stdout",
          "text": [
            "Passivo Circulante Operacional: $144,000,000.00\n"
          ]
        }
      ],
      "source": [
        "# Encontrando o valor de Total Current Liabilities\n",
        "total_current_liabilities = soup.find('td', text=\"Total Current Liabilities\")\n",
        "value_liabilities = total_current_liabilities.find_next('td').text\n",
        "\n",
        "# Encontrando o valor de Current Portion Long-Term Debt\n",
        "current_portion_longterm_debt = soup.find('td', text=\"Current Portion Long-Term Debt\")\n",
        "value_debt = current_portion_longterm_debt.find_next('td').text\n",
        "\n",
        "# Removendo as vírgulas e convertendo os valores para float\n",
        "value_liabilities_in_millions = float(value_liabilities.replace(',', '')) * 1000000\n",
        "value_debt_in_millions = float(value_debt.replace(',', '')) * 1000000\n",
        "\n",
        "# Calcular o Passivo Circulante Operacional\n",
        "value_operational = value_liabilities_in_millions - value_debt_in_millions\n",
        "\n",
        "# Formatando o valor de volta para uma string com a notação de dólares\n",
        "if value_operational == 0:\n",
        "  value_formatted = '$ 0.00'\n",
        "else:\n",
        "  value_formatted = '${:,.2f}'.format(value_operational)\n",
        "\n",
        "# Imprimindo o valor formatado\n",
        "print('Passivo Circulante Operacional:', value_formatted)"
      ]
    },
    {
      "cell_type": "markdown",
      "metadata": {
        "id": "ndtz254klbIW"
      },
      "source": [
        "## Cash Flow Statements"
      ]
    },
    {
      "cell_type": "code",
      "execution_count": 185,
      "metadata": {
        "colab": {
          "base_uri": "https://localhost:8080/"
        },
        "id": "x_LTjHWgjXaZ",
        "outputId": "b03aab48-8a02-44dc-cddf-6b1558c72753"
      },
      "outputs": [
        {
          "output_type": "stream",
          "name": "stdout",
          "text": [
            "[]\n",
            "['Strong Buy', '24.28%']\n",
            "['Buy', '17.83%']\n",
            "['Hold', '9.19%']\n",
            "['Sell', '5.00%']\n",
            "['Strong Sell', '2.16%']\n",
            "['500', '10.51%']\n",
            "['A']\n",
            "['A']\n",
            "['A']\n",
            "['A']\n",
            "[]\n",
            "['Cash Flow From Operations, Investments & Financial Activities', '\\xa0', '\\xa0', '\\xa0', '\\xa0', '\\xa0']\n",
            "['Net Income (Loss)', '717.84', '541.42', '76.07', '58.13', '78.15']\n",
            "['Depreciation/Amortization & Depletion', '26.23', '23.29', '19.46', '17.71', '16.51']\n",
            "['Net Change from Assets/Liabilities', '-87.19', '-158.17', '-46.84', '24.54', '-17.36']\n",
            "['Net Cash from Discontinued Operations', '0.00', '0.00', '0.00', '0.00', '0.00']\n",
            "['Other Operating Activities', '32.00', '11.88', '8.78', '5.75', '4.29']\n",
            "['Net Cash From Operating Activities', '688.88', '418.42', '57.46', '106.12', '81.59']\n",
            "['Property & Equipment', '-148.35', '-118.16', '-85.99', '-52.46', '-26.07']\n",
            "['Acquisition/ Disposition of Subsidiaries', '0.00', '0.00', '0.00', '0.00', '0.00']\n",
            "['Investments', '0.00', '0.00', '0.00', '0.00', '0.00']\n",
            "['Other Investing Activities', '0.00', '0.00', '0.00', '0.00', '0.00']\n",
            "['Net Cash from Investing Activities', '-148.35', '-118.16', '-85.99', '-52.46', '-26.07']\n",
            "[]\n",
            "['Issuance (Repurchase) of Capital Stock', '-247.42', '-42.21', '-17.66', '0.57', '1.19']\n",
            "['Issuance (Repayment) of Debt', '0.00', '0.00', '0.00', '0.00', '0.00']\n",
            "['Increase (Decrease) Short-Term Debt', '0.00', '0.00', '0.00', '0.00', '0.00']\n",
            "['Payment of Dividends & Other Distributions', '-1.55', '-1.63', '-1.65', '-1.67', '-1.67']\n",
            "['Other Financing Activities', '0.00', '-0.55', '0.00', '0.00', '0.00']\n",
            "['Net Cash from Financing Activities', '-248.97', '-44.40', '-19.31', '-1.11', '-0.48']\n",
            "['Effect of Exchange Rate Changes', '0.00', '0.00', '0.00', '0.00', '0.00']\n",
            "['Net Change In Cash & Equivalents', '291.57', '255.87', '-47.84', '52.56', '55.04']\n",
            "['Cash at Beginning of Period', '438.99', '183.12', '230.97', '178.41', '123.36']\n",
            "['Cash at End of Period', '730.56', '438.99', '183.12', '230.97', '178.41']\n",
            "['Diluted Net EPS', '36.91', '26.22', '3.68', '2.77', '3.74']\n"
          ]
        }
      ],
      "source": [
        "import requests\n",
        "from bs4 import BeautifulSoup\n",
        "\n",
        "url = 'https://www.zacks.com/stock/quote/'+ symbol +'/cash-flow-statements'\n",
        "user_agent = {'User-agent': 'Mozilla/5.0'}\n",
        "\n",
        "# Obtendo a página\n",
        "page = requests.get(url, headers = user_agent)\n",
        "\n",
        "# Criando o objeto BeautifulSoup\n",
        "soup = BeautifulSoup(page.content, 'html.parser')\n",
        "\n",
        "# Extraindo os valores da tabela\n",
        "table_rows = soup.find_all('tr')\n",
        "for tr in table_rows:\n",
        "    td = tr.find_all('td')\n",
        "    row = [i.text for i in td]\n",
        "    print(row)"
      ]
    },
    {
      "cell_type": "markdown",
      "metadata": {
        "id": "ooxTrTU0p0kv"
      },
      "source": [
        "Despesa Financeira"
      ]
    },
    {
      "cell_type": "code",
      "execution_count": 186,
      "metadata": {
        "colab": {
          "base_uri": "https://localhost:8080/"
        },
        "id": "kTPW4Hdopwez",
        "outputId": "76b7f5b9-c372-44fe-bf48-eb34775c0e57"
      },
      "outputs": [
        {
          "output_type": "stream",
          "name": "stdout",
          "text": [
            "Despesa Financeira: $ 0.00\n"
          ]
        }
      ],
      "source": [
        "# Encontrando o valor de Issuance (Repayment) of Debt\n",
        "issuance_repayment_of_debt = soup.find('td', text=\"Issuance (Repayment) of Debt\")\n",
        "value = issuance_repayment_of_debt.find_next('td').text\n",
        "\n",
        "# Removendo as vírgulas e convertendo o valor para float\n",
        "value_in_millions = float(value.replace(',', '')) * 1000000\n",
        "\n",
        "# Formatando o valor de volta para uma string com a notação de dólares\n",
        "if value_in_millions == 0:\n",
        "  value_formatted = '$ 0.00'\n",
        "else:\n",
        "  value_formatted = '${:,.2f}'.format(value_in_millions)\n",
        "\n",
        "# Imprimindo o valor formatado\n",
        "print('Despesa Financeira:', value_formatted)"
      ]
    },
    {
      "cell_type": "markdown",
      "source": [
        "Depreciação e Amortização"
      ],
      "metadata": {
        "id": "1CL6FYJ0RoaY"
      }
    },
    {
      "cell_type": "code",
      "source": [
        "# Encontrando o valor de Depreciação e Amortização\n",
        "Depreciation_Amortization_Depletion = soup.find('td', text=\"Depreciation/Amortization & Depletion\")\n",
        "value = Depreciation_Amortization_Depletion.find_next('td').text\n",
        "\n",
        "# Removendo as vírgulas e convertendo o valor para float\n",
        "value_in_millions_7 = float(value.replace(',', '')) * 1000000\n",
        "\n",
        "# Formatando o valor de volta para uma string com a notação de dólares\n",
        "if value_in_millions_7 == 0:\n",
        "  value_formatted = '$ 0.00'\n",
        "else:\n",
        "  value_formatted = '${:,.2f}'.format(value_in_millions_7)\n",
        "\n",
        "# Imprimindo o valor formatado\n",
        "print('Depreciação e Amortização:', value_formatted)"
      ],
      "metadata": {
        "colab": {
          "base_uri": "https://localhost:8080/"
        },
        "id": "d8BmkEnURmbG",
        "outputId": "3b21aa2f-da8b-4688-c251-969190b8113a"
      },
      "execution_count": 187,
      "outputs": [
        {
          "output_type": "stream",
          "name": "stdout",
          "text": [
            "Depreciação e Amortização: $26,230,000.00\n"
          ]
        }
      ]
    },
    {
      "cell_type": "markdown",
      "source": [
        "## DRE"
      ],
      "metadata": {
        "id": "xOUrvFqs9Ghv"
      }
    },
    {
      "cell_type": "code",
      "source": [
        "import requests\n",
        "from bs4 import BeautifulSoup\n",
        "\n",
        "url = 'https://www.zacks.com/stock/quote/'+ symbol +'/income-statement'\n",
        "user_agent = {'User-agent': 'Mozilla/5.0'}\n",
        "\n",
        "# Obtendo a página\n",
        "page = requests.get(url, headers = user_agent)\n",
        "\n",
        "# Criando o objeto BeautifulSoup\n",
        "soup = BeautifulSoup(page.content, 'html.parser')\n",
        "\n",
        "# Extraindo os valores da tabela\n",
        "table_rows = soup.find_all('tr')\n",
        "for tr in table_rows:\n",
        "    td = tr.find_all('td')\n",
        "    row = [i.text for i in td]\n",
        "    print(row)"
      ],
      "metadata": {
        "colab": {
          "base_uri": "https://localhost:8080/"
        },
        "id": "Eb0FuXn69TMm",
        "outputId": "58688f46-37a2-4299-f024-7a2148a28876"
      },
      "execution_count": 188,
      "outputs": [
        {
          "output_type": "stream",
          "name": "stdout",
          "text": [
            "[]\n",
            "['Strong Buy', '24.28%']\n",
            "['Buy', '17.83%']\n",
            "['Hold', '9.19%']\n",
            "['Sell', '5.00%']\n",
            "['Strong Sell', '2.16%']\n",
            "['500', '10.51%']\n",
            "['A']\n",
            "['A']\n",
            "['A']\n",
            "['A']\n",
            "[]\n",
            "['Sales', '3,018', '2,593', '1,277', '1,275', '1,289']\n",
            "['Cost Of Goods', '1,905', '1,725', '1,082', '1,109', '1,099']\n",
            "['Gross Profit', '1,112', '868', '195', '166', '190']\n",
            "['Selling & Adminstrative & Depr. & Amort Expenses', '197', '169', '97', '94', '90']\n",
            "['Income After Depreciation & Amortization', '915', '699', '98', '72', '100']\n",
            "['Non-Operating Income', '10', '0', '1', '4', '2']\n",
            "['Interest Expense', '0', '0', '0', '0', '0']\n",
            "['Pretax Income', '925', '699', '99', '76', '102']\n",
            "['Income Taxes', '207', '158', '23', '18', '24']\n",
            "['Minority Interest', '0', '0', '0', '0', '0']\n",
            "['Investment Gains/Losses', '0', '0', '0', '0', '0']\n",
            "['Other Income/Charges', '0', '0', '0', '0', '0']\n",
            "['Income From Cont. Operations', '718', '541', '76', '58', '78']\n",
            "['Extras & Discontinued Operations', '0', '0', '0', '0', '0']\n",
            "['Net Income (GAAP)', '718', '541', '76', '58', '78']\n",
            "[]\n",
            "['Income Before Depreciation & Amortization', '941', '723', '117', '89', '116']\n",
            "['Depreciation & Amortization (Cash Flow)', '26', '23', '19', '18', '17']\n",
            "['Income After Depreciation & Amortization', '915', '699', '98', '72', '100']\n",
            "[]\n",
            "['Average Shares', '19.45', '20.65', '20.65', '20.99', '20.91']\n",
            "['Diluted EPS Before Non-Recurring Items', '36.91', '26.22', '3.68', '2.77', '3.74']\n",
            "['Diluted Net EPS (GAAP)', '36.91', '26.22', '3.68', '2.77', '3.74']\n",
            "[]\n",
            "['Sales', '693.88', '762.36', '838.24', '723.07', '687.85']\n",
            "['Cost Of Goods', '445.43', '462.92', '517.46', '479.33', '452.72']\n",
            "['Gross Profit', '248.45', '299.45', '320.77', '243.75', '235.13']\n",
            "['SG&A, R&D, and Dept/Amort Expenses', '55.51', '55.29', '50.41', '36.21', '52.44']\n",
            "['Income After SG&A, R&D, and Dept/Amort Expenses', '192.94', '244.16', '270.36', '207.54', '182.69']\n",
            "['Non-Operating Income', '6.00', '3.09', '0.65', '0.12', '0.08']\n",
            "['Interest Expense', '0.00', '0.00', '0.00', '0.00', '0.00']\n",
            "['Pretax Income', '198.94', '247.24', '271.01', '207.65', '182.78']\n",
            "['Income Taxes', '44.94', '55.47', '60.48', '46.12', '41.14']\n",
            "['Minority Interest', '0.00', '0.00', '0.00', '0.00', '0.00']\n",
            "['Investment Gains/Losses', '0.00', '0.00', '0.00', '0.00', '0.00']\n",
            "['Other Income/Charges', '0.00', '0.00', '0.00', '0.00', '0.00']\n",
            "['Income From Cont. Operations', '154.00', '191.77', '210.54', '161.53', '141.64']\n",
            "['Extras & Discontinued Operations', '0.00', '0.00', '0.00', '0.00', '0.00']\n",
            "['Net Income (GAAP)', '154.00', '191.77', '210.54', '161.53', '141.64']\n",
            "[]\n",
            "['Average Shares', '18.60', '19.24', '19.67', '20.30', '20.49']\n",
            "['Diluted EPS Before Non-Recurring Items', '8.28', '9.97', '10.71', '7.96', '6.91']\n",
            "['Diluted Net EPS (GAAP)', '8.27', '9.97', '10.71', '7.96', '6.90']\n"
          ]
        }
      ]
    },
    {
      "cell_type": "markdown",
      "source": [
        "Receita"
      ],
      "metadata": {
        "id": "wo8Nym2L9N3W"
      }
    },
    {
      "cell_type": "code",
      "source": [
        "# Encontrando o valor de Sales\n",
        "Sales = soup.find('td', text=\"Sales\")\n",
        "value = Sales.find_next('td').text\n",
        "\n",
        "# Removendo as vírgulas e convertendo o valor para float\n",
        "value_in_millions = float(value.replace(',', '')) * 1000000\n",
        "\n",
        "# Formatando o valor de volta para uma string com a notação de dólares\n",
        "if value_in_millions == 0:\n",
        "  value_formatted = '$ 0.00'\n",
        "else:\n",
        "  value_formatted = '${:,.2f}'.format(value_in_millions)\n",
        "\n",
        "# Imprimindo o valor formatado\n",
        "print('Receita:', value_formatted)"
      ],
      "metadata": {
        "colab": {
          "base_uri": "https://localhost:8080/"
        },
        "id": "ThXLfdxd9SZw",
        "outputId": "f530c88a-e292-47cc-a92d-6f3e7ad8b16d"
      },
      "execution_count": 189,
      "outputs": [
        {
          "output_type": "stream",
          "name": "stdout",
          "text": [
            "Receita: $3,018,000,000.00\n"
          ]
        }
      ]
    },
    {
      "cell_type": "markdown",
      "source": [
        "Custos"
      ],
      "metadata": {
        "id": "0jeNS0l5Prhh"
      }
    },
    {
      "cell_type": "code",
      "source": [
        "# Encontrando o valor de Cost of Goods\n",
        "Cost_of_Goods = soup.find('td', text=\"Cost Of Goods\")\n",
        "value = Cost_of_Goods.find_next('td').text\n",
        "\n",
        "# Removendo as vírgulas e convertendo o valor para float\n",
        "value_in_millions_1 = float(value.replace(',', '')) * 1000000\n",
        "\n",
        "# Formatando o valor de volta para uma string com a notação de dólares\n",
        "if value_in_millions_1 == 0:\n",
        "  value_formatted = '$ 0.00'\n",
        "else:\n",
        "  value_formatted = '${:,.2f}'.format(value_in_millions_1)\n",
        "\n",
        "# Imprimindo o valor formatado\n",
        "print('Custos:', value_formatted)"
      ],
      "metadata": {
        "colab": {
          "base_uri": "https://localhost:8080/"
        },
        "id": "QS1A9hXpPt17",
        "outputId": "dedb44b1-89eb-4b25-973d-85e40ba7533c"
      },
      "execution_count": 190,
      "outputs": [
        {
          "output_type": "stream",
          "name": "stdout",
          "text": [
            "Custos: $1,905,000,000.00\n"
          ]
        }
      ]
    },
    {
      "cell_type": "markdown",
      "source": [
        "Resultado Bruto"
      ],
      "metadata": {
        "id": "8d69l5g-QLgZ"
      }
    },
    {
      "cell_type": "code",
      "source": [
        "# Encontrando o valor de Resultado Bruto\n",
        "Resultado_Bruto = value_in_millions - value_in_millions_1\n",
        "Resultado_Bruto \n",
        "\n",
        "if Resultado_Bruto == 0:\n",
        "  Resultado_Bruto_formatted = '$ 0.00'\n",
        "else:\n",
        "  Resultado_Bruto_formatted = '${:,.2f}'.format(Resultado_Bruto)\n",
        "\n",
        "# Imprimindo o valor formatado\n",
        "print('Resultado Bruto:', Resultado_Bruto_formatted)"
      ],
      "metadata": {
        "colab": {
          "base_uri": "https://localhost:8080/"
        },
        "id": "TarLT2-uQR-Z",
        "outputId": "9e10ee1c-6ece-42ab-d670-e782ffc6d1c9"
      },
      "execution_count": 191,
      "outputs": [
        {
          "output_type": "stream",
          "name": "stdout",
          "text": [
            "Resultado Bruto: $1,113,000,000.00\n"
          ]
        }
      ]
    },
    {
      "cell_type": "markdown",
      "source": [
        "**EBIT**"
      ],
      "metadata": {
        "id": "qbtAIus_S1U-"
      }
    },
    {
      "cell_type": "code",
      "source": [
        "# Encontrando o valor de Pretax Income\n",
        "Pretax_Income = soup.find('td', text=\"Pretax Income\")\n",
        "value = Pretax_Income.find_next('td').text\n",
        "\n",
        "# Removendo as vírgulas e convertendo o valor para float\n",
        "value_in_millions_2 = float(value.replace(',', '')) * 1000000\n",
        "\n",
        "# Formatando o valor de volta para uma string com a notação de dólares\n",
        "if value_in_millions_2 == 0:\n",
        "  value_formatted = '$ 0.00'\n",
        "else:\n",
        "  value_formatted = '${:,.2f}'.format(value_in_millions_2)\n",
        "\n",
        "# Imprimindo o valor formatado\n",
        "print('EBIT:', value_formatted)"
      ],
      "metadata": {
        "colab": {
          "base_uri": "https://localhost:8080/"
        },
        "id": "oMwZx3DRS3fF",
        "outputId": "db18f4a8-5c57-468d-f93c-3b3a7f3afac7"
      },
      "execution_count": 192,
      "outputs": [
        {
          "output_type": "stream",
          "name": "stdout",
          "text": [
            "EBIT: $925,000,000.00\n"
          ]
        }
      ]
    },
    {
      "cell_type": "markdown",
      "source": [
        "IR"
      ],
      "metadata": {
        "id": "R-0StA4ITY9s"
      }
    },
    {
      "cell_type": "code",
      "source": [
        "# Encontrando o valor de Income Taxes\n",
        "Income_Taxes = soup.find('td', text=\"Income Taxes\")\n",
        "value = Income_Taxes.find_next('td').text\n",
        "\n",
        "# Removendo as vírgulas e convertendo o valor para float\n",
        "value_in_millions_3 = float(value.replace(',', '')) * 1000000\n",
        "\n",
        "# Formatando o valor de volta para uma string com a notação de dólares\n",
        "if value_in_millions_3 == 0:\n",
        "  value_formatted = '$ 0.00'\n",
        "else:\n",
        "  value_formatted = '${:,.2f}'.format(value_in_millions_3)\n",
        "\n",
        "# Imprimindo o valor formatado\n",
        "print('IR:', value_formatted)"
      ],
      "metadata": {
        "colab": {
          "base_uri": "https://localhost:8080/"
        },
        "id": "uxtwcWUfTbNt",
        "outputId": "217400d5-9cab-4366-d90b-b58bede2fc8b"
      },
      "execution_count": 193,
      "outputs": [
        {
          "output_type": "stream",
          "name": "stdout",
          "text": [
            "IR: $207,000,000.00\n"
          ]
        }
      ]
    },
    {
      "cell_type": "markdown",
      "source": [
        "# *NOPAT Restrito* "
      ],
      "metadata": {
        "id": "AgKUvscyT2pz"
      }
    },
    {
      "cell_type": "code",
      "source": [
        "# Encontrando o valor de NOPAT Restrito\n",
        "NOPAT_Restrito = value_in_millions_2 - value_in_millions_3\n",
        "NOPAT_Restrito \n",
        "\n",
        "if NOPAT_Restrito == 0:\n",
        "  NOPAT_Restrito_formatted = '$ 0.00'\n",
        "else:\n",
        "  NOPAT_Restrito_formatted = '${:,.2f}'.format(NOPAT_Restrito)\n",
        "\n",
        "# Imprimindo o valor formatado\n",
        "print('NOPAT Restrito:', NOPAT_Restrito_formatted)"
      ],
      "metadata": {
        "colab": {
          "base_uri": "https://localhost:8080/"
        },
        "id": "CxyJ7aOCUESb",
        "outputId": "4ada1a8d-1e93-4d05-a2d6-b83366748d7b"
      },
      "execution_count": 212,
      "outputs": [
        {
          "output_type": "stream",
          "name": "stdout",
          "text": [
            "NOPAT Restrito: $718,000,000.00\n"
          ]
        }
      ]
    },
    {
      "cell_type": "markdown",
      "source": [
        "Depesa Financeira"
      ],
      "metadata": {
        "id": "F3HHswLIY4sc"
      }
    },
    {
      "cell_type": "code",
      "source": [
        "# Encontrando o valor de Investment Gains/Losses\n",
        "Investment_Gains_Losses = soup.find('td', text=\"Investment Gains/Losses\")\n",
        "value = Investment_Gains_Losses.find_next('td').text\n",
        "\n",
        "# Removendo as vírgulas e convertendo o valor para float\n",
        "value_in_millions_4 = float(value.replace(',', '')) * 1000000\n",
        "\n",
        "# Formatando o valor de volta para uma string com a notação de dólares\n",
        "if value_in_millions_4 == 0:\n",
        "  value_formatted = '$ 0.00'\n",
        "else:\n",
        "  value_formatted = '${:,.2f}'.format(value_in_millions_4)\n",
        "\n",
        "# Imprimindo o valor formatado\n",
        "print('Despesa Financeira:', value_formatted)"
      ],
      "metadata": {
        "colab": {
          "base_uri": "https://localhost:8080/"
        },
        "id": "WMmPUyMxY70r",
        "outputId": "01e21a2c-582a-4c8f-8ed3-daee32cfda27"
      },
      "execution_count": 195,
      "outputs": [
        {
          "output_type": "stream",
          "name": "stdout",
          "text": [
            "Despesa Financeira: $ 0.00\n"
          ]
        }
      ]
    },
    {
      "cell_type": "markdown",
      "source": [
        "Lucro Líquido"
      ],
      "metadata": {
        "id": "JSFJiWKCZe7d"
      }
    },
    {
      "cell_type": "code",
      "source": [
        "# Encontrando o valor de Net Income (GAAP)\n",
        "Net_Income_GAAP = soup.find('td', text=\"Net Income (GAAP)\")\n",
        "value = Net_Income_GAAP.find_next('td').text\n",
        "\n",
        "# Removendo as vírgulas e convertendo o valor para float\n",
        "value_in_millions_5 = float(value.replace(',', '')) * 1000000\n",
        "\n",
        "# Formatando o valor de volta para uma string com a notação de dólares\n",
        "if value_in_millions_5 == 0:\n",
        "  value_formatted = '$ 0.00'\n",
        "else:\n",
        "  value_formatted = '${:,.2f}'.format(value_in_millions_5)\n",
        "\n",
        "# Imprimindo o valor formatado\n",
        "print('Lucro Líquido:', value_formatted)"
      ],
      "metadata": {
        "colab": {
          "base_uri": "https://localhost:8080/"
        },
        "id": "EhCQ1epeZirF",
        "outputId": "275e873b-303a-47de-a7ce-3bc475d65365"
      },
      "execution_count": 196,
      "outputs": [
        {
          "output_type": "stream",
          "name": "stdout",
          "text": [
            "Lucro Líquido: $718,000,000.00\n"
          ]
        }
      ]
    },
    {
      "cell_type": "markdown",
      "source": [
        "## **FCL**"
      ],
      "metadata": {
        "id": "kVDpZpUz7I3s"
      }
    },
    {
      "cell_type": "markdown",
      "source": [
        "NOPAT Restrito"
      ],
      "metadata": {
        "id": "2yRdls9e7XYp"
      }
    },
    {
      "cell_type": "code",
      "source": [
        "# Encontrando o valor de NOPAT Restrito\n",
        "NOPAT_Restrito = value_in_millions_2 - value_in_millions_3\n",
        "NOPAT_Restrito \n",
        "\n",
        "if NOPAT_Restrito == 0:\n",
        "  NOPAT_Restrito_formatted = '$ 0.00'\n",
        "else:\n",
        "  NOPAT_Restrito_formatted = '${:,.2f}'.format(NOPAT_Restrito)\n",
        "\n",
        "# Imprimindo o valor formatado\n",
        "print('NOPAT Restrito:', NOPAT_Restrito_formatted)"
      ],
      "metadata": {
        "colab": {
          "base_uri": "https://localhost:8080/"
        },
        "id": "4TsiECKb7fQZ",
        "outputId": "22e1c0f5-3bd9-4b3c-c9ae-bf358c1c2d33"
      },
      "execution_count": 211,
      "outputs": [
        {
          "output_type": "stream",
          "name": "stdout",
          "text": [
            "NOPAT Restrito: $718,000,000.00\n"
          ]
        }
      ]
    },
    {
      "cell_type": "markdown",
      "source": [
        "Depreciação e Amortização"
      ],
      "metadata": {
        "id": "5D4-GZ0N7hsT"
      }
    },
    {
      "cell_type": "code",
      "source": [
        "import requests\n",
        "from bs4 import BeautifulSoup\n",
        "\n",
        "url = 'https://www.zacks.com/stock/quote/'+ symbol +'/cash-flow-statements'\n",
        "user_agent = {'User-agent': 'Mozilla/5.0'}\n",
        "\n",
        "# Obtendo a página\n",
        "page = requests.get(url, headers = user_agent)\n",
        "\n",
        "# Criando o objeto BeautifulSoup\n",
        "soup = BeautifulSoup(page.content, 'html.parser')\n",
        "\n",
        "# Extraindo os valores da tabela\n",
        "table_rows = soup.find_all('tr')\n",
        "for tr in table_rows:\n",
        "    td = tr.find_all('td')\n",
        "    row = [i.text for i in td]\n",
        "    \n",
        "# Encontrando o valor de Depreciação e Amortização\n",
        "Depreciation_Amortization_Depletion = soup.find('td', text=\"Depreciation/Amortization & Depletion\")\n",
        "value = Depreciation_Amortization_Depletion.find_next('td').text\n",
        "\n",
        "# Removendo as vírgulas e convertendo o valor para float\n",
        "value_in_millions_7 = float(value.replace(',', '')) * 1000000\n",
        "\n",
        "# Formatando o valor de volta para uma string com a notação de dólares\n",
        "if value_in_millions_7 == 0:\n",
        "  value_formatted = '$ 0.00'\n",
        "else:\n",
        "  value_formatted = '${:,.2f}'.format(value_in_millions_7)\n",
        "\n",
        "# Imprimindo o valor formatado\n",
        "print('Depreciação e Amortização:', value_formatted)"
      ],
      "metadata": {
        "colab": {
          "base_uri": "https://localhost:8080/"
        },
        "id": "SOUkNxRF7qj5",
        "outputId": "0224059a-027f-44d9-b684-3dc61451b477"
      },
      "execution_count": 204,
      "outputs": [
        {
          "output_type": "stream",
          "name": "stdout",
          "text": [
            "Depreciação e Amortização: $26,230,000.00\n"
          ]
        }
      ]
    },
    {
      "cell_type": "markdown",
      "source": [
        "FCO"
      ],
      "metadata": {
        "id": "EmtOz-1l71eg"
      }
    },
    {
      "cell_type": "code",
      "source": [
        "# Calculando FCO\n",
        "FCO = NOPAT_Restrito + value_in_millions_7\n",
        "\n",
        "# Formatando o valor de volta para uma string com a notação de dólares\n",
        "if FCO == 0:\n",
        "  FCO_formatted = '$ 0.00'\n",
        "else:\n",
        "  FCO_formatted = '${:,.2f}'.format(FCO)\n",
        "\n",
        "# Imprimindo o valor formatado\n",
        "print('FCO:', FCO_formatted)"
      ],
      "metadata": {
        "colab": {
          "base_uri": "https://localhost:8080/"
        },
        "id": "xM4UtcFQ74yb",
        "outputId": "d6ae169c-8f58-458e-a5b1-9f2c53f2d02c"
      },
      "execution_count": 209,
      "outputs": [
        {
          "output_type": "stream",
          "name": "stdout",
          "text": [
            "FCO: $744,230,000.00\n"
          ]
        }
      ]
    },
    {
      "cell_type": "markdown",
      "metadata": {
        "id": "DH-nf24b1SOE"
      },
      "source": [
        "# **CAPM - Custo do Capital Próprio**"
      ]
    },
    {
      "cell_type": "markdown",
      "metadata": {
        "id": "RGbIYpb66SIE"
      },
      "source": [
        "Custo de Capital Próprio"
      ]
    },
    {
      "cell_type": "code",
      "execution_count": null,
      "metadata": {
        "id": "s7HSQpcL1Wh6"
      },
      "outputs": [],
      "source": [
        "rf = 4.5/100\n",
        "rj = rf + (beta*(rm_perc - rf))\n",
        "rj_str = str(rj).replace('.', ',')\n",
        "\n",
        "print(f'Rj (Ke): {rj_str}')"
      ]
    },
    {
      "cell_type": "markdown",
      "metadata": {
        "id": "1R_c9FBG8DAg"
      },
      "source": [
        "Ki (Kd) - Custo da Dívida"
      ]
    },
    {
      "cell_type": "code",
      "execution_count": null,
      "metadata": {
        "id": "7yzJR2Iz0mx2"
      },
      "outputs": [],
      "source": []
    },
    {
      "cell_type": "markdown",
      "metadata": {
        "id": "rku-vAM-vjJK"
      },
      "source": [
        "PL / (Po+PL)"
      ]
    },
    {
      "cell_type": "code",
      "execution_count": null,
      "metadata": {
        "id": "rJbhVGskvm_I"
      },
      "outputs": [],
      "source": []
    },
    {
      "cell_type": "markdown",
      "metadata": {
        "id": "dAz6lQsivnm5"
      },
      "source": [
        "Po / (Po+PL)"
      ]
    },
    {
      "cell_type": "code",
      "execution_count": null,
      "metadata": {
        "id": "ZQAP7hjBvprg"
      },
      "outputs": [],
      "source": []
    },
    {
      "cell_type": "markdown",
      "metadata": {
        "id": "qeeiAaPTvrl3"
      },
      "source": [
        "**WACC**"
      ]
    },
    {
      "cell_type": "code",
      "execution_count": null,
      "metadata": {
        "id": "r09vWCutvw0v"
      },
      "outputs": [],
      "source": []
    }
  ],
  "metadata": {
    "colab": {
      "provenance": [],
      "authorship_tag": "ABX9TyNaMXHDcgQkBCUhBUJBToP1",
      "include_colab_link": true
    },
    "kernelspec": {
      "display_name": "Python 3",
      "name": "python3"
    },
    "language_info": {
      "name": "python"
    }
  },
  "nbformat": 4,
  "nbformat_minor": 0
}
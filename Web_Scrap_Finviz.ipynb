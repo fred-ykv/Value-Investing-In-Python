{
  "cells": [
    {
      "cell_type": "markdown",
      "metadata": {
        "id": "view-in-github",
        "colab_type": "text"
      },
      "source": [
        "<a href=\"https://colab.research.google.com/github/fred-ykv/Value-Investing-In-Python/blob/master/Web_Scrap_Finviz.ipynb\" target=\"_parent\"><img src=\"https://colab.research.google.com/assets/colab-badge.svg\" alt=\"Open In Colab\"/></a>"
      ]
    },
    {
      "cell_type": "code",
      "execution_count": 1350,
      "metadata": {
        "id": "wY-LWbMOurgX"
      },
      "outputs": [],
      "source": [
        "import pandas as pd\n",
        "import numpy as np\n",
        "from bs4 import BeautifulSoup as soup\n",
        "from urllib.request import Request, urlopen\n",
        "\n",
        "pd.set_option('display.max_colwidth', 25)"
      ]
    },
    {
      "cell_type": "markdown",
      "metadata": {
        "id": "mwlgWGhPu6Pb"
      },
      "source": [
        "# Entrada do Ticker"
      ]
    },
    {
      "cell_type": "code",
      "execution_count": 1351,
      "metadata": {
        "colab": {
          "base_uri": "https://localhost:8080/"
        },
        "id": "4w94Nzhiu2vs",
        "outputId": "04a3a3ed-a023-4680-c984-f1de05cf10b0"
      },
      "outputs": [
        {
          "output_type": "stream",
          "name": "stdout",
          "text": [
            "Enter a ticker: wire\n",
            "Getting data for wire...\n",
            "\n"
          ]
        }
      ],
      "source": [
        "symbol = input('Enter a ticker: ')\n",
        "print ('Getting data for ' + symbol + '...\\n')"
      ]
    },
    {
      "cell_type": "markdown",
      "metadata": {
        "id": "rIwGESCovDR5"
      },
      "source": [
        "# Set up scraper"
      ]
    },
    {
      "cell_type": "code",
      "execution_count": 1352,
      "metadata": {
        "id": "mBHiAQp_u_Mq"
      },
      "outputs": [],
      "source": [
        "url = (\"http://finviz.com/quote.ashx?t=\" + symbol.lower())\n",
        "req = Request(url, headers={'User-Agent': 'Mozilla/5.0'})\n",
        "webpage = urlopen(req).read()\n",
        "html = soup(webpage, \"html.parser\")"
      ]
    },
    {
      "cell_type": "code",
      "execution_count": 1353,
      "metadata": {
        "id": "AFOQbAnpvGoC"
      },
      "outputs": [],
      "source": [
        "def get_fundamentals():\n",
        "    try:\n",
        "        # Find fundamentals table\n",
        "        fundamentals = pd.read_html(str(html), attrs = {'class': 'snapshot-table2'})[0]\n",
        "        \n",
        "        # Clean up fundamentals dataframe\n",
        "        fundamentals.columns = ['0', '1', '2', '3', '4', '5', '6', '7', '8', '9', '10', '11']\n",
        "        colOne = []\n",
        "        colLength = len(fundamentals)\n",
        "        for k in np.arange(0, colLength, 2):\n",
        "            colOne.append(fundamentals[f'{k}'])\n",
        "        attrs = pd.concat(colOne, ignore_index=True)\n",
        "    \n",
        "        colTwo = []\n",
        "        colLength = len(fundamentals)\n",
        "        for k in np.arange(1, colLength, 2):\n",
        "            colTwo.append(fundamentals[f'{k}'])\n",
        "        vals = pd.concat(colTwo, ignore_index=True)\n",
        "        \n",
        "        fundamentals = pd.DataFrame()\n",
        "        fundamentals['Attributes'] = attrs\n",
        "        fundamentals['Values'] = vals\n",
        "        fundamentals = fundamentals.set_index('Attributes')\n",
        "        return fundamentals\n",
        "\n",
        "    except Exception as e:\n",
        "        return e"
      ]
    },
    {
      "cell_type": "code",
      "execution_count": 1354,
      "metadata": {
        "id": "hsCMRBm9vQIJ"
      },
      "outputs": [],
      "source": [
        "def get_news():\n",
        "    try:\n",
        "        # Find news table\n",
        "        news = pd.read_html(str(html), attrs = {'class': 'fullview-news-outer'})[0]\n",
        "        links = []\n",
        "        for a in html.find_all('a', class_=\"tab-link-news\"):\n",
        "            links.append(a['href'])\n",
        "        \n",
        "        # Clean up news dataframe\n",
        "        news.columns = ['Date', 'News Headline']\n",
        "        news['Article Link'] = links\n",
        "        news = news.set_index('Date')\n",
        "        return news\n",
        "\n",
        "    except Exception as e:\n",
        "        return e"
      ]
    },
    {
      "cell_type": "code",
      "execution_count": 1355,
      "metadata": {
        "id": "2rphDYZIv8CI"
      },
      "outputs": [],
      "source": [
        "def get_insider():\n",
        "    try:\n",
        "        # Find insider table\n",
        "        insider = pd.read_html(str(html), attrs = {'class': 'body-table'})[0]\n",
        "        \n",
        "        # Clean up insider dataframe\n",
        "        insider = insider.iloc[1:]\n",
        "        insider.columns = ['Trader', 'Relationship', 'Date', 'Transaction', 'Cost', '# Shares', 'Value ($)', '# Shares Total', 'SEC Form 4']\n",
        "        insider = insider[['Date', 'Trader', 'Relationship', 'Transaction', 'Cost', '# Shares', 'Value ($)', '# Shares Total', 'SEC Form 4']]\n",
        "        insider = insider.set_index('Date')\n",
        "        return insider\n",
        "\n",
        "    except Exception as e:\n",
        "        return e"
      ]
    },
    {
      "cell_type": "code",
      "execution_count": 1356,
      "metadata": {
        "colab": {
          "base_uri": "https://localhost:8080/"
        },
        "id": "h_oQvoE4v_GP",
        "outputId": "77899feb-ba91-4a88-95ad-6541891edba6"
      },
      "outputs": [
        {
          "output_type": "stream",
          "name": "stdout",
          "text": [
            "Fundamental Ratios: \n",
            "                 Values\n",
            "Attributes             \n",
            "Index                 -\n",
            "Market Cap        3.48B\n",
            "Income          717.80M\n",
            "Sales             3.02B\n",
            "Book/sh           99.60\n",
            "...                 ...\n",
            "ATR                6.66\n",
            "Volatility  3.86% 3.79%\n",
            "Prev Close       190.72\n",
            "Price            192.55\n",
            "Change            0.96%\n",
            "\n",
            "[72 rows x 1 columns]\n"
          ]
        }
      ],
      "source": [
        "print ('Fundamental Ratios: ')\n",
        "print(get_fundamentals())"
      ]
    },
    {
      "cell_type": "code",
      "execution_count": 1357,
      "metadata": {
        "colab": {
          "base_uri": "https://localhost:8080/"
        },
        "id": "zDzZXoVlwBcv",
        "outputId": "dad117af-fa2e-4eb3-fac6-7aacef8eb65a"
      },
      "outputs": [
        {
          "output_type": "stream",
          "name": "stdout",
          "text": [
            "\n",
            "Recent News: \n",
            "Length of values (100) does not match length of index (103)\n"
          ]
        }
      ],
      "source": [
        "print ('\\nRecent News: ')\n",
        "print(get_news())"
      ]
    },
    {
      "cell_type": "code",
      "execution_count": 1358,
      "metadata": {
        "colab": {
          "base_uri": "https://localhost:8080/"
        },
        "id": "4hptH8LYwEUv",
        "outputId": "acfe4d1b-b51a-4b4b-b4bd-a98582eaed63"
      },
      "outputs": [
        {
          "output_type": "stream",
          "name": "stdout",
          "text": [
            "\n",
            "Recent Insider Trades: \n",
            "                 Trader Relationship      Transaction    Cost # Shares  \\\n",
            "Date                                                                     \n",
            "Feb 21  Ford Matthew D.   Controller             Sale  200.00     2725   \n",
            "Feb 17  Ford Matthew D.   Controller             Sale  200.00      275   \n",
            "Jul 21  Ford Matthew D.   Controller  Option Exercise   51.63     1000   \n",
            "\n",
            "       Value ($) # Shares Total       SEC Form 4  \n",
            "Date                                              \n",
            "Feb 21    545000          34138  Feb 21 12:30 PM  \n",
            "Feb 17     55000          36863  Feb 21 12:30 PM  \n",
            "Jul 21     51630          31500  Jul 22 12:51 PM  \n"
          ]
        }
      ],
      "source": [
        "print ('\\nRecent Insider Trades: ')\n",
        "print(get_insider())"
      ]
    },
    {
      "cell_type": "code",
      "execution_count": 1359,
      "metadata": {
        "colab": {
          "base_uri": "https://localhost:8080/"
        },
        "id": "OsnhT191eMsD",
        "outputId": "607b4025-03f6-4f79-f9db-2b89f366ee13"
      },
      "outputs": [
        {
          "output_type": "stream",
          "name": "stdout",
          "text": [
            "\n",
            "Fundamental Ratios: \n",
            "                 Values\n",
            "Attributes             \n",
            "Index                 -\n",
            "Market Cap        3.48B\n",
            "Income          717.80M\n",
            "Sales             3.02B\n",
            "Book/sh           99.60\n",
            "...                 ...\n",
            "ATR                6.66\n",
            "Volatility  3.86% 3.79%\n",
            "Prev Close       190.72\n",
            "Price            192.55\n",
            "Change            0.96%\n",
            "\n",
            "[72 rows x 1 columns]\n",
            "\n",
            "Recent News: \n",
            "Length of values (100) does not match length of index (103)\n",
            "\n",
            "Recent Insider Trades: \n",
            "                 Trader Relationship      Transaction    Cost # Shares  \\\n",
            "Date                                                                     \n",
            "Feb 21  Ford Matthew D.   Controller             Sale  200.00     2725   \n",
            "Feb 17  Ford Matthew D.   Controller             Sale  200.00      275   \n",
            "Jul 21  Ford Matthew D.   Controller  Option Exercise   51.63     1000   \n",
            "\n",
            "       Value ($) # Shares Total       SEC Form 4  \n",
            "Date                                              \n",
            "Feb 21    545000          34138  Feb 21 12:30 PM  \n",
            "Feb 17     55000          36863  Feb 21 12:30 PM  \n",
            "Jul 21     51630          31500  Jul 22 12:51 PM  \n"
          ]
        }
      ],
      "source": [
        "print ('\\nFundamental Ratios: ')\n",
        "print(get_fundamentals())\n",
        "\n",
        "print ('\\nRecent News: ')\n",
        "print(get_news())\n",
        "\n",
        "print ('\\nRecent Insider Trades: ')\n",
        "print(get_insider())"
      ]
    },
    {
      "cell_type": "code",
      "execution_count": 1360,
      "metadata": {
        "colab": {
          "base_uri": "https://localhost:8080/"
        },
        "id": "czgejvytfcKR",
        "outputId": "8d482e93-bf44-4352-bccc-a8c8b546b201"
      },
      "outputs": [
        {
          "output_type": "stream",
          "name": "stdout",
          "text": [
            "Fundamental Ratios: \n",
            "Values    3.48B\n",
            "Name: Market Cap, dtype: object\n"
          ]
        }
      ],
      "source": [
        "print ('Fundamental Ratios: ')\n",
        "fundamentals = get_fundamentals()\n",
        "if 'Market Cap' in fundamentals.index:\n",
        "    print(fundamentals.loc['Market Cap'])\n",
        "else:\n",
        "    print('Market Cap is not listed.')"
      ]
    },
    {
      "cell_type": "code",
      "execution_count": 1361,
      "metadata": {
        "colab": {
          "base_uri": "https://localhost:8080/"
        },
        "id": "P2iO87-LBg6f",
        "outputId": "81fac1ca-3ca1-4afc-c1f4-53270e3f4634"
      },
      "outputs": [
        {
          "output_type": "stream",
          "name": "stdout",
          "text": [
            "Market Cap: 3480000000\n"
          ]
        }
      ],
      "source": [
        "market_cap_str = fundamentals.loc['Market Cap']['Values']\n",
        "market_cap_str = market_cap_str.strip()\n",
        "\n",
        "if market_cap_str[-1] == 'B':\n",
        "    market_cap = float(market_cap_str[:-1]) * 1000000000\n",
        "elif market_cap_str[-1] == 'M':\n",
        "    market_cap = float(market_cap_str[:-1]) * 1000000\n",
        "else:\n",
        "    market_cap = float(market_cap_str)\n",
        "\n",
        "print(f'Market Cap: {int(market_cap)}')"
      ]
    },
    {
      "cell_type": "code",
      "execution_count": 1362,
      "metadata": {
        "colab": {
          "base_uri": "https://localhost:8080/"
        },
        "id": "4pCYwoB3DCtJ",
        "outputId": "e9b3fd14-8509-4f5f-9daf-2058da0e2a4a"
      },
      "outputs": [
        {
          "output_type": "stream",
          "name": "stdout",
          "text": [
            "ROI: 0,389\n"
          ]
        }
      ],
      "source": [
        "roi_str = fundamentals.loc['ROI']['Values']\n",
        "roi_str = roi_str.replace('%', '')\n",
        "roi = float(roi_str)\n",
        "roi_perc = roi/100\n",
        "roi_perc_str = str(roi_perc).replace('.', ',')\n",
        "\n",
        "print(f'ROI: {roi_perc_str}')"
      ]
    },
    {
      "cell_type": "code",
      "execution_count": 1363,
      "metadata": {
        "colab": {
          "base_uri": "https://localhost:8080/"
        },
        "id": "12kaNIYxWh6P",
        "outputId": "28b052c1-6594-4f84-884a-0109391ac5c9"
      },
      "outputs": [
        {
          "output_type": "stream",
          "name": "stdout",
          "text": [
            "ROE: 0,44\n"
          ]
        }
      ],
      "source": [
        "roe_str = fundamentals.loc['ROE']['Values']\n",
        "roe_str = roe_str.replace('%', '')\n",
        "roe = float(roe_str)\n",
        "roe_perc = roe/100\n",
        "roe_perc_str = str(roe_perc).replace('.', ',')\n",
        "\n",
        "print(f'ROE: {roe_perc_str}')"
      ]
    },
    {
      "cell_type": "code",
      "execution_count": 1364,
      "metadata": {
        "colab": {
          "base_uri": "https://localhost:8080/"
        },
        "id": "U96m0qdGX_RG",
        "outputId": "83375ced-ed4e-4b5c-8374-fbc6547266c0"
      },
      "outputs": [
        {
          "output_type": "stream",
          "name": "stdout",
          "text": [
            "Payout: 0,002\n"
          ]
        }
      ],
      "source": [
        "payout_str = fundamentals.loc['Payout']['Values']\n",
        "payout_str = payout_str.replace('%', '')\n",
        "payout = float(payout_str)\n",
        "payout_perc = payout/100\n",
        "payout_perc_str = str(payout_perc).replace('.', ',')\n",
        "\n",
        "print(f'Payout: {payout_perc_str}')"
      ]
    },
    {
      "cell_type": "code",
      "execution_count": 1365,
      "metadata": {
        "colab": {
          "base_uri": "https://localhost:8080/"
        },
        "id": "AHUhWXBCY1jQ",
        "outputId": "20029ed3-05b7-4dcb-c4e1-f84f272568b8"
      },
      "outputs": [
        {
          "output_type": "stream",
          "name": "stdout",
          "text": [
            "Dividend %: 0,0004\n"
          ]
        }
      ],
      "source": [
        "div_str = fundamentals.loc['Dividend %']['Values']\n",
        "div_str = div_str.replace('%', '')\n",
        "div = float(div_str)\n",
        "div_perc = div/100\n",
        "div_perc_str = str(div_perc).replace('.', ',')\n",
        "\n",
        "print(f'Dividend %: {div_perc_str}')"
      ]
    },
    {
      "cell_type": "code",
      "execution_count": 1366,
      "metadata": {
        "colab": {
          "base_uri": "https://localhost:8080/"
        },
        "id": "-YRa_nTckNnm",
        "outputId": "d0d6e927-b03a-4ec0-f20c-0bfc141ea6de"
      },
      "outputs": [
        {
          "output_type": "stream",
          "name": "stdout",
          "text": [
            "EPS next 5: 0,1\n"
          ]
        }
      ],
      "source": [
        "epsn5_str = fundamentals.loc['EPS next 5Y']['Values']\n",
        "epsn5_str = epsn5_str.replace('%', '')\n",
        "epsn5 = float(epsn5_str)\n",
        "epsn5_perc = epsn5/100\n",
        "epsn5_perc_str = str(epsn5_perc).replace('.', ',')\n",
        "\n",
        "print(f'EPS next 5: {epsn5_perc_str}')"
      ]
    },
    {
      "cell_type": "code",
      "execution_count": 1367,
      "metadata": {
        "colab": {
          "base_uri": "https://localhost:8080/"
        },
        "id": "cAa6nJ-WZTCX",
        "outputId": "d08c9133-f5d7-4cf8-c586-a6a2eb01fddd"
      },
      "outputs": [
        {
          "output_type": "stream",
          "name": "stdout",
          "text": [
            "EPS: 36,91\n"
          ]
        }
      ],
      "source": [
        "eps_str = fundamentals.loc['EPS (ttm)']['Values']\n",
        "eps = float(eps_str)\n",
        "eps_str = str(eps).replace('.', ',')\n",
        "\n",
        "print(f'EPS: {eps_str}')"
      ]
    },
    {
      "cell_type": "code",
      "execution_count": 1368,
      "metadata": {
        "colab": {
          "base_uri": "https://localhost:8080/"
        },
        "id": "qW2zDMpUNKHc",
        "outputId": "f89440a9-7181-44d7-c74f-314fe4f71d60"
      },
      "outputs": [
        {
          "output_type": "stream",
          "name": "stdout",
          "text": [
            "LPA: 99.6\n"
          ]
        }
      ],
      "source": [
        "LPA_str = fundamentals.loc['Book/sh']['Values']\n",
        "LPA = float(LPA_str)\n",
        "LPA_str = str(LPA).replace('.', ',')\n",
        "\n",
        "print(f'LPA: {LPA}')\n"
      ]
    },
    {
      "cell_type": "code",
      "execution_count": 1369,
      "metadata": {
        "colab": {
          "base_uri": "https://localhost:8080/"
        },
        "id": "W3VZTjvNXE2N",
        "outputId": "ee56f97a-8b75-45c2-f91a-f441fa8e3fd4"
      },
      "outputs": [
        {
          "output_type": "stream",
          "name": "stdout",
          "text": [
            "Beta: 1,34\n"
          ]
        }
      ],
      "source": [
        "beta_str = fundamentals.loc['Beta']['Values']\n",
        "beta = float(beta_str)\n",
        "beta_str = str(beta).replace('.', ',')\n",
        "\n",
        "print(f'Beta: {beta_str}')"
      ]
    },
    {
      "cell_type": "code",
      "execution_count": 1370,
      "metadata": {
        "colab": {
          "base_uri": "https://localhost:8080/"
        },
        "id": "S8yaXG1nXx0r",
        "outputId": "0b35616b-a2d0-4337-ac07-4ec82fd8036f"
      },
      "outputs": [
        {
          "output_type": "stream",
          "name": "stdout",
          "text": [
            "Taxa de Reinvestimento LL: 0,998\n"
          ]
        }
      ],
      "source": [
        "tax_reinvest_ll = 1 - payout_perc\n",
        "tax_reinvest_ll_str = str(tax_reinvest_ll).replace('.', ',')\n",
        "\n",
        "print(f'Taxa de Reinvestimento LL: {tax_reinvest_ll_str}')"
      ]
    },
    {
      "cell_type": "code",
      "execution_count": 1371,
      "metadata": {
        "colab": {
          "base_uri": "https://localhost:8080/"
        },
        "id": "ZFKNRQlJBwhs",
        "outputId": "f7ce28d1-27bb-4818-b97c-bef8fef7d950"
      },
      "outputs": [
        {
          "output_type": "stream",
          "name": "stdout",
          "text": [
            "gLL: 0,43912\n"
          ]
        }
      ],
      "source": [
        "roe_str = fundamentals.loc['ROE']['Values']\n",
        "roe_str = roe_str.replace('%', '')\n",
        "roe = float(roe_str)\n",
        "roe_perc = roe/100\n",
        "\n",
        "gll = tax_reinvest_ll*roe_perc\n",
        "gll_str = str(gll).replace('.', ',')\n",
        "\n",
        "print(f'gLL: {gll_str}')"
      ]
    },
    {
      "cell_type": "code",
      "execution_count": 1372,
      "metadata": {
        "colab": {
          "base_uri": "https://localhost:8080/"
        },
        "id": "FQ_5vMvUDoMp",
        "outputId": "c45410dc-042e-4325-9c35-da838a7b9836"
      },
      "outputs": [
        {
          "output_type": "stream",
          "name": "stdout",
          "text": [
            "Ganho de Alavancagem: 0,05099999999999999\n"
          ]
        }
      ],
      "source": [
        "gain_leverage = roe_perc - roi_perc\n",
        "gain_leverage_str = str(gain_leverage).replace('.', ',')\n",
        "\n",
        "print(f'Ganho de Alavancagem: {gain_leverage_str}')"
      ]
    },
    {
      "cell_type": "code",
      "execution_count": 1373,
      "metadata": {
        "colab": {
          "base_uri": "https://localhost:8080/"
        },
        "id": "p6eTgz40PCVP",
        "outputId": "e2bd6a01-cf40-4bf4-b412-b6c98918940f"
      },
      "outputs": [
        {
          "output_type": "stream",
          "name": "stdout",
          "text": [
            "Grau de Alavancagem Financeira: 1,1311053984575836\n"
          ]
        }
      ],
      "source": [
        "gaf = roe_perc/roi_perc\n",
        "gaf_str = str(gaf).replace('.', ',')\n",
        "\n",
        "print(f'Grau de Alavancagem Financeira: {gaf_str}')"
      ]
    },
    {
      "cell_type": "code",
      "execution_count": 1374,
      "metadata": {
        "colab": {
          "base_uri": "https://localhost:8080/"
        },
        "id": "NTYB9ICbJpfP",
        "outputId": "8c728914-e8d3-40dc-d992-eee0f362f459"
      },
      "outputs": [
        {
          "output_type": "stream",
          "name": "stdout",
          "text": [
            "Taxa de Juros Livre de Risco (Rf): 3,92%\n"
          ]
        }
      ],
      "source": [
        "# Requisição Url\n",
        "url = \"https://ycharts.com/indicators/10_year_treasury_rate\"\n",
        "req = Request(url, headers={'User-Agent': 'Mozilla/5.0'})\n",
        "webpage = urlopen(req).read()\n",
        "\n",
        "# Parser\n",
        "html = soup(webpage, \"html.parser\")\n",
        "\n",
        "# Buscando Valor\n",
        "xpath = '/html/body/main/div/div[2]/div/div/div[2]'\n",
        "value_elem = html.find('div', {'class':'key-stat-title'}).get_text()\n",
        "\n",
        "if value_elem is not None:\n",
        "    value = value_elem.strip()\n",
        "    value = value.split(' ')[0] # Removendo Strings\n",
        "    value = value.replace('%', '')\n",
        "\n",
        "    # Removendo Caracteres\n",
        "    Rf = float(value.replace(',', '.'))\n",
        "    Rf_str = str(Rf).replace('.', ',') + '%' # Corrigindo Erro\n",
        "\n",
        "    print(f'Taxa de Juros Livre de Risco (Rf): {Rf_str}')"
      ]
    },
    {
      "cell_type": "code",
      "execution_count": 1375,
      "metadata": {
        "colab": {
          "base_uri": "https://localhost:8080/"
        },
        "id": "vaOXnTfIhKZL",
        "outputId": "63c023a9-d732-4526-f140-261b137b810b"
      },
      "outputs": [
        {
          "output_type": "stream",
          "name": "stdout",
          "text": [
            "Taxa de Inflação Americana:: 6,41%\n"
          ]
        }
      ],
      "source": [
        "# Requisição Url\n",
        "url = \"https://ycharts.com/indicators/us_consumer_price_index_yoy\"\n",
        "req = Request(url, headers={'User-Agent': 'Mozilla/5.0'})\n",
        "webpage = urlopen(req).read()\n",
        "\n",
        "# Parser\n",
        "html = soup(webpage, \"html.parser\")\n",
        "\n",
        "# Buscando Valor\n",
        "xpath = '/html/body/main/div/div[2]/div/div/div[2]'\n",
        "value_elem = html.find('div', {'class':'key-stat-title'}).get_text()\n",
        "\n",
        "if value_elem is not None:\n",
        "    value = value_elem.strip()\n",
        "    value = value.split(' ')[0] # Removendo Strings\n",
        "    value = value.replace('%', '')\n",
        "\n",
        "    # Removendo Caracteres\n",
        "    inflation = float(value.replace(',', '.'))\n",
        "    inflation_str = str(inflation).replace('.', ',') + '%' # Corrigindo Erro\n",
        "\n",
        "    print(f'Taxa de Inflação Americana:: {inflation_str}')"
      ]
    },
    {
      "cell_type": "code",
      "execution_count": 1376,
      "metadata": {
        "colab": {
          "base_uri": "https://localhost:8080/"
        },
        "id": "WrolaS5zoty5",
        "outputId": "77145ca3-835e-4204-f4e8-9341dcb48520"
      },
      "outputs": [
        {
          "output_type": "stream",
          "name": "stdout",
          "text": [
            "Taxa de Juros Livre de Risco (Rf): 3,53%\n"
          ]
        }
      ],
      "source": [
        "url = 'https://ycharts.com/indicators/us_10year_government_bond_interest_rate'\n",
        "req = Request(url, headers={'User-Agent': 'Mozilla/5.0'})\n",
        "webpage = urlopen(req).read()\n",
        "html = soup(webpage, \"html.parser\")\n",
        "\n",
        "xpath = '/html/body/main/div/div[2]/div/div/div[2]'\n",
        "value_elem = html.find('div', {'class':'key-stat-title'}).get_text()\n",
        "\n",
        "if value_elem is not None:\n",
        "    value = value_elem.strip()\n",
        "    value = value.split(' ')[0] # Removendo Strings\n",
        "    value = value.replace('%', '')\n",
        "\n",
        "    # Removendo Caracteres\n",
        "    interest_rate = float(value.replace(',', '.'))\n",
        "    interest_rate_str = str(interest_rate).replace('.', ',') + '%' # Corrigindo Erro\n",
        "\n",
        "    print(f'Taxa de Juros Livre de Risco (Rf): {interest_rate_str}')"
      ]
    },
    {
      "cell_type": "code",
      "execution_count": 1377,
      "metadata": {
        "colab": {
          "base_uri": "https://localhost:8080/"
        },
        "id": "h7iBvQAXz6td",
        "outputId": "e124c65a-6ca4-422e-ee35-a3ab21ced3d3"
      },
      "outputs": [
        {
          "output_type": "stream",
          "name": "stdout",
          "text": [
            "Retorno Carteira de Mercado (Rm): 0,13535\n"
          ]
        }
      ],
      "source": [
        "# Set up scraper\n",
        "url = 'https://www.investing.com/rates-bonds/brazil-1-year-bond-yield'\n",
        "req = Request(url, headers={'User-Agent': 'Mozilla/5.0'})\n",
        "webpage = urlopen(req).read()\n",
        "html = soup(webpage, \"html.parser\")\n",
        "\n",
        "rm_str = html.find('span', {'class': 'arial_26 inlineblock pid-24024-last'})\n",
        "rm = float(rm_str.text)\n",
        "rm_perc = rm/100\n",
        "rm_perc_str = str(rm_perc).replace('.', ',')\n",
        "\n",
        "print(f'Retorno Carteira de Mercado (Rm): {rm_perc_str}')"
      ]
    },
    {
      "cell_type": "code",
      "execution_count": 1378,
      "metadata": {
        "colab": {
          "base_uri": "https://localhost:8080/"
        },
        "id": "MSITK02r7exL",
        "outputId": "17dfbf75-e08c-4d95-987e-20e344497992"
      },
      "outputs": [
        {
          "output_type": "stream",
          "name": "stdout",
          "text": [
            "Taxa de Inflação Brasil (%) : 5,77%\n"
          ]
        }
      ],
      "source": [
        "# Set up scraper\n",
        "url = 'https://br.investing.com/economic-calendar/brazilian-cpi-410'\n",
        "req = Request(url, headers={'User-Agent': 'Mozilla/5.0'})\n",
        "webpage = urlopen(req).read()\n",
        "html = soup(webpage, \"html.parser\")\n",
        "\n",
        "inflation_str = html.find('div', {'class': 'arial_14 redFont'})\n",
        "inflation = float(inflation_str.text.replace(',', '.').replace('%', ''))\n",
        "inflation_perc_str = str(inflation).replace('.', ',')\n",
        "\n",
        "print(f'Taxa de Inflação Brasil (%) : {inflation_perc_str}%')"
      ]
    },
    {
      "cell_type": "markdown",
      "metadata": {
        "id": "GhZCj1Utv5KY"
      },
      "source": [
        "# **Balanço Patrimonial**"
      ]
    },
    {
      "cell_type": "code",
      "execution_count": 1379,
      "metadata": {
        "colab": {
          "base_uri": "https://localhost:8080/"
        },
        "id": "E8e37lRbv6gi",
        "outputId": "3e5452b9-9db9-4208-c429-a7f2b3a3bc31"
      },
      "outputs": [
        {
          "output_type": "stream",
          "name": "stdout",
          "text": [
            "[]\n",
            "['Strong Buy', '24.28%']\n",
            "['Buy', '17.83%']\n",
            "['Hold', '9.19%']\n",
            "['Sell', '5.00%']\n",
            "['Strong Sell', '2.16%']\n",
            "['500', '10.51%']\n",
            "['A']\n",
            "['A']\n",
            "['A']\n",
            "['A']\n",
            "[]\n",
            "['Assets', '\\xa0', '\\xa0', '\\xa0', '\\xa0', '\\xa0']\n",
            "['Cash & Equivalents', '731', '439', '183', '231', '178']\n",
            "['Receivables', '514', '492', '277', '227', '237']\n",
            "['Notes Receivable', '0', '0', '0', '0', '0']\n",
            "['Inventories', '153', '101', '92', '90', '102']\n",
            "['Other Current Assets', '4', '3', '3', '2', '2']\n",
            "['Total Current Assets', '1,402', '1,035', '555', '549', '519']\n",
            "['Net Property & Equipment', '617', '495', '411', '333', '299']\n",
            "['Investments & Advances', '0', '0', '0', '0', '0']\n",
            "['Other Non-Current Assets', '0', '0', '0', '0', '0']\n",
            "['Deferred Charges', '0', '0', '0', '0', '0']\n",
            "['Intangibles', '0', '0', '0', '0', '0']\n",
            "['Deposits & Other Assets', '0', '1', '1', '1', '0']\n",
            "['Total Assets', '2,019', '1,531', '966', '883', '818']\n",
            "[]\n",
            "['Notes Payable', '0', '0', '0', '0', '0']\n",
            "['Accounts Payable', '63', '75', '57', '41', '37']\n",
            "['Current Portion Long-Term Debt', '0', '0', '0', '0', '0']\n",
            "['Current Portion Capital Leases', '0', '0', '0', '0', '0']\n",
            "['Accrued Expenses', '81', '79', '37', '35', '37']\n",
            "['Income Taxes Payable', '0', '0', '0', '0', '0']\n",
            "['Other Current Liabilities', '0', '0', '0', '0', '0']\n",
            "['Total Current Liabilities', '144', '154', '94', '75', '74']\n",
            "['Mortgages', '0', '0', '0', '0', '0']\n",
            "['Deferred Taxes/Income', '56', '37', '35', '29', '24']\n",
            "['Convertible Debt', '0', '0', '0', '0', '0']\n",
            "['Long-Term Debt', '0', '0', '0', '0', '0']\n",
            "['Non-Current Capital Leases', '0', '0', '0', '0', '0']\n",
            "['Other Non-Current Liabilities', '0', '0', '0', '0', '0']\n",
            "['Minority Interest (Liabilities)', '0', '0', '0', '0', '0']\n",
            "['Total Liabilities', '200', '191', '129', '104', '98']\n",
            "[]\n",
            "['Preferred Stock', '0', '0', '0', '0', '0']\n",
            "['Common Stock (Par)', '0', '0', '0', '0', '0']\n",
            "['Capital Surplus', '84', '73', '68', '63', '61']\n",
            "['Retained Earnings', '2,137', '1,421', '881', '807', '750']\n",
            "['Other Equity', '0', '0', '0', '0', '0']\n",
            "['Treasury Stock', '403', '155', '112', '91', '91']\n",
            "[\"Total Shareholder's Equity\", '1,819', '1,339', '838', '779', '720']\n",
            "[\"Total Liabilities & Shareholder's Equity\", '2,019', '1,531', '966', '883', '818']\n",
            "['Total Common Equity', '1,819', '1,339', '838', '779', '720']\n",
            "['Shares Outstanding', '18.30', '20.20', '20.60', '20.90', '20.80']\n",
            "['Book Value Per Share', '99.38', '66.29', '40.67', '37.28', '34.64']\n",
            "[]\n",
            "['Assets', '\\xa0', '\\xa0', '\\xa0', '\\xa0', '\\xa0']\n",
            "['Cash & Equivalents', '731', '574', '470', '466', '439']\n",
            "['Receivables', '514', '565', '606', '549', '492']\n",
            "['Notes Receivable', '0', '0', '0', '0', '0']\n",
            "['Inventories', '153', '136', '121', '116', '101']\n",
            "['Other Current Assets', '4', '20', '10', '3', '3']\n",
            "['Total Current Assets', '1,402', '1,295', '1,207', '1,135', '1,035']\n",
            "['Net Property & Equipment', '617', '588', '561', '524', '495']\n",
            "['Investments & Advances', '0', '0', '0', '0', '0']\n",
            "['Other Non-Current Assets', '0', '0', '0', '0', '0']\n",
            "['Deferred Charges', '0', '0', '0', '0', '0']\n",
            "['Intangibles', '0', '0', '0', '0', '0']\n",
            "['Deposits & Other Assets', '0', '1', '1', '1', '1']\n",
            "['Total Assets', '2,019', '1,883', '1,769', '1,660', '1,531']\n",
            "[]\n",
            "['Notes Payable', '0', '0', '0', '0', '0']\n",
            "['Accounts Payable', '63', '69', '71', '73', '75']\n",
            "['Current Portion Long-Term Debt', '0', '0', '0', '0', '0']\n",
            "['Current Portion Capital Leases', '0', '0', '0', '0', '0']\n",
            "['Accrued Expenses', '81', '83', '73', '62', '79']\n",
            "['Income Taxes Payable', '0', '0', '2', '48', '0']\n",
            "['Other Current Liabilities', '0', '0', '0', '0', '0']\n",
            "['Total Current Liabilities', '144', '152', '145', '183', '154']\n",
            "['Mortgages', '0', '0', '0', '0', '0']\n",
            "['Deferred Taxes/Income', '56', '47', '40', '33', '37']\n",
            "['Convertible Debt', '0', '0', '0', '0', '0']\n",
            "['Long-Term Debt', '0', '0', '0', '0', '0']\n",
            "['Non-Current Capital Leases', '0', '0', '0', '0', '0']\n",
            "['Other Non-Current Liabilities', '0', '', '0', '0', '0']\n",
            "['Minority Interest (Liabilities)', '0', '0', '0', '0', '0']\n",
            "['Total Liabilities', '200', '198', '185', '216', '191']\n",
            "[]\n",
            "['Preferred Stock', '0', '0', '0', '0', '0']\n",
            "['Common Stock (Par)', '0', '0', '0', '0', '0']\n",
            "['Capital Surplus', '84', '81', '78', '75', '73']\n",
            "['Retained Earnings', '2,137', '1,984', '1,792', '1,582', '1,421']\n",
            "['Other Equity', '0', '0', '0', '0', '0']\n",
            "['Treasury Stock', '403', '380', '287', '213', '155']\n",
            "[\"Total Shareholder's Equity\", '1,819', '1,685', '1,584', '1,444', '1,339']\n",
            "[\"Total Liabilities & Shareholder's Equity\", '2,019', '1,883', '1,769', '1,660', '1,531']\n",
            "['Total Common Equity', '1,819', '1,685', '1,584', '1,444', '1,339']\n",
            "['Shares Outstanding', '18.30', '18.30', '19.10', '19.70', '20.20']\n",
            "['Book Value Per Share', '99.38', '92.06', '82.93', '73.30', '66.29']\n"
          ]
        }
      ],
      "source": [
        "import requests\n",
        "from bs4 import BeautifulSoup\n",
        "\n",
        "url = 'https://www.zacks.com/stock/quote/'+ symbol +'/balance-sheet'\n",
        "user_agent = {'User-agent': 'Mozilla/5.0'}\n",
        "\n",
        "# Obtendo a página\n",
        "page = requests.get(url, headers = user_agent)\n",
        "\n",
        "# Criando o objeto BeautifulSoup\n",
        "soup = BeautifulSoup(page.content, 'html.parser')\n",
        "\n",
        "# Extraindo os valores da tabela\n",
        "table_rows = soup.find_all('tr')\n",
        "for tr in table_rows:\n",
        "    td = tr.find_all('td')\n",
        "    row = [i.text for i in td]\n",
        "    print(row)"
      ]
    },
    {
      "cell_type": "markdown",
      "metadata": {
        "id": "B5IFDW9iwLTE"
      },
      "source": [
        "Patrimônio Líquido (PL)"
      ]
    },
    {
      "cell_type": "code",
      "execution_count": 1380,
      "metadata": {
        "colab": {
          "base_uri": "https://localhost:8080/"
        },
        "id": "KBiuA5-ncn7J",
        "outputId": "62b5f2f4-ee9a-4190-90c4-0c597bb2231a"
      },
      "outputs": [
        {
          "output_type": "stream",
          "name": "stdout",
          "text": [
            "$1,819,000,000.00\n"
          ]
        }
      ],
      "source": [
        "# Encontrando o valor de Total Shareholder's Equity\n",
        "total_shareholders_equity = soup.find('td', text=\"Total Shareholder's Equity\")\n",
        "value = total_shareholders_equity.find_next('td').text\n",
        "\n",
        "# Removendo as vírgulas e convertendo o valor para float\n",
        "value_in_millions_12 = float(value.replace(',', '')) * 1000000\n",
        "\n",
        "# Formatando o valor de volta para uma string com a notação de dólares\n",
        "value_formatted = '${:,.2f}'.format(value_in_millions_12)\n",
        "\n",
        "# Imprimindo o valor formatado\n",
        "print(value_formatted)\n"
      ]
    },
    {
      "cell_type": "markdown",
      "metadata": {
        "id": "o2uxJMJXntEl"
      },
      "source": [
        "Empréstimos e Financiamentos"
      ]
    },
    {
      "cell_type": "code",
      "execution_count": 1381,
      "metadata": {
        "colab": {
          "base_uri": "https://localhost:8080/"
        },
        "id": "qiFyvuqOnue7",
        "outputId": "a0b50f5b-73f2-44b8-bcfa-bae7402ad66e"
      },
      "outputs": [
        {
          "output_type": "stream",
          "name": "stdout",
          "text": [
            "Empréstimos e Financiamentos: $ 0.00\n"
          ]
        }
      ],
      "source": [
        "# Encontrando o valor de Current Portion Long-Term Debt\n",
        "current_portion_longterm_debt = soup.find('td', text=\"Current Portion Long-Term Debt\")\n",
        "value = current_portion_longterm_debt.find_next('td').text\n",
        "\n",
        "# Removendo as vírgulas e convertendo o valor para float\n",
        "value_in_millions = float(value.replace(',', '')) * 1000000\n",
        "\n",
        "# Formatando o valor de volta para uma string com a notação de dólares\n",
        "if value_in_millions == 0:\n",
        "  value_formatted = '$ 0.00'\n",
        "else:\n",
        "  value_formatted = '${:,.2f}'.format(value_in_millions)\n",
        "\n",
        "# Imprimindo o valor formatado\n",
        "print('Empréstimos e Financiamentos:', value_formatted)"
      ]
    },
    {
      "cell_type": "markdown",
      "metadata": {
        "id": "Fdxk7XvXt4V7"
      },
      "source": [
        "Dívida de Longo Prazo"
      ]
    },
    {
      "cell_type": "code",
      "execution_count": 1382,
      "metadata": {
        "colab": {
          "base_uri": "https://localhost:8080/"
        },
        "id": "WFGk6-WLt5ZB",
        "outputId": "07bd3a77-c4d8-4ca6-931b-bcd8d6677fc2"
      },
      "outputs": [
        {
          "output_type": "stream",
          "name": "stdout",
          "text": [
            "Dívida de Longo Prazo: $ 0.00\n"
          ]
        }
      ],
      "source": [
        "# Encontrando o valor de Long-Term Debt\n",
        "longterm_debt = soup.find('td', text=\"Long-Term Debt\")\n",
        "value = longterm_debt.find_next('td').text\n",
        "\n",
        "# Removendo as vírgulas e convertendo o valor para float\n",
        "value_in_millions = float(value.replace(',', '')) * 1000000\n",
        "\n",
        "# Formatando o valor de volta para uma string com a notação de dólares\n",
        "if value_in_millions == 0:\n",
        "  value_formatted = '$ 0.00'\n",
        "else:\n",
        "  value_formatted = '${:,.2f}'.format(value_in_millions)\n",
        "\n",
        "# Imprimindo o valor formatado\n",
        "print('Dívida de Longo Prazo:', value_formatted)"
      ]
    },
    {
      "cell_type": "markdown",
      "metadata": {
        "id": "bIDRUHSkJNDG"
      },
      "source": [
        "Capital de Terceiros (Po)"
      ]
    },
    {
      "cell_type": "code",
      "execution_count": 1383,
      "metadata": {
        "colab": {
          "base_uri": "https://localhost:8080/"
        },
        "id": "z74vx5Lqt_OY",
        "outputId": "79a8af7c-2b1c-4ebe-8423-b1ec6a096ff1"
      },
      "outputs": [
        {
          "output_type": "stream",
          "name": "stdout",
          "text": [
            "Capital de Terceiros (PO): $ 0.00\n"
          ]
        }
      ],
      "source": [
        "# Encontrando o valor de Current Portion Long-Term Debt\n",
        "current_portion_longterm_debt = soup.find('td', text=\"Current Portion Long-Term Debt\")\n",
        "value = current_portion_longterm_debt.find_next('td').text\n",
        "\n",
        "# Removendo as vírgulas e convertendo o valor para float\n",
        "current_portion_longterm_debt_in_millions = float(value.replace(',', '')) * 1000000\n",
        "\n",
        "# Encontrando o valor de Long-Term Debt\n",
        "longterm_debt = soup.find('td', text=\"Long-Term Debt\")\n",
        "value = longterm_debt.find_next('td').text\n",
        "\n",
        "# Removendo as vírgulas e convertendo o valor para float\n",
        "longterm_debt_in_millions = float(value.replace(',', '')) * 1000000\n",
        "\n",
        "# Somando os valores de Current Portion Long-Term Debt e Long-Term Debt\n",
        "total_debt = current_portion_longterm_debt_in_millions + longterm_debt_in_millions\n",
        "\n",
        "# Formatando o valor de volta para uma string com a notação de dólares\n",
        "if total_debt == 0:\n",
        "  total_debt_formatted = '$ 0.00'\n",
        "else:\n",
        "  total_debt_formatted = '${:,.2f}'.format(total_debt)\n",
        "\n",
        "# Imprimindo o valor formatado\n",
        "print('Capital de Terceiros (PO):', total_debt_formatted)\n"
      ]
    },
    {
      "cell_type": "markdown",
      "metadata": {
        "id": "cFBhQ9M1gNbb"
      },
      "source": [
        "Capital Investido (Ativos Totais)"
      ]
    },
    {
      "cell_type": "code",
      "execution_count": 1384,
      "metadata": {
        "colab": {
          "base_uri": "https://localhost:8080/"
        },
        "id": "gTLiEhxAgQZy",
        "outputId": "e6f47a21-daa3-451c-d162-ad32b2086949"
      },
      "outputs": [
        {
          "output_type": "stream",
          "name": "stdout",
          "text": [
            "Capital Investido (Ativos Totais): $2,019,000,000.00\n"
          ]
        }
      ],
      "source": [
        "# Encontrando o valor de Total Assets\n",
        "total_assets = soup.find('td', text=\"Total Assets\")\n",
        "value = total_assets.find_next('td').text\n",
        "\n",
        "# Removendo as vírgulas e convertendo o valor para float\n",
        "value_in_millions = float(value.replace(',', '')) * 1000000\n",
        "\n",
        "# Formatando o valor de volta para uma string com a notação de dólares\n",
        "if value_in_millions == 0:\n",
        "  value_formatted = '$ 0.00'\n",
        "else:\n",
        "  value_formatted = '${:,.2f}'.format(value_in_millions)\n",
        "\n",
        "# Imprimindo o valor formatado\n",
        "print('Capital Investido (Ativos Totais):', value_formatted)"
      ]
    },
    {
      "cell_type": "markdown",
      "metadata": {
        "id": "d3zMr0_Rdyip"
      },
      "source": [
        "Caixa e Aplicações Financeiras"
      ]
    },
    {
      "cell_type": "code",
      "execution_count": 1385,
      "metadata": {
        "colab": {
          "base_uri": "https://localhost:8080/"
        },
        "id": "KyklFekkdtPh",
        "outputId": "ce583126-84dc-483e-edae-6d175d07eb7b"
      },
      "outputs": [
        {
          "output_type": "stream",
          "name": "stdout",
          "text": [
            "Caixa e Aplicações Financeiras: $731,000,000.00\n"
          ]
        }
      ],
      "source": [
        "# Encontrando o valor de Cash & Equivalents\n",
        "cash_equivalents = soup.find('td', text=\"Cash & Equivalents\")\n",
        "value = cash_equivalents.find_next('td').text\n",
        "\n",
        "# Removendo as vírgulas e convertendo o valor para float\n",
        "value_in_millions = float(value.replace(',', '')) * 1000000\n",
        "\n",
        "# Formatando o valor de volta para uma string com a notação de dólares\n",
        "if value_in_millions == 0:\n",
        "  value_formatted = '$ 0.00'\n",
        "else:\n",
        "  value_formatted = '${:,.2f}'.format(value_in_millions)\n",
        "\n",
        "# Imprimindo o valor formatado\n",
        "print('Caixa e Aplicações Financeiras:', value_formatted)"
      ]
    },
    {
      "cell_type": "markdown",
      "metadata": {
        "id": "WVBz6__YRVl8"
      },
      "source": [
        "Ativo Circulante"
      ]
    },
    {
      "cell_type": "code",
      "execution_count": 1386,
      "metadata": {
        "colab": {
          "base_uri": "https://localhost:8080/"
        },
        "id": "fn8vbZ_lRYAD",
        "outputId": "bf5ffcdc-09e8-49f2-dad9-d2d12dc6ab84"
      },
      "outputs": [
        {
          "output_type": "stream",
          "name": "stdout",
          "text": [
            "Ativo Circulante: $1,402,000,000.00\n"
          ]
        }
      ],
      "source": [
        "# Encontrando o valor de Total Current Assets\n",
        "total_current_assets = soup.find('td', text=\"Total Current Assets\")\n",
        "value = total_current_assets.find_next('td').text\n",
        "\n",
        "# Removendo as vírgulas e convertendo o valor para float\n",
        "value_in_millions = float(value.replace(',', '')) * 1000000\n",
        "\n",
        "# Formatando o valor de volta para uma string com a notação de dólares\n",
        "if value_in_millions == 0:\n",
        "  value_formatted = '$ 0.00'\n",
        "else:\n",
        "  value_formatted = '${:,.2f}'.format(value_in_millions)\n",
        "\n",
        "# Imprimindo o valor formatado\n",
        "print('Ativo Circulante:', value_formatted)"
      ]
    },
    {
      "cell_type": "markdown",
      "metadata": {
        "id": "Kt4oBXt1edPi"
      },
      "source": [
        "Ativo Circulante Operacional"
      ]
    },
    {
      "cell_type": "code",
      "execution_count": 1387,
      "metadata": {
        "colab": {
          "base_uri": "https://localhost:8080/"
        },
        "id": "poPdyWOPeeh6",
        "outputId": "a7db95a9-d64a-42e2-9842-a5397dfbe6d6"
      },
      "outputs": [
        {
          "output_type": "stream",
          "name": "stdout",
          "text": [
            "Ativo Circulante Operacional: $671,000,000.00\n"
          ]
        }
      ],
      "source": [
        "# Encontrando o valor de Total Current Assets\n",
        "total_current_assets = soup.find('td', text=\"Total Current Assets\")\n",
        "value_assets = total_current_assets.find_next('td').text\n",
        "\n",
        "# Encontrando o valor de Cash & Equivalents\n",
        "cash_equivalents = soup.find('td', text=\"Cash & Equivalents\")\n",
        "value_cash = cash_equivalents.find_next('td').text\n",
        "\n",
        "# Removendo as vírgulas e convertendo os valores para float\n",
        "value_assets_in_millions = float(value_assets.replace(',', '')) * 1000000\n",
        "value_cash_in_millions = float(value_cash.replace(',', '')) * 1000000\n",
        "\n",
        "# Calcular o Ativo Circulante Operacional\n",
        "value_operational_1 = value_assets_in_millions - value_cash_in_millions\n",
        "\n",
        "# Formatando o valor de volta para uma string com a notação de dólares\n",
        "if value_operational_1 == 0:\n",
        "  value_formatted = '$ 0.00'\n",
        "else:\n",
        "  value_formatted = '${:,.2f}'.format(value_operational_1)\n",
        "\n",
        "# Imprimindo o valor formatado\n",
        "print('Ativo Circulante Operacional:', value_formatted)"
      ]
    },
    {
      "cell_type": "markdown",
      "metadata": {
        "id": "tV01CZOCR8yL"
      },
      "source": [
        "Passivo Circulante"
      ]
    },
    {
      "cell_type": "code",
      "execution_count": 1388,
      "metadata": {
        "colab": {
          "base_uri": "https://localhost:8080/"
        },
        "id": "s29f-NSER6Ds",
        "outputId": "362446bd-d5a6-4bb4-8fb4-96b72eefe038"
      },
      "outputs": [
        {
          "output_type": "stream",
          "name": "stdout",
          "text": [
            "Passivo Circulante: $144,000,000.00\n"
          ]
        }
      ],
      "source": [
        "# Encontrando o valor de Total Current Liabilities\n",
        "total_current_liabilities = soup.find('td', text=\"Total Current Liabilities\")\n",
        "value = total_current_liabilities.find_next('td').text\n",
        "\n",
        "# Removendo as vírgulas e convertendo o valor para float\n",
        "value_in_millions = float(value.replace(',', '')) * 1000000\n",
        "\n",
        "# Formatando o valor de volta para uma string com a notação de dólares\n",
        "if value_in_millions == 0:\n",
        "  value_formatted = '$ 0.00'\n",
        "else:\n",
        "  value_formatted = '${:,.2f}'.format(value_in_millions)\n",
        "\n",
        "# Imprimindo o valor formatado\n",
        "print('Passivo Circulante:', value_formatted)"
      ]
    },
    {
      "cell_type": "markdown",
      "metadata": {
        "id": "DzcKySdDSmXK"
      },
      "source": [
        "Passivo Circulante Operacional"
      ]
    },
    {
      "cell_type": "code",
      "execution_count": 1389,
      "metadata": {
        "colab": {
          "base_uri": "https://localhost:8080/"
        },
        "id": "H0L4AaDvSpXS",
        "outputId": "fe5f16c1-9677-4a24-9533-5e5287303982"
      },
      "outputs": [
        {
          "output_type": "stream",
          "name": "stdout",
          "text": [
            "Passivo Circulante Operacional: $144,000,000.00\n"
          ]
        }
      ],
      "source": [
        "# Encontrando o valor de Total Current Liabilities\n",
        "total_current_liabilities = soup.find('td', text=\"Total Current Liabilities\")\n",
        "value_liabilities = total_current_liabilities.find_next('td').text\n",
        "\n",
        "# Encontrando o valor de Current Portion Long-Term Debt\n",
        "current_portion_longterm_debt = soup.find('td', text=\"Current Portion Long-Term Debt\")\n",
        "value_debt = current_portion_longterm_debt.find_next('td').text\n",
        "\n",
        "# Removendo as vírgulas e convertendo os valores para float\n",
        "value_liabilities_in_millions = float(value_liabilities.replace(',', '')) * 1000000\n",
        "value_debt_in_millions = float(value_debt.replace(',', '')) * 1000000\n",
        "\n",
        "# Calcular o Passivo Circulante Operacional\n",
        "value_operational_2 = value_liabilities_in_millions - value_debt_in_millions\n",
        "\n",
        "# Formatando o valor de volta para uma string com a notação de dólares\n",
        "if value_operational_2 == 0:\n",
        "  value_formatted = '$ 0.00'\n",
        "else:\n",
        "  value_formatted = '${:,.2f}'.format(value_operational_2)\n",
        "\n",
        "# Imprimindo o valor formatado\n",
        "print('Passivo Circulante Operacional:', value_formatted)"
      ]
    },
    {
      "cell_type": "markdown",
      "metadata": {
        "id": "ndtz254klbIW"
      },
      "source": [
        "## Cash Flow Statements"
      ]
    },
    {
      "cell_type": "code",
      "execution_count": 1390,
      "metadata": {
        "colab": {
          "base_uri": "https://localhost:8080/"
        },
        "id": "x_LTjHWgjXaZ",
        "outputId": "62d8728f-6651-4de8-82ad-972c3d1bb16e"
      },
      "outputs": [
        {
          "output_type": "stream",
          "name": "stdout",
          "text": [
            "[]\n",
            "['Strong Buy', '24.28%']\n",
            "['Buy', '17.83%']\n",
            "['Hold', '9.19%']\n",
            "['Sell', '5.00%']\n",
            "['Strong Sell', '2.16%']\n",
            "['500', '10.51%']\n",
            "['A']\n",
            "['A']\n",
            "['A']\n",
            "['A']\n",
            "[]\n",
            "['Cash Flow From Operations, Investments & Financial Activities', '\\xa0', '\\xa0', '\\xa0', '\\xa0', '\\xa0']\n",
            "['Net Income (Loss)', '717.84', '541.42', '76.07', '58.13', '78.15']\n",
            "['Depreciation/Amortization & Depletion', '26.23', '23.29', '19.46', '17.71', '16.51']\n",
            "['Net Change from Assets/Liabilities', '-87.19', '-158.17', '-46.84', '24.54', '-17.36']\n",
            "['Net Cash from Discontinued Operations', '0.00', '0.00', '0.00', '0.00', '0.00']\n",
            "['Other Operating Activities', '32.00', '11.88', '8.78', '5.75', '4.29']\n",
            "['Net Cash From Operating Activities', '688.88', '418.42', '57.46', '106.12', '81.59']\n",
            "['Property & Equipment', '-148.35', '-118.16', '-85.99', '-52.46', '-26.07']\n",
            "['Acquisition/ Disposition of Subsidiaries', '0.00', '0.00', '0.00', '0.00', '0.00']\n",
            "['Investments', '0.00', '0.00', '0.00', '0.00', '0.00']\n",
            "['Other Investing Activities', '0.00', '0.00', '0.00', '0.00', '0.00']\n",
            "['Net Cash from Investing Activities', '-148.35', '-118.16', '-85.99', '-52.46', '-26.07']\n",
            "[]\n",
            "['Issuance (Repurchase) of Capital Stock', '-247.42', '-42.21', '-17.66', '0.57', '1.19']\n",
            "['Issuance (Repayment) of Debt', '0.00', '0.00', '0.00', '0.00', '0.00']\n",
            "['Increase (Decrease) Short-Term Debt', '0.00', '0.00', '0.00', '0.00', '0.00']\n",
            "['Payment of Dividends & Other Distributions', '-1.55', '-1.63', '-1.65', '-1.67', '-1.67']\n",
            "['Other Financing Activities', '0.00', '-0.55', '0.00', '0.00', '0.00']\n",
            "['Net Cash from Financing Activities', '-248.97', '-44.40', '-19.31', '-1.11', '-0.48']\n",
            "['Effect of Exchange Rate Changes', '0.00', '0.00', '0.00', '0.00', '0.00']\n",
            "['Net Change In Cash & Equivalents', '291.57', '255.87', '-47.84', '52.56', '55.04']\n",
            "['Cash at Beginning of Period', '438.99', '183.12', '230.97', '178.41', '123.36']\n",
            "['Cash at End of Period', '730.56', '438.99', '183.12', '230.97', '178.41']\n",
            "['Diluted Net EPS', '36.91', '26.22', '3.68', '2.77', '3.74']\n"
          ]
        }
      ],
      "source": [
        "import requests\n",
        "from bs4 import BeautifulSoup\n",
        "\n",
        "url = 'https://www.zacks.com/stock/quote/'+ symbol +'/cash-flow-statements'\n",
        "user_agent = {'User-agent': 'Mozilla/5.0'}\n",
        "\n",
        "# Obtendo a página\n",
        "page = requests.get(url, headers = user_agent)\n",
        "\n",
        "# Criando o objeto BeautifulSoup\n",
        "soup = BeautifulSoup(page.content, 'html.parser')\n",
        "\n",
        "# Extraindo os valores da tabela\n",
        "table_rows = soup.find_all('tr')\n",
        "for tr in table_rows:\n",
        "    td = tr.find_all('td')\n",
        "    row = [i.text for i in td]\n",
        "    print(row)"
      ]
    },
    {
      "cell_type": "markdown",
      "metadata": {
        "id": "ooxTrTU0p0kv"
      },
      "source": [
        "Despesa Financeira"
      ]
    },
    {
      "cell_type": "code",
      "execution_count": 1391,
      "metadata": {
        "colab": {
          "base_uri": "https://localhost:8080/"
        },
        "id": "kTPW4Hdopwez",
        "outputId": "aaee0f78-287a-4f75-f58f-76e4a9d0bcdb"
      },
      "outputs": [
        {
          "output_type": "stream",
          "name": "stdout",
          "text": [
            "Despesa Financeira: $ 0.00\n"
          ]
        }
      ],
      "source": [
        "# Encontrando o valor de Issuance (Repayment) of Debt\n",
        "issuance_repayment_of_debt = soup.find('td', text=\"Issuance (Repayment) of Debt\")\n",
        "value = issuance_repayment_of_debt.find_next('td').text\n",
        "\n",
        "# Removendo as vírgulas e convertendo o valor para float\n",
        "value_in_millions = float(value.replace(',', '')) * 1000000\n",
        "\n",
        "# Formatando o valor de volta para uma string com a notação de dólares\n",
        "if value_in_millions == 0:\n",
        "  value_formatted = '$ 0.00'\n",
        "else:\n",
        "  value_formatted = '${:,.2f}'.format(value_in_millions)\n",
        "\n",
        "# Imprimindo o valor formatado\n",
        "print('Despesa Financeira:', value_formatted)"
      ]
    },
    {
      "cell_type": "markdown",
      "source": [
        "Depreciação e Amortização"
      ],
      "metadata": {
        "id": "1CL6FYJ0RoaY"
      }
    },
    {
      "cell_type": "code",
      "source": [
        "# Encontrando o valor de Depreciação e Amortização\n",
        "Depreciation_Amortization_Depletion = soup.find('td', text=\"Depreciation/Amortization & Depletion\")\n",
        "value = Depreciation_Amortization_Depletion.find_next('td').text\n",
        "\n",
        "# Removendo as vírgulas e convertendo o valor para float\n",
        "value_in_millions_7 = float(value.replace(',', '')) * 1000000\n",
        "\n",
        "# Formatando o valor de volta para uma string com a notação de dólares\n",
        "if value_in_millions_7 == 0:\n",
        "  value_formatted = '$ 0.00'\n",
        "else:\n",
        "  value_formatted = '${:,.2f}'.format(value_in_millions_7)\n",
        "\n",
        "# Imprimindo o valor formatado\n",
        "print('Depreciação e Amortização:', value_formatted)"
      ],
      "metadata": {
        "colab": {
          "base_uri": "https://localhost:8080/"
        },
        "id": "d8BmkEnURmbG",
        "outputId": "b7208012-5ebb-4fff-d917-076e29b35504"
      },
      "execution_count": 1392,
      "outputs": [
        {
          "output_type": "stream",
          "name": "stdout",
          "text": [
            "Depreciação e Amortização: $26,230,000.00\n"
          ]
        }
      ]
    },
    {
      "cell_type": "markdown",
      "source": [
        "CAPEX"
      ],
      "metadata": {
        "id": "iph9WmpcJLcM"
      }
    },
    {
      "cell_type": "code",
      "source": [
        "# Encontrando o valor de CAPEX\n",
        "Property_Equipment = soup.find('td', text=\"Property & Equipment\")\n",
        "value = Property_Equipment.find_next('td').text\n",
        "\n",
        "# Removendo as vírgulas e o símbolo negativo, caso exista\n",
        "if value[0] == '-':\n",
        "  value_in_millions_8 = float(value[1:].replace(',', '')) * 1000000\n",
        "else:\n",
        "  value_in_millions_8 = float(value.replace(',', '')) * 1000000\n",
        "\n",
        "# Formatando o valor de volta para uma string com a notação de dólares\n",
        "if value_in_millions_8 == 0:\n",
        "  value_formatted = '$ 0.00'\n",
        "else:\n",
        "  value_formatted = '${:,.2f}'.format(value_in_millions_8)\n",
        "\n",
        "# Imprimindo o valor formatado\n",
        "print('CAPEX:', value_formatted)"
      ],
      "metadata": {
        "colab": {
          "base_uri": "https://localhost:8080/"
        },
        "id": "tl7X_r6yMB0B",
        "outputId": "fc27c398-e81d-4109-ee38-7792955021d9"
      },
      "execution_count": 1393,
      "outputs": [
        {
          "output_type": "stream",
          "name": "stdout",
          "text": [
            "CAPEX: $148,350,000.00\n"
          ]
        }
      ]
    },
    {
      "cell_type": "markdown",
      "source": [
        "Aquisição / Alienação de Subsidiárias"
      ],
      "metadata": {
        "id": "kE2d1k5KND10"
      }
    },
    {
      "cell_type": "code",
      "source": [
        "# Encontrando o valor de Aquisição / Alienação de Subsidiárias\n",
        "Acquisition = soup.find('td', text=\"Acquisition/ Disposition of Subsidiaries\")\n",
        "value = Acquisition.find_next('td').text\n",
        "\n",
        "# Removendo as vírgulas e o símbolo negativo, caso exista\n",
        "if value == 'NA':\n",
        "  value_in_millions_9 = 0\n",
        "elif value[0] == '-':\n",
        "  value_in_millions_9 = float(value[1:].replace(',', '')) * 1000000\n",
        "else:\n",
        "  value_in_millions_9 = float(value.replace(',', '')) * 1000000\n",
        "\n",
        "# Formatando o valor de volta para uma string com a notação de dólares\n",
        "if value_in_millions_9 == 0:\n",
        "  value_formatted = '$ 0.00'\n",
        "else:\n",
        "  value_formatted = '${:,.2f}'.format(value_in_millions_9)\n",
        "\n",
        "# Imprimindo o valor formatado\n",
        "print('Aquisição / Alienação de Subsidiárias:', value_formatted)"
      ],
      "metadata": {
        "id": "9D0AEM4vX2qd",
        "colab": {
          "base_uri": "https://localhost:8080/"
        },
        "outputId": "55bf315e-c9c6-4e70-de30-bc693a178de9"
      },
      "execution_count": 1394,
      "outputs": [
        {
          "output_type": "stream",
          "name": "stdout",
          "text": [
            "Aquisição / Alienação de Subsidiárias: $ 0.00\n"
          ]
        }
      ]
    },
    {
      "cell_type": "markdown",
      "source": [
        "Investimentos"
      ],
      "metadata": {
        "id": "W--d--MTNsE7"
      }
    },
    {
      "cell_type": "code",
      "source": [
        "# Encontrando o valor de Investimentos\n",
        "Investments = soup.find('td', text=\"Investments\")\n",
        "value = Investments.find_next('td').text\n",
        "\n",
        "# Removendo as vírgulas e o símbolo negativo, caso exista\n",
        "if value[0] == '-':\n",
        "  value_in_millions_10 = float(value[1:].replace(',', '')) * 1000000\n",
        "else:\n",
        "  value_in_millions_10 = float(value.replace(',', '')) * 1000000\n",
        "\n",
        "# Formatando o valor de volta para uma string com a notação de dólares\n",
        "if value_in_millions_10 == 0:\n",
        "  value_formatted = '$ 0.00'\n",
        "else:\n",
        "  value_formatted = '${:,.2f}'.format(value_in_millions_10)\n",
        "\n",
        "# Imprimindo o valor formatado\n",
        "print('Investimentos:', value_formatted)"
      ],
      "metadata": {
        "colab": {
          "base_uri": "https://localhost:8080/"
        },
        "id": "3hM0Sy6cN7I3",
        "outputId": "b90fd87c-0e2d-48df-c0cd-83b63fd5c869"
      },
      "execution_count": 1395,
      "outputs": [
        {
          "output_type": "stream",
          "name": "stdout",
          "text": [
            "Investimentos: $ 0.00\n"
          ]
        }
      ]
    },
    {
      "cell_type": "markdown",
      "source": [
        "Outras atividades de investimento"
      ],
      "metadata": {
        "id": "j4bMzwaQWBs-"
      }
    },
    {
      "cell_type": "code",
      "source": [
        "# Encontrando o valor de Outras atividades de investimento\n",
        "Other_Investing_Activities = soup.find('td', text=\"Other Investing Activities\")\n",
        "value = Investments.find_next('td').text\n",
        "\n",
        "# Removendo as vírgulas e o símbolo negativo, caso exista\n",
        "if value[0] == '-':\n",
        "  Other_Investing_Activities = float(value[1:].replace(',', '')) * 1000000\n",
        "else:\n",
        "  Other_Investing_Activities = float(value.replace(',', '')) * 1000000\n",
        "\n",
        "# Formatando o valor de volta para uma string com a notação de dólares\n",
        "if Other_Investing_Activities == 0:\n",
        "  Other_Investing_Activities_formatted = '$ 0.00'\n",
        "else:\n",
        "  Other_Investing_Activities_formatted = '${:,.2f}'.format(Other_Investing_Activities)\n",
        "\n",
        "# Imprimindo o valor formatado\n",
        "print('Outras atividades de investimento:', Other_Investing_Activities_formatted)"
      ],
      "metadata": {
        "colab": {
          "base_uri": "https://localhost:8080/"
        },
        "id": "P7a6dI4nWEqN",
        "outputId": "7a8d3f72-472e-4246-9a24-a09463ad7c14"
      },
      "execution_count": 1396,
      "outputs": [
        {
          "output_type": "stream",
          "name": "stdout",
          "text": [
            "Outras atividades de investimento: $ 0.00\n"
          ]
        }
      ]
    },
    {
      "cell_type": "markdown",
      "source": [
        "Fluxo de Caixa das atividades de investimentos"
      ],
      "metadata": {
        "id": "NrtSE_QyY-LX"
      }
    },
    {
      "cell_type": "code",
      "source": [
        "# Calculando FC das atividades de investimentos\n",
        "FCAI = value_in_millions_8 + value_in_millions_9 + value_in_millions_10 + Other_Investing_Activities\n",
        "\n",
        "# Formatando o valor de volta para uma string com a notação de dólares\n",
        "if FCAI == 0:\n",
        "  FCAI_formatted = '$ 0.00'\n",
        "else:\n",
        "  FCAI_formatted = '${:,.2f}'.format(FCAI)\n",
        "\n",
        "# Imprimindo o valor formatado\n",
        "print('FCAI:', FCAI_formatted)"
      ],
      "metadata": {
        "colab": {
          "base_uri": "https://localhost:8080/"
        },
        "id": "BVkCunFRZCnH",
        "outputId": "3f0d740d-5449-4635-9966-3797bef2addc"
      },
      "execution_count": 1397,
      "outputs": [
        {
          "output_type": "stream",
          "name": "stdout",
          "text": [
            "FCAI: $148,350,000.00\n"
          ]
        }
      ]
    },
    {
      "cell_type": "markdown",
      "source": [
        "## DRE"
      ],
      "metadata": {
        "id": "xOUrvFqs9Ghv"
      }
    },
    {
      "cell_type": "code",
      "source": [
        "import requests\n",
        "from bs4 import BeautifulSoup\n",
        "\n",
        "url = 'https://www.zacks.com/stock/quote/'+ symbol +'/income-statement'\n",
        "user_agent = {'User-agent': 'Mozilla/5.0'}\n",
        "\n",
        "# Obtendo a página\n",
        "page = requests.get(url, headers = user_agent)\n",
        "\n",
        "# Criando o objeto BeautifulSoup\n",
        "soup = BeautifulSoup(page.content, 'html.parser')\n",
        "\n",
        "# Extraindo os valores da tabela\n",
        "table_rows = soup.find_all('tr')\n",
        "for tr in table_rows:\n",
        "    td = tr.find_all('td')\n",
        "    row = [i.text for i in td]\n",
        "    print(row)"
      ],
      "metadata": {
        "colab": {
          "base_uri": "https://localhost:8080/"
        },
        "id": "Eb0FuXn69TMm",
        "outputId": "1c1ad089-2f86-4753-902d-eb5c29fc1481"
      },
      "execution_count": 1398,
      "outputs": [
        {
          "output_type": "stream",
          "name": "stdout",
          "text": [
            "[]\n",
            "['Strong Buy', '24.28%']\n",
            "['Buy', '17.83%']\n",
            "['Hold', '9.19%']\n",
            "['Sell', '5.00%']\n",
            "['Strong Sell', '2.16%']\n",
            "['500', '10.51%']\n",
            "['A']\n",
            "['A']\n",
            "['A']\n",
            "['A']\n",
            "[]\n",
            "['Sales', '3,018', '2,593', '1,277', '1,275', '1,289']\n",
            "['Cost Of Goods', '1,905', '1,725', '1,082', '1,109', '1,099']\n",
            "['Gross Profit', '1,112', '868', '195', '166', '190']\n",
            "['Selling & Adminstrative & Depr. & Amort Expenses', '197', '169', '97', '94', '90']\n",
            "['Income After Depreciation & Amortization', '915', '699', '98', '72', '100']\n",
            "['Non-Operating Income', '10', '0', '1', '4', '2']\n",
            "['Interest Expense', '0', '0', '0', '0', '0']\n",
            "['Pretax Income', '925', '699', '99', '76', '102']\n",
            "['Income Taxes', '207', '158', '23', '18', '24']\n",
            "['Minority Interest', '0', '0', '0', '0', '0']\n",
            "['Investment Gains/Losses', '0', '0', '0', '0', '0']\n",
            "['Other Income/Charges', '0', '0', '0', '0', '0']\n",
            "['Income From Cont. Operations', '718', '541', '76', '58', '78']\n",
            "['Extras & Discontinued Operations', '0', '0', '0', '0', '0']\n",
            "['Net Income (GAAP)', '718', '541', '76', '58', '78']\n",
            "[]\n",
            "['Income Before Depreciation & Amortization', '941', '723', '117', '89', '116']\n",
            "['Depreciation & Amortization (Cash Flow)', '26', '23', '19', '18', '17']\n",
            "['Income After Depreciation & Amortization', '915', '699', '98', '72', '100']\n",
            "[]\n",
            "['Average Shares', '19.45', '20.65', '20.65', '20.99', '20.91']\n",
            "['Diluted EPS Before Non-Recurring Items', '36.91', '26.22', '3.68', '2.77', '3.74']\n",
            "['Diluted Net EPS (GAAP)', '36.91', '26.22', '3.68', '2.77', '3.74']\n",
            "[]\n",
            "['Sales', '693.88', '762.36', '838.24', '723.07', '687.85']\n",
            "['Cost Of Goods', '445.43', '462.92', '517.46', '479.33', '452.72']\n",
            "['Gross Profit', '248.45', '299.45', '320.77', '243.75', '235.13']\n",
            "['SG&A, R&D, and Dept/Amort Expenses', '55.51', '55.29', '50.41', '36.21', '52.44']\n",
            "['Income After SG&A, R&D, and Dept/Amort Expenses', '192.94', '244.16', '270.36', '207.54', '182.69']\n",
            "['Non-Operating Income', '6.00', '3.09', '0.65', '0.12', '0.08']\n",
            "['Interest Expense', '0.00', '0.00', '0.00', '0.00', '0.00']\n",
            "['Pretax Income', '198.94', '247.24', '271.01', '207.65', '182.78']\n",
            "['Income Taxes', '44.94', '55.47', '60.48', '46.12', '41.14']\n",
            "['Minority Interest', '0.00', '0.00', '0.00', '0.00', '0.00']\n",
            "['Investment Gains/Losses', '0.00', '0.00', '0.00', '0.00', '0.00']\n",
            "['Other Income/Charges', '0.00', '0.00', '0.00', '0.00', '0.00']\n",
            "['Income From Cont. Operations', '154.00', '191.77', '210.54', '161.53', '141.64']\n",
            "['Extras & Discontinued Operations', '0.00', '0.00', '0.00', '0.00', '0.00']\n",
            "['Net Income (GAAP)', '154.00', '191.77', '210.54', '161.53', '141.64']\n",
            "[]\n",
            "['Average Shares', '18.60', '19.24', '19.67', '20.30', '20.49']\n",
            "['Diluted EPS Before Non-Recurring Items', '8.28', '9.97', '10.71', '7.96', '6.91']\n",
            "['Diluted Net EPS (GAAP)', '8.27', '9.97', '10.71', '7.96', '6.90']\n"
          ]
        }
      ]
    },
    {
      "cell_type": "markdown",
      "source": [
        "Receita"
      ],
      "metadata": {
        "id": "wo8Nym2L9N3W"
      }
    },
    {
      "cell_type": "code",
      "source": [
        "# Encontrando o valor de Sales\n",
        "Sales = soup.find('td', text=\"Sales\")\n",
        "value = Sales.find_next('td').text\n",
        "\n",
        "# Removendo as vírgulas e convertendo o valor para float\n",
        "value_in_millions = float(value.replace(',', '')) * 1000000\n",
        "\n",
        "# Formatando o valor de volta para uma string com a notação de dólares\n",
        "if value_in_millions == 0:\n",
        "  value_formatted = '$ 0.00'\n",
        "else:\n",
        "  value_formatted = '${:,.2f}'.format(value_in_millions)\n",
        "\n",
        "# Imprimindo o valor formatado\n",
        "print('Receita:', value_formatted)"
      ],
      "metadata": {
        "colab": {
          "base_uri": "https://localhost:8080/"
        },
        "id": "ThXLfdxd9SZw",
        "outputId": "0e6fd791-335c-40ab-9247-42cad6a97f30"
      },
      "execution_count": 1399,
      "outputs": [
        {
          "output_type": "stream",
          "name": "stdout",
          "text": [
            "Receita: $3,018,000,000.00\n"
          ]
        }
      ]
    },
    {
      "cell_type": "markdown",
      "source": [
        "Custos"
      ],
      "metadata": {
        "id": "0jeNS0l5Prhh"
      }
    },
    {
      "cell_type": "code",
      "source": [
        "# Encontrando o valor de Cost of Goods\n",
        "Cost_of_Goods = soup.find('td', text=\"Cost Of Goods\")\n",
        "value = Cost_of_Goods.find_next('td').text\n",
        "\n",
        "# Removendo as vírgulas e convertendo o valor para float\n",
        "value_in_millions_1 = float(value.replace(',', '')) * 1000000\n",
        "\n",
        "# Formatando o valor de volta para uma string com a notação de dólares\n",
        "if value_in_millions_1 == 0:\n",
        "  value_formatted = '$ 0.00'\n",
        "else:\n",
        "  value_formatted = '${:,.2f}'.format(value_in_millions_1)\n",
        "\n",
        "# Imprimindo o valor formatado\n",
        "print('Custos:', value_formatted)"
      ],
      "metadata": {
        "colab": {
          "base_uri": "https://localhost:8080/"
        },
        "id": "QS1A9hXpPt17",
        "outputId": "d3390948-b2e9-4e19-d732-3403be68771b"
      },
      "execution_count": 1400,
      "outputs": [
        {
          "output_type": "stream",
          "name": "stdout",
          "text": [
            "Custos: $1,905,000,000.00\n"
          ]
        }
      ]
    },
    {
      "cell_type": "markdown",
      "source": [
        "Resultado Bruto"
      ],
      "metadata": {
        "id": "8d69l5g-QLgZ"
      }
    },
    {
      "cell_type": "code",
      "source": [
        "# Encontrando o valor de Resultado Bruto\n",
        "Resultado_Bruto = value_in_millions - value_in_millions_1\n",
        "Resultado_Bruto \n",
        "\n",
        "if Resultado_Bruto == 0:\n",
        "  Resultado_Bruto_formatted = '$ 0.00'\n",
        "else:\n",
        "  Resultado_Bruto_formatted = '${:,.2f}'.format(Resultado_Bruto)\n",
        "\n",
        "# Imprimindo o valor formatado\n",
        "print('Resultado Bruto:', Resultado_Bruto_formatted)"
      ],
      "metadata": {
        "colab": {
          "base_uri": "https://localhost:8080/"
        },
        "id": "TarLT2-uQR-Z",
        "outputId": "4d5fc3ed-dd46-4ce1-d5f7-636fa840b9d0"
      },
      "execution_count": 1401,
      "outputs": [
        {
          "output_type": "stream",
          "name": "stdout",
          "text": [
            "Resultado Bruto: $1,113,000,000.00\n"
          ]
        }
      ]
    },
    {
      "cell_type": "markdown",
      "source": [
        "**EBITDA**"
      ],
      "metadata": {
        "id": "Cbn5lsLFL2SP"
      }
    },
    {
      "cell_type": "code",
      "source": [
        "# Encontrando o valor de EBITDA\n",
        "EBITDA = value_in_millions_2 + value_in_millions_7\n",
        "EBITDA \n",
        "\n",
        "if EBITDA == 0:\n",
        "  EBITDA_formatted = '$ 0.00'\n",
        "else:\n",
        "  EBITDA_formatted = '${:,.2f}'.format(EBITDA)\n",
        "\n",
        "# Imprimindo o valor formatado\n",
        "print('EBITDA:', EBITDA_formatted)"
      ],
      "metadata": {
        "colab": {
          "base_uri": "https://localhost:8080/"
        },
        "id": "4AMQP79dMIUa",
        "outputId": "fdd203d8-9129-4573-f88c-1d5e245af2a1"
      },
      "execution_count": 1402,
      "outputs": [
        {
          "output_type": "stream",
          "name": "stdout",
          "text": [
            "EBITDA: $21,751,230,000.00\n"
          ]
        }
      ]
    },
    {
      "cell_type": "markdown",
      "source": [
        "**EBIT**"
      ],
      "metadata": {
        "id": "qbtAIus_S1U-"
      }
    },
    {
      "cell_type": "code",
      "source": [
        "# Encontrando o valor de Pretax Income\n",
        "Pretax_Income = soup.find('td', text=\"Pretax Income\")\n",
        "value = Pretax_Income.find_next('td').text\n",
        "\n",
        "# Removendo as vírgulas e convertendo o valor para float\n",
        "value_in_millions_2 = float(value.replace(',', '')) * 1000000\n",
        "\n",
        "# Formatando o valor de volta para uma string com a notação de dólares\n",
        "if value_in_millions_2 == 0:\n",
        "  value_formatted = '$ 0.00'\n",
        "else:\n",
        "  value_formatted = '${:,.2f}'.format(value_in_millions_2)\n",
        "\n",
        "# Imprimindo o valor formatado\n",
        "print('EBIT:', value_formatted)"
      ],
      "metadata": {
        "colab": {
          "base_uri": "https://localhost:8080/"
        },
        "id": "oMwZx3DRS3fF",
        "outputId": "a288c284-d09e-4492-f5d0-c08c58aa7e51"
      },
      "execution_count": 1403,
      "outputs": [
        {
          "output_type": "stream",
          "name": "stdout",
          "text": [
            "EBIT: $925,000,000.00\n"
          ]
        }
      ]
    },
    {
      "cell_type": "markdown",
      "source": [
        "IR"
      ],
      "metadata": {
        "id": "R-0StA4ITY9s"
      }
    },
    {
      "cell_type": "code",
      "source": [
        "# Encontrando o valor de Income Taxes\n",
        "Income_Taxes = soup.find('td', text=\"Income Taxes\")\n",
        "value = Income_Taxes.find_next('td').text\n",
        "\n",
        "# Removendo as vírgulas e convertendo o valor para float\n",
        "value_in_millions_3 = float(value.replace(',', '')) * 1000000\n",
        "\n",
        "# Formatando o valor de volta para uma string com a notação de dólares\n",
        "if value_in_millions_3 == 0:\n",
        "  value_formatted = '$ 0.00'\n",
        "else:\n",
        "  value_formatted = '${:,.2f}'.format(value_in_millions_3)\n",
        "\n",
        "# Imprimindo o valor formatado\n",
        "print('IR:', value_formatted)"
      ],
      "metadata": {
        "colab": {
          "base_uri": "https://localhost:8080/"
        },
        "id": "uxtwcWUfTbNt",
        "outputId": "d956accd-e682-4c65-f71d-1dac39acd890"
      },
      "execution_count": 1404,
      "outputs": [
        {
          "output_type": "stream",
          "name": "stdout",
          "text": [
            "IR: $207,000,000.00\n"
          ]
        }
      ]
    },
    {
      "cell_type": "markdown",
      "source": [
        "# *NOPAT Restrito* "
      ],
      "metadata": {
        "id": "AgKUvscyT2pz"
      }
    },
    {
      "cell_type": "code",
      "source": [
        "# Encontrando o valor de NOPAT Restrito\n",
        "NOPAT_Restrito = value_in_millions_2 - value_in_millions_3\n",
        "NOPAT_Restrito \n",
        "\n",
        "if NOPAT_Restrito == 0:\n",
        "  NOPAT_Restrito_formatted = '$ 0.00'\n",
        "else:\n",
        "  NOPAT_Restrito_formatted = '${:,.2f}'.format(NOPAT_Restrito)\n",
        "\n",
        "# Imprimindo o valor formatado\n",
        "print('NOPAT Restrito:', NOPAT_Restrito_formatted)"
      ],
      "metadata": {
        "colab": {
          "base_uri": "https://localhost:8080/"
        },
        "id": "CxyJ7aOCUESb",
        "outputId": "76acdce8-075c-4bf9-db1d-291006958aa2"
      },
      "execution_count": 1405,
      "outputs": [
        {
          "output_type": "stream",
          "name": "stdout",
          "text": [
            "NOPAT Restrito: $718,000,000.00\n"
          ]
        }
      ]
    },
    {
      "cell_type": "markdown",
      "source": [
        "Depesa Financeira"
      ],
      "metadata": {
        "id": "F3HHswLIY4sc"
      }
    },
    {
      "cell_type": "code",
      "source": [
        "# Encontrando o valor de Investment Gains/Losses\n",
        "Investment_Gains_Losses = soup.find('td', text=\"Investment Gains/Losses\")\n",
        "value = Investment_Gains_Losses.find_next('td').text\n",
        "\n",
        "# Removendo as vírgulas e convertendo o valor para float\n",
        "value_in_millions_4 = float(value.replace(',', '')) * 1000000\n",
        "\n",
        "# Formatando o valor de volta para uma string com a notação de dólares\n",
        "if value_in_millions_4 == 0:\n",
        "  value_formatted = '$ 0.00'\n",
        "else:\n",
        "  value_formatted = '${:,.2f}'.format(value_in_millions_4)\n",
        "\n",
        "# Imprimindo o valor formatado\n",
        "print('Despesa Financeira:', value_formatted)"
      ],
      "metadata": {
        "colab": {
          "base_uri": "https://localhost:8080/"
        },
        "id": "WMmPUyMxY70r",
        "outputId": "eed6883a-de4d-4387-e132-bae13cc3184c"
      },
      "execution_count": 1406,
      "outputs": [
        {
          "output_type": "stream",
          "name": "stdout",
          "text": [
            "Despesa Financeira: $ 0.00\n"
          ]
        }
      ]
    },
    {
      "cell_type": "markdown",
      "source": [
        "Lucro Líquido"
      ],
      "metadata": {
        "id": "JSFJiWKCZe7d"
      }
    },
    {
      "cell_type": "code",
      "source": [
        "# Encontrando o valor de Net Income (GAAP)\n",
        "Net_Income_GAAP = soup.find('td', text=\"Net Income (GAAP)\")\n",
        "value = Net_Income_GAAP.find_next('td').text\n",
        "\n",
        "# Removendo as vírgulas e convertendo o valor para float\n",
        "value_in_millions_5 = float(value.replace(',', '')) * 1000000\n",
        "\n",
        "# Formatando o valor de volta para uma string com a notação de dólares\n",
        "if value_in_millions_5 == 0:\n",
        "  value_formatted = '$ 0.00'\n",
        "else:\n",
        "  value_formatted = '${:,.2f}'.format(value_in_millions_5)\n",
        "\n",
        "# Imprimindo o valor formatado\n",
        "print('Lucro Líquido:', value_formatted)"
      ],
      "metadata": {
        "colab": {
          "base_uri": "https://localhost:8080/"
        },
        "id": "EhCQ1epeZirF",
        "outputId": "051c1aff-3365-4ed9-fb39-1cdb59b53f61"
      },
      "execution_count": 1407,
      "outputs": [
        {
          "output_type": "stream",
          "name": "stdout",
          "text": [
            "Lucro Líquido: $718,000,000.00\n"
          ]
        }
      ]
    },
    {
      "cell_type": "markdown",
      "source": [
        "## **FCL**"
      ],
      "metadata": {
        "id": "kVDpZpUz7I3s"
      }
    },
    {
      "cell_type": "markdown",
      "source": [
        "NOPAT Restrito"
      ],
      "metadata": {
        "id": "2yRdls9e7XYp"
      }
    },
    {
      "cell_type": "code",
      "source": [
        "# Encontrando o valor de NOPAT Restrito\n",
        "NOPAT_Restrito = value_in_millions_2 - value_in_millions_3\n",
        "NOPAT_Restrito \n",
        "\n",
        "if NOPAT_Restrito == 0:\n",
        "  NOPAT_Restrito_formatted = '$ 0.00'\n",
        "else:\n",
        "  NOPAT_Restrito_formatted = '${:,.2f}'.format(NOPAT_Restrito)\n",
        "\n",
        "# Imprimindo o valor formatado\n",
        "print('NOPAT Restrito:', NOPAT_Restrito_formatted)"
      ],
      "metadata": {
        "colab": {
          "base_uri": "https://localhost:8080/"
        },
        "id": "4TsiECKb7fQZ",
        "outputId": "59411ce1-6895-4f41-ad09-4f7c694c1afe"
      },
      "execution_count": 1408,
      "outputs": [
        {
          "output_type": "stream",
          "name": "stdout",
          "text": [
            "NOPAT Restrito: $718,000,000.00\n"
          ]
        }
      ]
    },
    {
      "cell_type": "markdown",
      "source": [
        "Depreciação e Amortização"
      ],
      "metadata": {
        "id": "5D4-GZ0N7hsT"
      }
    },
    {
      "cell_type": "code",
      "source": [
        "import requests\n",
        "from bs4 import BeautifulSoup\n",
        "\n",
        "url = 'https://www.zacks.com/stock/quote/'+ symbol +'/cash-flow-statements'\n",
        "user_agent = {'User-agent': 'Mozilla/5.0'}\n",
        "\n",
        "# Obtendo a página\n",
        "page = requests.get(url, headers = user_agent)\n",
        "\n",
        "# Criando o objeto BeautifulSoup\n",
        "soup = BeautifulSoup(page.content, 'html.parser')\n",
        "\n",
        "# Extraindo os valores da tabela\n",
        "table_rows = soup.find_all('tr')\n",
        "for tr in table_rows:\n",
        "    td = tr.find_all('td')\n",
        "    row = [i.text for i in td]\n",
        "    \n",
        "# Encontrando o valor de Depreciação e Amortização\n",
        "Depreciation_Amortization_Depletion = soup.find('td', text=\"Depreciation/Amortization & Depletion\")\n",
        "value = Depreciation_Amortization_Depletion.find_next('td').text\n",
        "\n",
        "# Removendo as vírgulas e convertendo o valor para float\n",
        "value_in_millions_7 = float(value.replace(',', '')) * 1000000\n",
        "\n",
        "# Formatando o valor de volta para uma string com a notação de dólares\n",
        "if value_in_millions_7 == 0:\n",
        "  value_formatted = '$ 0.00'\n",
        "else:\n",
        "  value_formatted = '${:,.2f}'.format(value_in_millions_7)\n",
        "\n",
        "# Imprimindo o valor formatado\n",
        "print('Depreciação e Amortização:', value_formatted)"
      ],
      "metadata": {
        "colab": {
          "base_uri": "https://localhost:8080/"
        },
        "id": "SOUkNxRF7qj5",
        "outputId": "5ecd1c84-a746-43e5-d458-9c76101cc689"
      },
      "execution_count": 1409,
      "outputs": [
        {
          "output_type": "stream",
          "name": "stdout",
          "text": [
            "Depreciação e Amortização: $26,230,000.00\n"
          ]
        }
      ]
    },
    {
      "cell_type": "markdown",
      "source": [
        "FCO"
      ],
      "metadata": {
        "id": "EmtOz-1l71eg"
      }
    },
    {
      "cell_type": "code",
      "source": [
        "# Calculando FCO\n",
        "FCO = NOPAT_Restrito + value_in_millions_7\n",
        "\n",
        "# Formatando o valor de volta para uma string com a notação de dólares\n",
        "if FCO == 0:\n",
        "  FCO_formatted = '$ 0.00'\n",
        "else:\n",
        "  FCO_formatted = '${:,.2f}'.format(FCO)\n",
        "\n",
        "# Imprimindo o valor formatado\n",
        "print('FCO:', FCO_formatted)"
      ],
      "metadata": {
        "colab": {
          "base_uri": "https://localhost:8080/"
        },
        "id": "xM4UtcFQ74yb",
        "outputId": "f3dfd8e8-0051-4703-be72-a7578bed8494"
      },
      "execution_count": 1410,
      "outputs": [
        {
          "output_type": "stream",
          "name": "stdout",
          "text": [
            "FCO: $744,230,000.00\n"
          ]
        }
      ]
    },
    {
      "cell_type": "markdown",
      "source": [
        "Δ NC Giro"
      ],
      "metadata": {
        "id": "RTThCUujHUhW"
      }
    },
    {
      "cell_type": "code",
      "source": [
        "# Calculando NC Giro\n",
        "NC_Giro = value_operational_1 - value_operational_2\n",
        "\n",
        "# Formatando o valor de volta para uma string com a notação de dólares\n",
        "if NC_Giro == 0:\n",
        "  NC_Giro_formatted = '$ 0.00'\n",
        "else:\n",
        "  NC_Giro_formatted = '${:,.2f}'.format(NC_Giro)\n",
        "\n",
        "# Imprimindo o valor formatado\n",
        "print('Δ NC Giro:', NC_Giro_formatted)"
      ],
      "metadata": {
        "colab": {
          "base_uri": "https://localhost:8080/"
        },
        "id": "K3U7367iHYJ3",
        "outputId": "7d8f6971-174b-4d2c-8525-82ac958d9069"
      },
      "execution_count": 1411,
      "outputs": [
        {
          "output_type": "stream",
          "name": "stdout",
          "text": [
            "Δ NC Giro: $527,000,000.00\n"
          ]
        }
      ]
    },
    {
      "cell_type": "markdown",
      "source": [
        "CAPEX"
      ],
      "metadata": {
        "id": "KOYuDMIibW_z"
      }
    },
    {
      "cell_type": "code",
      "source": [
        "CAPEX_formatted = '${:,.2f}'.format(value_in_millions_8)\n",
        "print('CAPEX:', CAPEX_formatted)"
      ],
      "metadata": {
        "colab": {
          "base_uri": "https://localhost:8080/"
        },
        "id": "5wyM300WbHBW",
        "outputId": "913b65e2-0f10-44e5-fed3-0529306e7589"
      },
      "execution_count": 1412,
      "outputs": [
        {
          "output_type": "stream",
          "name": "stdout",
          "text": [
            "CAPEX: $148,350,000.00\n"
          ]
        }
      ]
    },
    {
      "cell_type": "markdown",
      "source": [
        "FCFF"
      ],
      "metadata": {
        "id": "COzJ0z-IXcq1"
      }
    },
    {
      "cell_type": "code",
      "source": [
        "# Calculando FCFF\n",
        "if NC_Giro > 0:\n",
        "  FCFF = FCO - NC_Giro - value_in_millions_8\n",
        "elif NC_Giro < 0:\n",
        "  FCFF = FCO + NC_Giro - value_in_millions_8\n",
        "\n",
        "# Formatando o valor de volta para uma string com a notação de dólares\n",
        "if FCFF == 0:\n",
        "  FCFF_formatted = '$ 0.00'\n",
        "else:\n",
        "  FCFF_formatted = '${:,.2f}'.format(FCFF)\n",
        "\n",
        "# Imprimindo o valor formatado\n",
        "print('FCFF:', FCFF_formatted)"
      ],
      "metadata": {
        "colab": {
          "base_uri": "https://localhost:8080/"
        },
        "id": "LRnSIkiBYBHh",
        "outputId": "3ea75193-75b8-4185-f3e2-d81b7fd8f2e7"
      },
      "execution_count": 1413,
      "outputs": [
        {
          "output_type": "stream",
          "name": "stdout",
          "text": [
            "FCFF: $68,880,000.00\n"
          ]
        }
      ]
    },
    {
      "cell_type": "markdown",
      "source": [
        "Novas Dívidas"
      ],
      "metadata": {
        "id": "mJDGo-EeOtEi"
      }
    },
    {
      "cell_type": "code",
      "source": [
        "# Calculando Novas Dívidas\n",
        "Novas_dividas = value_in_millions_9 + value_in_millions_10\n",
        "\n",
        "# Formatando o valor de volta para uma string com a notação de dólares\n",
        "if Novas_dividas == 0:\n",
        "  Novas_dividas_formatted = '$ 0.00'\n",
        "else:\n",
        "  Novas_dividas_formatted = '${:,.2f}'.format(Novas_dividas)\n",
        "\n",
        "# Imprimindo o valor formatado\n",
        "print('Novas Dívidas:', Novas_dividas_formatted)"
      ],
      "metadata": {
        "colab": {
          "base_uri": "https://localhost:8080/"
        },
        "id": "p5rjXI4AOu__",
        "outputId": "2d18be8d-aea4-481b-f343-130b5800674a"
      },
      "execution_count": 1414,
      "outputs": [
        {
          "output_type": "stream",
          "name": "stdout",
          "text": [
            "Novas Dívidas: $ 0.00\n"
          ]
        }
      ]
    },
    {
      "cell_type": "markdown",
      "source": [
        "IR"
      ],
      "metadata": {
        "id": "qfpM_xw_Pet1"
      }
    },
    {
      "cell_type": "code",
      "source": [
        "# Imprimindo o valor formatado\n",
        "IR_formatted = '${:,.2f}'.format(value_in_millions_3)\n",
        "print('IR:', IR_formatted)"
      ],
      "metadata": {
        "colab": {
          "base_uri": "https://localhost:8080/"
        },
        "id": "h4l-C5OKPgws",
        "outputId": "4da74a4c-a14a-4de7-d119-2279db4a4148"
      },
      "execution_count": 1415,
      "outputs": [
        {
          "output_type": "stream",
          "name": "stdout",
          "text": [
            "IR: $207,000,000.00\n"
          ]
        }
      ]
    },
    {
      "cell_type": "markdown",
      "source": [
        "**FCDA**"
      ],
      "metadata": {
        "id": "htoqd64hQ1xz"
      }
    },
    {
      "cell_type": "code",
      "source": [
        "# Calculando FCDA\n",
        "FCDA = FCFF + Novas_dividas + value_in_millions_3\n",
        "\n",
        "# Formatando o valor de volta para uma string com a notação de dólares\n",
        "if FCDA == 0:\n",
        "  FCDA_formatted = '$ 0.00'\n",
        "else:\n",
        "  FCDA_formatted = '${:,.2f}'.format(FCDA)\n",
        "\n",
        "# Imprimindo o valor formatado\n",
        "print('FCDA:', FCDA_formatted)"
      ],
      "metadata": {
        "colab": {
          "base_uri": "https://localhost:8080/"
        },
        "id": "S2xtWOPgQ84K",
        "outputId": "d6916a69-79b2-436b-cae2-255adb157dc8"
      },
      "execution_count": 1416,
      "outputs": [
        {
          "output_type": "stream",
          "name": "stdout",
          "text": [
            "FCDA: $275,880,000.00\n"
          ]
        }
      ]
    },
    {
      "cell_type": "markdown",
      "metadata": {
        "id": "DH-nf24b1SOE"
      },
      "source": [
        "# **CAPM - Custo do Capital Próprio**"
      ]
    },
    {
      "cell_type": "markdown",
      "metadata": {
        "id": "RGbIYpb66SIE"
      },
      "source": [
        "Custo de Capital Próprio"
      ]
    },
    {
      "cell_type": "code",
      "execution_count": 1417,
      "metadata": {
        "id": "s7HSQpcL1Wh6",
        "colab": {
          "base_uri": "https://localhost:8080/"
        },
        "outputId": "c1d8f12e-a379-4bd2-8b5d-5a78b733501a"
      },
      "outputs": [
        {
          "output_type": "stream",
          "name": "stdout",
          "text": [
            "Rj (Ke): 16,936700000000002\n"
          ]
        }
      ],
      "source": [
        "Ke = interest_rate + (beta*(rm - interest_rate))\n",
        "Ke_str = str(Ke).replace('.', ',')\n",
        "\n",
        "print(f'Rj (Ke): {Ke_str}')"
      ]
    },
    {
      "cell_type": "markdown",
      "metadata": {
        "id": "1R_c9FBG8DAg"
      },
      "source": [
        "Ki (Kd) - Custo da Dívida"
      ]
    },
    {
      "cell_type": "code",
      "execution_count": 1418,
      "metadata": {
        "id": "7yzJR2Iz0mx2",
        "colab": {
          "base_uri": "https://localhost:8080/"
        },
        "outputId": "621c9a1f-41e9-4117-c131-80e651808940"
      },
      "outputs": [
        {
          "output_type": "stream",
          "name": "stdout",
          "text": [
            "Ki (Kd) - Custo da Dívida: 9.69 %\n"
          ]
        }
      ],
      "source": [
        "# Calculando Ki (Kd) - Custo da Dívida\n",
        "if value_in_millions_4 == 0:\n",
        "  Ki = Rf + inflation\n",
        "else:\n",
        "  Ki = (value_in_millions_4 / total_debt) + 1\n",
        "\n",
        "# Formatando o valor de volta para uma string com a notação de dólares\n",
        "if Ki == 0:\n",
        "  Ki_formatted = ' 0.00 %'\n",
        "else:\n",
        "  Ki_formatted = '{:,.2f} %'.format(Ki)\n",
        "\n",
        "# Imprimindo o valor formatado\n",
        "print('Ki (Kd) - Custo da Dívida:', Ki_formatted)"
      ]
    },
    {
      "cell_type": "markdown",
      "source": [
        "Po e PL"
      ],
      "metadata": {
        "id": "aBzsBZxMTwNb"
      }
    },
    {
      "cell_type": "code",
      "source": [
        "Po = total_debt\n",
        "PL = value_in_millions_12\n",
        "Po_formatted = '${:,.2f}'.format(total_debt)\n",
        "PL_formatted = '${:,.2f}'.format(value_in_millions_12)\n",
        "print ('PL:' , PL_formatted)\n",
        "print ('Po:' , Po_formatted)"
      ],
      "metadata": {
        "colab": {
          "base_uri": "https://localhost:8080/"
        },
        "id": "Gee_hzpfT0Ts",
        "outputId": "c29cd41b-bdd2-42df-a01c-23eafdafe6d5"
      },
      "execution_count": 1419,
      "outputs": [
        {
          "output_type": "stream",
          "name": "stdout",
          "text": [
            "PL: $1,819,000,000.00\n",
            "Po: $0.00\n"
          ]
        }
      ]
    },
    {
      "cell_type": "markdown",
      "metadata": {
        "id": "rku-vAM-vjJK"
      },
      "source": [
        "PL / (Po+PL)"
      ]
    },
    {
      "cell_type": "code",
      "execution_count": 1420,
      "metadata": {
        "id": "rJbhVGskvm_I",
        "colab": {
          "base_uri": "https://localhost:8080/"
        },
        "outputId": "2d046031-509e-47ef-f4a5-75bc0b38bf6a"
      },
      "outputs": [
        {
          "output_type": "stream",
          "name": "stdout",
          "text": [
            "PL / (Po+PL): 1.00\n"
          ]
        }
      ],
      "source": [
        "# Calculando PL / (Po+PL)\n",
        "if value_in_millions_12 == 0:\n",
        "  PL_Po_PL = 0.0\n",
        "else:\n",
        "  PL_Po_PL = value_in_millions_12 / (value_in_millions_12 + total_debt)\n",
        "\n",
        "# Formatando o valor de volta para uma string com a notação de dólares\n",
        "if PL_Po_PL == 0:\n",
        "   PL_Po_PL_formatted = ' 0.0'\n",
        "else:\n",
        "  PL_Po_PL_formatted = '{:,.2f}'.format(PL_Po_PL)\n",
        "\n",
        "# Imprimindo o valor formatado\n",
        "print('PL / (Po+PL):', PL_Po_PL_formatted)"
      ]
    },
    {
      "cell_type": "markdown",
      "metadata": {
        "id": "dAz6lQsivnm5"
      },
      "source": [
        "Po / (Po+PL)"
      ]
    },
    {
      "cell_type": "code",
      "execution_count": 1421,
      "metadata": {
        "id": "ZQAP7hjBvprg",
        "colab": {
          "base_uri": "https://localhost:8080/"
        },
        "outputId": "ae45f960-320f-4b3b-80c1-815365aea622"
      },
      "outputs": [
        {
          "output_type": "stream",
          "name": "stdout",
          "text": [
            "Po / (Po+PL):  0.0\n"
          ]
        }
      ],
      "source": [
        "# Calculando Po / (Po+PL)\n",
        "if total_debt == 0:\n",
        "  Po_Po_PL = 0.0\n",
        "else:\n",
        "  Po_Po_PL = total_debt / (value_in_millions_12 + total_debt)\n",
        "\n",
        "# Formatando o valor de volta para uma string com a notação de dólares\n",
        "if Po_Po_PL == 0:\n",
        "   Po_Po_PL_formatted = ' 0.0'\n",
        "else:\n",
        "  Po_Po_PL_formatted = '{:,.2f}'.format(Po_Po_PL)\n",
        "\n",
        "# Imprimindo o valor formatado\n",
        "print('Po / (Po+PL):', Po_Po_PL_formatted)"
      ]
    },
    {
      "cell_type": "markdown",
      "metadata": {
        "id": "qeeiAaPTvrl3"
      },
      "source": [
        "**WACC**"
      ]
    },
    {
      "cell_type": "code",
      "execution_count": 1422,
      "metadata": {
        "id": "r09vWCutvw0v",
        "colab": {
          "base_uri": "https://localhost:8080/"
        },
        "outputId": "7696c589-080a-498e-db99-06f54a574ef1"
      },
      "outputs": [
        {
          "output_type": "stream",
          "name": "stdout",
          "text": [
            "WACC: 16.94%\n"
          ]
        }
      ],
      "source": [
        "# Calculando WACC\n",
        "wacc = (Ke * PL_Po_PL ) + (Ki * Po_Po_PL)\n",
        "wacc_formatted = '{:,.2f}%'.format(wacc)\n",
        "print ('WACC:' , wacc_formatted)"
      ]
    },
    {
      "cell_type": "markdown",
      "source": [
        "**Custo de Oportunidade**"
      ],
      "metadata": {
        "id": "agGo1GPIHK-t"
      }
    },
    {
      "cell_type": "code",
      "source": [
        "# Calculando Co = PL/Ke\n",
        "Co = value_in_millions_12/(Ke/100)\n",
        "Co_formatted = '${:,.2f}'.format(Co)\n",
        "print ('Co:' , Co_formatted)\n"
      ],
      "metadata": {
        "colab": {
          "base_uri": "https://localhost:8080/"
        },
        "id": "Vdh7TY1JHN2M",
        "outputId": "09ff059f-e796-46a6-dbfd-f4185f4c724f"
      },
      "execution_count": 1423,
      "outputs": [
        {
          "output_type": "stream",
          "name": "stdout",
          "text": [
            "Co: $10,739,990,671.15\n"
          ]
        }
      ]
    },
    {
      "cell_type": "markdown",
      "source": [
        "**Lucro Econômico (EVA)**"
      ],
      "metadata": {
        "id": "MiWdaQehJIw7"
      }
    },
    {
      "cell_type": "code",
      "source": [
        "# Calculando LE = LL - Co\n",
        "LE = value_in_millions_5 - Co\n",
        "LE_formatted = '${:,.2f}'.format(LE)\n",
        "print ('LE:' , LE_formatted)\n"
      ],
      "metadata": {
        "colab": {
          "base_uri": "https://localhost:8080/"
        },
        "id": "o8RSTxxJJKuV",
        "outputId": "6b688211-15bf-45c3-bc6e-a03c047c7960"
      },
      "execution_count": 1424,
      "outputs": [
        {
          "output_type": "stream",
          "name": "stdout",
          "text": [
            "LE: $-10,021,990,671.15\n"
          ]
        }
      ]
    },
    {
      "cell_type": "markdown",
      "source": [
        "# **Valor Intrínseco**"
      ],
      "metadata": {
        "id": "AAgsw7lmV-bn"
      }
    },
    {
      "cell_type": "code",
      "execution_count": 1425,
      "metadata": {
        "colab": {
          "base_uri": "https://localhost:8080/"
        },
        "id": "GlsIfPO5PG21",
        "outputId": "036f5f19-8b1c-46e1-bebb-186f73091857"
      },
      "outputs": [
        {
          "output_type": "stream",
          "name": "stdout",
          "text": [
            "Preço Atual: 192,55\n"
          ]
        }
      ],
      "source": [
        " price_str = fundamentals.loc['Price']['Values']\n",
        " price = float(price_str)\n",
        " price_str = str(price).replace('.', ',')\n",
        "\n",
        "print(f'Preço Atual: {price_str}')"
      ]
    },
    {
      "cell_type": "code",
      "execution_count": 1426,
      "metadata": {
        "colab": {
          "base_uri": "https://localhost:8080/"
        },
        "id": "rMK_D4b2OMI-",
        "outputId": "63403c4a-f47e-4e19-b483-7059fb127d3d"
      },
      "outputs": [
        {
          "output_type": "stream",
          "name": "stdout",
          "text": [
            "O valor intrínseco da ação é de $287.60\n"
          ]
        }
      ],
      "source": [
        "import math\n",
        "\n",
        "eps = float(eps)\n",
        "LPA = float(LPA)\n",
        "\n",
        "# Calcular o valor intrínseco em dólar\n",
        "valor_intrinseco = math.sqrt(eps * LPA * 22.5)\n",
        "\n",
        "print(f\"O valor intrínseco da ação é de ${valor_intrinseco:.2f}\")\n"
      ]
    },
    {
      "cell_type": "code",
      "execution_count": 1427,
      "metadata": {
        "colab": {
          "base_uri": "https://localhost:8080/"
        },
        "id": "EEcHx3PiSHxb",
        "outputId": "bf721827-0491-4a44-88d4-b709f3947397"
      },
      "outputs": [
        {
          "output_type": "stream",
          "name": "stdout",
          "text": [
            "Valor intrínseco: $287.60\n",
            "Preço atual: $192.55\n",
            "Diferença: $95.05\n",
            "Diferença percentual: 33.05% deságio\n",
            "Recomendação: Compra\n"
          ]
        }
      ],
      "source": [
        "# Calcular a diferença entre o valor intrínseco e o preço atual\n",
        "diferenca = valor_intrinseco - price\n",
        "\n",
        "# Calcular a diferença percentual\n",
        "dif_percentual = diferenca / valor_intrinseco * 100\n",
        "\n",
        "# Verificar se está com ágio ou deságio\n",
        "if price > valor_intrinseco:\n",
        "    agio_desagio = 'ágio'\n",
        "else:\n",
        "    agio_desagio = 'deságio'\n",
        "\n",
        "# Exibir os resultados\n",
        "print(f\"Valor intrínseco: ${valor_intrinseco:.2f}\")\n",
        "print(f\"Preço atual: ${price:.2f}\")\n",
        "print(f\"Diferença: ${diferenca:.2f}\")\n",
        "print(f\"Diferença percentual: {dif_percentual:.2f}% {agio_desagio}\")\n",
        "\n",
        "if agio_desagio == 'ágio':\n",
        "    recomendacao = 'Recomendação: Venda'\n",
        "else:\n",
        "    recomendacao = 'Recomendação: Compra'\n",
        "\n",
        "print(recomendacao)"
      ]
    },
    {
      "cell_type": "markdown",
      "source": [
        "# **Valuation**"
      ],
      "metadata": {
        "id": "fe3PW3lgWYOu"
      }
    },
    {
      "cell_type": "markdown",
      "source": [
        "***Nº de Ações***"
      ],
      "metadata": {
        "id": "Y10q2HCWWd74"
      }
    },
    {
      "cell_type": "code",
      "source": [
        "# Localizando o número de ações\n",
        "shs_outstand_str = fundamentals.loc['Shs Outstand']['Values']\n",
        "shs_outstand_str = shs_outstand_str.strip()\n",
        "\n",
        "if shs_outstand_str[-1] == 'B':\n",
        "    shs_outstand = float(shs_outstand_str[:-1]) * 1000000000\n",
        "elif shs_outstand_str[-1] == 'M':\n",
        "    shs_outstand = float(shs_outstand_str[:-1]) * 1000000\n",
        "else:\n",
        "    shs_outstand = float(shs_outstand_str)\n",
        "\n",
        "shs_outstand_formatted = '{:,d}'.format(int(shs_outstand))\n",
        "\n",
        "print(f'Nº de Ações: {shs_outstand_formatted}')"
      ],
      "metadata": {
        "colab": {
          "base_uri": "https://localhost:8080/"
        },
        "id": "K5bapQoyJm0f",
        "outputId": "e8010ce0-04fb-4536-c6b3-fb9104717366"
      },
      "execution_count": 1429,
      "outputs": [
        {
          "output_type": "stream",
          "name": "stdout",
          "text": [
            "Nº de Ações: 18,260,000\n"
          ]
        }
      ]
    }
  ],
  "metadata": {
    "colab": {
      "provenance": [],
      "authorship_tag": "ABX9TyPAu85EWYyYiHSHwXdc9ZnW",
      "include_colab_link": true
    },
    "kernelspec": {
      "display_name": "Python 3",
      "name": "python3"
    },
    "language_info": {
      "name": "python"
    }
  },
  "nbformat": 4,
  "nbformat_minor": 0
}
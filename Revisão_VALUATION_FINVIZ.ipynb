{
  "cells": [
    {
      "cell_type": "markdown",
      "metadata": {
        "id": "view-in-github",
        "colab_type": "text"
      },
      "source": [
        "<a href=\"https://colab.research.google.com/github/fred-ykv/Value-Investing-In-Python/blob/master/Revis%C3%A3o_VALUATION_FINVIZ.ipynb\" target=\"_parent\"><img src=\"https://colab.research.google.com/assets/colab-badge.svg\" alt=\"Open In Colab\"/></a>"
      ]
    },
    {
      "cell_type": "code",
      "execution_count": 2,
      "metadata": {
        "id": "wY-LWbMOurgX"
      },
      "outputs": [],
      "source": [
        "import pandas as pd\n",
        "import numpy as np\n",
        "from bs4 import BeautifulSoup as soup\n",
        "import matplotlib.pyplot as plt\n",
        "import pandas_datareader.data as web\n",
        "import seaborn as sns\n",
        "from urllib.request import Request, urlopen\n",
        "\n",
        "pd.set_option('display.max_colwidth', 25)"
      ]
    },
    {
      "cell_type": "code",
      "source": [
        "!pip install yfinance --upgrade --no-cache-dir"
      ],
      "metadata": {
        "colab": {
          "base_uri": "https://localhost:8080/"
        },
        "id": "WMlOZBE55tGr",
        "outputId": "21a45fe5-f8a7-4282-e7a6-4d0e2332116e"
      },
      "execution_count": 3,
      "outputs": [
        {
          "output_type": "stream",
          "name": "stdout",
          "text": [
            "Looking in indexes: https://pypi.org/simple, https://us-python.pkg.dev/colab-wheels/public/simple/\n",
            "Collecting yfinance\n",
            "  Downloading yfinance-0.2.12-py2.py3-none-any.whl (59 kB)\n",
            "\u001b[2K     \u001b[90m━━━━━━━━━━━━━━━━━━━━━━━━━━━━━━━━━━━━━━━━\u001b[0m \u001b[32m59.2/59.2 KB\u001b[0m \u001b[31m3.8 MB/s\u001b[0m eta \u001b[36m0:00:00\u001b[0m\n",
            "\u001b[?25hRequirement already satisfied: requests>=2.26 in /usr/local/lib/python3.9/dist-packages (from yfinance) (2.27.1)\n",
            "Requirement already satisfied: lxml>=4.9.1 in /usr/local/lib/python3.9/dist-packages (from yfinance) (4.9.2)\n",
            "Requirement already satisfied: html5lib>=1.1 in /usr/local/lib/python3.9/dist-packages (from yfinance) (1.1)\n",
            "Collecting appdirs>=1.4.4\n",
            "  Downloading appdirs-1.4.4-py2.py3-none-any.whl (9.6 kB)\n",
            "Collecting frozendict>=2.3.4\n",
            "  Downloading frozendict-2.3.5-cp39-cp39-manylinux_2_17_x86_64.manylinux2014_x86_64.whl (112 kB)\n",
            "\u001b[2K     \u001b[90m━━━━━━━━━━━━━━━━━━━━━━━━━━━━━━━━━━━━━━\u001b[0m \u001b[32m112.8/112.8 KB\u001b[0m \u001b[31m11.3 MB/s\u001b[0m eta \u001b[36m0:00:00\u001b[0m\n",
            "\u001b[?25hRequirement already satisfied: pytz>=2022.5 in /usr/local/lib/python3.9/dist-packages (from yfinance) (2022.7.1)\n",
            "Requirement already satisfied: beautifulsoup4>=4.11.1 in /usr/local/lib/python3.9/dist-packages (from yfinance) (4.11.2)\n",
            "Requirement already satisfied: multitasking>=0.0.7 in /usr/local/lib/python3.9/dist-packages (from yfinance) (0.0.11)\n",
            "Collecting cryptography>=3.3.2\n",
            "  Downloading cryptography-39.0.2-cp36-abi3-manylinux_2_28_x86_64.whl (4.2 MB)\n",
            "\u001b[2K     \u001b[90m━━━━━━━━━━━━━━━━━━━━━━━━━━━━━━━━━━━━━━━━\u001b[0m \u001b[32m4.2/4.2 MB\u001b[0m \u001b[31m57.2 MB/s\u001b[0m eta \u001b[36m0:00:00\u001b[0m\n",
            "\u001b[?25hRequirement already satisfied: pandas>=1.3.0 in /usr/local/lib/python3.9/dist-packages (from yfinance) (1.4.4)\n",
            "Requirement already satisfied: numpy>=1.16.5 in /usr/local/lib/python3.9/dist-packages (from yfinance) (1.22.4)\n",
            "Requirement already satisfied: soupsieve>1.2 in /usr/local/lib/python3.9/dist-packages (from beautifulsoup4>=4.11.1->yfinance) (2.4)\n",
            "Requirement already satisfied: cffi>=1.12 in /usr/local/lib/python3.9/dist-packages (from cryptography>=3.3.2->yfinance) (1.15.1)\n",
            "Requirement already satisfied: webencodings in /usr/local/lib/python3.9/dist-packages (from html5lib>=1.1->yfinance) (0.5.1)\n",
            "Requirement already satisfied: six>=1.9 in /usr/local/lib/python3.9/dist-packages (from html5lib>=1.1->yfinance) (1.15.0)\n",
            "Requirement already satisfied: python-dateutil>=2.8.1 in /usr/local/lib/python3.9/dist-packages (from pandas>=1.3.0->yfinance) (2.8.2)\n",
            "Requirement already satisfied: idna<4,>=2.5 in /usr/local/lib/python3.9/dist-packages (from requests>=2.26->yfinance) (3.4)\n",
            "Requirement already satisfied: certifi>=2017.4.17 in /usr/local/lib/python3.9/dist-packages (from requests>=2.26->yfinance) (2022.12.7)\n",
            "Requirement already satisfied: urllib3<1.27,>=1.21.1 in /usr/local/lib/python3.9/dist-packages (from requests>=2.26->yfinance) (1.26.15)\n",
            "Requirement already satisfied: charset-normalizer~=2.0.0 in /usr/local/lib/python3.9/dist-packages (from requests>=2.26->yfinance) (2.0.12)\n",
            "Requirement already satisfied: pycparser in /usr/local/lib/python3.9/dist-packages (from cffi>=1.12->cryptography>=3.3.2->yfinance) (2.21)\n",
            "Installing collected packages: appdirs, frozendict, cryptography, yfinance\n",
            "Successfully installed appdirs-1.4.4 cryptography-39.0.2 frozendict-2.3.5 yfinance-0.2.12\n"
          ]
        }
      ]
    },
    {
      "cell_type": "code",
      "source": [
        "!pip install yfinance\n",
        "\n",
        "import yfinance as yf\n",
        "yf.pdr_override()\n",
        "import plotly.graph_objs as go\n",
        "import pandas as pd"
      ],
      "metadata": {
        "colab": {
          "base_uri": "https://localhost:8080/"
        },
        "id": "_k6G1wrYpQ02",
        "outputId": "16c7b56c-3175-41e5-cbf7-8942b88bccf0"
      },
      "execution_count": 4,
      "outputs": [
        {
          "output_type": "stream",
          "name": "stdout",
          "text": [
            "Looking in indexes: https://pypi.org/simple, https://us-python.pkg.dev/colab-wheels/public/simple/\n",
            "Requirement already satisfied: yfinance in /usr/local/lib/python3.9/dist-packages (0.2.12)\n",
            "Requirement already satisfied: html5lib>=1.1 in /usr/local/lib/python3.9/dist-packages (from yfinance) (1.1)\n",
            "Requirement already satisfied: lxml>=4.9.1 in /usr/local/lib/python3.9/dist-packages (from yfinance) (4.9.2)\n",
            "Requirement already satisfied: frozendict>=2.3.4 in /usr/local/lib/python3.9/dist-packages (from yfinance) (2.3.5)\n",
            "Requirement already satisfied: beautifulsoup4>=4.11.1 in /usr/local/lib/python3.9/dist-packages (from yfinance) (4.11.2)\n",
            "Requirement already satisfied: pytz>=2022.5 in /usr/local/lib/python3.9/dist-packages (from yfinance) (2022.7.1)\n",
            "Requirement already satisfied: numpy>=1.16.5 in /usr/local/lib/python3.9/dist-packages (from yfinance) (1.22.4)\n",
            "Requirement already satisfied: pandas>=1.3.0 in /usr/local/lib/python3.9/dist-packages (from yfinance) (1.4.4)\n",
            "Requirement already satisfied: requests>=2.26 in /usr/local/lib/python3.9/dist-packages (from yfinance) (2.27.1)\n",
            "Requirement already satisfied: appdirs>=1.4.4 in /usr/local/lib/python3.9/dist-packages (from yfinance) (1.4.4)\n",
            "Requirement already satisfied: multitasking>=0.0.7 in /usr/local/lib/python3.9/dist-packages (from yfinance) (0.0.11)\n",
            "Requirement already satisfied: cryptography>=3.3.2 in /usr/local/lib/python3.9/dist-packages (from yfinance) (39.0.2)\n",
            "Requirement already satisfied: soupsieve>1.2 in /usr/local/lib/python3.9/dist-packages (from beautifulsoup4>=4.11.1->yfinance) (2.4)\n",
            "Requirement already satisfied: cffi>=1.12 in /usr/local/lib/python3.9/dist-packages (from cryptography>=3.3.2->yfinance) (1.15.1)\n",
            "Requirement already satisfied: webencodings in /usr/local/lib/python3.9/dist-packages (from html5lib>=1.1->yfinance) (0.5.1)\n",
            "Requirement already satisfied: six>=1.9 in /usr/local/lib/python3.9/dist-packages (from html5lib>=1.1->yfinance) (1.15.0)\n",
            "Requirement already satisfied: python-dateutil>=2.8.1 in /usr/local/lib/python3.9/dist-packages (from pandas>=1.3.0->yfinance) (2.8.2)\n",
            "Requirement already satisfied: idna<4,>=2.5 in /usr/local/lib/python3.9/dist-packages (from requests>=2.26->yfinance) (3.4)\n",
            "Requirement already satisfied: urllib3<1.27,>=1.21.1 in /usr/local/lib/python3.9/dist-packages (from requests>=2.26->yfinance) (1.26.15)\n",
            "Requirement already satisfied: certifi>=2017.4.17 in /usr/local/lib/python3.9/dist-packages (from requests>=2.26->yfinance) (2022.12.7)\n",
            "Requirement already satisfied: charset-normalizer~=2.0.0 in /usr/local/lib/python3.9/dist-packages (from requests>=2.26->yfinance) (2.0.12)\n",
            "Requirement already satisfied: pycparser in /usr/local/lib/python3.9/dist-packages (from cffi>=1.12->cryptography>=3.3.2->yfinance) (2.21)\n"
          ]
        }
      ]
    },
    {
      "cell_type": "code",
      "source": [
        "!pip install git+https://github.com/quantopian/pyfolio\n",
        "import pyfolio as pf\n",
        "import warnings\n",
        "warnings.filterwarnings('ignore')"
      ],
      "metadata": {
        "colab": {
          "base_uri": "https://localhost:8080/"
        },
        "id": "TnmJDALL6OGN",
        "outputId": "19420f4d-d929-4da7-c8d7-e27faf8788b0"
      },
      "execution_count": 5,
      "outputs": [
        {
          "output_type": "stream",
          "name": "stdout",
          "text": [
            "Looking in indexes: https://pypi.org/simple, https://us-python.pkg.dev/colab-wheels/public/simple/\n",
            "Collecting git+https://github.com/quantopian/pyfolio\n",
            "  Cloning https://github.com/quantopian/pyfolio to /tmp/pip-req-build-0s09ln2q\n",
            "  Running command git clone --filter=blob:none --quiet https://github.com/quantopian/pyfolio /tmp/pip-req-build-0s09ln2q\n",
            "  Resolved https://github.com/quantopian/pyfolio to commit 4b901f6d73aa02ceb6d04b7d83502e5c6f2e81aa\n",
            "  Preparing metadata (setup.py) ... \u001b[?25l\u001b[?25hdone\n",
            "Requirement already satisfied: ipython>=3.2.3 in /usr/local/lib/python3.9/dist-packages (from pyfolio==0.9.2+75.g4b901f6) (7.9.0)\n",
            "Requirement already satisfied: matplotlib>=1.4.0 in /usr/local/lib/python3.9/dist-packages (from pyfolio==0.9.2+75.g4b901f6) (3.7.1)\n",
            "Requirement already satisfied: numpy>=1.11.1 in /usr/local/lib/python3.9/dist-packages (from pyfolio==0.9.2+75.g4b901f6) (1.22.4)\n",
            "Requirement already satisfied: pandas>=0.18.1 in /usr/local/lib/python3.9/dist-packages (from pyfolio==0.9.2+75.g4b901f6) (1.4.4)\n",
            "Requirement already satisfied: pytz>=2014.10 in /usr/local/lib/python3.9/dist-packages (from pyfolio==0.9.2+75.g4b901f6) (2022.7.1)\n",
            "Requirement already satisfied: scipy>=0.14.0 in /usr/local/lib/python3.9/dist-packages (from pyfolio==0.9.2+75.g4b901f6) (1.10.1)\n",
            "Requirement already satisfied: scikit-learn>=0.16.1 in /usr/local/lib/python3.9/dist-packages (from pyfolio==0.9.2+75.g4b901f6) (1.2.2)\n",
            "Requirement already satisfied: seaborn>=0.7.1 in /usr/local/lib/python3.9/dist-packages (from pyfolio==0.9.2+75.g4b901f6) (0.12.2)\n",
            "Collecting empyrical>=0.5.0\n",
            "  Downloading empyrical-0.5.5.tar.gz (52 kB)\n",
            "\u001b[2K     \u001b[90m━━━━━━━━━━━━━━━━━━━━━━━━━━━━━━━━━━━━━━━━\u001b[0m \u001b[32m52.8/52.8 KB\u001b[0m \u001b[31m1.4 MB/s\u001b[0m eta \u001b[36m0:00:00\u001b[0m\n",
            "\u001b[?25h  Preparing metadata (setup.py) ... \u001b[?25l\u001b[?25hdone\n",
            "Requirement already satisfied: pandas-datareader>=0.2 in /usr/local/lib/python3.9/dist-packages (from empyrical>=0.5.0->pyfolio==0.9.2+75.g4b901f6) (0.10.0)\n",
            "Requirement already satisfied: pickleshare in /usr/local/lib/python3.9/dist-packages (from ipython>=3.2.3->pyfolio==0.9.2+75.g4b901f6) (0.7.5)\n",
            "Requirement already satisfied: backcall in /usr/local/lib/python3.9/dist-packages (from ipython>=3.2.3->pyfolio==0.9.2+75.g4b901f6) (0.2.0)\n",
            "Requirement already satisfied: pygments in /usr/local/lib/python3.9/dist-packages (from ipython>=3.2.3->pyfolio==0.9.2+75.g4b901f6) (2.6.1)\n",
            "Requirement already satisfied: pexpect in /usr/local/lib/python3.9/dist-packages (from ipython>=3.2.3->pyfolio==0.9.2+75.g4b901f6) (4.8.0)\n",
            "Collecting jedi>=0.10\n",
            "  Downloading jedi-0.18.2-py2.py3-none-any.whl (1.6 MB)\n",
            "\u001b[2K     \u001b[90m━━━━━━━━━━━━━━━━━━━━━━━━━━━━━━━━━━━━━━━━\u001b[0m \u001b[32m1.6/1.6 MB\u001b[0m \u001b[31m20.3 MB/s\u001b[0m eta \u001b[36m0:00:00\u001b[0m\n",
            "\u001b[?25hRequirement already satisfied: setuptools>=18.5 in /usr/local/lib/python3.9/dist-packages (from ipython>=3.2.3->pyfolio==0.9.2+75.g4b901f6) (63.4.3)\n",
            "Requirement already satisfied: traitlets>=4.2 in /usr/local/lib/python3.9/dist-packages (from ipython>=3.2.3->pyfolio==0.9.2+75.g4b901f6) (5.7.1)\n",
            "Requirement already satisfied: prompt-toolkit<2.1.0,>=2.0.0 in /usr/local/lib/python3.9/dist-packages (from ipython>=3.2.3->pyfolio==0.9.2+75.g4b901f6) (2.0.10)\n",
            "Requirement already satisfied: decorator in /usr/local/lib/python3.9/dist-packages (from ipython>=3.2.3->pyfolio==0.9.2+75.g4b901f6) (4.4.2)\n",
            "Requirement already satisfied: pillow>=6.2.0 in /usr/local/lib/python3.9/dist-packages (from matplotlib>=1.4.0->pyfolio==0.9.2+75.g4b901f6) (8.4.0)\n",
            "Requirement already satisfied: contourpy>=1.0.1 in /usr/local/lib/python3.9/dist-packages (from matplotlib>=1.4.0->pyfolio==0.9.2+75.g4b901f6) (1.0.7)\n",
            "Requirement already satisfied: kiwisolver>=1.0.1 in /usr/local/lib/python3.9/dist-packages (from matplotlib>=1.4.0->pyfolio==0.9.2+75.g4b901f6) (1.4.4)\n",
            "Requirement already satisfied: pyparsing>=2.3.1 in /usr/local/lib/python3.9/dist-packages (from matplotlib>=1.4.0->pyfolio==0.9.2+75.g4b901f6) (3.0.9)\n",
            "Requirement already satisfied: python-dateutil>=2.7 in /usr/local/lib/python3.9/dist-packages (from matplotlib>=1.4.0->pyfolio==0.9.2+75.g4b901f6) (2.8.2)\n",
            "Requirement already satisfied: cycler>=0.10 in /usr/local/lib/python3.9/dist-packages (from matplotlib>=1.4.0->pyfolio==0.9.2+75.g4b901f6) (0.11.0)\n",
            "Requirement already satisfied: packaging>=20.0 in /usr/local/lib/python3.9/dist-packages (from matplotlib>=1.4.0->pyfolio==0.9.2+75.g4b901f6) (23.0)\n",
            "Requirement already satisfied: importlib-resources>=3.2.0 in /usr/local/lib/python3.9/dist-packages (from matplotlib>=1.4.0->pyfolio==0.9.2+75.g4b901f6) (5.12.0)\n",
            "Requirement already satisfied: fonttools>=4.22.0 in /usr/local/lib/python3.9/dist-packages (from matplotlib>=1.4.0->pyfolio==0.9.2+75.g4b901f6) (4.39.0)\n",
            "Requirement already satisfied: joblib>=1.1.1 in /usr/local/lib/python3.9/dist-packages (from scikit-learn>=0.16.1->pyfolio==0.9.2+75.g4b901f6) (1.1.1)\n",
            "Requirement already satisfied: threadpoolctl>=2.0.0 in /usr/local/lib/python3.9/dist-packages (from scikit-learn>=0.16.1->pyfolio==0.9.2+75.g4b901f6) (3.1.0)\n",
            "Requirement already satisfied: zipp>=3.1.0 in /usr/local/lib/python3.9/dist-packages (from importlib-resources>=3.2.0->matplotlib>=1.4.0->pyfolio==0.9.2+75.g4b901f6) (3.15.0)\n",
            "Requirement already satisfied: parso<0.9.0,>=0.8.0 in /usr/local/lib/python3.9/dist-packages (from jedi>=0.10->ipython>=3.2.3->pyfolio==0.9.2+75.g4b901f6) (0.8.3)\n",
            "Requirement already satisfied: requests>=2.19.0 in /usr/local/lib/python3.9/dist-packages (from pandas-datareader>=0.2->empyrical>=0.5.0->pyfolio==0.9.2+75.g4b901f6) (2.27.1)\n",
            "Requirement already satisfied: lxml in /usr/local/lib/python3.9/dist-packages (from pandas-datareader>=0.2->empyrical>=0.5.0->pyfolio==0.9.2+75.g4b901f6) (4.9.2)\n",
            "Requirement already satisfied: wcwidth in /usr/local/lib/python3.9/dist-packages (from prompt-toolkit<2.1.0,>=2.0.0->ipython>=3.2.3->pyfolio==0.9.2+75.g4b901f6) (0.2.6)\n",
            "Requirement already satisfied: six>=1.9.0 in /usr/local/lib/python3.9/dist-packages (from prompt-toolkit<2.1.0,>=2.0.0->ipython>=3.2.3->pyfolio==0.9.2+75.g4b901f6) (1.15.0)\n",
            "Requirement already satisfied: ptyprocess>=0.5 in /usr/local/lib/python3.9/dist-packages (from pexpect->ipython>=3.2.3->pyfolio==0.9.2+75.g4b901f6) (0.7.0)\n",
            "Requirement already satisfied: urllib3<1.27,>=1.21.1 in /usr/local/lib/python3.9/dist-packages (from requests>=2.19.0->pandas-datareader>=0.2->empyrical>=0.5.0->pyfolio==0.9.2+75.g4b901f6) (1.26.15)\n",
            "Requirement already satisfied: certifi>=2017.4.17 in /usr/local/lib/python3.9/dist-packages (from requests>=2.19.0->pandas-datareader>=0.2->empyrical>=0.5.0->pyfolio==0.9.2+75.g4b901f6) (2022.12.7)\n",
            "Requirement already satisfied: idna<4,>=2.5 in /usr/local/lib/python3.9/dist-packages (from requests>=2.19.0->pandas-datareader>=0.2->empyrical>=0.5.0->pyfolio==0.9.2+75.g4b901f6) (3.4)\n",
            "Requirement already satisfied: charset-normalizer~=2.0.0 in /usr/local/lib/python3.9/dist-packages (from requests>=2.19.0->pandas-datareader>=0.2->empyrical>=0.5.0->pyfolio==0.9.2+75.g4b901f6) (2.0.12)\n",
            "Building wheels for collected packages: pyfolio, empyrical\n",
            "  Building wheel for pyfolio (setup.py) ... \u001b[?25l\u001b[?25hdone\n",
            "  Created wheel for pyfolio: filename=pyfolio-0.9.2+75.g4b901f6-py3-none-any.whl size=75775 sha256=c16064cfee8e89c3b3f494769950636a689620c259f0a0ffff952dc61f6d6249\n",
            "  Stored in directory: /tmp/pip-ephem-wheel-cache-8tvf7ti8/wheels/b2/62/f1/189c72d02d1cd5e075104a3c282f3e442e03386366b50b5855\n",
            "  Building wheel for empyrical (setup.py) ... \u001b[?25l\u001b[?25hdone\n",
            "  Created wheel for empyrical: filename=empyrical-0.5.5-py3-none-any.whl size=39779 sha256=52709d422f7789ffb35e8641b97575811118de79445e2726db555b89b20ba5dd\n",
            "  Stored in directory: /root/.cache/pip/wheels/67/23/d1/a4ef8ff88dc9af7b0eeb1b6fd0d90c6057eaad5a2df25f4e3f\n",
            "Successfully built pyfolio empyrical\n",
            "Installing collected packages: jedi, empyrical, pyfolio\n",
            "Successfully installed empyrical-0.5.5 jedi-0.18.2 pyfolio-0.9.2+75.g4b901f6\n"
          ]
        },
        {
          "output_type": "stream",
          "name": "stderr",
          "text": [
            "/usr/local/lib/python3.9/dist-packages/pyfolio/pos.py:26: UserWarning: Module \"zipline.assets\" not found; multipliers will not be applied to position notionals.\n",
            "  warnings.warn(\n"
          ]
        }
      ]
    },
    {
      "cell_type": "markdown",
      "metadata": {
        "id": "mwlgWGhPu6Pb"
      },
      "source": [
        "# Entrada do Ticker"
      ]
    },
    {
      "cell_type": "code",
      "execution_count": 6,
      "metadata": {
        "colab": {
          "base_uri": "https://localhost:8080/"
        },
        "id": "4w94Nzhiu2vs",
        "outputId": "799e85d4-fc81-41c3-815a-2e5a6bb52d57"
      },
      "outputs": [
        {
          "output_type": "stream",
          "name": "stdout",
          "text": [
            "Enter a ticker: wire\n",
            "Getting data for wire...\n",
            "\n"
          ]
        }
      ],
      "source": [
        "symbol = input('Enter a ticker: ')\n",
        "print ('Getting data for ' + symbol + '...\\n')"
      ]
    },
    {
      "cell_type": "markdown",
      "metadata": {
        "id": "rIwGESCovDR5"
      },
      "source": [
        "# Set up scraper"
      ]
    },
    {
      "cell_type": "code",
      "execution_count": 7,
      "metadata": {
        "id": "mBHiAQp_u_Mq"
      },
      "outputs": [],
      "source": [
        "url = (\"http://finviz.com/quote.ashx?t=\" + symbol.lower())\n",
        "req = Request(url, headers={'User-Agent': 'Mozilla/5.0'})\n",
        "webpage = urlopen(req).read()\n",
        "html = soup(webpage, \"html.parser\")"
      ]
    },
    {
      "cell_type": "code",
      "execution_count": 8,
      "metadata": {
        "id": "AFOQbAnpvGoC"
      },
      "outputs": [],
      "source": [
        "def get_fundamentals():\n",
        "    try:\n",
        "        # Find fundamentals table\n",
        "        fundamentals = pd.read_html(str(html), attrs = {'class': 'snapshot-table2'})[0]\n",
        "        \n",
        "        # Clean up fundamentals dataframe\n",
        "        fundamentals.columns = ['0', '1', '2', '3', '4', '5', '6', '7', '8', '9', '10', '11']\n",
        "        colOne = []\n",
        "        colLength = len(fundamentals)\n",
        "        for k in np.arange(0, colLength, 2):\n",
        "            colOne.append(fundamentals[f'{k}'])\n",
        "        attrs = pd.concat(colOne, ignore_index=True)\n",
        "    \n",
        "        colTwo = []\n",
        "        colLength = len(fundamentals)\n",
        "        for k in np.arange(1, colLength, 2):\n",
        "            colTwo.append(fundamentals[f'{k}'])\n",
        "        vals = pd.concat(colTwo, ignore_index=True)\n",
        "        \n",
        "        fundamentals = pd.DataFrame()\n",
        "        fundamentals['Attributes'] = attrs\n",
        "        fundamentals['Values'] = vals\n",
        "        fundamentals = fundamentals.set_index('Attributes')\n",
        "        return fundamentals\n",
        "\n",
        "    except Exception as e:\n",
        "        return e"
      ]
    },
    {
      "cell_type": "code",
      "execution_count": 9,
      "metadata": {
        "id": "hsCMRBm9vQIJ"
      },
      "outputs": [],
      "source": [
        "def get_news():\n",
        "    try:\n",
        "        # Find news table\n",
        "        news = pd.read_html(str(html), attrs = {'class': 'fullview-news-outer'})[0]\n",
        "        links = []\n",
        "        for a in html.find_all('a', class_=\"tab-link-news\"):\n",
        "            links.append(a['href'])\n",
        "        \n",
        "        # Clean up news dataframe\n",
        "        news.columns = ['Date', 'News Headline']\n",
        "        news['Article Link'] = links\n",
        "        news = news.set_index('Date')\n",
        "        return news\n",
        "\n",
        "    except Exception as e:\n",
        "        return e"
      ]
    },
    {
      "cell_type": "code",
      "execution_count": 10,
      "metadata": {
        "id": "2rphDYZIv8CI"
      },
      "outputs": [],
      "source": [
        "def get_insider():\n",
        "    try:\n",
        "        # Find insider table\n",
        "        insider = pd.read_html(str(html), attrs = {'class': 'body-table'})[0]\n",
        "        \n",
        "        # Clean up insider dataframe\n",
        "        insider = insider.iloc[1:]\n",
        "        insider.columns = ['Trader', 'Relationship', 'Date', 'Transaction', 'Cost', '# Shares', 'Value ($)', '# Shares Total', 'SEC Form 4']\n",
        "        insider = insider[['Date', 'Trader', 'Relationship', 'Transaction', 'Cost', '# Shares', 'Value ($)', '# Shares Total', 'SEC Form 4']]\n",
        "        insider = insider.set_index('Date')\n",
        "        return insider\n",
        "\n",
        "    except Exception as e:\n",
        "        return e"
      ]
    },
    {
      "cell_type": "code",
      "execution_count": 11,
      "metadata": {
        "colab": {
          "base_uri": "https://localhost:8080/"
        },
        "id": "OsnhT191eMsD",
        "outputId": "90ae541e-d31a-480a-fcb7-4cd29ad2edab"
      },
      "outputs": [
        {
          "output_type": "stream",
          "name": "stdout",
          "text": [
            "\n",
            "Fundamental Ratios: \n",
            "                 Values\n",
            "Attributes             \n",
            "Index                 -\n",
            "Market Cap        3.31B\n",
            "Income          717.80M\n",
            "Sales             3.02B\n",
            "Book/sh           99.60\n",
            "...                 ...\n",
            "ATR                7.25\n",
            "Volatility  5.18% 4.25%\n",
            "Prev Close       175.65\n",
            "Price            173.76\n",
            "Change           -1.08%\n",
            "\n",
            "[72 rows x 1 columns]\n",
            "\n",
            "Recent News: \n",
            "                              News Headline              Article Link\n",
            "Date                                                                 \n",
            "Mar-16-23 05:05PM  Encore Wire Unveils E...  https://finance.yahoo...\n",
            "Mar-13-23 10:25AM  Zacks.com featured hi...  https://finance.yahoo...\n",
            "10:12AM            Zacks.com featured hi...  https://finance.yahoo...\n",
            "Mar-10-23 07:19AM  4 Stocks With Solid N...  https://finance.yahoo...\n",
            "06:38AM            4 Stocks With Increas...  https://finance.yahoo...\n",
            "...                                     ...                       ...\n",
            "Jul-15-22 12:00PM  Encore Wire Announces...  https://finance.yahoo...\n",
            "Jul-06-22 06:40AM  7 Stocks to Buy Now B...  https://finance.yahoo...\n",
            "Jul-05-22 09:30AM  Is Encore Wire (WIRE)...  https://finance.yahoo...\n",
            "07:07AM            Zacks.com featured hi...  https://finance.yahoo...\n",
            "Jun-30-22 06:28AM  Zacks.com featured hi...  https://finance.yahoo...\n",
            "\n",
            "[100 rows x 2 columns]\n",
            "\n",
            "Recent Insider Trades: \n",
            "                 Trader Relationship      Transaction    Cost # Shares  \\\n",
            "Date                                                                     \n",
            "Feb 21  Ford Matthew D.   Controller             Sale  200.00     2725   \n",
            "Feb 17  Ford Matthew D.   Controller             Sale  200.00      275   \n",
            "Jul 21  Ford Matthew D.   Controller  Option Exercise   51.63     1000   \n",
            "\n",
            "       Value ($) # Shares Total       SEC Form 4  \n",
            "Date                                              \n",
            "Feb 21    545000          34138  Feb 21 12:30 PM  \n",
            "Feb 17     55000          36863  Feb 21 12:30 PM  \n",
            "Jul 21     51630          31500  Jul 22 12:51 PM  \n"
          ]
        }
      ],
      "source": [
        "print ('\\nFundamental Ratios: ')\n",
        "print(get_fundamentals())\n",
        "\n",
        "print ('\\nRecent News: ')\n",
        "print(get_news())\n",
        "\n",
        "print ('\\nRecent Insider Trades: ')\n",
        "print(get_insider())"
      ]
    },
    {
      "cell_type": "code",
      "execution_count": 12,
      "metadata": {
        "colab": {
          "base_uri": "https://localhost:8080/"
        },
        "id": "czgejvytfcKR",
        "outputId": "1c5a7d13-20ab-481a-bea8-8ecefc823cf5"
      },
      "outputs": [
        {
          "output_type": "stream",
          "name": "stdout",
          "text": [
            "Fundamental Ratios: \n",
            "Values    3.31B\n",
            "Name: Market Cap, dtype: object\n"
          ]
        }
      ],
      "source": [
        "print ('Fundamental Ratios: ')\n",
        "fundamentals = get_fundamentals()\n",
        "if 'Market Cap' in fundamentals.index:\n",
        "    print(fundamentals.loc['Market Cap'])\n",
        "else:\n",
        "    print('Market Cap is not listed.')"
      ]
    },
    {
      "cell_type": "markdown",
      "source": [
        "Valor de Mercado"
      ],
      "metadata": {
        "id": "W2_IcrpY3RNX"
      }
    },
    {
      "cell_type": "code",
      "execution_count": 13,
      "metadata": {
        "colab": {
          "base_uri": "https://localhost:8080/"
        },
        "id": "P2iO87-LBg6f",
        "outputId": "d8a353a4-c81e-4fe9-b6aa-8aa2bdf0b45b"
      },
      "outputs": [
        {
          "output_type": "stream",
          "name": "stdout",
          "text": [
            "Market Cap: $3,310,000,000.00\n"
          ]
        }
      ],
      "source": [
        "market_cap_str = fundamentals.loc['Market Cap']['Values']\n",
        "market_cap_str = market_cap_str.strip()\n",
        "\n",
        "if market_cap_str[-1] == 'B':\n",
        "    market_cap = float(market_cap_str[:-1]) * 1000000000\n",
        "elif market_cap_str[-1] == 'M':\n",
        "    market_cap = float(market_cap_str[:-1]) * 1000000\n",
        "else:\n",
        "    market_cap = float(market_cap_str)\n",
        "\n",
        "print(f'Market Cap: ${market_cap:,.2f}')"
      ]
    },
    {
      "cell_type": "markdown",
      "source": [
        "ROI"
      ],
      "metadata": {
        "id": "0SFTt4UK3Tsv"
      }
    },
    {
      "cell_type": "code",
      "execution_count": 14,
      "metadata": {
        "colab": {
          "base_uri": "https://localhost:8080/"
        },
        "id": "4pCYwoB3DCtJ",
        "outputId": "e91e430b-33d5-466f-eaa5-473710bec2c0"
      },
      "outputs": [
        {
          "output_type": "stream",
          "name": "stdout",
          "text": [
            "ROI: 0,389\n"
          ]
        }
      ],
      "source": [
        "roi_str = fundamentals.loc['ROI']['Values']\n",
        "roi_str = roi_str.replace('%', '')\n",
        "roi = float(roi_str)\n",
        "roi_perc = roi/100\n",
        "roi_perc_str = str(roi_perc).replace('.', ',')\n",
        "\n",
        "print(f'ROI: {roi_perc_str}')"
      ]
    },
    {
      "cell_type": "markdown",
      "source": [
        "ROE"
      ],
      "metadata": {
        "id": "5zPHXQvU3VLZ"
      }
    },
    {
      "cell_type": "code",
      "execution_count": 15,
      "metadata": {
        "colab": {
          "base_uri": "https://localhost:8080/"
        },
        "id": "12kaNIYxWh6P",
        "outputId": "7f010ea8-dd40-435a-d385-1adb1d016e40"
      },
      "outputs": [
        {
          "output_type": "stream",
          "name": "stdout",
          "text": [
            "ROE: 0,44\n"
          ]
        }
      ],
      "source": [
        "roe_str = fundamentals.loc['ROE']['Values']\n",
        "roe_str = roe_str.replace('%', '')\n",
        "roe = float(roe_str)\n",
        "roe_perc = roe/100\n",
        "roe_perc_str = str(roe_perc).replace('.', ',')\n",
        "\n",
        "print(f'ROE: {roe_perc_str}')"
      ]
    },
    {
      "cell_type": "markdown",
      "source": [
        "Payout"
      ],
      "metadata": {
        "id": "6RvFIvhg3Wx3"
      }
    },
    {
      "cell_type": "code",
      "execution_count": 16,
      "metadata": {
        "colab": {
          "base_uri": "https://localhost:8080/"
        },
        "id": "U96m0qdGX_RG",
        "outputId": "25cfecf9-82be-43fd-ef5e-9b0a6ee69a02"
      },
      "outputs": [
        {
          "output_type": "stream",
          "name": "stdout",
          "text": [
            "Payout: 0,002\n"
          ]
        }
      ],
      "source": [
        "payout_str = fundamentals.loc['Payout']['Values']\n",
        "payout_str = payout_str.replace('%', '')\n",
        "payout = float(payout_str)\n",
        "payout_perc = payout/100\n",
        "payout_perc_str = str(payout_perc).replace('.', ',')\n",
        "\n",
        "print(f'Payout: {payout_perc_str}')"
      ]
    },
    {
      "cell_type": "markdown",
      "source": [
        "Dividend Yield"
      ],
      "metadata": {
        "id": "jetdarmB3aSO"
      }
    },
    {
      "cell_type": "code",
      "execution_count": 17,
      "metadata": {
        "colab": {
          "base_uri": "https://localhost:8080/"
        },
        "id": "AHUhWXBCY1jQ",
        "outputId": "cd367977-9b04-4138-ba0e-a075afb233a8"
      },
      "outputs": [
        {
          "output_type": "stream",
          "name": "stdout",
          "text": [
            "Dividend %: 0,0005\n"
          ]
        }
      ],
      "source": [
        "div_str = fundamentals.loc['Dividend %']['Values']\n",
        "div_str = div_str.replace('%', '')\n",
        "div = float(div_str)\n",
        "div_perc = div/100\n",
        "div_perc_str = str(div_perc).replace('.', ',')\n",
        "\n",
        "print(f'Dividend %: {div_perc_str}')"
      ]
    },
    {
      "cell_type": "markdown",
      "source": [
        "Crescimento dos Lucros nos próximos 5 anos"
      ],
      "metadata": {
        "id": "jSDI069a3eh-"
      }
    },
    {
      "cell_type": "code",
      "execution_count": 18,
      "metadata": {
        "colab": {
          "base_uri": "https://localhost:8080/"
        },
        "id": "-YRa_nTckNnm",
        "outputId": "ee0a7447-3840-48c8-e10d-2c0e19a9731f"
      },
      "outputs": [
        {
          "output_type": "stream",
          "name": "stdout",
          "text": [
            "EPS next 5: 0,1\n"
          ]
        }
      ],
      "source": [
        "epsn5_str = fundamentals.loc['EPS next 5Y']['Values']\n",
        "epsn5_str = epsn5_str.replace('%', '')\n",
        "epsn5 = float(epsn5_str)\n",
        "epsn5_perc = epsn5/100\n",
        "epsn5_perc_str = str(epsn5_perc).replace('.', ',')\n",
        "\n",
        "print(f'EPS next 5: {epsn5_perc_str}')"
      ]
    },
    {
      "cell_type": "markdown",
      "source": [
        "LPA - Lucro por Ação"
      ],
      "metadata": {
        "id": "ax4cPYC-3jru"
      }
    },
    {
      "cell_type": "code",
      "execution_count": 19,
      "metadata": {
        "colab": {
          "base_uri": "https://localhost:8080/"
        },
        "id": "cAa6nJ-WZTCX",
        "outputId": "25f72c9d-f814-49e5-fd15-a0a5ed9f8b86"
      },
      "outputs": [
        {
          "output_type": "stream",
          "name": "stdout",
          "text": [
            "EPS: 36,91\n"
          ]
        }
      ],
      "source": [
        "eps_str = fundamentals.loc['EPS (ttm)']['Values']\n",
        "eps = float(eps_str)\n",
        "eps_str = str(eps).replace('.', ',')\n",
        "\n",
        "print(f'EPS: {eps_str}')"
      ]
    },
    {
      "cell_type": "markdown",
      "source": [
        "VPA - Valor Patrimonial por Ação"
      ],
      "metadata": {
        "id": "NsoVAjYM4in2"
      }
    },
    {
      "cell_type": "code",
      "execution_count": 20,
      "metadata": {
        "colab": {
          "base_uri": "https://localhost:8080/"
        },
        "id": "qW2zDMpUNKHc",
        "outputId": "b1528066-dbb8-4bbf-ecb9-aff992a74c79"
      },
      "outputs": [
        {
          "output_type": "stream",
          "name": "stdout",
          "text": [
            "VPA: 99.6\n"
          ]
        }
      ],
      "source": [
        "VPA_str = fundamentals.loc['Book/sh']['Values']\n",
        "VPA = float(VPA_str)\n",
        "VPA_str = str(VPA).replace('.', ',')\n",
        "\n",
        "print(f'VPA: {VPA}')\n"
      ]
    },
    {
      "cell_type": "markdown",
      "source": [
        "Beta"
      ],
      "metadata": {
        "id": "awNccvk14nLr"
      }
    },
    {
      "cell_type": "code",
      "execution_count": 21,
      "metadata": {
        "colab": {
          "base_uri": "https://localhost:8080/"
        },
        "id": "W3VZTjvNXE2N",
        "outputId": "12f0d9f5-da07-4dbe-fbbe-75fd19be19f6"
      },
      "outputs": [
        {
          "output_type": "stream",
          "name": "stdout",
          "text": [
            "Beta: 1,35\n"
          ]
        }
      ],
      "source": [
        "beta_str = fundamentals.loc['Beta']['Values']\n",
        "beta = float(beta_str)\n",
        "beta_str = str(beta).replace('.', ',')\n",
        "\n",
        "print(f'Beta: {beta_str}')"
      ]
    },
    {
      "cell_type": "markdown",
      "source": [
        "Taxa de Reinvestimento do Lucro Líquido (bLL)"
      ],
      "metadata": {
        "id": "cfgnlK-84qOr"
      }
    },
    {
      "cell_type": "code",
      "execution_count": 22,
      "metadata": {
        "colab": {
          "base_uri": "https://localhost:8080/"
        },
        "id": "S8yaXG1nXx0r",
        "outputId": "f9554d18-cdbb-449c-d575-3ec4638e3423"
      },
      "outputs": [
        {
          "output_type": "stream",
          "name": "stdout",
          "text": [
            "Taxa de Reinvestimento bLL: 0.998\n"
          ]
        }
      ],
      "source": [
        "tax_reinvest_ll = 1 - payout_perc\n",
        "tax_reinvest_ll_str = str(tax_reinvest_ll).replace('.', ',')\n",
        "\n",
        "print(f'Taxa de Reinvestimento bLL: {tax_reinvest_ll:.3f}')"
      ]
    },
    {
      "cell_type": "markdown",
      "source": [
        "gLL - Crescimento do Lucro Líquido"
      ],
      "metadata": {
        "id": "MvEe9E3G5Q3U"
      }
    },
    {
      "cell_type": "code",
      "execution_count": 23,
      "metadata": {
        "colab": {
          "base_uri": "https://localhost:8080/"
        },
        "id": "ZFKNRQlJBwhs",
        "outputId": "0019a6ff-98d2-487f-bdd6-d1b0e433faa1"
      },
      "outputs": [
        {
          "output_type": "stream",
          "name": "stdout",
          "text": [
            "gLL: 0.439\n"
          ]
        }
      ],
      "source": [
        "roe_str = fundamentals.loc['ROE']['Values']\n",
        "roe_str = roe_str.replace('%', '')\n",
        "roe = float(roe_str)\n",
        "roe_perc = roe/100\n",
        "\n",
        "gll = tax_reinvest_ll*roe_perc\n",
        "gll_str = str(gll).replace('.', ',')\n",
        "\n",
        "print(f'gLL: {gll:.3f}')"
      ]
    },
    {
      "cell_type": "markdown",
      "source": [
        "Ganho de Alavancagem"
      ],
      "metadata": {
        "id": "dHN1BiHT5M5D"
      }
    },
    {
      "cell_type": "code",
      "execution_count": 24,
      "metadata": {
        "colab": {
          "base_uri": "https://localhost:8080/"
        },
        "id": "FQ_5vMvUDoMp",
        "outputId": "aa0f9b57-ff66-4849-af71-6afebef3ed4c"
      },
      "outputs": [
        {
          "output_type": "stream",
          "name": "stdout",
          "text": [
            "Ganho de Alavancagem: 0.051\n"
          ]
        }
      ],
      "source": [
        "gain_leverage = roe_perc - roi_perc\n",
        "gain_leverage_str = str(gain_leverage).replace('.', ',')\n",
        "\n",
        "print(f'Ganho de Alavancagem: {gain_leverage:.3f}')"
      ]
    },
    {
      "cell_type": "markdown",
      "source": [
        "Grau de Alavancagem Financeira"
      ],
      "metadata": {
        "id": "_Pq7Z-cZ5YKc"
      }
    },
    {
      "cell_type": "code",
      "execution_count": 25,
      "metadata": {
        "colab": {
          "base_uri": "https://localhost:8080/"
        },
        "id": "p6eTgz40PCVP",
        "outputId": "a60a102d-fe58-4169-cb70-1ff291523748"
      },
      "outputs": [
        {
          "output_type": "stream",
          "name": "stdout",
          "text": [
            "Grau de Alavancagem Financeira: 1.131\n"
          ]
        }
      ],
      "source": [
        "gaf = roe_perc/roi_perc\n",
        "gaf_str = str(gaf).replace('.', ',')\n",
        "\n",
        "print(f'Grau de Alavancagem Financeira: {gaf:.3f}')"
      ]
    },
    {
      "cell_type": "markdown",
      "source": [
        "Taxa de Juros Livre de Risco (Rf) - Treasury Bond 10Y"
      ],
      "metadata": {
        "id": "oO8Y816w5bD-"
      }
    },
    {
      "cell_type": "code",
      "execution_count": 26,
      "metadata": {
        "colab": {
          "base_uri": "https://localhost:8080/"
        },
        "id": "NTYB9ICbJpfP",
        "outputId": "8bf87cb4-38ed-4d86-b420-8fdb38ce3ded"
      },
      "outputs": [
        {
          "output_type": "stream",
          "name": "stdout",
          "text": [
            "Taxa de Juros Livre de Risco (Rf): 3,56%\n"
          ]
        }
      ],
      "source": [
        "# Requisição Url\n",
        "url = \"https://ycharts.com/indicators/10_year_treasury_rate\"\n",
        "req = Request(url, headers={'User-Agent': 'Mozilla/5.0'})\n",
        "webpage = urlopen(req).read()\n",
        "\n",
        "# Parser\n",
        "html = soup(webpage, \"html.parser\")\n",
        "\n",
        "# Buscando Valor\n",
        "xpath = '/html/body/main/div/div[2]/div/div/div[2]'\n",
        "value_elem = html.find('div', {'class':'key-stat-title'}).get_text()\n",
        "\n",
        "if value_elem is not None:\n",
        "    value = value_elem.strip()\n",
        "    value = value.split(' ')[0] # Removendo Strings\n",
        "    value = value.replace('%', '')\n",
        "\n",
        "    # Removendo Caracteres\n",
        "    Rf = float(value.replace(',', '.'))\n",
        "    Rf_str = str(Rf).replace('.', ',') + '%' # Corrigindo Erro\n",
        "\n",
        "    print(f'Taxa de Juros Livre de Risco (Rf): {Rf_str}')"
      ]
    },
    {
      "cell_type": "code",
      "execution_count": 27,
      "metadata": {
        "colab": {
          "base_uri": "https://localhost:8080/"
        },
        "id": "WrolaS5zoty5",
        "outputId": "7c6ba632-9307-4dd3-d588-3c34db99681f"
      },
      "outputs": [
        {
          "output_type": "stream",
          "name": "stdout",
          "text": [
            "Taxa de Juros Livre de Risco (Rf): 3,75%\n"
          ]
        }
      ],
      "source": [
        "url = 'https://ycharts.com/indicators/us_10year_government_bond_interest_rate'\n",
        "req = Request(url, headers={'User-Agent': 'Mozilla/5.0'})\n",
        "webpage = urlopen(req).read()\n",
        "html = soup(webpage, \"html.parser\")\n",
        "\n",
        "xpath = '/html/body/main/div/div[2]/div/div/div[2]'\n",
        "value_elem = html.find('div', {'class':'key-stat-title'}).get_text()\n",
        "\n",
        "if value_elem is not None:\n",
        "    value = value_elem.strip()\n",
        "    value = value.split(' ')[0] # Removendo Strings\n",
        "    value = value.replace('%', '')\n",
        "\n",
        "    # Removendo Caracteres\n",
        "    interest_rate = float(value.replace(',', '.'))\n",
        "    interest_rate_str = str(interest_rate).replace('.', ',') + '%' # Corrigindo Erro\n",
        "\n",
        "    print(f'Taxa de Juros Livre de Risco (Rf): {interest_rate_str}')"
      ]
    },
    {
      "cell_type": "markdown",
      "source": [
        "Taxa de Inflação Americana"
      ],
      "metadata": {
        "id": "jOjW-IDg5tm7"
      }
    },
    {
      "cell_type": "code",
      "execution_count": 28,
      "metadata": {
        "colab": {
          "base_uri": "https://localhost:8080/"
        },
        "id": "vaOXnTfIhKZL",
        "outputId": "ef6a5cd2-e03c-4cba-f53d-17e10f514806"
      },
      "outputs": [
        {
          "output_type": "stream",
          "name": "stdout",
          "text": [
            "Taxa de Inflação Americana:: 6,04%\n"
          ]
        }
      ],
      "source": [
        "# Requisição Url\n",
        "url = \"https://ycharts.com/indicators/us_consumer_price_index_yoy\"\n",
        "req = Request(url, headers={'User-Agent': 'Mozilla/5.0'})\n",
        "webpage = urlopen(req).read()\n",
        "\n",
        "# Parser\n",
        "html = soup(webpage, \"html.parser\")\n",
        "\n",
        "# Buscando Valor\n",
        "xpath = '/html/body/main/div/div[2]/div/div/div[2]'\n",
        "value_elem = html.find('div', {'class':'key-stat-title'}).get_text()\n",
        "\n",
        "if value_elem is not None:\n",
        "    value = value_elem.strip()\n",
        "    value = value.split(' ')[0] # Removendo Strings\n",
        "    value = value.replace('%', '')\n",
        "\n",
        "    # Removendo Caracteres\n",
        "    inflation = float(value.replace(',', '.'))\n",
        "    inflation_str = str(inflation).replace('.', ',') + '%' # Corrigindo Erro\n",
        "\n",
        "    print(f'Taxa de Inflação Americana:: {inflation_str}')"
      ]
    },
    {
      "cell_type": "markdown",
      "source": [
        "S&P 500 - Retorno 10Y"
      ],
      "metadata": {
        "id": "R33FKsZxpKKl"
      }
    },
    {
      "cell_type": "code",
      "source": [
        "def calcula_retorno(dataframe):\n",
        "  df = dataframe.copy()  \n",
        "  df['daily_return']        = df.iloc[:,0].pct_change()\n",
        "  df['acum_return']         = (1 +  df['daily_return']).cumprod()\n",
        "  df['acum_return'].iloc[0] = 1\n",
        "  df.rename(columns={df.columns[0]: \"price\" }, inplace=True)\n",
        "  return df\n",
        "\n",
        "sp500 = yf.download('^GSPC')[['Adj Close']]\n",
        "sp500\n",
        "\n",
        "sp500 = calcula_retorno(sp500)\n",
        "sp500\n",
        "\n",
        "Ten_year_return = sp500['acum_return'].iloc[-1] * 100 - 100\n",
        "print(f'Retorno acumulado 10Y: {Ten_year_return:.1f}%')\n",
        "\n",
        "mean_yearly_return = sp500['daily_return'].mean() * 100 * 365\n",
        "print(f'Retorno médio anual 10Y: {mean_yearly_return:.2f}%')\n"
      ],
      "metadata": {
        "colab": {
          "base_uri": "https://localhost:8080/"
        },
        "id": "tq_7cbAAotBI",
        "outputId": "c508ed1f-143d-46e3-e2f8-582d5bf8afd8"
      },
      "execution_count": 29,
      "outputs": [
        {
          "output_type": "stream",
          "name": "stdout",
          "text": [
            "\r[*********************100%***********************]  1 of 1 completed\n",
            "Retorno acumulado 10Y: 22097.4%\n",
            "Retorno médio anual 10Y: 10.88%\n"
          ]
        }
      ]
    },
    {
      "cell_type": "code",
      "source": [
        "url = 'https://br.investing.com/economic-calendar/brazilian-cpi-410'\n",
        "req = Request(url, headers={'User-Agent': 'Mozilla/5.0'})\n",
        "webpage = urlopen(req).read()\n",
        "html = soup(webpage, \"html.parser\")\n",
        "\n",
        "xpath = '/html/body/div[5]/section/div[6]/span[2]/div'\n",
        "value_elem = html.find('div', {'class':'inner_cell'})\n",
        "\n",
        "if value_elem is not None:\n",
        "    value = value_elem.get_text().strip()\n",
        "\n",
        "    # Removendo Caracteres\n",
        "    interest_rate = float(value.replace(',', '.'))\n",
        "    interest_rate_str = str(interest_rate).replace('.', ',') + '%' # Corrigindo Erro\n",
        "\n",
        "    print(f'Taxa de Juros Livre de Risco (Rf): {interest_rate_str}')"
      ],
      "metadata": {
        "id": "zYcr6rBsiCHB"
      },
      "execution_count": 30,
      "outputs": []
    },
    {
      "cell_type": "markdown",
      "source": [
        "Taxa de Inflação Brasil"
      ],
      "metadata": {
        "id": "gF4ENcSl62eH"
      }
    },
    {
      "cell_type": "code",
      "execution_count": 31,
      "metadata": {
        "id": "MSITK02r7exL"
      },
      "outputs": [],
      "source": [
        "from bs4 import BeautifulSoup as soup\n",
        "from urllib.request import Request, urlopen\n",
        "\n",
        "url = 'https://www.bcb.gov.br/'\n",
        "req = Request(url, headers={'User-Agent': 'Mozilla/5.0'})\n",
        "webpage = urlopen(req).read()\n",
        "html = soup(webpage, \"html.parser\")\n",
        "\n",
        "value_elem = html.select_one('div.valor')\n",
        "\n",
        "if value_elem is not None:\n",
        "    value = value_elem.get_text().strip()\n",
        "    value = value.split(' ')[0] # Removendo Strings\n",
        "    value = value.replace('%', '')\n",
        "\n",
        "    # Removendo Caracteres\n",
        "    interest_rate = float(value.replace(',', '.'))\n",
        "    interest_rate_str = str(interest_rate).replace('.', ',') + '%' # Corrigindo Erro\n",
        "\n",
        "    print(f'Taxa de Juros Livre de Risco (Rf): {interest_rate_str}')"
      ]
    },
    {
      "cell_type": "markdown",
      "metadata": {
        "id": "GhZCj1Utv5KY"
      },
      "source": [
        "# **Balanço Patrimonial**"
      ]
    },
    {
      "cell_type": "code",
      "execution_count": 32,
      "metadata": {
        "id": "E8e37lRbv6gi"
      },
      "outputs": [],
      "source": [
        "import requests\n",
        "from bs4 import BeautifulSoup\n",
        "\n",
        "url = 'https://www.zacks.com/stock/quote/'+ symbol +'/balance-sheet'\n",
        "user_agent = {'User-agent': 'Mozilla/5.0'}\n",
        "\n",
        "# Obtendo a página\n",
        "page = requests.get(url, headers = user_agent)\n",
        "\n",
        "# Criando o objeto BeautifulSoup\n",
        "soup = BeautifulSoup(page.content, 'html.parser')\n",
        "\n",
        "# Extraindo os valores da tabela\n",
        "table_rows = soup.find_all('tr')\n",
        "for tr in table_rows:\n",
        "    td = tr.find_all('td')\n",
        "    row = [i.text for i in td]\n",
        "    print(row)"
      ]
    },
    {
      "cell_type": "markdown",
      "metadata": {
        "id": "B5IFDW9iwLTE"
      },
      "source": [
        "Patrimônio Líquido (PL)"
      ]
    },
    {
      "cell_type": "code",
      "execution_count": 33,
      "metadata": {
        "colab": {
          "base_uri": "https://localhost:8080/",
          "height": 246
        },
        "id": "KBiuA5-ncn7J",
        "outputId": "b5dcbd13-71b2-4e9e-ff87-12bda6717762"
      },
      "outputs": [
        {
          "output_type": "error",
          "ename": "AttributeError",
          "evalue": "ignored",
          "traceback": [
            "\u001b[0;31m---------------------------------------------------------------------------\u001b[0m",
            "\u001b[0;31mAttributeError\u001b[0m                            Traceback (most recent call last)",
            "\u001b[0;32m<ipython-input-33-1f48c8e1bac7>\u001b[0m in \u001b[0;36m<module>\u001b[0;34m\u001b[0m\n\u001b[1;32m      1\u001b[0m \u001b[0;31m# Encontrando o valor de Total Shareholder's Equity\u001b[0m\u001b[0;34m\u001b[0m\u001b[0;34m\u001b[0m\u001b[0m\n\u001b[1;32m      2\u001b[0m \u001b[0mtotal_shareholders_equity\u001b[0m \u001b[0;34m=\u001b[0m \u001b[0msoup\u001b[0m\u001b[0;34m.\u001b[0m\u001b[0mfind\u001b[0m\u001b[0;34m(\u001b[0m\u001b[0;34m'td'\u001b[0m\u001b[0;34m,\u001b[0m \u001b[0mtext\u001b[0m\u001b[0;34m=\u001b[0m\u001b[0;34m\"Total Shareholder's Equity\"\u001b[0m\u001b[0;34m)\u001b[0m\u001b[0;34m\u001b[0m\u001b[0;34m\u001b[0m\u001b[0m\n\u001b[0;32m----> 3\u001b[0;31m \u001b[0mvalue\u001b[0m \u001b[0;34m=\u001b[0m \u001b[0mtotal_shareholders_equity\u001b[0m\u001b[0;34m.\u001b[0m\u001b[0mfind_next\u001b[0m\u001b[0;34m(\u001b[0m\u001b[0;34m'td'\u001b[0m\u001b[0;34m)\u001b[0m\u001b[0;34m.\u001b[0m\u001b[0mtext\u001b[0m\u001b[0;34m\u001b[0m\u001b[0;34m\u001b[0m\u001b[0m\n\u001b[0m\u001b[1;32m      4\u001b[0m \u001b[0;34m\u001b[0m\u001b[0m\n\u001b[1;32m      5\u001b[0m \u001b[0;31m# Removendo as vírgulas e convertendo o valor para float\u001b[0m\u001b[0;34m\u001b[0m\u001b[0;34m\u001b[0m\u001b[0m\n",
            "\u001b[0;31mAttributeError\u001b[0m: 'NoneType' object has no attribute 'find_next'"
          ]
        }
      ],
      "source": [
        "# Encontrando o valor de Total Shareholder's Equity\n",
        "total_shareholders_equity = soup.find('td', text=\"Total Shareholder's Equity\")\n",
        "value = total_shareholders_equity.find_next('td').text\n",
        "\n",
        "# Removendo as vírgulas e convertendo o valor para float\n",
        "value_in_millions_12 = float(value.replace(',', '')) * 1000000\n",
        "\n",
        "# Formatando o valor de volta para uma string com a notação de dólares\n",
        "value_formatted = '${:,.2f}'.format(value_in_millions_12)\n",
        "\n",
        "# Imprimindo o valor formatado\n",
        "print(value_formatted)\n"
      ]
    },
    {
      "cell_type": "markdown",
      "metadata": {
        "id": "o2uxJMJXntEl"
      },
      "source": [
        "Empréstimos e Financiamentos"
      ]
    },
    {
      "cell_type": "code",
      "execution_count": null,
      "metadata": {
        "id": "qiFyvuqOnue7"
      },
      "outputs": [],
      "source": [
        "# Encontrando o valor de Current Portion Long-Term Debt\n",
        "current_portion_longterm_debt = soup.find('td', text=\"Current Portion Long-Term Debt\")\n",
        "value = current_portion_longterm_debt.find_next('td').text\n",
        "\n",
        "# Removendo as vírgulas e convertendo o valor para float\n",
        "value_in_millions = float(value.replace(',', '')) * 1000000\n",
        "\n",
        "# Formatando o valor de volta para uma string com a notação de dólares\n",
        "if value_in_millions == 0:\n",
        "  value_formatted = '$ 0.00'\n",
        "else:\n",
        "  value_formatted = '${:,.2f}'.format(value_in_millions)\n",
        "\n",
        "# Imprimindo o valor formatado\n",
        "print('Empréstimos e Financiamentos:', value_formatted)"
      ]
    },
    {
      "cell_type": "markdown",
      "metadata": {
        "id": "Fdxk7XvXt4V7"
      },
      "source": [
        "Dívida de Longo Prazo"
      ]
    },
    {
      "cell_type": "code",
      "execution_count": null,
      "metadata": {
        "id": "WFGk6-WLt5ZB"
      },
      "outputs": [],
      "source": [
        "# Encontrando o valor de Long-Term Debt\n",
        "longterm_debt = soup.find('td', text=\"Long-Term Debt\")\n",
        "value = longterm_debt.find_next('td').text\n",
        "\n",
        "# Removendo as vírgulas e convertendo o valor para float\n",
        "value_in_millions = float(value.replace(',', '')) * 1000000\n",
        "\n",
        "# Formatando o valor de volta para uma string com a notação de dólares\n",
        "if value_in_millions == 0:\n",
        "  value_formatted = '$ 0.00'\n",
        "else:\n",
        "  value_formatted = '${:,.2f}'.format(value_in_millions)\n",
        "\n",
        "# Imprimindo o valor formatado\n",
        "print('Dívida de Longo Prazo:', value_formatted)"
      ]
    },
    {
      "cell_type": "markdown",
      "metadata": {
        "id": "bIDRUHSkJNDG"
      },
      "source": [
        "Capital de Terceiros (Po)"
      ]
    },
    {
      "cell_type": "code",
      "execution_count": null,
      "metadata": {
        "id": "z74vx5Lqt_OY"
      },
      "outputs": [],
      "source": [
        "# Encontrando o valor de Current Portion Long-Term Debt\n",
        "current_portion_longterm_debt = soup.find('td', text=\"Current Portion Long-Term Debt\")\n",
        "value = current_portion_longterm_debt.find_next('td').text\n",
        "\n",
        "# Removendo as vírgulas e convertendo o valor para float\n",
        "current_portion_longterm_debt_in_millions = float(value.replace(',', '')) * 1000000\n",
        "\n",
        "# Encontrando o valor de Long-Term Debt\n",
        "longterm_debt = soup.find('td', text=\"Long-Term Debt\")\n",
        "value = longterm_debt.find_next('td').text\n",
        "\n",
        "# Removendo as vírgulas e convertendo o valor para float\n",
        "longterm_debt_in_millions = float(value.replace(',', '')) * 1000000\n",
        "\n",
        "# Somando os valores de Current Portion Long-Term Debt e Long-Term Debt\n",
        "total_debt = current_portion_longterm_debt_in_millions + longterm_debt_in_millions\n",
        "\n",
        "# Formatando o valor de volta para uma string com a notação de dólares\n",
        "if total_debt == 0:\n",
        "  total_debt_formatted = '$ 0.00'\n",
        "else:\n",
        "  total_debt_formatted = '${:,.2f}'.format(total_debt)\n",
        "\n",
        "# Imprimindo o valor formatado\n",
        "print('Capital de Terceiros (PO):', total_debt_formatted)\n"
      ]
    },
    {
      "cell_type": "markdown",
      "metadata": {
        "id": "cFBhQ9M1gNbb"
      },
      "source": [
        "Capital Investido (Ativos Totais)"
      ]
    },
    {
      "cell_type": "code",
      "execution_count": null,
      "metadata": {
        "id": "gTLiEhxAgQZy"
      },
      "outputs": [],
      "source": [
        "# Encontrando o valor de Total Assets\n",
        "total_assets = soup.find('td', text=\"Total Assets\")\n",
        "value = total_assets.find_next('td').text\n",
        "\n",
        "# Removendo as vírgulas e convertendo o valor para float\n",
        "value_in_millions = float(value.replace(',', '')) * 1000000\n",
        "\n",
        "# Formatando o valor de volta para uma string com a notação de dólares\n",
        "if value_in_millions == 0:\n",
        "  value_formatted = '$ 0.00'\n",
        "else:\n",
        "  value_formatted = '${:,.2f}'.format(value_in_millions)\n",
        "\n",
        "# Imprimindo o valor formatado\n",
        "print('Capital Investido (Ativos Totais):', value_formatted)"
      ]
    },
    {
      "cell_type": "markdown",
      "metadata": {
        "id": "d3zMr0_Rdyip"
      },
      "source": [
        "Caixa e Aplicações Financeiras"
      ]
    },
    {
      "cell_type": "code",
      "execution_count": null,
      "metadata": {
        "id": "KyklFekkdtPh"
      },
      "outputs": [],
      "source": [
        "# Encontrando o valor de Cash & Equivalents\n",
        "cash_equivalents = soup.find('td', text=\"Cash & Equivalents\")\n",
        "value = cash_equivalents.find_next('td').text\n",
        "\n",
        "# Removendo as vírgulas e convertendo o valor para float\n",
        "value_in_millions = float(value.replace(',', '')) * 1000000\n",
        "\n",
        "# Formatando o valor de volta para uma string com a notação de dólares\n",
        "if value_in_millions == 0:\n",
        "  value_formatted = '$ 0.00'\n",
        "else:\n",
        "  value_formatted = '${:,.2f}'.format(value_in_millions)\n",
        "\n",
        "# Imprimindo o valor formatado\n",
        "print('Caixa e Aplicações Financeiras:', value_formatted)"
      ]
    },
    {
      "cell_type": "markdown",
      "metadata": {
        "id": "WVBz6__YRVl8"
      },
      "source": [
        "Ativo Circulante"
      ]
    },
    {
      "cell_type": "code",
      "execution_count": null,
      "metadata": {
        "id": "fn8vbZ_lRYAD"
      },
      "outputs": [],
      "source": [
        "# Encontrando o valor de Total Current Assets\n",
        "total_current_assets = soup.find('td', text=\"Total Current Assets\")\n",
        "value = total_current_assets.find_next('td').text\n",
        "\n",
        "# Removendo as vírgulas e convertendo o valor para float\n",
        "value_in_millions = float(value.replace(',', '')) * 1000000\n",
        "\n",
        "# Formatando o valor de volta para uma string com a notação de dólares\n",
        "if value_in_millions == 0:\n",
        "  value_formatted = '$ 0.00'\n",
        "else:\n",
        "  value_formatted = '${:,.2f}'.format(value_in_millions)\n",
        "\n",
        "# Imprimindo o valor formatado\n",
        "print('Ativo Circulante:', value_formatted)"
      ]
    },
    {
      "cell_type": "markdown",
      "metadata": {
        "id": "Kt4oBXt1edPi"
      },
      "source": [
        "Ativo Circulante Operacional"
      ]
    },
    {
      "cell_type": "code",
      "execution_count": null,
      "metadata": {
        "id": "poPdyWOPeeh6"
      },
      "outputs": [],
      "source": [
        "# Encontrando o valor de Total Current Assets\n",
        "total_current_assets = soup.find('td', text=\"Total Current Assets\")\n",
        "value_assets = total_current_assets.find_next('td').text\n",
        "\n",
        "# Encontrando o valor de Cash & Equivalents\n",
        "cash_equivalents = soup.find('td', text=\"Cash & Equivalents\")\n",
        "value_cash = cash_equivalents.find_next('td').text\n",
        "\n",
        "# Removendo as vírgulas e convertendo os valores para float\n",
        "value_assets_in_millions = float(value_assets.replace(',', '')) * 1000000\n",
        "value_cash_in_millions = float(value_cash.replace(',', '')) * 1000000\n",
        "\n",
        "# Calcular o Ativo Circulante Operacional\n",
        "value_operational_1 = value_assets_in_millions - value_cash_in_millions\n",
        "\n",
        "# Formatando o valor de volta para uma string com a notação de dólares\n",
        "if value_operational_1 == 0:\n",
        "  value_formatted = '$ 0.00'\n",
        "else:\n",
        "  value_formatted = '${:,.2f}'.format(value_operational_1)\n",
        "\n",
        "# Imprimindo o valor formatado\n",
        "print('Ativo Circulante Operacional:', value_formatted)"
      ]
    },
    {
      "cell_type": "markdown",
      "metadata": {
        "id": "tV01CZOCR8yL"
      },
      "source": [
        "Passivo Circulante"
      ]
    },
    {
      "cell_type": "code",
      "execution_count": null,
      "metadata": {
        "id": "s29f-NSER6Ds"
      },
      "outputs": [],
      "source": [
        "# Encontrando o valor de Total Current Liabilities\n",
        "total_current_liabilities = soup.find('td', text=\"Total Current Liabilities\")\n",
        "value = total_current_liabilities.find_next('td').text\n",
        "\n",
        "# Removendo as vírgulas e convertendo o valor para float\n",
        "value_in_millions = float(value.replace(',', '')) * 1000000\n",
        "\n",
        "# Formatando o valor de volta para uma string com a notação de dólares\n",
        "if value_in_millions == 0:\n",
        "  value_formatted = '$ 0.00'\n",
        "else:\n",
        "  value_formatted = '${:,.2f}'.format(value_in_millions)\n",
        "\n",
        "# Imprimindo o valor formatado\n",
        "print('Passivo Circulante:', value_formatted)"
      ]
    },
    {
      "cell_type": "markdown",
      "metadata": {
        "id": "DzcKySdDSmXK"
      },
      "source": [
        "Passivo Circulante Operacional"
      ]
    },
    {
      "cell_type": "code",
      "execution_count": null,
      "metadata": {
        "id": "H0L4AaDvSpXS"
      },
      "outputs": [],
      "source": [
        "# Encontrando o valor de Total Current Liabilities\n",
        "total_current_liabilities = soup.find('td', text=\"Total Current Liabilities\")\n",
        "value_liabilities = total_current_liabilities.find_next('td').text\n",
        "\n",
        "# Encontrando o valor de Current Portion Long-Term Debt\n",
        "current_portion_longterm_debt = soup.find('td', text=\"Current Portion Long-Term Debt\")\n",
        "value_debt = current_portion_longterm_debt.find_next('td').text\n",
        "\n",
        "# Removendo as vírgulas e convertendo os valores para float\n",
        "value_liabilities_in_millions = float(value_liabilities.replace(',', '')) * 1000000\n",
        "value_debt_in_millions = float(value_debt.replace(',', '')) * 1000000\n",
        "\n",
        "# Calcular o Passivo Circulante Operacional\n",
        "value_operational_2 = value_liabilities_in_millions - value_debt_in_millions\n",
        "\n",
        "# Formatando o valor de volta para uma string com a notação de dólares\n",
        "if value_operational_2 == 0:\n",
        "  value_formatted = '$ 0.00'\n",
        "else:\n",
        "  value_formatted = '${:,.2f}'.format(value_operational_2)\n",
        "\n",
        "# Imprimindo o valor formatado\n",
        "print('Passivo Circulante Operacional:', value_formatted)"
      ]
    },
    {
      "cell_type": "markdown",
      "metadata": {
        "id": "ndtz254klbIW"
      },
      "source": [
        "## Cash Flow Statements"
      ]
    },
    {
      "cell_type": "code",
      "execution_count": null,
      "metadata": {
        "id": "x_LTjHWgjXaZ"
      },
      "outputs": [],
      "source": [
        "import requests\n",
        "from bs4 import BeautifulSoup\n",
        "\n",
        "url = 'https://www.zacks.com/stock/quote/'+ symbol +'/cash-flow-statements'\n",
        "user_agent = {'User-agent': 'Mozilla/5.0'}\n",
        "\n",
        "# Obtendo a página\n",
        "page = requests.get(url, headers = user_agent)\n",
        "\n",
        "# Criando o objeto BeautifulSoup\n",
        "soup = BeautifulSoup(page.content, 'html.parser')\n",
        "\n",
        "# Extraindo os valores da tabela\n",
        "table_rows = soup.find_all('tr')\n",
        "for tr in table_rows:\n",
        "    td = tr.find_all('td')\n",
        "    row = [i.text for i in td]\n",
        "    print(row)"
      ]
    },
    {
      "cell_type": "markdown",
      "metadata": {
        "id": "ooxTrTU0p0kv"
      },
      "source": [
        "Despesa Financeira"
      ]
    },
    {
      "cell_type": "code",
      "execution_count": null,
      "metadata": {
        "id": "kTPW4Hdopwez"
      },
      "outputs": [],
      "source": [
        "# Encontrando o valor de Issuance (Repayment) of Debt\n",
        "issuance_repayment_of_debt = soup.find('td', text=\"Issuance (Repayment) of Debt\")\n",
        "value = issuance_repayment_of_debt.find_next('td').text\n",
        "\n",
        "# Removendo as vírgulas e convertendo o valor para float\n",
        "value_in_millions = float(value.replace(',', '')) * 1000000\n",
        "\n",
        "# Formatando o valor de volta para uma string com a notação de dólares\n",
        "if value_in_millions == 0:\n",
        "  value_formatted = '$ 0.00'\n",
        "else:\n",
        "  value_formatted = '${:,.2f}'.format(value_in_millions)\n",
        "\n",
        "# Imprimindo o valor formatado\n",
        "print('Despesa Financeira:', value_formatted)"
      ]
    },
    {
      "cell_type": "markdown",
      "source": [
        "Depreciação e Amortização"
      ],
      "metadata": {
        "id": "1CL6FYJ0RoaY"
      }
    },
    {
      "cell_type": "code",
      "source": [
        "# Encontrando o valor de Depreciação e Amortização\n",
        "Depreciation_Amortization_Depletion = soup.find('td', text=\"Depreciation/Amortization & Depletion\")\n",
        "value = Depreciation_Amortization_Depletion.find_next('td').text\n",
        "\n",
        "# Removendo as vírgulas e convertendo o valor para float\n",
        "value_in_millions_7 = float(value.replace(',', '')) * 1000000\n",
        "\n",
        "# Formatando o valor de volta para uma string com a notação de dólares\n",
        "if value_in_millions_7 == 0:\n",
        "  value_formatted = '$ 0.00'\n",
        "else:\n",
        "  value_formatted = '${:,.2f}'.format(value_in_millions_7)\n",
        "\n",
        "# Imprimindo o valor formatado\n",
        "print('Depreciação e Amortização:', value_formatted)"
      ],
      "metadata": {
        "id": "d8BmkEnURmbG"
      },
      "execution_count": null,
      "outputs": []
    },
    {
      "cell_type": "markdown",
      "source": [
        "CAPEX"
      ],
      "metadata": {
        "id": "iph9WmpcJLcM"
      }
    },
    {
      "cell_type": "code",
      "source": [
        "# Encontrando o valor de CAPEX\n",
        "Property_Equipment = soup.find('td', text=\"Property & Equipment\")\n",
        "value = Property_Equipment.find_next('td').text\n",
        "\n",
        "# Removendo as vírgulas e o símbolo negativo, caso exista\n",
        "if value[0] == '-':\n",
        "  value_in_millions_8 = float(value[1:].replace(',', '')) * 1000000\n",
        "else:\n",
        "  value_in_millions_8 = float(value.replace(',', '')) * 1000000\n",
        "\n",
        "# Formatando o valor de volta para uma string com a notação de dólares\n",
        "if value_in_millions_8 == 0:\n",
        "  value_formatted = '$ 0.00'\n",
        "else:\n",
        "  value_formatted = '${:,.2f}'.format(value_in_millions_8)\n",
        "\n",
        "# Imprimindo o valor formatado\n",
        "print('CAPEX:', value_formatted)"
      ],
      "metadata": {
        "id": "tl7X_r6yMB0B"
      },
      "execution_count": null,
      "outputs": []
    },
    {
      "cell_type": "markdown",
      "source": [
        "Aquisição / Alienação de Subsidiárias"
      ],
      "metadata": {
        "id": "kE2d1k5KND10"
      }
    },
    {
      "cell_type": "code",
      "source": [
        "# Encontrando o valor de Aquisição / Alienação de Subsidiárias\n",
        "Acquisition = soup.find('td', text=\"Acquisition/ Disposition of Subsidiaries\")\n",
        "value = Acquisition.find_next('td').text\n",
        "\n",
        "# Removendo as vírgulas e o símbolo negativo, caso exista\n",
        "if value == 'NA':\n",
        "  value_in_millions_9 = 0\n",
        "elif value[0] == '-':\n",
        "  value_in_millions_9 = float(value[1:].replace(',', '')) * 1000000\n",
        "else:\n",
        "  value_in_millions_9 = float(value.replace(',', '')) * 1000000\n",
        "\n",
        "# Formatando o valor de volta para uma string com a notação de dólares\n",
        "if value_in_millions_9 == 0:\n",
        "  value_formatted = '$ 0.00'\n",
        "else:\n",
        "  value_formatted = '${:,.2f}'.format(value_in_millions_9)\n",
        "\n",
        "# Imprimindo o valor formatado\n",
        "print('Aquisição / Alienação de Subsidiárias:', value_formatted)"
      ],
      "metadata": {
        "id": "9D0AEM4vX2qd"
      },
      "execution_count": null,
      "outputs": []
    },
    {
      "cell_type": "markdown",
      "source": [
        "Investimentos"
      ],
      "metadata": {
        "id": "W--d--MTNsE7"
      }
    },
    {
      "cell_type": "code",
      "source": [
        "# Encontrando o valor de Investimentos\n",
        "Investments = soup.find('td', text=\"Investments\")\n",
        "value = Investments.find_next('td').text\n",
        "\n",
        "# Removendo as vírgulas e o símbolo negativo, caso exista\n",
        "if value[0] == '-':\n",
        "  value_in_millions_10 = float(value[1:].replace(',', '')) * 1000000\n",
        "else:\n",
        "  value_in_millions_10 = float(value.replace(',', '')) * 1000000\n",
        "\n",
        "# Formatando o valor de volta para uma string com a notação de dólares\n",
        "if value_in_millions_10 == 0:\n",
        "  value_formatted = '$ 0.00'\n",
        "else:\n",
        "  value_formatted = '${:,.2f}'.format(value_in_millions_10)\n",
        "\n",
        "# Imprimindo o valor formatado\n",
        "print('Investimentos:', value_formatted)"
      ],
      "metadata": {
        "id": "3hM0Sy6cN7I3"
      },
      "execution_count": null,
      "outputs": []
    },
    {
      "cell_type": "markdown",
      "source": [
        "Outras atividades de investimento"
      ],
      "metadata": {
        "id": "j4bMzwaQWBs-"
      }
    },
    {
      "cell_type": "code",
      "source": [
        "# Encontrando o valor de Outras atividades de investimento\n",
        "Other_Investing_Activities = soup.find('td', text=\"Other Investing Activities\")\n",
        "value = Investments.find_next('td').text\n",
        "\n",
        "# Removendo as vírgulas e o símbolo negativo, caso exista\n",
        "if value[0] == '-':\n",
        "  Other_Investing_Activities = float(value[1:].replace(',', '')) * 1000000\n",
        "else:\n",
        "  Other_Investing_Activities = float(value.replace(',', '')) * 1000000\n",
        "\n",
        "# Formatando o valor de volta para uma string com a notação de dólares\n",
        "if Other_Investing_Activities == 0:\n",
        "  Other_Investing_Activities_formatted = '$ 0.00'\n",
        "else:\n",
        "  Other_Investing_Activities_formatted = '${:,.2f}'.format(Other_Investing_Activities)\n",
        "\n",
        "# Imprimindo o valor formatado\n",
        "print('Outras atividades de investimento:', Other_Investing_Activities_formatted)"
      ],
      "metadata": {
        "id": "P7a6dI4nWEqN"
      },
      "execution_count": null,
      "outputs": []
    },
    {
      "cell_type": "markdown",
      "source": [
        "Fluxo de Caixa das atividades de investimentos"
      ],
      "metadata": {
        "id": "NrtSE_QyY-LX"
      }
    },
    {
      "cell_type": "code",
      "source": [
        "# Calculando FC das atividades de investimentos\n",
        "FCAI = value_in_millions_8 + value_in_millions_9 + value_in_millions_10 + Other_Investing_Activities\n",
        "\n",
        "# Formatando o valor de volta para uma string com a notação de dólares\n",
        "if FCAI == 0:\n",
        "  FCAI_formatted = '$ 0.00'\n",
        "else:\n",
        "  FCAI_formatted = '${:,.2f}'.format(FCAI)\n",
        "\n",
        "# Imprimindo o valor formatado\n",
        "print('FCAI:', FCAI_formatted)"
      ],
      "metadata": {
        "id": "BVkCunFRZCnH"
      },
      "execution_count": null,
      "outputs": []
    },
    {
      "cell_type": "markdown",
      "source": [
        "## DRE"
      ],
      "metadata": {
        "id": "xOUrvFqs9Ghv"
      }
    },
    {
      "cell_type": "code",
      "source": [
        "import requests\n",
        "from bs4 import BeautifulSoup\n",
        "\n",
        "url = 'https://www.zacks.com/stock/quote/'+ symbol +'/income-statement'\n",
        "user_agent = {'User-agent': 'Mozilla/5.0'}\n",
        "\n",
        "# Obtendo a página\n",
        "page = requests.get(url, headers = user_agent)\n",
        "\n",
        "# Criando o objeto BeautifulSoup\n",
        "soup = BeautifulSoup(page.content, 'html.parser')\n",
        "\n",
        "# Extraindo os valores da tabela\n",
        "table_rows = soup.find_all('tr')\n",
        "for tr in table_rows:\n",
        "    td = tr.find_all('td')\n",
        "    row = [i.text for i in td]\n",
        "    print(row)"
      ],
      "metadata": {
        "id": "Eb0FuXn69TMm"
      },
      "execution_count": null,
      "outputs": []
    },
    {
      "cell_type": "markdown",
      "source": [
        "Receita"
      ],
      "metadata": {
        "id": "wo8Nym2L9N3W"
      }
    },
    {
      "cell_type": "code",
      "source": [
        "# Encontrando o valor de Sales\n",
        "Sales = soup.find('td', text=\"Sales\")\n",
        "value = Sales.find_next('td').text\n",
        "\n",
        "# Removendo as vírgulas e convertendo o valor para float\n",
        "value_in_millions = float(value.replace(',', '')) * 1000000\n",
        "\n",
        "# Formatando o valor de volta para uma string com a notação de dólares\n",
        "if value_in_millions == 0:\n",
        "  value_formatted = '$ 0.00'\n",
        "else:\n",
        "  value_formatted = '${:,.2f}'.format(value_in_millions)\n",
        "\n",
        "# Imprimindo o valor formatado\n",
        "print('Receita:', value_formatted)"
      ],
      "metadata": {
        "id": "ThXLfdxd9SZw"
      },
      "execution_count": null,
      "outputs": []
    },
    {
      "cell_type": "markdown",
      "source": [
        "Custos"
      ],
      "metadata": {
        "id": "0jeNS0l5Prhh"
      }
    },
    {
      "cell_type": "code",
      "source": [
        "# Encontrando o valor de Cost of Goods\n",
        "Cost_of_Goods = soup.find('td', text=\"Cost Of Goods\")\n",
        "value = Cost_of_Goods.find_next('td').text\n",
        "\n",
        "# Removendo as vírgulas e convertendo o valor para float\n",
        "value_in_millions_1 = float(value.replace(',', '')) * 1000000\n",
        "\n",
        "# Formatando o valor de volta para uma string com a notação de dólares\n",
        "if value_in_millions_1 == 0:\n",
        "  value_formatted = '$ 0.00'\n",
        "else:\n",
        "  value_formatted = '${:,.2f}'.format(value_in_millions_1)\n",
        "\n",
        "# Imprimindo o valor formatado\n",
        "print('Custos:', value_formatted)"
      ],
      "metadata": {
        "id": "QS1A9hXpPt17"
      },
      "execution_count": null,
      "outputs": []
    },
    {
      "cell_type": "markdown",
      "source": [
        "Resultado Bruto"
      ],
      "metadata": {
        "id": "8d69l5g-QLgZ"
      }
    },
    {
      "cell_type": "code",
      "source": [
        "# Encontrando o valor de Resultado Bruto\n",
        "Resultado_Bruto = value_in_millions - value_in_millions_1\n",
        "Resultado_Bruto \n",
        "\n",
        "if Resultado_Bruto == 0:\n",
        "  Resultado_Bruto_formatted = '$ 0.00'\n",
        "else:\n",
        "  Resultado_Bruto_formatted = '${:,.2f}'.format(Resultado_Bruto)\n",
        "\n",
        "# Imprimindo o valor formatado\n",
        "print('Resultado Bruto:', Resultado_Bruto_formatted)"
      ],
      "metadata": {
        "id": "TarLT2-uQR-Z"
      },
      "execution_count": null,
      "outputs": []
    },
    {
      "cell_type": "markdown",
      "source": [
        "**EBIT**"
      ],
      "metadata": {
        "id": "qbtAIus_S1U-"
      }
    },
    {
      "cell_type": "code",
      "source": [
        "# Encontrando o valor de Pretax Income\n",
        "Pretax_Income = soup.find('td', text=\"Pretax Income\")\n",
        "value = Pretax_Income.find_next('td').text\n",
        "\n",
        "# Removendo as vírgulas e convertendo o valor para float\n",
        "value_in_millions_2 = float(value.replace(',', '')) * 1000000\n",
        "\n",
        "# Formatando o valor de volta para uma string com a notação de dólares\n",
        "if value_in_millions_2 == 0:\n",
        "  value_formatted = '$ 0.00'\n",
        "else:\n",
        "  value_formatted = '${:,.2f}'.format(value_in_millions_2)\n",
        "\n",
        "# Imprimindo o valor formatado\n",
        "print('EBIT:', value_formatted)"
      ],
      "metadata": {
        "id": "oMwZx3DRS3fF"
      },
      "execution_count": null,
      "outputs": []
    },
    {
      "cell_type": "markdown",
      "source": [
        "**EBITDA**"
      ],
      "metadata": {
        "id": "Cbn5lsLFL2SP"
      }
    },
    {
      "cell_type": "code",
      "source": [
        "# Encontrando o valor de EBITDA\n",
        "EBITDA = value_in_millions_2 + value_in_millions_7\n",
        "EBITDA \n",
        "\n",
        "if EBITDA == 0:\n",
        "  EBITDA_formatted = '$ 0.00'\n",
        "else:\n",
        "  EBITDA_formatted = '${:,.2f}'.format(EBITDA)\n",
        "\n",
        "# Imprimindo o valor formatado\n",
        "print('EBITDA:', EBITDA_formatted)"
      ],
      "metadata": {
        "id": "4AMQP79dMIUa"
      },
      "execution_count": null,
      "outputs": []
    },
    {
      "cell_type": "markdown",
      "source": [
        "IR"
      ],
      "metadata": {
        "id": "R-0StA4ITY9s"
      }
    },
    {
      "cell_type": "code",
      "source": [
        "# Encontrando o valor de Income Taxes\n",
        "Income_Taxes = soup.find('td', text=\"Income Taxes\")\n",
        "value = Income_Taxes.find_next('td').text\n",
        "\n",
        "# Removendo as vírgulas e convertendo o valor para float\n",
        "value_in_millions_3 = float(value.replace(',', '')) * 1000000\n",
        "\n",
        "# Formatando o valor de volta para uma string com a notação de dólares\n",
        "if value_in_millions_3 == 0:\n",
        "  value_formatted = '$ 0.00'\n",
        "else:\n",
        "  value_formatted = '${:,.2f}'.format(value_in_millions_3)\n",
        "\n",
        "# Imprimindo o valor formatado\n",
        "print('IR:', value_formatted)"
      ],
      "metadata": {
        "id": "uxtwcWUfTbNt"
      },
      "execution_count": null,
      "outputs": []
    },
    {
      "cell_type": "markdown",
      "source": [
        "# *NOPAT Restrito* "
      ],
      "metadata": {
        "id": "AgKUvscyT2pz"
      }
    },
    {
      "cell_type": "code",
      "source": [
        "# Encontrando o valor de NOPAT Restrito\n",
        "NOPAT_Restrito = value_in_millions_2 - value_in_millions_3\n",
        "NOPAT_Restrito \n",
        "\n",
        "if NOPAT_Restrito == 0:\n",
        "  NOPAT_Restrito_formatted = '$ 0.00'\n",
        "else:\n",
        "  NOPAT_Restrito_formatted = '${:,.2f}'.format(NOPAT_Restrito)\n",
        "\n",
        "# Imprimindo o valor formatado\n",
        "print('NOPAT Restrito:', NOPAT_Restrito_formatted)"
      ],
      "metadata": {
        "id": "CxyJ7aOCUESb"
      },
      "execution_count": null,
      "outputs": []
    },
    {
      "cell_type": "markdown",
      "source": [
        "Depesa Financeira"
      ],
      "metadata": {
        "id": "F3HHswLIY4sc"
      }
    },
    {
      "cell_type": "code",
      "source": [
        "# Encontrando o valor de Investment Gains/Losses\n",
        "Investment_Gains_Losses = soup.find('td', text=\"Investment Gains/Losses\")\n",
        "value = Investment_Gains_Losses.find_next('td').text\n",
        "\n",
        "# Removendo as vírgulas e convertendo o valor para float\n",
        "value_in_millions_4 = float(value.replace(',', '')) * 1000000\n",
        "\n",
        "# Formatando o valor de volta para uma string com a notação de dólares\n",
        "if value_in_millions_4 == 0:\n",
        "  value_formatted = '$ 0.00'\n",
        "else:\n",
        "  value_formatted = '${:,.2f}'.format(value_in_millions_4)\n",
        "\n",
        "# Imprimindo o valor formatado\n",
        "print('Despesa Financeira:', value_formatted)"
      ],
      "metadata": {
        "id": "WMmPUyMxY70r"
      },
      "execution_count": null,
      "outputs": []
    },
    {
      "cell_type": "markdown",
      "source": [
        "Lucro Líquido"
      ],
      "metadata": {
        "id": "JSFJiWKCZe7d"
      }
    },
    {
      "cell_type": "code",
      "source": [
        "# Encontrando o valor de Net Income (GAAP)\n",
        "Net_Income_GAAP = soup.find('td', text=\"Net Income (GAAP)\")\n",
        "value = Net_Income_GAAP.find_next('td').text\n",
        "\n",
        "# Removendo as vírgulas e convertendo o valor para float\n",
        "value_in_millions_5 = float(value.replace(',', '')) * 1000000\n",
        "\n",
        "# Formatando o valor de volta para uma string com a notação de dólares\n",
        "if value_in_millions_5 == 0:\n",
        "  value_formatted = '$ 0.00'\n",
        "else:\n",
        "  value_formatted = '${:,.2f}'.format(value_in_millions_5)\n",
        "\n",
        "# Imprimindo o valor formatado\n",
        "print('Lucro Líquido:', value_formatted)"
      ],
      "metadata": {
        "id": "EhCQ1epeZirF"
      },
      "execution_count": null,
      "outputs": []
    },
    {
      "cell_type": "markdown",
      "source": [
        "## **FCL**"
      ],
      "metadata": {
        "id": "kVDpZpUz7I3s"
      }
    },
    {
      "cell_type": "markdown",
      "source": [
        "NOPAT Restrito"
      ],
      "metadata": {
        "id": "2yRdls9e7XYp"
      }
    },
    {
      "cell_type": "code",
      "source": [
        "# Encontrando o valor de NOPAT Restrito\n",
        "NOPAT_Restrito = value_in_millions_2 - value_in_millions_3\n",
        "NOPAT_Restrito \n",
        "\n",
        "if NOPAT_Restrito == 0:\n",
        "  NOPAT_Restrito_formatted = '$ 0.00'\n",
        "else:\n",
        "  NOPAT_Restrito_formatted = '${:,.2f}'.format(NOPAT_Restrito)\n",
        "\n",
        "# Imprimindo o valor formatado\n",
        "print('NOPAT Restrito:', NOPAT_Restrito_formatted)"
      ],
      "metadata": {
        "id": "4TsiECKb7fQZ"
      },
      "execution_count": null,
      "outputs": []
    },
    {
      "cell_type": "markdown",
      "source": [
        "Depreciação e Amortização"
      ],
      "metadata": {
        "id": "5D4-GZ0N7hsT"
      }
    },
    {
      "cell_type": "code",
      "source": [
        "import requests\n",
        "from bs4 import BeautifulSoup\n",
        "\n",
        "url = 'https://www.zacks.com/stock/quote/'+ symbol +'/cash-flow-statements'\n",
        "user_agent = {'User-agent': 'Mozilla/5.0'}\n",
        "\n",
        "# Obtendo a página\n",
        "page = requests.get(url, headers = user_agent)\n",
        "\n",
        "# Criando o objeto BeautifulSoup\n",
        "soup = BeautifulSoup(page.content, 'html.parser')\n",
        "\n",
        "# Extraindo os valores da tabela\n",
        "table_rows = soup.find_all('tr')\n",
        "for tr in table_rows:\n",
        "    td = tr.find_all('td')\n",
        "    row = [i.text for i in td]\n",
        "    \n",
        "# Encontrando o valor de Depreciação e Amortização\n",
        "Depreciation_Amortization_Depletion = soup.find('td', text=\"Depreciation/Amortization & Depletion\")\n",
        "value = Depreciation_Amortization_Depletion.find_next('td').text\n",
        "\n",
        "# Removendo as vírgulas e convertendo o valor para float\n",
        "value_in_millions_7 = float(value.replace(',', '')) * 1000000\n",
        "\n",
        "# Formatando o valor de volta para uma string com a notação de dólares\n",
        "if value_in_millions_7 == 0:\n",
        "  value_formatted = '$ 0.00'\n",
        "else:\n",
        "  value_formatted = '${:,.2f}'.format(value_in_millions_7)\n",
        "\n",
        "# Imprimindo o valor formatado\n",
        "print('Depreciação e Amortização:', value_formatted)"
      ],
      "metadata": {
        "id": "SOUkNxRF7qj5"
      },
      "execution_count": null,
      "outputs": []
    },
    {
      "cell_type": "markdown",
      "source": [
        "FCO"
      ],
      "metadata": {
        "id": "EmtOz-1l71eg"
      }
    },
    {
      "cell_type": "code",
      "source": [
        "# Calculando FCO\n",
        "FCO = NOPAT_Restrito + value_in_millions_7\n",
        "\n",
        "# Formatando o valor de volta para uma string com a notação de dólares\n",
        "if FCO == 0:\n",
        "  FCO_formatted = '$ 0.00'\n",
        "else:\n",
        "  FCO_formatted = '${:,.2f}'.format(FCO)\n",
        "\n",
        "# Imprimindo o valor formatado\n",
        "print('FCO:', FCO_formatted)"
      ],
      "metadata": {
        "id": "xM4UtcFQ74yb"
      },
      "execution_count": null,
      "outputs": []
    },
    {
      "cell_type": "markdown",
      "source": [
        "Δ NC Giro"
      ],
      "metadata": {
        "id": "RTThCUujHUhW"
      }
    },
    {
      "cell_type": "code",
      "source": [
        "# Calculando NC Giro\n",
        "NC_Giro = value_operational_1 - value_operational_2\n",
        "\n",
        "# Formatando o valor de volta para uma string com a notação de dólares\n",
        "if NC_Giro == 0:\n",
        "  NC_Giro_formatted = '$ 0.00'\n",
        "else:\n",
        "  NC_Giro_formatted = '${:,.2f}'.format(NC_Giro)\n",
        "\n",
        "# Imprimindo o valor formatado\n",
        "print('Δ NC Giro:', NC_Giro_formatted)"
      ],
      "metadata": {
        "id": "K3U7367iHYJ3"
      },
      "execution_count": null,
      "outputs": []
    },
    {
      "cell_type": "markdown",
      "source": [
        "CAPEX"
      ],
      "metadata": {
        "id": "KOYuDMIibW_z"
      }
    },
    {
      "cell_type": "code",
      "source": [
        "CAPEX_formatted = '${:,.2f}'.format(value_in_millions_8)\n",
        "print('CAPEX:', CAPEX_formatted)"
      ],
      "metadata": {
        "id": "5wyM300WbHBW"
      },
      "execution_count": null,
      "outputs": []
    },
    {
      "cell_type": "markdown",
      "source": [
        "FCFF"
      ],
      "metadata": {
        "id": "COzJ0z-IXcq1"
      }
    },
    {
      "cell_type": "code",
      "source": [
        "# Calculando FCFF\n",
        "if NC_Giro > 0:\n",
        "  FCFF = FCO - NC_Giro - value_in_millions_8\n",
        "elif NC_Giro < 0:\n",
        "  FCFF = FCO + NC_Giro - value_in_millions_8\n",
        "\n",
        "# Formatando o valor de volta para uma string com a notação de dólares\n",
        "if FCFF == 0:\n",
        "  FCFF_formatted = '$ 0.00'\n",
        "else:\n",
        "  FCFF_formatted = '${:,.2f}'.format(FCFF)\n",
        "\n",
        "# Imprimindo o valor formatado\n",
        "print('FCFF:', FCFF_formatted)"
      ],
      "metadata": {
        "id": "LRnSIkiBYBHh"
      },
      "execution_count": null,
      "outputs": []
    },
    {
      "cell_type": "markdown",
      "source": [
        "Novas Dívidas"
      ],
      "metadata": {
        "id": "mJDGo-EeOtEi"
      }
    },
    {
      "cell_type": "code",
      "source": [
        "# Calculando Novas Dívidas\n",
        "Novas_dividas = value_in_millions_9 + value_in_millions_10\n",
        "\n",
        "# Formatando o valor de volta para uma string com a notação de dólares\n",
        "if Novas_dividas == 0:\n",
        "  Novas_dividas_formatted = '$ 0.00'\n",
        "else:\n",
        "  Novas_dividas_formatted = '${:,.2f}'.format(Novas_dividas)\n",
        "\n",
        "# Imprimindo o valor formatado\n",
        "print('Novas Dívidas:', Novas_dividas_formatted)"
      ],
      "metadata": {
        "id": "p5rjXI4AOu__"
      },
      "execution_count": null,
      "outputs": []
    },
    {
      "cell_type": "markdown",
      "source": [
        "IR"
      ],
      "metadata": {
        "id": "qfpM_xw_Pet1"
      }
    },
    {
      "cell_type": "code",
      "source": [
        "# Imprimindo o valor formatado\n",
        "IR_formatted = '${:,.2f}'.format(value_in_millions_3)\n",
        "print('IR:', IR_formatted)"
      ],
      "metadata": {
        "id": "h4l-C5OKPgws"
      },
      "execution_count": null,
      "outputs": []
    },
    {
      "cell_type": "markdown",
      "source": [
        "**FCDA**"
      ],
      "metadata": {
        "id": "htoqd64hQ1xz"
      }
    },
    {
      "cell_type": "code",
      "source": [
        "# Calculando FCDA\n",
        "FCDA = FCFF + Novas_dividas + value_in_millions_3\n",
        "\n",
        "# Formatando o valor de volta para uma string com a notação de dólares\n",
        "if FCDA == 0:\n",
        "  FCDA_formatted = '$ 0.00'\n",
        "else:\n",
        "  FCDA_formatted = '${:,.2f}'.format(FCDA)\n",
        "\n",
        "# Imprimindo o valor formatado\n",
        "print('FCDA:', FCDA_formatted)"
      ],
      "metadata": {
        "id": "S2xtWOPgQ84K"
      },
      "execution_count": null,
      "outputs": []
    },
    {
      "cell_type": "markdown",
      "metadata": {
        "id": "DH-nf24b1SOE"
      },
      "source": [
        "# **CAPM - Custo do Capital Próprio**"
      ]
    },
    {
      "cell_type": "markdown",
      "metadata": {
        "id": "RGbIYpb66SIE"
      },
      "source": [
        "Custo de Capital Próprio"
      ]
    },
    {
      "cell_type": "code",
      "source": [
        "# Calculando Ke\n",
        "\n",
        "Ke = interest_rate + (beta*((mean_yearly_return) - interest_rate))\n",
        "Ke_formatted = '{:,.2f}%'.format(Ke)\n",
        "print ('Ke:' ,Ke_formatted)"
      ],
      "metadata": {
        "id": "0b84wYGxRAVt"
      },
      "execution_count": null,
      "outputs": []
    },
    {
      "cell_type": "markdown",
      "metadata": {
        "id": "1R_c9FBG8DAg"
      },
      "source": [
        "Ki (Kd) - Custo da Dívida"
      ]
    },
    {
      "cell_type": "code",
      "execution_count": null,
      "metadata": {
        "id": "7yzJR2Iz0mx2"
      },
      "outputs": [],
      "source": [
        "# Calculando Ki (Kd) - Custo da Dívida\n",
        "if value_in_millions_4 == 0:\n",
        "  Ki = Rf + inflation\n",
        "else:\n",
        "  Ki = (value_in_millions_4 / total_debt) + 1\n",
        "\n",
        "# Formatando o valor de volta para uma string com a notação de dólares\n",
        "if Ki == 0:\n",
        "  Ki_formatted = ' 0.00 %'\n",
        "else:\n",
        "  Ki_formatted = '{:,.2f} %'.format(Ki)\n",
        "\n",
        "# Imprimindo o valor formatado\n",
        "print('Ki (Kd) - Custo da Dívida:', Ki_formatted)"
      ]
    },
    {
      "cell_type": "markdown",
      "source": [
        "Po e PL"
      ],
      "metadata": {
        "id": "aBzsBZxMTwNb"
      }
    },
    {
      "cell_type": "code",
      "source": [
        "Po = total_debt\n",
        "PL = value_in_millions_12\n",
        "Po_formatted = '${:,.2f}'.format(total_debt)\n",
        "PL_formatted = '${:,.2f}'.format(value_in_millions_12)\n",
        "print ('PL:' , PL_formatted)\n",
        "print ('Po:' , Po_formatted)"
      ],
      "metadata": {
        "id": "Gee_hzpfT0Ts"
      },
      "execution_count": null,
      "outputs": []
    },
    {
      "cell_type": "markdown",
      "metadata": {
        "id": "rku-vAM-vjJK"
      },
      "source": [
        "PL / (Po+PL)"
      ]
    },
    {
      "cell_type": "code",
      "execution_count": null,
      "metadata": {
        "id": "rJbhVGskvm_I"
      },
      "outputs": [],
      "source": [
        "# Calculando PL / (Po+PL)\n",
        "if value_in_millions_12 == 0:\n",
        "  PL_Po_PL = 0.0\n",
        "else:\n",
        "  PL_Po_PL = value_in_millions_12 / (value_in_millions_12 + total_debt)\n",
        "\n",
        "# Formatando o valor de volta para uma string com a notação de dólares\n",
        "if PL_Po_PL == 0:\n",
        "   PL_Po_PL_formatted = ' 0.0'\n",
        "else:\n",
        "  PL_Po_PL_formatted = '{:,.2f}'.format(PL_Po_PL)\n",
        "\n",
        "# Imprimindo o valor formatado\n",
        "print('PL / (Po+PL):', PL_Po_PL_formatted)"
      ]
    },
    {
      "cell_type": "markdown",
      "metadata": {
        "id": "dAz6lQsivnm5"
      },
      "source": [
        "Po / (Po+PL)"
      ]
    },
    {
      "cell_type": "code",
      "execution_count": null,
      "metadata": {
        "id": "ZQAP7hjBvprg"
      },
      "outputs": [],
      "source": [
        "# Calculando Po / (Po+PL)\n",
        "if total_debt == 0:\n",
        "  Po_Po_PL = 0.0\n",
        "else:\n",
        "  Po_Po_PL = total_debt / (value_in_millions_12 + total_debt)\n",
        "\n",
        "# Formatando o valor de volta para uma string com a notação de dólares\n",
        "if Po_Po_PL == 0:\n",
        "   Po_Po_PL_formatted = ' 0.0'\n",
        "else:\n",
        "  Po_Po_PL_formatted = '{:,.2f}'.format(Po_Po_PL)\n",
        "\n",
        "# Imprimindo o valor formatado\n",
        "print('Po / (Po+PL):', Po_Po_PL_formatted)"
      ]
    },
    {
      "cell_type": "markdown",
      "metadata": {
        "id": "qeeiAaPTvrl3"
      },
      "source": [
        "**WACC**"
      ]
    },
    {
      "cell_type": "code",
      "execution_count": null,
      "metadata": {
        "id": "r09vWCutvw0v"
      },
      "outputs": [],
      "source": [
        "# Calculando WACC\n",
        "wacc = (Ke * PL_Po_PL ) + (Ki * Po_Po_PL)\n",
        "wacc_formatted = '{:,.2f}%'.format(wacc)\n",
        "print ('WACC:' , wacc_formatted)"
      ]
    },
    {
      "cell_type": "markdown",
      "source": [
        "**Custo de Oportunidade**"
      ],
      "metadata": {
        "id": "agGo1GPIHK-t"
      }
    },
    {
      "cell_type": "code",
      "source": [
        "# Calculando Co = PL/Ke\n",
        "Co = value_in_millions_12*(Ke/100)\n",
        "Co_formatted = '${:,.2f}'.format(Co)\n",
        "value_in_millions_12_formated = '${:,.2f}'.format(value_in_millions_12)\n",
        "print('PL:' ,value_in_millions_12_formated)\n",
        "print ('Ke:' ,Ke_formatted)\n",
        "print ('Co:' , Co_formatted)\n"
      ],
      "metadata": {
        "id": "Vdh7TY1JHN2M"
      },
      "execution_count": null,
      "outputs": []
    },
    {
      "cell_type": "markdown",
      "source": [
        "**Lucro Econômico (EVA)**"
      ],
      "metadata": {
        "id": "MiWdaQehJIw7"
      }
    },
    {
      "cell_type": "code",
      "source": [
        "# Calculando LE = LL - Co\n",
        "LE = value_in_millions_5 - Co\n",
        "LE_formatted = '${:,.2f}'.format(LE)\n",
        "print ('LE:' , LE_formatted)\n"
      ],
      "metadata": {
        "id": "o8RSTxxJJKuV"
      },
      "execution_count": null,
      "outputs": []
    },
    {
      "cell_type": "markdown",
      "source": [
        "ROE > KE"
      ],
      "metadata": {
        "id": "dTNqUNKM-JGD"
      }
    },
    {
      "cell_type": "code",
      "source": [
        "# Calcular a diferença entre o ROE e o ke\n",
        "ROE_KE = roe - Ke\n",
        "\n",
        "print('ROE: {:.2f}%'.format(roe))\n",
        "print('KE: {:.2f}%'.format(Ke))\n",
        "print('Diferença de ROE x Ke: {:.2f}%'.format(ROE_KE))\n",
        "\n",
        "if ROE_KE > 0:\n",
        "    print(\"SIM, ROE é maior que KE\")\n",
        "elif ROE_KE < 0:\n",
        "    print(\"NÃO, ROE é menor que KE\")\n",
        "else:\n",
        "    print(\"IGUAL, ROE é igual a KE\")"
      ],
      "metadata": {
        "id": "Ph-hhLjr-L-k"
      },
      "execution_count": null,
      "outputs": []
    },
    {
      "cell_type": "markdown",
      "source": [
        "ROI > WACC"
      ],
      "metadata": {
        "id": "u-ZcdCiUFzx0"
      }
    },
    {
      "cell_type": "code",
      "source": [
        "# Calcular a diferença entre o ROI e o WACC\n",
        "ROI_WACC = roi - wacc\n",
        "\n",
        "print('ROI: {:.2f}%'.format(roi))\n",
        "print('WACC: {:.2f}%'.format(wacc))\n",
        "print('Diferença de ROI x WACC: {:.2f}%'.format(ROI_WACC))\n",
        "\n",
        "if ROI_WACC > 0:\n",
        "    print(\"SIM, ROI é maior que WACC\")\n",
        "elif ROI_WACC < 0:\n",
        "    print(\"NÃO, ROI é menor que WACC\")\n",
        "else:\n",
        "    print(\"IGUAL, ROI é igual a WACC\")"
      ],
      "metadata": {
        "id": "-f51jK6TF2VA"
      },
      "execution_count": null,
      "outputs": []
    },
    {
      "cell_type": "markdown",
      "source": [
        "# **Valuation**"
      ],
      "metadata": {
        "id": "fe3PW3lgWYOu"
      }
    },
    {
      "cell_type": "markdown",
      "source": [
        "***Nº de Ações***"
      ],
      "metadata": {
        "id": "Y10q2HCWWd74"
      }
    },
    {
      "cell_type": "code",
      "source": [
        "# Localizando o número de ações\n",
        "shs_outstand_str = fundamentals.loc['Shs Outstand']['Values']\n",
        "shs_outstand_str = shs_outstand_str.strip()\n",
        "\n",
        "if shs_outstand_str[-1] == 'B':\n",
        "    shs_outstand = float(shs_outstand_str[:-1]) * 1000000000\n",
        "elif shs_outstand_str[-1] == 'M':\n",
        "    shs_outstand = float(shs_outstand_str[:-1]) * 1000000\n",
        "else:\n",
        "    shs_outstand = float(shs_outstand_str)\n",
        "\n",
        "shs_outstand_formatted = '{:,d}'.format(int(shs_outstand))\n",
        "\n",
        "print(f'Nº de Ações: {shs_outstand_formatted}')"
      ],
      "metadata": {
        "id": "K5bapQoyJm0f"
      },
      "execution_count": null,
      "outputs": []
    },
    {
      "cell_type": "markdown",
      "source": [
        "**Crescimento dos Lucros líquidos ponderado ao Mercado - gLL + Média Mercado**"
      ],
      "metadata": {
        "id": "D7YF2S_fiSf7"
      }
    },
    {
      "cell_type": "code",
      "source": [
        "#Crescimento dos Lucros líquidos ponderado ao Mercado - gLL + Média Mercado\n",
        "# O correto seria somar ponderar o gll + a média do crescimento do ROE de 5Y)\n",
        "gll_M = (gll + (mean_yearly_return/100))/2\n",
        "print(gll_M)"
      ],
      "metadata": {
        "id": "ACtF6lEUiZrW"
      },
      "execution_count": null,
      "outputs": []
    },
    {
      "cell_type": "markdown",
      "source": [
        "**bNOPAT**"
      ],
      "metadata": {
        "id": "6kDkcSPPi4Ts"
      }
    },
    {
      "cell_type": "code",
      "source": [
        "# Calculando bNOPAT\n",
        "#bNOPAT = (CAPEX - Amortização e Depeciação) / EBIT\n",
        "bNOPAT = (value_in_millions_8 - value_in_millions_7)/value_in_millions_2\n",
        "\n",
        "print(bNOPAT)"
      ],
      "metadata": {
        "id": "DkLLoY8Yi5gJ"
      },
      "execution_count": null,
      "outputs": []
    },
    {
      "cell_type": "markdown",
      "source": [
        "**gNOPAT**"
      ],
      "metadata": {
        "id": "kGf0VMOhkIDO"
      }
    },
    {
      "cell_type": "code",
      "source": [
        "# Calculando gNOPAT\n",
        "# gNOPAT = bNOPAT * ROI\n",
        "gNOPAT = bNOPAT * roi_perc\n",
        "print (gNOPAT)"
      ],
      "metadata": {
        "id": "Qvm30mXLjUbm"
      },
      "execution_count": null,
      "outputs": []
    },
    {
      "cell_type": "markdown",
      "source": [
        "**Crescimeto na perpetuidade**"
      ],
      "metadata": {
        "id": "OjxKLKMCp7xd"
      }
    },
    {
      "cell_type": "code",
      "source": [
        "# Calculando Crescimeto na perpetuidade\n",
        "CP = 2/100\n",
        "CP"
      ],
      "metadata": {
        "id": "qee12eLuqDpS"
      },
      "execution_count": null,
      "outputs": []
    },
    {
      "cell_type": "markdown",
      "source": [
        "**FCFF**"
      ],
      "metadata": {
        "id": "dn_Sx1mzlgk1"
      }
    },
    {
      "cell_type": "code",
      "source": [
        "FCFF\n",
        "# Imprimindo o valor formatado\n",
        "print('FCFF:', FCFF_formatted)"
      ],
      "metadata": {
        "id": "fUxT5O_Fkjik"
      },
      "execution_count": null,
      "outputs": []
    },
    {
      "cell_type": "markdown",
      "source": [
        "**VP**"
      ],
      "metadata": {
        "id": "fCfmdnaaIu-5"
      }
    },
    {
      "cell_type": "code",
      "source": [
        "# A Taxa de desconto é calculada usando a formula (1+wacc)^n\n",
        "# Ano 0\n",
        "Ano_0 = 0\n",
        "EBITDA_0 = 0.0\n",
        "FCDE_0 = FCFF\n",
        "Taxa_Desconto_0 = 0.0\n",
        "VP_0 = FCDE_0\n",
        "\n",
        "# Ano 1\n",
        "Ano_1 = 1\n",
        "EBITDA_1 = FCDE_0 * gll_M\n",
        "FCDE_1 = FCDE_0 + EBITDA_1\n",
        "Taxa_Desconto_1 = pow (1 + wacc/100, Ano_1)\n",
        "VP_1 = FCDE_1/Taxa_Desconto_1\n",
        "\n",
        "# Ano 2\n",
        "Ano_2 = 2\n",
        "EBITDA_2 = FCDE_1 * gll_M\n",
        "FCDE_2 = FCDE_1 + EBITDA_2\n",
        "Taxa_Desconto_2 = pow (1 + wacc/100, Ano_2)\n",
        "VP_2 = FCDE_2/Taxa_Desconto_2\n",
        "\n",
        "# Ano 3\n",
        "Ano_3 = 3\n",
        "EBITDA_3 = FCDE_2 * gll_M\n",
        "FCDE_3 = FCDE_2 + EBITDA_3\n",
        "Taxa_Desconto_3 = pow (1 + wacc/100, Ano_3)\n",
        "VP_3 = FCDE_3/Taxa_Desconto_3\n",
        "\n",
        "# Ano 4\n",
        "Ano_4 = 4\n",
        "EBITDA_4 = FCDE_3 * gll_M\n",
        "FCDE_4 = FCDE_3 + EBITDA_4\n",
        "Taxa_Desconto_4 = pow (1 + wacc/100, Ano_4)\n",
        "VP_4 = FCDE_4/Taxa_Desconto_4\n",
        "\n",
        "# Ano 5\n",
        "Ano_5 = 5\n",
        "EBITDA_5 = FCDE_4 * gll_M\n",
        "FCDE_5 = FCDE_4 + EBITDA_5\n",
        "Taxa_Desconto_5 = pow (1 + wacc/100, Ano_5)\n",
        "VP_5 = FCDE_5/Taxa_Desconto_5\n",
        "\n",
        "# Ano 6\n",
        "Ano_6 = 6\n",
        "EBITDA_6 = FCDE_5 * gll_M\n",
        "FCDE_6 = FCDE_5 + EBITDA_6\n",
        "Taxa_Desconto_6 = pow (1 + wacc/100, Ano_6)\n",
        "VP_6 = FCDE_6/Taxa_Desconto_6\n",
        "\n",
        "# Ano 7\n",
        "Ano_7 = 7\n",
        "EBITDA_7 = FCDE_6 * gll_M\n",
        "FCDE_7 = FCDE_6 + EBITDA_7\n",
        "Taxa_Desconto_7 = pow (1 + wacc/100, Ano_7)\n",
        "VP_7 = FCDE_7/Taxa_Desconto_7\n",
        "\n",
        "# Ano 8\n",
        "Ano_8 = 8\n",
        "EBITDA_8 = FCDE_7 * gll_M\n",
        "FCDE_8 = FCDE_7 + EBITDA_8\n",
        "Taxa_Desconto_8 = pow (1 + wacc/100, Ano_8)\n",
        "VP_8 = FCDE_8/Taxa_Desconto_8\n",
        "\n",
        "# Ano 9 \n",
        "Ano_9 = 9\n",
        "EBITDA_9 = FCDE_8 * gll_M\n",
        "FCDE_9 = FCDE_8 + EBITDA_9\n",
        "Taxa_Desconto_9 = pow (1 + wacc/100, Ano_9)\n",
        "VP_9 = FCDE_9/Taxa_Desconto_9\n",
        "\n",
        "# Ano 10 \n",
        "Ano_10 = 10\n",
        "EBITDA_10 = FCDE_9 * gll_M\n",
        "FCDE_10 = FCDE_9 + EBITDA_10\n",
        "Taxa_Desconto_10 = pow (1 + wacc/100, Ano_10)\n",
        "VP_10 = FCDE_10/Taxa_Desconto_10\n",
        "\n",
        "# Ano 11 - Perpetuidade\n",
        "Ano_11 = 11\n",
        "FCDE_11 = FCDE_10 \n",
        "Taxa_Desconto_11 =  (wacc/100 - (gNOPAT))*100 \n",
        "VP_perpeturidade = (FCDE_11/(Taxa_Desconto_11)*100)\n",
        "VP_11 = VP_perpeturidade / (Taxa_Desconto_10)\n",
        "\n",
        "\n",
        "print(\"Ano  |     EBITDA      |     FCDE          |   Taxa de Desconto     |        VP\")\n",
        "print(\"{:^4} | ${:^11,.2f}    | ${:^11,.2f}    | {:^15.2f}        | ${:^11,.2f}\".format(Ano_0, EBITDA_0, FCDE_0, Taxa_Desconto_0, VP_0))\n",
        "print(\"{:^4} | ${:^11,.2f}  | ${:^11,.2f}    | {:^15.2f}        | ${:^11,.2f}\".format(Ano_1, EBITDA_1, FCDE_1, Taxa_Desconto_1, VP_1))\n",
        "print(\"{:^4} | ${:^11,.2f}  | ${:^11,.2f}   | {:^15.2f}        | ${:^11,.2f}\".format(Ano_2, EBITDA_2, FCDE_2, Taxa_Desconto_2, VP_2))\n",
        "print(\"{:^4} | ${:^11,.2f}  | ${:^11,.2f}   | {:^15.2f}        | ${:^11,.2f}\".format(Ano_3, EBITDA_3, FCDE_3, Taxa_Desconto_3, VP_3))\n",
        "print(\"{:^4} | ${:^11,.2f}  | ${:^11,.2f}   | {:^15.2f}        | ${:^11,.2f}\".format(Ano_4, EBITDA_4, FCDE_4, Taxa_Desconto_4, VP_4))\n",
        "print(\"{:^4} | ${:^11,.2f} | ${:^11,.2f}   | {:^15.2f}        | ${:^11,.2f}\".format(Ano_5, EBITDA_5, FCDE_5, Taxa_Desconto_5, VP_5))\n",
        "print(\"{:^4} | ${:^11,.2f} | ${:^11,.2f}   | {:^15.2f}        | ${:^11,.2f}\".format(Ano_6, EBITDA_6, FCDE_6, Taxa_Desconto_6, VP_6))\n",
        "print(\"{:^4} | ${:^11,.2f} | ${:^11,.2f}   | {:^15.2f}        | ${:^11,.2f}\".format(Ano_7, EBITDA_7, FCDE_7, Taxa_Desconto_7, VP_7))\n",
        "print(\"{:^4} | ${:^11,.2f} | ${:^11,.2f} | {:^15.2f}        | ${:^11,.2f}\".format(Ano_8, EBITDA_8, FCDE_8, Taxa_Desconto_8, VP_8))\n",
        "print(\"{:^4} | ${:^11,.2f} | ${:^11,.2f} | {:^15.2f}        | ${:^11,.2f}\".format(Ano_9, EBITDA_9, FCDE_9, Taxa_Desconto_9, VP_9))\n",
        "print(\"{:^4} | ${:^11,.2f} | ${:^11,.2f} | {:^15.2f}        | ${:^11,.2f}\".format(Ano_10, EBITDA_10, FCDE_10, Taxa_Desconto_10, VP_10))\n",
        "print(\"{:^4}                   | ${:^11,.2f} | {:^15.2f}        | ${:^11,.2f}\".format(Ano_11, FCDE_11, Taxa_Desconto_11, VP_11))"
      ],
      "metadata": {
        "id": "qPSmaBEzV9jj"
      },
      "execution_count": null,
      "outputs": []
    },
    {
      "cell_type": "markdown",
      "source": [
        "**VP**"
      ],
      "metadata": {
        "id": "ebsqYzRXWP2d"
      }
    },
    {
      "cell_type": "code",
      "source": [
        "#Encontrando o Valor Patrimonial (VP)\n",
        "VP = VP_0 + VP_1 + VP_2 + VP_3 + VP_4 + VP_5 + VP_6 + VP_7 + VP_8 + VP_9 + VP_10 + VP_11\n",
        "VP_formatted = '${:,.2f}'.format(VP)\n",
        "print ('VP:' , VP_formatted)"
      ],
      "metadata": {
        "id": "MJdCnZcjUjtP"
      },
      "execution_count": null,
      "outputs": []
    },
    {
      "cell_type": "markdown",
      "source": [
        "# **Preço Justo da Ação**"
      ],
      "metadata": {
        "id": "3Jktsm5uYSpa"
      }
    },
    {
      "cell_type": "code",
      "source": [
        "#Encontrando o Preço Justo da Ação\n",
        "PJA = VP / shs_outstand\n",
        "PJA_formatted = '${:,.2f}'.format(PJA)\n",
        "print ('PJA:' , PJA_formatted)\n",
        "\n",
        "# Calcular o preço atual\n",
        "price_str = fundamentals.loc['Price']['Values']\n",
        "price = float(price_str)\n",
        "print(f'Preço Atual: ${price_str}')\n",
        "\n",
        "Margem_P = PJA - price\n",
        "Margem_P_formatted = '${:,.2f}'.format(Margem_P)\n",
        "print('Margem:' , Margem_P_formatted)\n",
        "\n",
        "Margem_Perc = (Margem_P / PJA)*100\n",
        "Margem_Perc_formatted = '{:,.2f}%'.format(Margem_Perc)\n",
        "print('Margem Percentual:' , Margem_Perc_formatted)\n",
        "\n"
      ],
      "metadata": {
        "id": "T2rbx5iEW4jS"
      },
      "execution_count": null,
      "outputs": []
    },
    {
      "cell_type": "markdown",
      "source": [
        "# **AVALIAÇÃO PELO LUCRO EM EXCESSO**"
      ],
      "metadata": {
        "id": "9iT1Dxl0cLyH"
      }
    },
    {
      "cell_type": "code",
      "source": [
        "# Calculando Vo = Capital Investido + PV do Retorno em Excesso\n",
        "#PV do Retorno em Excesso = Goodwill\n",
        "\n",
        "Goodwill = LE / Ke\n",
        "Goodwill_formatted = '${:,.2f}'.format(Goodwill)\n",
        "print('Goodwill',Goodwill_formatted)\n",
        "\n",
        "Vo_excesso = PL + Goodwill\n",
        "Vo_excesso_formatted = '${:,.2f}'.format(Vo_excesso)\n",
        "print('Vo',Vo_excesso_formatted)\n",
        "\n",
        "#Encontrando o Preço Justo da Ação pelo Lucro em Excesso\n",
        "PJA_E = Vo_excesso / shs_outstand\n",
        "PJA_E_formatted = '${:,.2f}'.format(PJA_E)\n",
        "print ('PJA pelo Lucro em Excesso:' , PJA_E_formatted)\n",
        "\n",
        "# Calcular o preço atual\n",
        "price_str = fundamentals.loc['Price']['Values']\n",
        "price = float(price_str)\n",
        "print(f'Preço Atual: ${price_str}')\n"
      ],
      "metadata": {
        "id": "jXHvTE4ccSXL"
      },
      "execution_count": null,
      "outputs": []
    },
    {
      "cell_type": "markdown",
      "source": [
        "# **Valor Intrínseco**"
      ],
      "metadata": {
        "id": "AAgsw7lmV-bn"
      }
    },
    {
      "cell_type": "code",
      "execution_count": null,
      "metadata": {
        "id": "EEcHx3PiSHxb"
      },
      "outputs": [],
      "source": [
        "import math\n",
        "\n",
        "eps = float(eps)\n",
        "VPA = float(VPA)\n",
        "\n",
        "# Calcular o valor intrínseco em dólar\n",
        "valor_intrinseco = math.sqrt(eps * VPA * 22.5)\n",
        "\n",
        "# Calcular o preço atual\n",
        "\n",
        "price_str = fundamentals.loc['Price']['Values']\n",
        "price = float(price_str)\n",
        "print(f'Preço Atual: ${price_str}')\n",
        "\n",
        "# Calcular a diferença entre o valor intrínseco e o preço atual\n",
        "diferenca = valor_intrinseco - price\n",
        "\n",
        "# Calcular a diferença percentual\n",
        "dif_percentual = diferenca / valor_intrinseco * 100\n",
        "\n",
        "# Verificar se está com ágio ou deságio\n",
        "if price > valor_intrinseco:\n",
        "    agio_desagio = 'ágio'\n",
        "else:\n",
        "    agio_desagio = 'deságio'\n",
        "\n",
        "# Exibir os resultados\n",
        "print(f\"Valor intrínseco: ${valor_intrinseco:.2f}\")\n",
        "print(f\"Diferença: ${diferenca:.2f}\")\n",
        "print(f\"Margem percentual: {dif_percentual:.2f}% {agio_desagio}\")\n",
        "\n",
        "if agio_desagio == 'ágio':\n",
        "    recomendacao = 'Recomendação: Venda'\n",
        "else:\n",
        "    recomendacao = 'Recomendação: Compra'\n",
        "\n",
        "print(recomendacao)"
      ]
    },
    {
      "cell_type": "markdown",
      "source": [
        "# **Comparativo entre Avaliações**"
      ],
      "metadata": {
        "id": "-EsZEKBNy6f_"
      }
    },
    {
      "cell_type": "code",
      "source": [
        "print(f'Preço Atual: ${price_str}')\n",
        "print(f\"Valor intrínseco: ${valor_intrinseco:.2f}\")\n",
        "print ('Preço Valuation:' , PJA_formatted)\n",
        "print ('PJA pelo Lucro em Excesso:' , PJA_E_formatted)"
      ],
      "metadata": {
        "id": "WP_Fo3ZDy5Ef"
      },
      "execution_count": null,
      "outputs": []
    },
    {
      "cell_type": "markdown",
      "source": [
        "# **Retorno S&P 500 - 10 Y x Ticker em análise**"
      ],
      "metadata": {
        "id": "MNUsPWFg7ODZ"
      }
    },
    {
      "cell_type": "markdown",
      "source": [
        "**Retorno S&P 500**"
      ],
      "metadata": {
        "id": "3wD6JqiB5OZW"
      }
    },
    {
      "cell_type": "code",
      "source": [
        "Ten_year_return = sp500['acum_return'].iloc[-1] * 100 - 100\n",
        "print(f'Retorno acumulado 10Y: {Ten_year_return:.1f}%')\n",
        "\n",
        "mean_yearly_return = sp500['daily_return'].mean() * 100 * 365\n",
        "print(f'Retorno médio anual 10Y: {mean_yearly_return:.2f}%')"
      ],
      "metadata": {
        "id": "rXE6VpJn7jS2"
      },
      "execution_count": null,
      "outputs": []
    },
    {
      "cell_type": "markdown",
      "source": [
        "**Retorno Ticker**"
      ],
      "metadata": {
        "id": "dEZPtC4N5S-t"
      }
    },
    {
      "cell_type": "code",
      "source": [
        "def calcula_retorno(dataframe):\n",
        "  df = dataframe.copy()  \n",
        "  df['daily_return']        = df.iloc[:,0].pct_change()\n",
        "  df['acum_return']         = (1 +  df['daily_return']).cumprod()\n",
        "  df['acum_return'].iloc[0] = 1\n",
        "  df.rename(columns={df.columns[0]: \"price\" }, inplace=True)\n",
        "  return df\n",
        "\n",
        "ticker = yf.download(symbol)[['Adj Close']]\n",
        "ticker\n",
        "\n",
        "ticker = calcula_retorno(ticker)\n",
        "ticker\n",
        "\n",
        "Ten_year_return_ticker = ticker['acum_return'].iloc[-1] * 100 - 100\n",
        "print(f'Retorno acumulado 10Y do Ticker: {Ten_year_return_ticker:.1f}%')\n",
        "\n",
        "mean_yearly_return_ticker = ticker['daily_return'].mean() * 100 * 365\n",
        "print(f'Retorno médio anual 10Y do Ticker: {mean_yearly_return_ticker:.2f}%')\n"
      ],
      "metadata": {
        "id": "3XwZB7-cDK_7"
      },
      "execution_count": null,
      "outputs": []
    },
    {
      "cell_type": "code",
      "source": [
        "fig = go.Figure()\n",
        "fig.add_trace(go.Scatter(x=sp500.index[-252*10:], y=sp500['price'][-252*10:]))\n",
        "fig.update_layout(yaxis_type=\"log\")\n",
        "fig.show()\n",
        "\n",
        "fig = go.Figure()\n",
        "fig.add_trace(go.Scatter(x=ticker.index[-252*10:], y=ticker['price'][-252*10:]))\n",
        "fig.update_layout(yaxis_type=\"log\")\n",
        "fig.show()"
      ],
      "metadata": {
        "id": "oU75FdTfYsb2"
      },
      "execution_count": null,
      "outputs": []
    },
    {
      "cell_type": "markdown",
      "source": [
        "**Análise correlacionadas ao Benchmarket (S&P 500)**"
      ],
      "metadata": {
        "id": "nRosBG1F5bn8"
      }
    },
    {
      "cell_type": "code",
      "source": [
        "tickers = [symbol,\"^GSPC\"]\n",
        "dados_yahoo = web.get_data_yahoo(tickers, period=\"10y\")[\"Adj Close\"]"
      ],
      "metadata": {
        "id": "JOUeBNTKD9fc"
      },
      "execution_count": null,
      "outputs": []
    },
    {
      "cell_type": "code",
      "source": [
        "dados_yahoo.columns = [symbol,\"SP500\"]\n",
        "dados_yahoo"
      ],
      "metadata": {
        "id": "8mmpBIcA7Cw2"
      },
      "execution_count": null,
      "outputs": []
    },
    {
      "cell_type": "markdown",
      "source": [
        "RETORNO DIARIOS"
      ],
      "metadata": {
        "id": "CzBsqipi_58R"
      }
    },
    {
      "cell_type": "code",
      "source": [
        "retorno = dados_yahoo.pct_change()\n",
        "retorno"
      ],
      "metadata": {
        "id": "m01EEmnw_3ZY"
      },
      "execution_count": null,
      "outputs": []
    },
    {
      "cell_type": "markdown",
      "source": [
        "RETORNO ACUMULADO"
      ],
      "metadata": {
        "id": "2qKkkZxK__ew"
      }
    },
    {
      "cell_type": "code",
      "source": [
        "retorno_acumulado = (1 + retorno).cumprod()\n",
        "retorno_acumulado.iloc[0] = 1\n",
        "retorno_acumulado"
      ],
      "metadata": {
        "id": "VeScWpWXAAZi"
      },
      "execution_count": null,
      "outputs": []
    },
    {
      "cell_type": "code",
      "source": [
        "carteira = 10000 * retorno_acumulado.iloc[:, :5]\n",
        "carteira[\"saldo\"] = carteira.sum(axis=1)\n",
        "carteira[\"retorno\"] = carteira[\"saldo\"].pct_change()\n",
        "carteira"
      ],
      "metadata": {
        "id": "cth9GepqAIy6"
      },
      "execution_count": null,
      "outputs": []
    },
    {
      "cell_type": "markdown",
      "source": [
        "# **RESULTADOS**"
      ],
      "metadata": {
        "id": "KFz_MlFdAOOT"
      }
    },
    {
      "cell_type": "code",
      "source": [
        "pf.create_full_tear_sheet(carteira[\"retorno\"], benchmark_rets=retorno[\"SP500\"])"
      ],
      "metadata": {
        "id": "ur_Ndgi9AL05"
      },
      "execution_count": null,
      "outputs": []
    },
    {
      "cell_type": "code",
      "source": [
        "fig, ax1 = plt.subplots(figsize=(22,12))\n",
        "pf.plot_rolling_beta(carteira[\"retorno\"],factor_returns=retorno[\"SP500\"], ax=ax1)\n",
        "plt.ylim((0.5,2))"
      ],
      "metadata": {
        "id": "zxI_uvmhAt6I"
      },
      "execution_count": null,
      "outputs": []
    }
  ],
  "metadata": {
    "colab": {
      "provenance": [],
      "authorship_tag": "ABX9TyM/N1GMh3+DRg/drm4PZ973",
      "include_colab_link": true
    },
    "kernelspec": {
      "display_name": "Python 3",
      "name": "python3"
    },
    "language_info": {
      "name": "python"
    }
  },
  "nbformat": 4,
  "nbformat_minor": 0
}